{
 "cells": [
  {
   "cell_type": "code",
   "execution_count": null,
   "metadata": {},
   "outputs": [],
   "source": [
    "%reload_ext autoreload\n",
    "%autoreload 2"
   ]
  },
  {
   "cell_type": "code",
   "execution_count": null,
   "metadata": {},
   "outputs": [],
   "source": [
    "import sys\n",
    "sys.path.append('/home/carlo/workspace/networkqit/')\n",
    "import networkqit as nq\n",
    "import numpy as np\n",
    "import matplotlib.pyplot as plt\n",
    "import bct"
   ]
  },
  {
   "cell_type": "code",
   "execution_count": null,
   "metadata": {},
   "outputs": [],
   "source": [
    "W=np.loadtxt('/home/carlo/workspace/communityalg/data/GroupAverage_rsfMRI_unthr.adj')\n",
    "t=0.5\n",
    "Wt = bct.threshold_absolute(W,t)[0:128,0:128]\n",
    "t=Wt[np.nonzero(Wt)].min()\n",
    "plt.imshow(Wt)\n",
    "plt.colorbar()\n",
    "print(bct.density_und(Wt),'thresh=',t)"
   ]
  },
  {
   "cell_type": "code",
   "execution_count": null,
   "metadata": {},
   "outputs": [],
   "source": [
    "beta=10\n",
    "size=[512,512]\n",
    "W=np.random.exponential(beta,size=size)\n",
    "W=np.triu(W,1)\n",
    "W=W + W.T\n",
    "t=0\n",
    "Wt=bct.threshold_absolute(W,t)\n",
    "Wt = np.triu(Wt,1)\n",
    "Wt += Wt.T\n",
    "t=Wt[np.nonzero(Wt)].min()\n",
    "plt.imshow(Wt)\n",
    "plt.colorbar()\n",
    "print(bct.density_und(Wt),'thresh=',t)"
   ]
  },
  {
   "cell_type": "code",
   "execution_count": null,
   "metadata": {},
   "outputs": [],
   "source": [
    "M=nq.CWTECM(N=len(Wt),threshold=Wt[np.nonzero(Wt)].min())\n",
    "sol = M.fit(G=Wt, method='MLE')\n",
    "L_mle = M.loglikelihood(G=Wt,theta=sol['x'])"
   ]
  },
  {
   "cell_type": "code",
   "execution_count": null,
   "metadata": {},
   "outputs": [],
   "source": [
    "sol = M.fit(G=Wt,method='saddle_point',x0=sol['x'],verbose=2,maxiter=2)\n",
    "L_saddle = M.loglikelihood(G=Wt, theta=sol['x'])\n",
    "print(L_mle,L_saddle)"
   ]
  },
  {
   "cell_type": "code",
   "execution_count": null,
   "metadata": {},
   "outputs": [],
   "source": [
    "M.expected_weighted_adjacency(sol['x'])+t"
   ]
  },
  {
   "cell_type": "code",
   "execution_count": null,
   "metadata": {},
   "outputs": [],
   "source": [
    "nq.plot_mle(Wt,M.expected_adjacency(sol['x']), M.expected_weighted_adjacency(sol['x']))\n",
    "plt.savefig('cwtcm.pdf',bbox='tight',dpi=200)"
   ]
  },
  {
   "cell_type": "code",
   "execution_count": null,
   "metadata": {},
   "outputs": [],
   "source": [
    "X = M.sample_adjacency(sol['x'],batch_size=200)\n",
    "print('Sample statistics:\\tmin=%f\\tmax=%f\\tmean=%f\\tstd=%f' % (X[np.nonzero(X)].min(),X[np.nonzero(X)].max(),X[np.nonzero(X)].mean(),X[np.nonzero(X)].std()))\n",
    "print('Data statistics:\\tmin=%f\\tmax=%f\\tmean=%f\\tstd=%f' % (Wt[np.nonzero(Wt)].min(),Wt[np.nonzero(Wt)].max(),Wt[np.nonzero(Wt)].mean(),Wt[np.nonzero(Wt)].std()))\n",
    "print('Average diff=%f thresh=%f' % (X[np.nonzero(X)].mean()-Wt[np.nonzero(Wt)].mean(),t))"
   ]
  },
  {
   "cell_type": "code",
   "execution_count": null,
   "metadata": {},
   "outputs": [],
   "source": [
    "np.mean(np.mean(M.sample_adjacency(sol['x'],batch_size=100),0) - Wt.mean(0))"
   ]
  },
  {
   "cell_type": "code",
   "execution_count": null,
   "metadata": {},
   "outputs": [],
   "source": [
    "nq.plot_mle(Wt, np.mean(M.sample_adjacency(sol['x'],batch_size=100)>0,0),\n",
    "                np.mean(M.sample_adjacency(sol['x'],batch_size=100),0))"
   ]
  },
  {
   "cell_type": "code",
   "execution_count": null,
   "metadata": {},
   "outputs": [],
   "source": [
    "X=M.sample_adjacency(sol['x'],batch_size=100)\n",
    "_ = plt.hist(X[np.nonzero(X)],label='model',density=True,bins=100,alpha=0.5)\n",
    "_ = plt.hist(Wt[np.nonzero(Wt)],label='data',density=True,bins=100,alpha=0.5)\n",
    "plt.legend()"
   ]
  },
  {
   "cell_type": "code",
   "execution_count": null,
   "metadata": {},
   "outputs": [],
   "source": [
    "plt.plot(X[np.nonzero(X)],'.',alpha=0.5,label='model')\n",
    "plt.plot(Wt[np.nonzero(Wt)],'.',alpha=0.5,label='data')\n",
    "plt.legend()"
   ]
  },
  {
   "cell_type": "code",
   "execution_count": null,
   "metadata": {},
   "outputs": [],
   "source": [
    "np.mean(X[np.nonzero(X)][0:2000]/Wt[np.nonzero(Wt)][0:2000])"
   ]
  },
  {
   "cell_type": "code",
   "execution_count": null,
   "metadata": {},
   "outputs": [],
   "source": [
    "plt.plot(np.unique(Wt[np.nonzero(Wt)]),label='data')\n",
    "plt.plot(((np.unique(X[np.nonzero(X)]))),label='model')\n",
    "plt.legend()"
   ]
  },
  {
   "cell_type": "code",
   "execution_count": null,
   "metadata": {},
   "outputs": [],
   "source": [
    "Y=nq.matrices.trunc_exp_rv(low=10,scale=1,size=[100000,])\n",
    "_=plt.hist(Y,density=True,bins=200)"
   ]
  },
  {
   "cell_type": "code",
   "execution_count": null,
   "metadata": {},
   "outputs": [],
   "source": [
    "B = np.squeeze(M.expected_weighted_adjacency(sol['x'])) \n",
    "S = np.squeeze(M.sample_adjacency(sol['x'],batch_size=1))\n",
    "\n",
    "def andd_bu(G):\n",
    "    A = (G>0).astype(float)\n",
    "    k = A.sum(0)\n",
    "    return np.einsum('ij,i->j',G,k)/k\n",
    "\n",
    "def andd_wu(G):\n",
    "    A = (G>0).astype(float)\n",
    "    s = G.sum(0)\n",
    "    k = A.sum(0)\n",
    "    return np.einsum('ij,i->j',G,s)/k\n",
    "\n",
    "def clu_bu(G):\n",
    "    n = G.shape[0]\n",
    "    d = (1-np.eye(n))\n",
    "    return np.einsum('ij,jk,ki->i',A*d,A*d,A*d)/np.einsum('ij,ki->i',A*d,A*d)"
   ]
  },
  {
   "cell_type": "code",
   "execution_count": null,
   "metadata": {},
   "outputs": [],
   "source": [
    "#import matplotlib2tikz\n",
    "plt.plot(bct.clustering_coef_wu(np.squeeze(M.sample_adjacency(sol['x']))),bct.clustering_coef_wu(B),'.r')\n",
    "#plt.plot(bct.clustering_coef_wu(Wt),bct.clustering_coef_wu(S),'.b')\n",
    "plt.plot(np.linspace(0,1,10),np.linspace(0,1,10),'-k')\n",
    "plt.xlabel('k^{nn}')\n",
    "plt.ylabel('$\\\\langle k^{nn}\\\\rangle$')\n",
    "plt.legend(loc='best')\n",
    "plt.title('cTWECM')\n",
    "plt.savefig('cTWECM.pdf',bbox='tight')"
   ]
  },
  {
   "cell_type": "markdown",
   "metadata": {},
   "source": [
    "# Do the UBCM plots"
   ]
  },
  {
   "cell_type": "code",
   "execution_count": null,
   "metadata": {},
   "outputs": [],
   "source": [
    "M1 = nq.UBCM(N=len(Wt))\n",
    "sol1 = M1.fit(G=(Wt>0).astype(float), method='MLE')\n",
    "M1.expected_adjacency(sol1['x'])"
   ]
  },
  {
   "cell_type": "code",
   "execution_count": null,
   "metadata": {},
   "outputs": [],
   "source": [
    "plt.plot(bct.clustering_coef_bu((Wt>0).astype(float)), bct.clustering_coef_wu(M1.expected_adjacency(sol1['x'])),'.',label='Expected')\n",
    "plt.plot(bct.clustering_coef_bu((Wt>0).astype(float)), bct.clustering_coef_bu(np.squeeze(M1.sample_adjacency(sol1['x']))),'.',label='Sampled')\n",
    "plt.legend(loc='best')\n",
    "plt.plot(np.linspace(0,1,10),np.linspace(0,1,10),'-k')"
   ]
  },
  {
   "cell_type": "code",
   "execution_count": null,
   "metadata": {},
   "outputs": [],
   "source": [
    "plt.plot(bct.clustering_coef_bu((Wt>0).astype(float)), bct.clustering_coef_wu(M1.expected_adjacency(sol1['x'])),'.',label='Expected')\n",
    "plt.plot(bct.clustering_coef_bu((Wt>0).astype(float)), bct.clustering_coef_bu(np.squeeze(M1.sample_adjacency(sol1['x']))),'.',label='Sampled')\n",
    "plt.legend(loc='best')\n",
    "plt.plot(np.linspace(0,1,10),np.linspace(0,1,10),'-k')"
   ]
  },
  {
   "cell_type": "code",
   "execution_count": null,
   "metadata": {},
   "outputs": [],
   "source": [
    "plt.plot(andd((Wt>0).astype(float)), andd(M1.expected_adjacency(sol1['x'])),'.',label='Expected')\n",
    "plt.plot(andd((Wt>0).astype(float)), andd(np.squeeze(M1.sample_adjacency(sol1['x'],batch_size=1))),'.',label='Sampled')\n",
    "plt.plot(np.linspace(15,50,10),np.linspace(15,50,10),'-k')\n",
    "plt.xlabel('k^{nn}')\n",
    "plt.ylabel('$\\\\langle k^{nn}\\\\rangle$')\n",
    "plt.legend(loc='best')\n",
    "plt.title('Binarized - UBCM')"
   ]
  },
  {
   "cell_type": "code",
   "execution_count": null,
   "metadata": {},
   "outputs": [],
   "source": [
    "def clu(A):\n",
    "    np.einsum('ijk->l',A)"
   ]
  }
 ],
 "metadata": {
  "kernelspec": {
   "display_name": "Python 3",
   "language": "python",
   "name": "python3"
  },
  "language_info": {
   "codemirror_mode": {
    "name": "ipython",
    "version": 3
   },
   "file_extension": ".py",
   "mimetype": "text/x-python",
   "name": "python",
   "nbconvert_exporter": "python",
   "pygments_lexer": "ipython3",
   "version": "3.5.2"
  }
 },
 "nbformat": 4,
 "nbformat_minor": 2
}
