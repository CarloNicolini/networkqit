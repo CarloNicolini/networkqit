{
 "cells": [
  {
   "cell_type": "code",
   "execution_count": null,
   "metadata": {},
   "outputs": [],
   "source": [
    "%reload_ext autoreload\n",
    "%autoreload 2"
   ]
  },
  {
   "cell_type": "code",
   "execution_count": null,
   "metadata": {},
   "outputs": [],
   "source": [
    "import sys\n",
    "sys.path.append('/home/carlo/workspace/networkqit/')\n",
    "import networkqit as nq\n",
    "import numpy as np\n",
    "import matplotlib.pyplot as plt\n",
    "import bct"
   ]
  },
  {
   "cell_type": "code",
   "execution_count": null,
   "metadata": {},
   "outputs": [],
   "source": [
    "W=np.loadtxt('/home/carlo2/workspace/communityalg/data/GroupAverage_rsfMRI_unthr.adj')\n",
    "t=0.6\n",
    "Wt = bct.threshold_absolute(W,t)[0:32,0:32]"
   ]
  },
  {
   "cell_type": "code",
   "execution_count": null,
   "metadata": {},
   "outputs": [],
   "source": [
    "W=np.random.geometric(0.2,size=(128,128))\n",
    "W=np.triu(W,1)\n",
    "W=W+W.T\n",
    "t=15\n",
    "Wt=bct.threshold_absolute(W,t)\n",
    "t=Wt[np.nonzero(Wt)].min()\n",
    "Wt = np.triu(Wt,1)\n",
    "Wt += Wt.T\n",
    "plt.imshow(Wt)\n",
    "plt.colorbar()"
   ]
  },
  {
   "cell_type": "code",
   "execution_count": null,
   "metadata": {},
   "outputs": [],
   "source": [
    "M=nq.CWTECM2(N=len(Wt),threshold=Wt[np.nonzero(Wt)].min())\n",
    "sol = M.fit(G=Wt, method='MLE')#, ftol=1E-15, gtol=1E-12,verbose=0,maxiter=5000)\n",
    "print(M.loglikelihood(G=Wt,theta=sol['x']))\n",
    "sol = M.fit(G=Wt,method='saddle_point',x0=sol['x'],verbose=2)\n",
    "print(M.loglikelihood(G=Wt,theta=sol['x']))"
   ]
  },
  {
   "cell_type": "code",
   "execution_count": null,
   "metadata": {},
   "outputs": [],
   "source": [
    "M.loglikelihood(observed_adj=Wt,theta=sol['x'])"
   ]
  },
  {
   "cell_type": "code",
   "execution_count": null,
   "metadata": {},
   "outputs": [],
   "source": [
    "nq.plot_mle(Wt,M.expected_adjacency(sol['x']), M.expected_weighted_adjacency(sol['x']))\n",
    "plt.show()"
   ]
  },
  {
   "cell_type": "code",
   "execution_count": null,
   "metadata": {},
   "outputs": [],
   "source": [
    "nq.plot_mle(Wt, np.mean(M.sample_adjacency(sol['x'],batch_size=1000)>0,0), np.mean(M.sample_adjacency(sol['x'],batch_size=1000),0))\n",
    "plt.show()"
   ]
  },
  {
   "cell_type": "code",
   "execution_count": null,
   "metadata": {},
   "outputs": [],
   "source": [
    "X=M.sample_adjacency(sol['x'],batch_size=1)\n",
    "_=plt.hist(X[np.nonzero(X)],density=True,bins=200)\n",
    "_=plt.hist(Wt[np.nonzero(Wt)],density=True,bins=200)"
   ]
  },
  {
   "cell_type": "code",
   "execution_count": null,
   "metadata": {},
   "outputs": [],
   "source": [
    "plt.plot(np.sort(Wt[np.nonzero(Wt)]),'b-')\n",
    "plt.plot(np.sort(X[np.nonzero(X)]),'r.-')"
   ]
  },
  {
   "cell_type": "code",
   "execution_count": null,
   "metadata": {},
   "outputs": [],
   "source": []
  }
 ],
 "metadata": {
  "kernelspec": {
   "display_name": "Python 3",
   "language": "python",
   "name": "python3"
  },
  "language_info": {
   "codemirror_mode": {
    "name": "ipython",
    "version": 3
   },
   "file_extension": ".py",
   "mimetype": "text/x-python",
   "name": "python",
   "nbconvert_exporter": "python",
   "pygments_lexer": "ipython3",
   "version": "3.5.2"
  }
 },
 "nbformat": 4,
 "nbformat_minor": 2
}
