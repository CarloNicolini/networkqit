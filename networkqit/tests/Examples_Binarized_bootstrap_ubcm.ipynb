{
 "cells": [
  {
   "cell_type": "code",
   "execution_count": null,
   "metadata": {},
   "outputs": [],
   "source": [
    "%reload_ext autoreload\n",
    "%autoreload 2\n",
    "#import os\n",
    "#os.environ[\"MKL_NUM_THREADS\"] = \"1\"\n",
    "#os.environ[\"NUMEXPR_NUM_THREADS\"] = \"1\"\n",
    "#os.environ[\"OMP_NUM_THREADS\"] = \"1\"\n",
    "\n",
    "from pathlib import Path\n",
    "home = str(Path.home())\n",
    "import sys\n",
    "import numpy as np\n",
    "import matplotlib.pyplot as plt\n",
    "import bct\n",
    "import sys\n",
    "sys.path.append(home + '/workspace/networkqit')\n",
    "import networkqit as nq\n",
    "from networkqit.graphtheory.models.MEModels import CWTECM, UBCM, UWCM, UECM3\n",
    "from networkqit.utils.visualization import plot_mle\n",
    "import pandas as pd\n",
    "import pickle\n",
    "plt.style.use('default')\n",
    "\n",
    "import matplotlib as mpl\n",
    "mpl.rcParams.update({\n",
    "    'font.family':'sans-serif',\n",
    "    'font.sans-serif':['Helvetica'],\n",
    "    'svg.fonttype':'none'\n",
    "    })\n",
    "mpl.rc('text', usetex=False)\n",
    "plt.style.use('ggplot')"
   ]
  },
  {
   "cell_type": "code",
   "execution_count": null,
   "metadata": {},
   "outputs": [],
   "source": [
    "filename = home + '//workspace/communityalg/data/GroupAverage_rsfMRI_unthr.adj'\n",
    "G = np.loadtxt(filename)#[0:64, 0:64]\n",
    "t = 0.2\n",
    "G = bct.threshold_absolute(G,t)\n",
    "\n",
    "tstar = G[np.nonzero(G)].min()\n",
    "A = (G>0).astype(float)\n",
    "k = A.sum(axis=0)\n",
    "m = k.sum()\n",
    "s = G.sum(axis=0)\n",
    "Wtot = s.sum()\n",
    "n = len(G)\n",
    "pairs = n*(n-1)/2\n",
    "\n",
    "M = UBCM(N=len(G),threshold=tstar)\n",
    "sol = M.fit(G=(G>0).astype(float), method='MLE',ftol=1E-9,verbose=0)\n",
    "\n",
    "print('Loglikelihood = ', M.loglikelihood(G,sol['x']))\n",
    "\n",
    "nq.plot_mle(G, M.expected_adjacency(sol['x']), None)#M.expected_weighted_adjacency(sol['x']))\n",
    "plt.show()"
   ]
  },
  {
   "cell_type": "code",
   "execution_count": null,
   "metadata": {},
   "outputs": [],
   "source": [
    "batch_size=8\n",
    "beta_range=np.logspace(-4,3,150)\n",
    "Ws = M.sample_adjacency(theta=sol['x'],batch_size=batch_size)\n",
    "S = nq.entropy(nq.graph_laplacian(G),beta_range=beta_range)\n",
    "Srandom = nq.entropy(nq.graph_laplacian(M.expected_adjacency(theta=sol['x'])),beta_range=beta_range)\n",
    "Srandombatch = nq.entropy(nq.graph_laplacian(Ws),beta_range=beta_range)\n",
    "\n",
    "dklnull = nq.relative_entropy_one_component(nq.graph_laplacian(G),nq.graph_laplacian(M.expected_adjacency(theta=sol['x'])),beta_range)[0]\n",
    "dklsamples = nq.relative_entropy(nq.graph_laplacian(G),nq.graph_laplacian(Ws),beta_range)[0]\n",
    "\n",
    "dklsamplessamples=[]\n",
    "for i in range(batch_size):\n",
    "    dklsamplessamples.append(nq.relative_entropy_one_component(nq.graph_laplacian(Ws)[i,...],nq.graph_laplacian(Ws),beta_range)[0])\n",
    "dklsamplessamples=np.asarray(dklsamplessamples).T"
   ]
  },
  {
   "cell_type": "code",
   "execution_count": null,
   "metadata": {},
   "outputs": [],
   "source": [
    "fig, ax = plt.subplots(figsize=(24,7),ncols=2)\n",
    "ax[0].semilogx(beta_range,S,label='data')\n",
    "ax[0].semilogx(beta_range,Srandom,label='null',linewidth=2)\n",
    "ax[0].semilogx(beta_range,Srandombatch,label='null batch',color='k',alpha=0.2)\n",
    "ax[0].fill_between(beta_range,Srandombatch.mean(1)-Srandombatch.std(1),Srandombatch.mean(1)+Srandombatch.std(1),color='k',alpha=0.1)\n",
    "ax[0].legend(['$S(\\\\rho)$','$S(\\\\sigma(E[L]))$','$S_i(\\\\sigma(L_i))$'])\n",
    "ax[0].grid(True)\n",
    "ax[0].set_title('Spectral entropy')\n",
    "\n",
    "ax[1].semilogx(beta_range,dklnull)\n",
    "ax[1].semilogx(beta_range,dklsamples)\n",
    "ax[1].semilogx(beta_range,dklsamplessamples,label='samples vs samples',color='k',alpha=0.1)\n",
    "ax[1].legend(['$S(\\\\rho \\| \\\\sigma(E[L]))$','$E[S(\\\\rho \\\\| \\\\sigma)]$','$S(\\\\sigma_i \\| \\sigma_j)$'])\n",
    "ax[1].set_title('Relative entropy')\n",
    "ax[1].grid(True)\n",
    "#ax[1].set_ylim([0,4])\n",
    "plt.savefig('entropies_dkl_638_thresh_02_ubcm.pdf',bbox_inches='tight')\n",
    "plt.show()"
   ]
  },
  {
   "cell_type": "code",
   "execution_count": null,
   "metadata": {},
   "outputs": [],
   "source": [
    "nq.plot_mle(G, np.squeeze(sample_adjacency(M,sol['x']))[1], np.squeeze(sample_adjacency(M,sol['x'])[0]))"
   ]
  },
  {
   "cell_type": "code",
   "execution_count": null,
   "metadata": {},
   "outputs": [],
   "source": [
    "nq.plot_mle(G, (sample_adjacency(M,sol['x'],batch_size=100)[1].mean(0)).astype(float),\n",
    "                np.mean(sample_adjacency(M,sol['x'],batch_size=100)[0],0))"
   ]
  },
  {
   "cell_type": "code",
   "execution_count": null,
   "metadata": {},
   "outputs": [],
   "source": [
    "_=plt.hist(G[np.nonzero(G)],200,label='data',alpha=0.6,density=True)\n",
    "_=plt.hist(np.squeeze(sample_adjacency(M,sol['x'])).flatten(),200,label='null',alpha=0.6,density=True)\n",
    "plt.legend()"
   ]
  },
  {
   "cell_type": "code",
   "execution_count": null,
   "metadata": {},
   "outputs": [],
   "source": [
    "ws=np.squeeze(sample_adjacency(M,sol['x'])[0])\n",
    "ws=ws[np.nonzero(G)]\n",
    "plt.plot(G[np.nonzero(G)],ws,'.')"
   ]
  },
  {
   "cell_type": "code",
   "execution_count": null,
   "metadata": {},
   "outputs": [],
   "source": [
    "G = np.random.exponential(scale=0.01,size=(256,256))"
   ]
  },
  {
   "cell_type": "code",
   "execution_count": null,
   "metadata": {},
   "outputs": [],
   "source": [
    "ws = M.sample_adjacency(theta=sol['x'])\n",
    "_=plt.hist(W[np.nonzero(W)],label='data',bins=50,alpha=0.5,density=True)\n",
    "_=plt.hist(ws.flat[ws.flat>0]+25,label='null',bins=50,alpha=0.5,density=True)\n",
    "plt.legend()\n",
    "plt.show()"
   ]
  }
 ],
 "metadata": {
  "kernelspec": {
   "display_name": "Python 3",
   "language": "python",
   "name": "python3"
  },
  "language_info": {
   "codemirror_mode": {
    "name": "ipython",
    "version": 3
   },
   "file_extension": ".py",
   "mimetype": "text/x-python",
   "name": "python",
   "nbconvert_exporter": "python",
   "pygments_lexer": "ipython3",
   "version": "3.6.8"
  }
 },
 "nbformat": 4,
 "nbformat_minor": 2
}
