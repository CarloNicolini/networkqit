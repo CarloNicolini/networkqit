{
 "cells": [
  {
   "cell_type": "code",
   "execution_count": null,
   "metadata": {},
   "outputs": [],
   "source": [
    "%reload_ext autoreload\n",
    "%autoreload 2\n",
    "#import os\n",
    "#os.environ[\"MKL_NUM_THREADS\"] = \"1\"\n",
    "#os.environ[\"NUMEXPR_NUM_THREADS\"] = \"1\"\n",
    "#os.environ[\"OMP_NUM_THREADS\"] = \"1\"\n",
    "\n",
    "from pathlib import Path\n",
    "home = str(Path.home())\n",
    "import sys\n",
    "import numpy as np\n",
    "import matplotlib.pyplot as plt\n",
    "import bct\n",
    "import sys\n",
    "sys.path.append(home + '/workspace/networkqit')\n",
    "import networkqit as nq\n",
    "from networkqit.graphtheory.models.MEModels import CWTECM, UBCM, UWCM, UECM3\n",
    "from networkqit.utils.visualization import plot_mle\n",
    "import pandas as pd\n",
    "import pickle"
   ]
  },
  {
   "cell_type": "code",
   "execution_count": null,
   "metadata": {},
   "outputs": [],
   "source": [
    "df_thresh_none = pickle.load(open('/home/carlo/workspace/entropy_analysis/notebooks/output/2019/processed/groups628/data_forcellini_thresh_none.pkl','rb'))['forcellini']\n",
    "G = df_thresh_none[(df_thresh_none['motion']=='H') & (df_thresh_none['passages']==6)]['A'].values[0]#[0:64,0:64]\n",
    "G = bct.threshold_proportional(G,0.05)\n",
    "t = G[np.nonzero(G)].min()\n",
    "print(t)"
   ]
  },
  {
   "cell_type": "code",
   "execution_count": null,
   "metadata": {},
   "outputs": [],
   "source": [
    "W = G\n",
    "A = (G>t).astype(float)\n",
    "k = A.sum(axis=0)\n",
    "s = G.sum(axis=0)\n",
    "print('threshold=',t)\n",
    "\n",
    "M = CWTECM(N=len(G), threshold=t)\n",
    "x0 = (np.concatenate([k,s])) / max(np.max(k),np.max(s))\n",
    "# Optimize by L-BFGS-B\n",
    "opt = nq.MLEOptimizer(G, x0=x0, model=M)\n",
    "import time\n",
    "start = time.time()\n",
    "sol = opt.run(model=M, verbose=2, maxiter=200, gtol=1E-6, method='MLE')\n",
    "opt = nq.MLEOptimizer(G, x0=sol['x'], model=M)\n",
    "sol = opt.run(model=M, verbose=2, maxiter=200, gtol=1E-6, method='saddle_point')\n",
    "print('Optimization elapsed time = ', time.time()-start, ' seconds ')\n",
    "print('Loglikelihood = ', M.loglikelihood(G,sol['x']))\n",
    "\n",
    "pij = M.expected_adjacency(sol['x'])\n",
    "wij = M.expected_weighted_adjacency(sol['x'])\n",
    "plot_mle(G,pij,wij)"
   ]
  },
  {
   "cell_type": "code",
   "execution_count": null,
   "metadata": {},
   "outputs": [],
   "source": [
    "print(np.sqrt((sol['jac']**2).sum()))\n",
    "plt.plot(sol['jac'])"
   ]
  },
  {
   "cell_type": "code",
   "execution_count": null,
   "metadata": {},
   "outputs": [],
   "source": [
    "import gzip\n",
    "import seaborn as sns\n",
    "df = pd.DataFrame(pickle.load(gzip.open('/home/carlo/workspace/entropy_analysis/notebooks/output/2019/processed/subjwise633/mle_dfinfo_subj_1.pkl.gz','rb')))"
   ]
  },
  {
   "cell_type": "code",
   "execution_count": null,
   "metadata": {},
   "outputs": [],
   "source": [
    "df['loglikelihood'] = -df['loglikelihood']\n",
    "grid = sns.FacetGrid(df,col='motion',hue='passages',sharey=True,sharex=True, margin_titles=True)\n",
    "grid.map(plt.plot, 'thresh_prop','loglikelihood', marker='o').add_legend()"
   ]
  },
  {
   "cell_type": "code",
   "execution_count": null,
   "metadata": {},
   "outputs": [],
   "source": [
    "df.drop(columns=['W','sol'])"
   ]
  },
  {
   "cell_type": "code",
   "execution_count": null,
   "metadata": {},
   "outputs": [],
   "source": [
    "grid = sns.FacetGrid(df[df.passages==85],col='passages',hue='motion', margin_titles=True)\n",
    "grid.map(plt.plot, 'thresh_prop','loglikelihood', marker='o').add_legend()"
   ]
  },
  {
   "cell_type": "code",
   "execution_count": null,
   "metadata": {},
   "outputs": [],
   "source": [
    "for i in range(df.shape[0]):\n",
    "    #plt.figure(figsize=(8,8))\n",
    "    W = df['W'].values[i]\n",
    "    M = CWTECM(N=len(W),G=W,threshold=df['thresh_abs'].values[i])\n",
    "    title = 'passages %d motion %s thresh_prop %s' % (df['passages'].values[i],df['motion'].values[i],df['thresh_prop'].values[i])\n",
    "    plot_mle(W,M.expected_adjacency(df['sol'].values[i]['x']), M.expected_weighted_adjacency(df['sol'].values[i]['x']), title=title)"
   ]
  },
  {
   "cell_type": "code",
   "execution_count": null,
   "metadata": {},
   "outputs": [],
   "source": []
  }
 ],
 "metadata": {
  "kernelspec": {
   "display_name": "Python 3",
   "language": "python",
   "name": "python3"
  },
  "language_info": {
   "codemirror_mode": {
    "name": "ipython",
    "version": 3
   },
   "file_extension": ".py",
   "mimetype": "text/x-python",
   "name": "python",
   "nbconvert_exporter": "python",
   "pygments_lexer": "ipython3",
   "version": "3.5.2"
  }
 },
 "nbformat": 4,
 "nbformat_minor": 2
}
