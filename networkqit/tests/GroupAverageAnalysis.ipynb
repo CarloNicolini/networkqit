{
 "cells": [
  {
   "cell_type": "code",
   "execution_count": null,
   "metadata": {},
   "outputs": [],
   "source": [
    "#from __future__ import unicode_literals\n",
    "%reload_ext autoreload\n",
    "%autoreload 2\n",
    "\n",
    "import os\n",
    "from os.path import expanduser\n",
    "home = expanduser(\"~\")\n",
    "import sys\n",
    "sys.path.append(home + '/workspace/networkqit')\n",
    "import numpy as np\n",
    "import pandas as pd\n",
    "import scipy\n",
    "from scipy.io import loadmat\n",
    "import networkqit as nq\n",
    "import networkx as nx\n",
    "import bct\n",
    "import seaborn as sns\n",
    "import matplotlib.pyplot as plt\n",
    "plt.style.use('ggplot')\n",
    "import pickle\n",
    "import re\n",
    "# Additional utility functions\n",
    "#from FrontiersAnalysis import data_grid_plot, analyze_forcellini_data, forcellini_plotting, compute_step, collect_step\n",
    "import gzip\n",
    "import seaborn as sns"
   ]
  },
  {
   "cell_type": "code",
   "execution_count": null,
   "metadata": {},
   "outputs": [],
   "source": [
    "def percolation_analysis(W,nsteps=10):\n",
    "    wmin = W[np.nonzero(W)].min()\n",
    "    wmax = W[np.nonzero(W)].max()\n",
    "    allw = np.unique(W.flatten())\n",
    "    all_comps = []\n",
    "    all_comps_size = []\n",
    "    allt = np.linspace(wmin,wmax,nsteps)\n",
    "    giant_size = []\n",
    "    for t in allt:\n",
    "        comps, comp_size = bct.get_components(bct.threshold_absolute(W,t))\n",
    "        all_comps.append(comps)\n",
    "        all_comps_size.append(len(comp_size))\n",
    "        giant_size.append(np.max(comp_size))\n",
    "    return allt,np.array(all_comps_size), np.array(giant_size)"
   ]
  },
  {
   "cell_type": "code",
   "execution_count": null,
   "metadata": {},
   "outputs": [],
   "source": [
    "W = np.loadtxt('/home/carlo/workspace/communityalg/data/GroupAverage_rsfMRI_unthr.adj')\n",
    "allt,comps,giantsize = percolation_analysis(W, 50)"
   ]
  },
  {
   "cell_type": "code",
   "execution_count": null,
   "metadata": {},
   "outputs": [],
   "source": [
    "plt.plot(allt,giantsize)\n",
    "plt.vlines(x=allt[np.array(giantsize)==638][-1],ymin=0,ymax=638,color='k', alpha=0.6)\n",
    "plt.vlines(x=allt[np.array(giantsize)==637][-1],ymin=0,ymax=638,color='k', alpha=0.6)\n",
    "plt.grid()\n",
    "\n",
    "allt[np.array(giantsize)==637][-1], allt[np.array(giantsize)==634][-1]"
   ]
  },
  {
   "cell_type": "code",
   "execution_count": null,
   "metadata": {},
   "outputs": [],
   "source": [
    "plt.style.use('default')\n",
    "W = np.loadtxt('/home/carlo/workspace/communityalg/data/GroupAverage_rsfMRI_unthr.adj')[0:64,0:64]\n",
    "beta_range = np.logspace(-3,3,100)\n",
    "\n",
    "allt = np.linspace(0.4, 0.9, 12)\n",
    "fig, ax = plt.subplots(ncols=4,nrows=3,figsize=(16,12))\n",
    "ax = ax.flatten()\n",
    "\n",
    "from tqdm import tqdm\n",
    "for i,t in enumerate(allt):\n",
    "    M = nq.CWTECM(N=len(W), threshold=t)\n",
    "    G = bct.threshold_absolute(W,t)\n",
    "    sol = M.fit(G=G, method='MLE',verbose=2,maxiter=2000)\n",
    "    sol = M.fit(G=G,x0=sol['x'], method='saddle_point', verbose=1, maxiter=10)\n",
    "    \n",
    "    Amodel = []\n",
    "    while len(Amodel) < 1:\n",
    "        X = np.squeeze(M.sample_adjacency(sol['x'], batch_size=1)[0,:,:])\n",
    "        #if bct.number_of_components(X) == 1:\n",
    "        Amodel.append(X)\n",
    "    Sdata = nq.batch_compute_vonneumann_entropy(L=nq.graph_laplacian(G), beta_range=beta_range)\n",
    "    ax[i].semilogx(beta_range,Sdata,label='Data')\n",
    "    #for j in range(len(Amodel)):\n",
    "    #    Smodel = nq.batch_compute_vonneumann_entropy(L=nq.graph_laplacian(np.squeeze(M.sample_adjacency(sol['x']))),beta_range=beta_range)\n",
    "    #    ax[i].semilogx(beta_range, Smodel, label='Model (sampled)')\n",
    "    #    plt.gca().set_prop_cycle(None)\n",
    "    SmodelExpected = nq.batch_compute_vonneumann_entropy(L=nq.graph_laplacian(M.expected_weighted_adjacency(sol['x'])),beta_range=beta_range)\n",
    "    ax[i].semilogx(beta_range, SmodelExpected, label='Model (expected)')\n",
    "    ax[i].legend(loc='best')\n",
    "    ax[i].set_title('threshold=%.3f' % t)\n",
    "    ax[i].set_xlabel('$\\\\beta$')\n",
    "    ax[i].set_ylabel('$S(\\\\beta)$')    \n",
    "plt.tight_layout()\n",
    "plt.savefig('threshold_cwtecm.pdf',bbox='tight',dpi=200)"
   ]
  },
  {
   "cell_type": "code",
   "execution_count": null,
   "metadata": {},
   "outputs": [],
   "source": [
    "W = np.loadtxt('/home/carlo/workspace/communityalg/data/GroupAverage_rsfMRI_unthr.adj')\n",
    "beta_range = np.logspace(-4,4,100)\n",
    "\n",
    "allt = np.linspace(0.4, 0.9, 11)\n",
    "fig, ax = plt.subplots(ncols=4,nrows=3,figsize=(16,12))\n",
    "ax = ax.flatten()\n",
    "\n",
    "for i,t in enumerate(allt):\n",
    "    M = nq.CWTECM(N=len(W), threshold=t)\n",
    "    G = bct.threshold_absolute(W,t)\n",
    "    sol = M.fit(G=G, method='MLE', ftol=1E-3)\n",
    "    Amodel = []\n",
    "    count=0\n",
    "    while len(Amodel) < 10:\n",
    "        X = np.squeeze(M.sample_adjacency(sol['x'], batch_size=1)[0,:,:])\n",
    "        if count>50:\n",
    "            print('Too many iterations')\n",
    "        if bct.number_of_components(X) ==  bct.number_of_components(G):\n",
    "            Amodel.append(X)\n",
    "\n",
    "    for j in range(len(Amodel)):\n",
    "        dkl = nq.batch_beta_relative_entropy(Lobs=nq.graph_laplacian(G),Lmodel=nq.graph_laplacian(np.array(Amodel)), beta_range=beta_range)\n",
    "    \n",
    "    #ax[i].semilogx(beta_range, dkl, label='dkl')\n",
    "    ax[i].semilogx(beta_range, dkl/(beta_range*np.sum(G)), label='dkl/beta$W_{tot}$')\n",
    "    \n",
    "    #ax[i].legend(['$S(\\rho \\| \\sigma)$','$S(\\rho \\| \\sigma)/\\beta W_{tot}$'])\n",
    "    ax[i].set_title('threshold=%.3f' % t)\n",
    "    ax[i].set_xlabel('$\\\\beta$')\n",
    "    ax[i].set_ylabel('$S(\\\\beta)$')\n",
    "    \n",
    "plt.tight_layout()\n",
    "plt.savefig('dkl_normalized_crossley_groupaverage_mat_thresholded.pdf',bbox='tight')"
   ]
  },
  {
   "cell_type": "code",
   "execution_count": null,
   "metadata": {},
   "outputs": [],
   "source": [
    "W = np.loadtxt('/home/carlo/workspace/communityalg/data/GroupAverage_rsfMRI_unthr.adj')[10:30,10:30]\n",
    "allt = np.linspace(0.4, 0.8, 12)\n",
    "beta_range=np.logspace(-3,3, 100)\n",
    "\n",
    "def compute_dkl(W,t,beta_range):\n",
    "    G = bct.threshold_absolute(W,t)\n",
    "    M = nq.CWTECM(N=len(W), threshold=G[np.nonzero(G)].min())\n",
    "    sol = M.fit(G=G,method='MLE',ftol=1E-3)\n",
    "    Amodel = []\n",
    "    while len(Amodel) < 10:\n",
    "        X = np.squeeze(M.sample_adjacency(sol['x'], batch_size=1)[0,:,:])\n",
    "        if bct.number_of_components(X) ==  bct.number_of_components(G):\n",
    "            Amodel.append(X)\n",
    "    dkl = nq.batch_beta_relative_entropy(Lobs=nq.graph_laplacian(G),\n",
    "                                         Lmodel=nq.graph_laplacian(np.array(Amodel)),\n",
    "                                         beta_range=beta_range)\n",
    "    return dkl\n",
    "df = pd.DataFrame(data=np.array([compute_dkl(W,t,np.logspace(-3,3,100)) for t in allt]),columns=['dkl']).set_index(allt)\n",
    "#df['dklnorm'] = [df['dkl']/(bct.threshold_absolute(W,t).sum()*beta_range) for t in allt ]"
   ]
  },
  {
   "cell_type": "code",
   "execution_count": null,
   "metadata": {},
   "outputs": [],
   "source": [
    "plt.style.use('default')\n",
    "W = np.loadtxt('/home/carlo/workspace/communityalg/data/GroupAverage_rsfMRI_unthr.adj') #[0:25,0:64]\n",
    "beta_range = np.logspace(-3,3,100)\n",
    "\n",
    "t=0.6\n",
    "G = bct.threshold_absolute(W,t)\n",
    "M = nq.CWTECM(N=len(W), threshold=G[np.nonzero(G)].min() )\n",
    "sol = M.fit(G=G, method='MLE',verbose=2, maxiter=1000)\n",
    "#sol = M.fit(G=G,x0=sol['x'], verbose=2, method='saddle_point')"
   ]
  },
  {
   "cell_type": "code",
   "execution_count": null,
   "metadata": {},
   "outputs": [],
   "source": [
    "Sdata = nq.batch_compute_vonneumann_entropy(L=nq.graph_laplacian(G), beta_range=beta_range)\n",
    "plt.semilogx(beta_range,Sdata,label='Data')\n",
    "X=M.expected_weighted_adjacency(sol['x'])\n",
    "SmodelExpected = nq.batch_compute_vonneumann_entropy(L=nq.graph_laplacian(X),beta_range=beta_range)\n",
    "\n",
    "plt.semilogx(beta_range, SmodelExpected, label='Model (expected)')\n",
    "plt.legend(loc='best')\n",
    "#for _ in range(50):\n",
    "#    X = np.squeeze(M.sample_adjacency(sol['x']))\n",
    "#    SmodelSampled = nq.batch_compute_vonneumann_entropy(L=nq.graph_laplacian(X),beta_range=beta_range)\n",
    "#    plt.semilogx(beta_range,SmodelSampled,label='Model (sampled)',color='grey',alpha=0.2)\n",
    "plt.title('threshold=%.3f' % t)\n",
    "plt.xlabel('$\\\\beta$')\n",
    "plt.ylabel('$S(\\\\beta)$')    \n",
    "plt.tight_layout()\n",
    "plt.savefig('threshold_cwtecm_full_thresh_0.6.pdf',bbox='tight',dpi=200)"
   ]
  },
  {
   "cell_type": "code",
   "execution_count": null,
   "metadata": {},
   "outputs": [],
   "source": [
    "nq.plot_mle(G, M.expected_adjacency(sol['x']), M.expected_weighted_adjacency(sol['x']))"
   ]
  },
  {
   "cell_type": "code",
   "execution_count": null,
   "metadata": {},
   "outputs": [],
   "source": [
    "dkl = nq.batch_beta_relative_entropy(Lobs=nq.graph_laplacian(G), Lmodel=nq.graph_laplacian(np.expand_dims(M.expected_weighted_adjacency(sol['x']),0)), beta_range=beta_range)\n",
    "plt.semilogx(beta_range, dkl, label='$S(\\\\rho \\| \\\\sigma)$')\n",
    "#dkl = nq.batch_beta_relative_entropy(Lobs=nq.graph_laplacian(G), Lmodel=nq.graph_laplacian(M.sample_adjacency(sol['x'],100)), beta_range=beta_range)\n",
    "#plt.semilogx(beta_range, dkl, label='$S(\\\\rho \\| \\\\sigma)$')\n",
    "plt.xlabel('$\\\\beta$')\n",
    "plt.ylabel('$S(\\\\rho \\| \\\\sigma)$')\n",
    "plt.tight_layout()\n",
    "plt.savefig('dkl_threshold_05.pdf',bbox='tight',dpi=200)"
   ]
  },
  {
   "cell_type": "code",
   "execution_count": null,
   "metadata": {},
   "outputs": [],
   "source": [
    "def andd_bu(G):\n",
    "    A = (G>0).astype(float)\n",
    "    k = A.sum(0)\n",
    "    #k[k<=0]=1\n",
    "    return np.einsum('ij,i->j',G,k)/k\n",
    "\n",
    "def andd_wu(G):\n",
    "    A = (G>0).astype(float)\n",
    "    s = G.sum(0)\n",
    "    k = A.sum(0)\n",
    "    #k[k<=0]=1\n",
    "    return np.einsum('ij,i->j',G,s)/k"
   ]
  },
  {
   "cell_type": "code",
   "execution_count": null,
   "metadata": {},
   "outputs": [],
   "source": [
    "plt.plot(andd_wu(G),andd_wu(np.squeeze(M.sample_adjacency(sol['x']))),'.r',markersize=1)\n",
    "plt.plot(np.linspace(0.1,200,10),np.linspace(0.1,200,10),'-k', linewidth=0.5)\n",
    "plt.xlabel('s^{nn}')\n",
    "plt.ylabel('$\\\\langle s^{nn}\\\\rangle$')\n",
    "plt.grid()\n",
    "plt.axis('square')\n",
    "plt.title('cTWECM')\n",
    "#plt.xlim([-1,2])\n",
    "#plt.ylim([-1,2])\n",
    "#plt.savefig('andd_wu_groupaverage_n_638_threshold_06.pdf',bbox='tight')"
   ]
  },
  {
   "cell_type": "code",
   "execution_count": null,
   "metadata": {},
   "outputs": [],
   "source": [
    "plt.plot(andd_bu(G>0),andd_bu(np.squeeze(M.sample_adjacency(sol['x']))>0),'.r',markersize=0.5)\n",
    "plt.plot(np.linspace(0,200,10),np.linspace(0,200,10),'-k',linewidth=0.5)\n",
    "plt.xlabel('$k^{nn}$')\n",
    "plt.ylabel('$\\\\langle k^{nn}\\\\rangle$')\n",
    "#plt.legend(loc='best')\n",
    "plt.axis('square')\n",
    "plt.title('cTWECM')\n",
    "#plt.xlim([0,1])\n",
    "#plt.ylim([0,1])\n",
    "#plt.savefig('andd_wu_groupaverage_n_638_threshold_06.pdf',bbox='tight')"
   ]
  },
  {
   "cell_type": "code",
   "execution_count": null,
   "metadata": {},
   "outputs": [],
   "source": [
    "Mb = nq.UECM3(N=len(G))\n",
    "Gu = np.round(G*10)\n",
    "soluecm3 = Mb.fit(Gu, method='MLE')\n",
    "soluemc3 = Mb.fit(Gu,method='saddle_point',x0=soluecm3['x'],verbose=2)"
   ]
  },
  {
   "cell_type": "code",
   "execution_count": null,
   "metadata": {},
   "outputs": [],
   "source": [
    "nq.plot_mle(np.round(G*100), Mb.expected_adjacency(soluecm3['x']),Mb.expected_weighted_adjacency(soluecm3['x']))"
   ]
  },
  {
   "cell_type": "code",
   "execution_count": null,
   "metadata": {},
   "outputs": [],
   "source": [
    "plt.loglog(andd_wu(np.round(G*100)),andd_wu(np.squeeze(Mb.sample_adjacency(soluecm3['x']))),'.r',markersize=1)\n",
    "plt.loglog(np.linspace(0.1,1E6,10),np.linspace(0.1,1E6,10),'-k',linewidth=0.5)\n",
    "plt.xlabel('s^{nn}')\n",
    "plt.ylabel('$\\\\langle s^{nn}\\\\rangle$')\n",
    "plt.grid()\n",
    "plt.axis('square')\n",
    "plt.title('ECM')\n",
    "#plt.xlim([-1,2])\n",
    "#plt.ylim([-1,2])\n",
    "#plt.savefig('andd_wu_groupaverage_n_638_threshold_06.pdf',bbox='tight')"
   ]
  },
  {
   "cell_type": "code",
   "execution_count": null,
   "metadata": {},
   "outputs": [],
   "source": []
  }
 ],
 "metadata": {
  "kernelspec": {
   "display_name": "Python 3",
   "language": "python",
   "name": "python3"
  },
  "language_info": {
   "codemirror_mode": {
    "name": "ipython",
    "version": 3
   },
   "file_extension": ".py",
   "mimetype": "text/x-python",
   "name": "python",
   "nbconvert_exporter": "python",
   "pygments_lexer": "ipython3",
   "version": "3.5.2"
  }
 },
 "nbformat": 4,
 "nbformat_minor": 2
}
