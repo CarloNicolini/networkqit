{
 "cells": [
  {
   "cell_type": "code",
   "execution_count": null,
   "metadata": {},
   "outputs": [],
   "source": [
    "#from __future__ import unicode_literals\n",
    "%reload_ext autoreload\n",
    "%autoreload 2\n",
    "\n",
    "import os\n",
    "from os.path import expanduser\n",
    "home = expanduser(\"~\")\n",
    "import sys\n",
    "sys.path.append(home + '/workspace/networkqit')\n",
    "import numpy as np\n",
    "import pandas as pd\n",
    "import scipy\n",
    "from scipy.io import loadmat\n",
    "import networkqit as nq\n",
    "import networkx as nx\n",
    "import bct\n",
    "import seaborn as sns\n",
    "import matplotlib.pyplot as plt\n",
    "plt.style.use('ggplot')\n",
    "import pickle\n",
    "import re\n",
    "# Additional utility functions\n",
    "from FrontiersAnalysis import data_grid_plot, analyze_forcellini_data, forcellini_plotting, compute_step, collect_step\n",
    "import gzip\n",
    "import seaborn as sns"
   ]
  },
  {
   "cell_type": "code",
   "execution_count": null,
   "metadata": {},
   "outputs": [],
   "source": [
    "def percolation_analysis(W,nsteps=10):\n",
    "    wmin = W[np.nonzero(W)].min()\n",
    "    wmax = W[np.nonzero(W)].max()\n",
    "    allw = np.unique(W.flatten())\n",
    "    all_comps = []\n",
    "    all_comps_size = []\n",
    "    allt = np.linspace(wmin,wmax,nsteps)\n",
    "    giant_size = []\n",
    "    for t in allt:\n",
    "        comps, comp_size = bct.get_components(bct.threshold_absolute(W,t))\n",
    "        all_comps.append(comps)\n",
    "        all_comps_size.append(len(comp_size))\n",
    "        giant_size.append(np.max(comp_size))\n",
    "    return allt,np.array(all_comps_size), np.array(giant_size)"
   ]
  },
  {
   "cell_type": "code",
   "execution_count": null,
   "metadata": {},
   "outputs": [],
   "source": [
    "W = np.loadtxt('/home/carlo/workspace/communityalg/data/GroupAverage_rsfMRI_unthr.adj')[0:128,0:128]\n",
    "allt,comps,giantsize = percolation_analysis(W, 100)"
   ]
  },
  {
   "cell_type": "code",
   "execution_count": null,
   "metadata": {},
   "outputs": [],
   "source": [
    "plt.plot(allt,giantsize)\n",
    "plt.vlines(x=allt[np.array(giantsize)==638][-1],ymin=0,ymax=638,color='k', alpha=0.6)"
   ]
  },
  {
   "cell_type": "code",
   "execution_count": null,
   "metadata": {},
   "outputs": [],
   "source": [
    "W = np.loadtxt('/home/carlo/workspace/communityalg/data/GroupAverage_rsfMRI_unthr.adj')\n",
    "beta_range = np.logspace(-3,3,100)\n",
    "\n",
    "allt = np.linspace(0.4, 0.9, 12)\n",
    "fig, ax = plt.subplots(ncols=4,nrows=3,figsize=(16,12))\n",
    "ax = ax.flatten()\n",
    "\n",
    "all_sol = []\n",
    "all_smodel = []\n",
    "from tqdm import tqdm\n",
    "for i,t in enumerate(allt):\n",
    "    M = nq.CWTECM(N=len(W), threshold=t)\n",
    "    G = bct.threshold_absolute(W,t)\n",
    "    sol = M.fit(G=G, method='MLE', ftol=1)\n",
    "    all_sol.append(sol)\n",
    "    \n",
    "    Amodel = []\n",
    "    while len(Amodel) < 5:\n",
    "        X = np.squeeze(M.sample_adjacency(sol['x'], batch_size=1)[0,:,:])\n",
    "        if bct.number_of_components(X) == 1:\n",
    "            Amodel.append(X)\n",
    "    Sdata = nq.batch_compute_vonneumann_entropy(L=nq.graph_laplacian(G), beta_range=beta_range)\n",
    "    ax[i].semilogx(beta_range,Sdata,label='data',color='b')\n",
    "    for j in range(len(Amodel)):\n",
    "        Smodel = nq.batch_compute_vonneumann_entropy(L=nq.graph_laplacian(np.squeeze(Amodel[j])),beta_range=beta_range)\n",
    "        all_smodel.append(Smodel)\n",
    "        ax[i].semilogx(beta_range, Smodel, label='model', color='r',alpha=0.25)\n",
    "    ax[i].legend(['data','model'])\n",
    "    ax[i].set_title('threshold=%.3f' % t)\n",
    "    ax[i].set_xlabel('$\\\\beta$')\n",
    "    ax[i].set_ylabel('$S(\\\\beta)$')    \n",
    "plt.tight_layout()"
   ]
  },
  {
   "cell_type": "code",
   "execution_count": null,
   "metadata": {},
   "outputs": [],
   "source": [
    "W = np.loadtxt('/home/carlo/workspace/communityalg/data/GroupAverage_rsfMRI_unthr.adj')\n",
    "beta_range = np.logspace(-4,4,100)\n",
    "\n",
    "allt = np.linspace(0.4, 0.9, 11)\n",
    "fig, ax = plt.subplots(ncols=4,nrows=3,figsize=(16,12))\n",
    "ax = ax.flatten()\n",
    "\n",
    "for i,t in enumerate(allt):\n",
    "    M = nq.CWTECM(N=len(W), threshold=t)\n",
    "    G = bct.threshold_absolute(W,t)\n",
    "    sol = M.fit(G=G, method='MLE', ftol=1E-3)\n",
    "    Amodel = []\n",
    "    count=0\n",
    "    while len(Amodel) < 10:\n",
    "        X = np.squeeze(M.sample_adjacency(sol['x'], batch_size=1)[0,:,:])\n",
    "        if count>50:\n",
    "            print('Too many iterations')\n",
    "        if bct.number_of_components(X) ==  bct.number_of_components(G):\n",
    "            Amodel.append(X)\n",
    "\n",
    "    for j in range(len(Amodel)):\n",
    "        dkl = nq.batch_beta_relative_entropy(Lobs=nq.graph_laplacian(G),Lmodel=nq.graph_laplacian(np.array(Amodel)), beta_range=beta_range)\n",
    "    \n",
    "    #ax[i].semilogx(beta_range, dkl, label='dkl')\n",
    "    ax[i].semilogx(beta_range, dkl/(beta_range*np.sum(G)), label='dkl/beta$W_{tot}$')\n",
    "    \n",
    "    #ax[i].legend(['$S(\\rho \\| \\sigma)$','$S(\\rho \\| \\sigma)/\\beta W_{tot}$'])\n",
    "    ax[i].set_title('threshold=%.3f' % t)\n",
    "    ax[i].set_xlabel('$\\\\beta$')\n",
    "    ax[i].set_ylabel('$S(\\\\beta)$')\n",
    "    \n",
    "plt.tight_layout()\n",
    "plt.savefig('dkl_normalized_crossley_groupaverage_mat_thresholded.pdf',bbox='tight')"
   ]
  },
  {
   "cell_type": "code",
   "execution_count": null,
   "metadata": {},
   "outputs": [],
   "source": [
    "W = np.loadtxt('/home/carlo/workspace/communityalg/data/GroupAverage_rsfMRI_unthr.adj')[10:30,10:30]\n",
    "allt = np.linspace(0.4, 0.8, 12)\n",
    "beta_range=np.logspace(-3,3, 100)\n",
    "\n",
    "def compute_dkl(W,t,beta_range):\n",
    "    G = bct.threshold_absolute(W,t)\n",
    "    M = nq.CWTECM(N=len(W), threshold=G[np.nonzero(G)].min())\n",
    "    sol = M.fit(G=G,method='MLE',ftol=1E-3)\n",
    "    Amodel = []\n",
    "    while len(Amodel) < 10:\n",
    "        X = np.squeeze(M.sample_adjacency(sol['x'], batch_size=1)[0,:,:])\n",
    "        if bct.number_of_components(X) ==  bct.number_of_components(G):\n",
    "            Amodel.append(X)\n",
    "    dkl = nq.batch_beta_relative_entropy(Lobs=nq.graph_laplacian(G),\n",
    "                                         Lmodel=nq.graph_laplacian(np.array(Amodel)),\n",
    "                                         beta_range=beta_range)\n",
    "    return dkl\n",
    "df = pd.DataFrame(data=np.array([compute_dkl(W,t,np.logspace(-3,3,100)) for t in allt]),columns=['dkl']).set_index(allt)\n",
    "#df['dklnorm'] = [df['dkl']/(bct.threshold_absolute(W,t).sum()*beta_range) for t in allt ]"
   ]
  },
  {
   "cell_type": "code",
   "execution_count": null,
   "metadata": {},
   "outputs": [],
   "source": [
    "df"
   ]
  },
  {
   "cell_type": "code",
   "execution_count": null,
   "metadata": {},
   "outputs": [],
   "source": []
  }
 ],
 "metadata": {
  "kernelspec": {
   "display_name": "Python 3",
   "language": "python",
   "name": "python3"
  },
  "language_info": {
   "codemirror_mode": {
    "name": "ipython",
    "version": 3
   },
   "file_extension": ".py",
   "mimetype": "text/x-python",
   "name": "python",
   "nbconvert_exporter": "python",
   "pygments_lexer": "ipython3",
   "version": "3.5.2"
  }
 },
 "nbformat": 4,
 "nbformat_minor": 2
}
