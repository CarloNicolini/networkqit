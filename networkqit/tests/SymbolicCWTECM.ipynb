{
 "cells": [
  {
   "cell_type": "code",
   "execution_count": 1,
   "metadata": {},
   "outputs": [],
   "source": [
    "import sympy as sp\n",
    "#from sympy.abc import k,s,t,x,y,alpha,beta,w\n",
    "sp.init_printing()"
   ]
  },
  {
   "cell_type": "markdown",
   "metadata": {},
   "source": [
    "# Define the symbols of the problem\n",
    "\n",
    "- $w_{ij}$ is the weighted adjacency matrix\n",
    "- $a_{ij}$ is the binary adjacency matrix\n",
    "- $t$ is the threshold, such that $\\Theta(w_{ij}-t)=0$\n",
    "- $\\alpha_i$ and $\\beta_i$ are the Lagrange multipliers of the problem\n",
    "- $x_i,y_i$ are defined as $x_i=e^{-\\alpha_i}$ and $y_i=e^{-\\beta_i}$"
   ]
  },
  {
   "cell_type": "code",
   "execution_count": 2,
   "metadata": {},
   "outputs": [],
   "source": [
    "aij=sp.Symbol('a_{ij}', positive=True,real=True)\n",
    "wij=sp.Symbol('w_{ij}', positive=True,real=True)\n",
    "t = sp.Symbol('t', positive=True,real=True)\n",
    "alphai = sp.Symbol('\\\\alpha_i',positive=True,real=True)\n",
    "alphaj = sp.Symbol('\\\\alpha_j',positive=True,real=True)\n",
    "betai = sp.Symbol('\\\\beta_i',positive=True,real=True)\n",
    "betaj = sp.Symbol('\\\\beta_j',positive=True,real=True)\n",
    "\n",
    "xi = sp.Symbol('x_i',positive=True,real=True)\n",
    "xj = sp.Symbol('x_j',positive=True,real=True)\n",
    "yi = sp.Symbol('y_i',positive=True,real=True)\n",
    "yj = sp.Symbol('y_j',positive=True,real=True)"
   ]
  },
  {
   "cell_type": "markdown",
   "metadata": {},
   "source": [
    "We then define the graph Hamiltonian as $H=\\sum_{i<j} \\alpha_{ij} t \\Theta(w_{ij}-t) + \\beta_{ij} w_{ij} \\Theta(w_{ij}-t)$.\n",
    "Finally we get the partition function $Z = \\sum_{G} e^{-H(G)}$"
   ]
  },
  {
   "cell_type": "code",
   "execution_count": 3,
   "metadata": {},
   "outputs": [
    {
     "data": {
      "image/png": "[encoded data removed]",
      "text/latex": [
       "$$\\frac{- \\left(x_{i} x_{j} y_{i} y_{j}\\right)^{t} + \\log{\\left (\\left(y_{i} y_{j}\\right)^{t} \\right )}}{\\log{\\left (y_{i} y_{j} \\right )}}$$"
      ],
      "text/plain": [
       "                 t      ⎛        t⎞\n",
       "- (xᵢ⋅x_j⋅yᵢ⋅y_j)  + log⎝(yᵢ⋅y_j) ⎠\n",
       "───────────────────────────────────\n",
       "            log(yᵢ⋅y_j)            "
      ]
     },
     "execution_count": 3,
     "metadata": {},
     "output_type": "execute_result"
    }
   ],
   "source": [
    "H = ((alphai+alphaj)*t*sp.Heaviside(wij-t) + (betai+betaj)*wij*sp.Heaviside(wij-t))\n",
    "Z = sp.simplify(sp.integrate(sp.exp(-H.rewrite(sp.Piecewise)), (wij,0,sp.oo)))\n",
    "Z = sp.simplify(Z.replace(betai,-sp.log(yi)).replace(betaj,-sp.log(yj)).replace(alphai,-sp.log(xi)).replace(alphaj,-sp.log(xj)))\n",
    "Z"
   ]
  },
  {
   "cell_type": "markdown",
   "metadata": {},
   "source": [
    "The graph probability is obtained as $P(G) = e^{-H(G)}/Z$"
   ]
  },
  {
   "cell_type": "code",
   "execution_count": 4,
   "metadata": {},
   "outputs": [
    {
     "data": {
      "image/png": "[encoded data removed]",
      "text/latex": [
       "$$- \\frac{\\left(\\left(x_{i} x_{j}\\right)^{t} \\left(y_{i} y_{j}\\right)^{w_{ij}}\\right)^{\\theta\\left(- t + w_{ij}\\right)} \\left(\\log{\\left (y_{i} \\right )} + \\log{\\left (y_{j} \\right )}\\right)}{- t \\left(\\log{\\left (y_{i} \\right )} + \\log{\\left (y_{j} \\right )}\\right) + \\left(x_{i} x_{j} y_{i} y_{j}\\right)^{t}}$$"
      ],
      "text/plain": [
       "                           Heaviside(-t + w_{ij})                      \n",
       " ⎛        t         w_{ij}⎞                                            \n",
       "-⎝(xᵢ⋅x_j) ⋅(yᵢ⋅y_j)      ⎠                      ⋅(log(yᵢ) + log(y_j)) \n",
       "───────────────────────────────────────────────────────────────────────\n",
       "                                                        t              \n",
       "               -t⋅(log(yᵢ) + log(y_j)) + (xᵢ⋅x_j⋅yᵢ⋅y_j)               "
      ]
     },
     "execution_count": 4,
     "metadata": {},
     "output_type": "execute_result"
    }
   ],
   "source": [
    "P = sp.simplify(sp.exp(-H.replace(betai,-sp.log(yi)).replace(betaj,-sp.log(yj)).replace(alphai,-sp.log(xi)).replace(alphaj,-sp.log(xj)))/Z)\n",
    "sp.expand_log(P) # graph probabilitay"
   ]
  },
  {
   "cell_type": "markdown",
   "metadata": {},
   "source": [
    "Taking the log we have an expression for the loglikelihood $\\mathcal{L}(G)$"
   ]
  },
  {
   "cell_type": "code",
   "execution_count": 22,
   "metadata": {},
   "outputs": [
    {
     "data": {
      "image/png": "[encoded data removed]",
      "text/latex": [
       "$$\\left(t \\left(\\log{\\left (x_{i} \\right )} + \\log{\\left (x_{j} \\right )}\\right) + w_{ij} \\left(\\log{\\left (y_{i} \\right )} + \\log{\\left (y_{j} \\right )}\\right)\\right) \\theta\\left(- t + w_{ij}\\right) + \\log{\\left (- \\frac{\\log{\\left (y_{i} \\right )} + \\log{\\left (y_{j} \\right )}}{- t \\left(\\log{\\left (y_{i} \\right )} + \\log{\\left (y_{j} \\right )}\\right) + \\left(x_{i} x_{j} y_{i} y_{j}\\right)^{t}} \\right )}$$"
      ],
      "text/plain": [
       "                                                                              \n",
       "(t⋅(log(xᵢ) + log(x_j)) + w_{ij}⋅(log(yᵢ) + log(y_j)))⋅Heaviside(-t + w_{ij}) \n",
       "                                                                              \n",
       "                                                                              \n",
       "\n",
       "     ⎛          -(log(yᵢ) + log(y_j))           ⎞\n",
       "+ log⎜──────────────────────────────────────────⎟\n",
       "     ⎜                                         t⎟\n",
       "     ⎝-t⋅(log(yᵢ) + log(y_j)) + (xᵢ⋅x_j⋅yᵢ⋅y_j) ⎠"
      ]
     },
     "execution_count": 22,
     "metadata": {},
     "output_type": "execute_result"
    }
   ],
   "source": [
    "sp.expand_log(sp.log(P)) # loglikelihood"
   ]
  },
  {
   "cell_type": "markdown",
   "metadata": {},
   "source": [
    "Another way to write down the loglikelihood more simply is this one"
   ]
  },
  {
   "cell_type": "code",
   "execution_count": 6,
   "metadata": {},
   "outputs": [
    {
     "data": {
      "image/png": "[encoded data removed]",
      "text/latex": [
       "$$\\log{\\left (- \\log{\\left (\\left(y_{i} y_{j}\\right)^{\\frac{\\left(\\left(x_{i} x_{j}\\right)^{t} \\left(y_{i} y_{j}\\right)^{w_{ij}}\\right)^{\\theta\\left(- t + w_{ij}\\right)}}{\\left(x_{i} x_{j} y_{i} y_{j}\\right)^{t} - \\log{\\left (\\left(y_{i} y_{j}\\right)^{t} \\right )}}} \\right )} \\right )}$$"
      ],
      "text/plain": [
       "   ⎛    ⎛                                  Heaviside(-t + w_{ij})⎞⎞\n",
       "   ⎜    ⎜        ⎛        t         w_{ij}⎞                      ⎟⎟\n",
       "   ⎜    ⎜        ⎝(xᵢ⋅x_j) ⋅(yᵢ⋅y_j)      ⎠                      ⎟⎟\n",
       "   ⎜    ⎜        ────────────────────────────────────────────────⎟⎟\n",
       "   ⎜    ⎜                              t      ⎛        t⎞        ⎟⎟\n",
       "   ⎜    ⎜               (xᵢ⋅x_j⋅yᵢ⋅y_j)  - log⎝(yᵢ⋅y_j) ⎠        ⎟⎟\n",
       "log⎝-log⎝(yᵢ⋅y_j)                                                ⎠⎠"
      ]
     },
     "execution_count": 6,
     "metadata": {},
     "output_type": "execute_result"
    }
   ],
   "source": [
    "loglike = sp.simplify(sp.log(P))\n",
    "sp.simplify(loglike.replace(betai,-sp.log(yi)).replace(betaj,-sp.log(yj)).replace(alphai,-sp.log(xi)).replace(alphaj,-sp.log(xj)))"
   ]
  },
  {
   "cell_type": "markdown",
   "metadata": {},
   "source": [
    "Now we get an expression for the expected link probability, by taking the derivative of the free energy $F=-\\log(Z)$ with respect to the original Lagrange multipliers $\\alpha_i$ and $\\beta_i$"
   ]
  },
  {
   "cell_type": "markdown",
   "metadata": {},
   "source": [
    "$\\lbrack t \\left(\\log{\\left (x_ i x_j \\right )} \\right) + w_{ij} \\left(\\log{\\left (y_i y_j \\right )} \\right)\\rbrack A_{ij} + \\log{\\left (- \\frac{\\log{\\left (y_{i} \\right )} + \\log{\\left (y_{j} \\right )}}{- t \\left(\\log{\\left (y_{i} \\right )} + \\log{\\left (y_{j} \\right )}\\right) + \\left(x_{i} x_{j} y_{i} y_{j}\\right)^{t}} \\right )}$"
   ]
  },
  {
   "cell_type": "code",
   "execution_count": 10,
   "metadata": {},
   "outputs": [],
   "source": [
    "F = -sp.log(sp.expand_log(Z))\n",
    "dalphai = -sp.log(xi)\n",
    "dbetai = -sp.log(yi)"
   ]
  },
  {
   "cell_type": "markdown",
   "metadata": {},
   "source": [
    "This is the expected link probability $\\langle a_{ij} \\rangle = \\frac{\\partial F}{\\partial \\alpha_i}$"
   ]
  },
  {
   "cell_type": "code",
   "execution_count": 9,
   "metadata": {},
   "outputs": [
    {
     "data": {
      "image/png": "[encoded data removed]",
      "text/latex": [
       "$$\\frac{t \\left(x_{i} x_{j} y_{i} y_{j}\\right)^{t}}{\\left(x_{i} x_{j} y_{i} y_{j}\\right)^{t} - \\log{\\left (\\left(y_{i} y_{j}\\right)^{t} \\right )}}$$"
      ],
      "text/plain": [
       "                         t       \n",
       "        t⋅(xᵢ⋅x_j⋅yᵢ⋅y_j)        \n",
       "─────────────────────────────────\n",
       "               t      ⎛        t⎞\n",
       "(xᵢ⋅x_j⋅yᵢ⋅y_j)  - log⎝(yᵢ⋅y_j) ⎠"
      ]
     },
     "execution_count": 9,
     "metadata": {},
     "output_type": "execute_result"
    }
   ],
   "source": [
    "sp.simplify(sp.diff(F,xi)*sp.diff(sp.exp(-alphai),alphai)).replace(sp.exp(-alphai),xi)"
   ]
  },
  {
   "cell_type": "markdown",
   "metadata": {},
   "source": [
    "While the following is the expected weight $\\langle w_{ij} \\rangle = \\frac{\\partial F}{\\partial \\beta_i}$"
   ]
  },
  {
   "cell_type": "code",
   "execution_count": 18,
   "metadata": {},
   "outputs": [
    {
     "data": {
      "image/png": "[encoded data removed]",
      "text/latex": [
       "$$\\frac{- \\left(x_{i} x_{j} y_{i} y_{j}\\right)^{t} + \\log{\\left (\\left(y_{i} y_{j}\\right)^{t \\left(x_{i} x_{j} y_{i} y_{j}\\right)^{t}} \\right )}}{\\left(\\left(x_{i} x_{j} y_{i} y_{j}\\right)^{t} - \\log{\\left (\\left(y_{i} y_{j}\\right)^{t} \\right )}\\right) \\log{\\left (y_{i} y_{j} \\right )}}$$"
      ],
      "text/plain": [
       "                        ⎛                         t⎞\n",
       "                 t      ⎜        t⋅(xᵢ⋅x_j⋅yᵢ⋅y_j) ⎟\n",
       "- (xᵢ⋅x_j⋅yᵢ⋅y_j)  + log⎝(yᵢ⋅y_j)                  ⎠\n",
       "────────────────────────────────────────────────────\n",
       "  ⎛               t      ⎛        t⎞⎞               \n",
       "  ⎝(xᵢ⋅x_j⋅yᵢ⋅y_j)  - log⎝(yᵢ⋅y_j) ⎠⎠⋅log(yᵢ⋅y_j)   "
      ]
     },
     "execution_count": 18,
     "metadata": {},
     "output_type": "execute_result"
    }
   ],
   "source": [
    "sp.simplify((sp.simplify(sp.diff(F,yi)*sp.diff(sp.exp(-betai),betai)).replace(sp.exp(-betai),yi)))"
   ]
  },
  {
   "cell_type": "markdown",
   "metadata": {},
   "source": [
    "pretty complicated expression, however if we divide it by the link probability we see it is directly proportional to it:\n"
   ]
  },
  {
   "cell_type": "code",
   "execution_count": 19,
   "metadata": {},
   "outputs": [
    {
     "data": {
      "image/png": "[encoded data removed]",
      "text/latex": [
       "$$\\frac{\\log{\\left (y_{i}^{t} y_{j}^{t} \\right )} - 1}{t \\log{\\left (y_{i} y_{j} \\right )}}$$"
      ],
      "text/plain": [
       "   ⎛  t    t⎞    \n",
       "log⎝yᵢ ⋅y_j ⎠ - 1\n",
       "─────────────────\n",
       "  t⋅log(yᵢ⋅y_j)  "
      ]
     },
     "execution_count": 19,
     "metadata": {},
     "output_type": "execute_result"
    }
   ],
   "source": [
    "sp.simplify(sp.simplify((sp.simplify(sp.diff(F,yi)*sp.diff(sp.exp(-betai),betai)).replace(sp.exp(-betai),yi))) / sp.simplify(sp.diff(F,xi)*sp.diff(sp.exp(-alphai),alphai)).replace(sp.exp(-alphai),xi))"
   ]
  },
  {
   "cell_type": "code",
   "execution_count": null,
   "metadata": {},
   "outputs": [],
   "source": []
  }
 ],
 "metadata": {
  "kernelspec": {
   "display_name": "Python 3",
   "language": "python",
   "name": "python3"
  },
  "language_info": {
   "codemirror_mode": {
    "name": "ipython",
    "version": 3
   },
   "file_extension": ".py",
   "mimetype": "text/x-python",
   "name": "python",
   "nbconvert_exporter": "python",
   "pygments_lexer": "ipython3",
   "version": "3.6.7"
  }
 },
 "nbformat": 4,
 "nbformat_minor": 2
}
