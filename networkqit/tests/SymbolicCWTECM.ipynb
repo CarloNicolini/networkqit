{
 "cells": [
  {
   "cell_type": "code",
   "execution_count": 69,
   "metadata": {},
   "outputs": [],
   "source": [
    "import sympy as sp\n",
    "#from sympy.abc import k,s,t,x,y,alpha,beta,w\n",
    "sp.init_printing()"
   ]
  },
  {
   "cell_type": "markdown",
   "metadata": {},
   "source": [
    "# Define the symbols of the problem\n",
    "\n",
    "- $w_{ij}$ is the weighted adjacency matrix\n",
    "- $a_{ij}$ is the binary adjacency matrix\n",
    "- $t$ is the threshold, such that $\\Theta(w_{ij}-t)=0$\n",
    "- $\\alpha_i$ and $\\beta_i$ are the Lagrange multipliers of the problem\n",
    "- $x_i,y_i$ are defined as $x_i=e^{-\\alpha_i}$ and $y_i=e^{-\\beta_i}$"
   ]
  },
  {
   "cell_type": "code",
   "execution_count": 70,
   "metadata": {},
   "outputs": [],
   "source": [
    "aij=sp.Symbol('a_{ij}', positive=True,real=True)\n",
    "wij=sp.Symbol('w_{ij}', positive=True,real=True)\n",
    "t = sp.Symbol('t', positive=True,real=True)\n",
    "alphai = sp.Symbol('\\\\alpha_i',positive=True,real=True)\n",
    "alphaj = sp.Symbol('\\\\alpha_j',positive=True,real=True)\n",
    "betai = sp.Symbol('\\\\beta_i',positive=True,real=True)\n",
    "betaj = sp.Symbol('\\\\beta_j',positive=True,real=True)\n",
    "alphaij = sp.Symbol('\\\\alpha_{ij}',positive=True,real=True)\n",
    "betaij = sp.Symbol('\\\\beta_{ij}',positive=True,real=True)\n",
    "xi = sp.Symbol('x_i',positive=True,real=True)\n",
    "xj = sp.Symbol('x_j',positive=True,real=True)\n",
    "yi = sp.Symbol('y_i',positive=True,real=True)\n",
    "yj = sp.Symbol('y_j',positive=True,real=True)"
   ]
  },
  {
   "cell_type": "markdown",
   "metadata": {},
   "source": [
    "We then define the graph Hamiltonian as $H=\\sum_{i<j} \\alpha_{ij} t \\Theta(w_{ij}-t) + \\beta_{ij} w_{ij} \\Theta(w_{ij}-t)$.\n",
    "Finally we get the partition function $Z = \\sum_{G} e^{-H(G)}$"
   ]
  },
  {
   "cell_type": "code",
   "execution_count": 82,
   "metadata": {},
   "outputs": [
    {
     "data": {
      "image/png": "[encoded data removed]",
      "text/latex": [
       "$$\\frac{\\left(t \\left(\\beta_i + \\beta_j\\right) e^{t \\left(\\alpha_i + \\alpha_j + \\beta_i + \\beta_j\\right)} + 1\\right) e^{- t \\left(\\alpha_i + \\alpha_j + \\beta_i + \\beta_j\\right)}}{\\beta_i + \\beta_j}$$"
      ],
      "text/plain": [
       "⎛                      t⋅(\\alphaᵢ + \\alpha_j + \\betaᵢ + \\beta_j)    ⎞  -t⋅(\\al\n",
       "⎝t⋅(\\betaᵢ + \\beta_j)⋅ℯ                                          + 1⎠⋅ℯ       \n",
       "──────────────────────────────────────────────────────────────────────────────\n",
       "                                                 \\betaᵢ + \\beta_j             \n",
       "\n",
       "phaᵢ + \\alpha_j + \\betaᵢ + \\beta_j)\n",
       "                                   \n",
       "───────────────────────────────────\n",
       "                                   "
      ]
     },
     "execution_count": 82,
     "metadata": {},
     "output_type": "execute_result"
    }
   ],
   "source": [
    "H = (alphai+alphaj)*t*sp.Heaviside(wij-t) + (betai+betaj)*wij*sp.Heaviside(wij-t)\n",
    "#H = (betai+betaj)*wij*sp.Heaviside(wij-t)\n",
    "Z = sp.simplify(sp.integrate(sp.exp(-H.rewrite(sp.Piecewise)), (wij,0,sp.oo)))\n",
    "Z"
   ]
  },
  {
   "cell_type": "markdown",
   "metadata": {},
   "source": [
    "The graph probability is obtained as $P(G) = e^{-H(G)}/Z$"
   ]
  },
  {
   "cell_type": "code",
   "execution_count": 83,
   "metadata": {},
   "outputs": [
    {
     "data": {
      "image/png": "[encoded data removed]",
      "text/latex": [
       "$$\\frac{\\left(\\beta_i + \\beta_j\\right) e^{- t \\left(\\alpha_i + \\alpha_j\\right) \\theta\\left(- t + w_{ij}\\right) + t \\left(\\alpha_i + \\alpha_j + \\beta_i + \\beta_j\\right) - w_{ij} \\left(\\beta_i + \\beta_j\\right) \\theta\\left(- t + w_{ij}\\right)}}{t \\left(\\beta_i + \\beta_j\\right) e^{t \\left(\\alpha_i + \\alpha_j + \\beta_i + \\beta_j\\right)} + 1}$$"
      ],
      "text/plain": [
       "                    -t⋅(\\alphaᵢ + \\alpha_j)⋅Heaviside(-t + w_{ij}) + t⋅(\\alpha\n",
       "(\\betaᵢ + \\beta_j)⋅ℯ                                                          \n",
       "──────────────────────────────────────────────────────────────────────────────\n",
       "                                                                     t⋅(\\alpha\n",
       "                                               t⋅(\\betaᵢ + \\beta_j)⋅ℯ         \n",
       "\n",
       "ᵢ + \\alpha_j + \\betaᵢ + \\beta_j) - w_{ij}⋅(\\betaᵢ + \\beta_j)⋅Heaviside(-t + w_\n",
       "                                                                              \n",
       "──────────────────────────────────────────────────────────────────────────────\n",
       "ᵢ + \\alpha_j + \\betaᵢ + \\beta_j)                                              \n",
       "                                 + 1                                          \n",
       "\n",
       "{ij})\n",
       "     \n",
       "─────\n",
       "     \n",
       "     "
      ]
     },
     "execution_count": 83,
     "metadata": {},
     "output_type": "execute_result"
    }
   ],
   "source": [
    "P=sp.simplify(sp.exp(-H)/Z)\n",
    "sp.simplify(sp.expand_log(P))"
   ]
  },
  {
   "cell_type": "markdown",
   "metadata": {},
   "source": [
    "Now we try to redo the same with the replacement of variables $x_i=e^{-\\alpha_i}$, $y_i=e^{-\\beta_i}$."
   ]
  },
  {
   "cell_type": "code",
   "execution_count": 77,
   "metadata": {},
   "outputs": [
    {
     "data": {
      "image/png": "[encoded data removed]",
      "text/latex": [
       "$$- \\left(y_{i} y_{j}\\right)^{w_{ij}} \\left(\\log{\\left (y_{i} \\right )} + \\log{\\left (y_{j} \\right )}\\right)$$"
      ],
      "text/plain": [
       "         w_{ij}                     \n",
       "-(yᵢ⋅y_j)      ⋅(log(yᵢ) + log(y_j))"
      ]
     },
     "execution_count": 77,
     "metadata": {},
     "output_type": "execute_result"
    }
   ],
   "source": [
    "H = H.replace(betai,-sp.log(yi)).replace(betaj,-sp.log(yj)).replace(alphai,-sp.log(xi)).replace(alphaj,-sp.log(xj))\n",
    "Z = Z.replace(betai,-sp.log(yi)).replace(betaj,-sp.log(yj)).replace(alphai,-sp.log(xi)).replace(alphaj,-sp.log(xj))\n",
    "P = sp.simplify(sp.exp(-H)/Z)\n",
    "sp.expand_log(P) # graph probability"
   ]
  },
  {
   "cell_type": "markdown",
   "metadata": {},
   "source": [
    "This tells us that the weights are sampled from a left truncated exponential distribution"
   ]
  },
  {
   "cell_type": "markdown",
   "metadata": {},
   "source": [
    "Taking the log we have an expression for the loglikelihood $\\mathcal{L}(G)$"
   ]
  },
  {
   "cell_type": "code",
   "execution_count": 79,
   "metadata": {},
   "outputs": [
    {
     "data": {
      "image/png": "[encoded data removed]",
      "text/latex": [
       "$$w_{ij} \\left(\\log{\\left (y_{i} \\right )} + \\log{\\left (y_{j} \\right )}\\right) + \\log{\\left (- \\log{\\left (y_{i} \\right )} - \\log{\\left (y_{j} \\right )} \\right )}$$"
      ],
      "text/plain": [
       "w_{ij}⋅(log(yᵢ) + log(y_j)) + log(-log(yᵢ) - log(y_j))"
      ]
     },
     "execution_count": 79,
     "metadata": {},
     "output_type": "execute_result"
    }
   ],
   "source": [
    "sp.expand_log(sp.log(P)) # loglikelihood"
   ]
  },
  {
   "cell_type": "markdown",
   "metadata": {},
   "source": [
    "Now we get an expression for the expected link probability, by taking the derivative of the free energy $F=-\\log(Z)$ with respect to the original Lagrange multipliers $\\alpha_i$ and $\\beta_i$"
   ]
  },
  {
   "cell_type": "code",
   "execution_count": 64,
   "metadata": {},
   "outputs": [],
   "source": [
    "F = -sp.log(sp.expand_log(Z))\n",
    "dalphai = -sp.log(xi)\n",
    "dbetai = -sp.log(yi)"
   ]
  },
  {
   "cell_type": "markdown",
   "metadata": {},
   "source": [
    "This is the expected link probability $\\langle a_{ij} \\rangle = \\frac{\\partial F}{\\partial \\alpha_i}$"
   ]
  },
  {
   "cell_type": "code",
   "execution_count": 65,
   "metadata": {},
   "outputs": [
    {
     "data": {
      "image/png": "[encoded data removed]",
      "text/latex": [
       "$$\\frac{t \\left(x_{i} x_{j} y_{i} y_{j}\\right)^{t}}{\\left(x_{i} x_{j} y_{i} y_{j}\\right)^{t} - \\log{\\left (\\left(y_{i} y_{j}\\right)^{t} \\right )}}$$"
      ],
      "text/plain": [
       "                         t       \n",
       "        t⋅(xᵢ⋅x_j⋅yᵢ⋅y_j)        \n",
       "─────────────────────────────────\n",
       "               t      ⎛        t⎞\n",
       "(xᵢ⋅x_j⋅yᵢ⋅y_j)  - log⎝(yᵢ⋅y_j) ⎠"
      ]
     },
     "execution_count": 65,
     "metadata": {},
     "output_type": "execute_result"
    }
   ],
   "source": [
    "expected_adjacency = sp.simplify(sp.diff(F,xi)*sp.diff(sp.exp(-alphai),alphai)).replace(sp.exp(-alphai),xi)\n",
    "expected_adjacency"
   ]
  },
  {
   "cell_type": "markdown",
   "metadata": {},
   "source": [
    "While the following is the expected weight $\\langle w_{ij} \\rangle = \\frac{\\partial F}{\\partial \\beta_i}$"
   ]
  },
  {
   "cell_type": "code",
   "execution_count": 49,
   "metadata": {},
   "outputs": [
    {
     "data": {
      "image/png": "[encoded data removed]",
      "text/latex": [
       "$$- \\frac{\\left(x_{i} x_{j} y_{i} y_{j}\\right)^{t} + \\log{\\left (\\left(y_{i} y_{j}\\right)^{- t \\left(x_{i} x_{j} y_{i} y_{j}\\right)^{t}} \\right )}}{\\left(\\left(x_{i} x_{j} y_{i} y_{j}\\right)^{t} - \\log{\\left (\\left(y_{i} y_{j}\\right)^{t} \\right )}\\right) \\log{\\left (y_{i} y_{j} \\right )}}$$"
      ],
      "text/plain": [
       " ⎛                      ⎛                          t⎞⎞ \n",
       " ⎜               t      ⎜        -t⋅(xᵢ⋅x_j⋅yᵢ⋅y_j) ⎟⎟ \n",
       "-⎝(xᵢ⋅x_j⋅yᵢ⋅y_j)  + log⎝(yᵢ⋅y_j)                   ⎠⎠ \n",
       "───────────────────────────────────────────────────────\n",
       "    ⎛               t      ⎛        t⎞⎞                \n",
       "    ⎝(xᵢ⋅x_j⋅yᵢ⋅y_j)  - log⎝(yᵢ⋅y_j) ⎠⎠⋅log(yᵢ⋅y_j)    "
      ]
     },
     "execution_count": 49,
     "metadata": {},
     "output_type": "execute_result"
    }
   ],
   "source": [
    "expected_weight = sp.simplify((sp.simplify(sp.diff(F,yi)*sp.diff(sp.exp(-betai),betai)).replace(sp.exp(-betai),yi)))\n",
    "expected_weight"
   ]
  },
  {
   "cell_type": "markdown",
   "metadata": {},
   "source": [
    "pretty complicated expression, however if we divide it by the link probability we see it is directly proportional to it:\n"
   ]
  },
  {
   "cell_type": "code",
   "execution_count": 66,
   "metadata": {},
   "outputs": [
    {
     "data": {
      "image/png": "[encoded data removed]",
      "text/latex": [
       "$$1$$"
      ],
      "text/plain": [
       "1"
      ]
     },
     "execution_count": 66,
     "metadata": {},
     "output_type": "execute_result"
    }
   ],
   "source": [
    "sp.simplify((expected_adjacency * ((t*sp.log(yi*yj)-1)/(t*sp.log(yi*yj))))/expected_weight)\n"
   ]
  },
  {
   "cell_type": "code",
   "execution_count": 68,
   "metadata": {},
   "outputs": [
    {
     "data": {
      "image/png": "[encoded data removed]",
      "text/latex": [
       "$$\\frac{\\log{\\left (y_{i}^{t} y_{j}^{t} \\right )} - 1}{t \\log{\\left (y_{i} y_{j} \\right )}}$$"
      ],
      "text/plain": [
       "   ⎛  t    t⎞    \n",
       "log⎝yᵢ ⋅y_j ⎠ - 1\n",
       "─────────────────\n",
       "  t⋅log(yᵢ⋅y_j)  "
      ]
     },
     "execution_count": 68,
     "metadata": {},
     "output_type": "execute_result"
    }
   ],
   "source": [
    "sp.simplify(expected_weight/expected_adjacency)"
   ]
  },
  {
   "cell_type": "code",
   "execution_count": null,
   "metadata": {},
   "outputs": [],
   "source": []
  }
 ],
 "metadata": {
  "kernelspec": {
   "display_name": "Python 3",
   "language": "python",
   "name": "python3"
  },
  "language_info": {
   "codemirror_mode": {
    "name": "ipython",
    "version": 3
   },
   "file_extension": ".py",
   "mimetype": "text/x-python",
   "name": "python",
   "nbconvert_exporter": "python",
   "pygments_lexer": "ipython3",
   "version": "3.5.2"
  }
 },
 "nbformat": 4,
 "nbformat_minor": 2
}
