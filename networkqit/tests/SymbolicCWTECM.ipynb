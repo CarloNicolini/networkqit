{
 "cells": [
  {
   "cell_type": "code",
   "execution_count": 1,
   "metadata": {},
   "outputs": [],
   "source": [
    "import sympy as sp\n",
    "#from sympy.abc import k,s,t,x,y,alpha,beta,w\n",
    "sp.init_printing()"
   ]
  },
  {
   "cell_type": "code",
   "execution_count": 2,
   "metadata": {},
   "outputs": [
    {
     "ename": "NameError",
     "evalue": "name 'k' is not defined",
     "output_type": "error",
     "traceback": [
      "\u001b[0;31m---------------------------------------------------------------------------\u001b[0m",
      "\u001b[0;31mNameError\u001b[0m                                 Traceback (most recent call last)",
      "\u001b[0;32m<ipython-input-2-874d508bce3e>\u001b[0m in \u001b[0;36m<module>\u001b[0;34m()\u001b[0m\n\u001b[1;32m      1\u001b[0m \u001b[0;31m#t=1\u001b[0m\u001b[0;34m\u001b[0m\u001b[0;34m\u001b[0m\u001b[0m\n\u001b[0;32m----> 2\u001b[0;31m \u001b[0mL\u001b[0m \u001b[0;34m=\u001b[0m \u001b[0mk\u001b[0m\u001b[0;34m*\u001b[0m\u001b[0msp\u001b[0m\u001b[0;34m.\u001b[0m\u001b[0mlog\u001b[0m\u001b[0;34m(\u001b[0m\u001b[0mx\u001b[0m\u001b[0;34m)\u001b[0m \u001b[0;34m+\u001b[0m \u001b[0ms\u001b[0m\u001b[0;34m*\u001b[0m\u001b[0msp\u001b[0m\u001b[0;34m.\u001b[0m\u001b[0mlog\u001b[0m\u001b[0;34m(\u001b[0m\u001b[0my\u001b[0m\u001b[0;34m)\u001b[0m \u001b[0;34m-\u001b[0m \u001b[0msp\u001b[0m\u001b[0;34m.\u001b[0m\u001b[0mlog\u001b[0m\u001b[0;34m(\u001b[0m\u001b[0mt\u001b[0m \u001b[0;34m-\u001b[0m \u001b[0mx\u001b[0m\u001b[0;34m*\u001b[0m\u001b[0;34m(\u001b[0m\u001b[0my\u001b[0m\u001b[0;34m**\u001b[0m\u001b[0mt\u001b[0m\u001b[0;34m)\u001b[0m\u001b[0;34m/\u001b[0m\u001b[0;34m(\u001b[0m\u001b[0msp\u001b[0m\u001b[0;34m.\u001b[0m\u001b[0mlog\u001b[0m\u001b[0;34m(\u001b[0m\u001b[0my\u001b[0m\u001b[0;34m)\u001b[0m\u001b[0;34m)\u001b[0m\u001b[0;34m)\u001b[0m\u001b[0;34m\u001b[0m\u001b[0m\n\u001b[0m\u001b[1;32m      3\u001b[0m \u001b[0msp\u001b[0m\u001b[0;34m.\u001b[0m\u001b[0msimplify\u001b[0m\u001b[0;34m(\u001b[0m\u001b[0msp\u001b[0m\u001b[0;34m.\u001b[0m\u001b[0msolve\u001b[0m\u001b[0;34m(\u001b[0m\u001b[0msp\u001b[0m\u001b[0;34m.\u001b[0m\u001b[0mdiff\u001b[0m\u001b[0;34m(\u001b[0m\u001b[0mL\u001b[0m\u001b[0;34m,\u001b[0m\u001b[0my\u001b[0m\u001b[0;34m)\u001b[0m\u001b[0;34m,\u001b[0m\u001b[0ms\u001b[0m\u001b[0;34m)\u001b[0m\u001b[0;34m[\u001b[0m\u001b[0;36m0\u001b[0m\u001b[0;34m]\u001b[0m\u001b[0;34m/\u001b[0m\u001b[0;34m(\u001b[0m\u001b[0msp\u001b[0m\u001b[0;34m.\u001b[0m\u001b[0msolve\u001b[0m\u001b[0;34m(\u001b[0m\u001b[0msp\u001b[0m\u001b[0;34m.\u001b[0m\u001b[0mdiff\u001b[0m\u001b[0;34m(\u001b[0m\u001b[0mL\u001b[0m\u001b[0;34m,\u001b[0m\u001b[0mx\u001b[0m\u001b[0;34m)\u001b[0m\u001b[0;34m,\u001b[0m\u001b[0mk\u001b[0m\u001b[0;34m)\u001b[0m\u001b[0;34m)\u001b[0m\u001b[0;34m[\u001b[0m\u001b[0;36m0\u001b[0m\u001b[0;34m]\u001b[0m\u001b[0;34m)\u001b[0m \u001b[0;34m,\u001b[0m \u001b[0msp\u001b[0m\u001b[0;34m.\u001b[0m\u001b[0msimplify\u001b[0m\u001b[0;34m(\u001b[0m\u001b[0;34m(\u001b[0m\u001b[0mt\u001b[0m\u001b[0;34m*\u001b[0m\u001b[0msp\u001b[0m\u001b[0;34m.\u001b[0m\u001b[0mlog\u001b[0m\u001b[0;34m(\u001b[0m\u001b[0my\u001b[0m\u001b[0;34m)\u001b[0m \u001b[0;34m-\u001b[0m \u001b[0;36m1\u001b[0m\u001b[0;34m)\u001b[0m \u001b[0;34m/\u001b[0m \u001b[0;34m(\u001b[0m\u001b[0mt\u001b[0m\u001b[0;34m*\u001b[0m\u001b[0msp\u001b[0m\u001b[0;34m.\u001b[0m\u001b[0mlog\u001b[0m\u001b[0;34m(\u001b[0m\u001b[0my\u001b[0m\u001b[0;34m)\u001b[0m\u001b[0;34m)\u001b[0m\u001b[0;34m)\u001b[0m\u001b[0;34m\u001b[0m\u001b[0m\n",
      "\u001b[0;31mNameError\u001b[0m: name 'k' is not defined"
     ]
    }
   ],
   "source": [
    "#t=1\n",
    "L = k*sp.log(x) + s*sp.log(y) - sp.log(t - x*(y**t)/(sp.log(y)))\n",
    "sp.simplify(sp.solve(sp.diff(L,y),s)[0]/(sp.solve(sp.diff(L,x),k))[0]) , sp.simplify((t*sp.log(y) - 1) / (t*sp.log(y)))"
   ]
  },
  {
   "cell_type": "code",
   "execution_count": null,
   "metadata": {},
   "outputs": [],
   "source": [
    "L = k*sp.log(x) + s*sp.log(y) + sp.log((1-y)/(1-y+x*y))\n",
    "L = k*sp.log(x) + s*sp.log(y) + sp.log((1-y)/(1-y+x*y))\n",
    "sp.solve(sp.diff(L,x),k)"
   ]
  },
  {
   "cell_type": "code",
   "execution_count": null,
   "metadata": {},
   "outputs": [],
   "source": [
    "al\n",
    "H = (alpha*sp.Heaviside(w-t) + beta*w*sp.Heaviside(w-t)).rewrite(sp.Piecewise)\n",
    "Z = sp.integrate(sp.exp(-H),(w,0,sp.oo))\n",
    "Z"
   ]
  },
  {
   "cell_type": "code",
   "execution_count": 3,
   "metadata": {},
   "outputs": [
    {
     "data": {
      "image/png": "[encoded data removed]",
      "text/latex": [
       "$$\\frac{- x_{i} x_{j} \\left(y_{i} y_{j}\\right)^{t} + \\log{\\left (\\left(y_{i} y_{j}\\right)^{t} \\right )}}{\\log{\\left (y_{i} y_{j} \\right )}}$$"
      ],
      "text/plain": [
       "                 t      ⎛        t⎞\n",
       "- xᵢ⋅x_j⋅(yᵢ⋅y_j)  + log⎝(yᵢ⋅y_j) ⎠\n",
       "───────────────────────────────────\n",
       "            log(yᵢ⋅y_j)            "
      ]
     },
     "execution_count": 3,
     "metadata": {},
     "output_type": "execute_result"
    }
   ],
   "source": [
    "aij=sp.Symbol('a_{ij}', positive=True,real=True)\n",
    "wij=sp.Symbol('w_{ij}', positive=True,real=True)\n",
    "t = sp.Symbol('t', positive=True,real=True)\n",
    "alphai = sp.Symbol('\\\\alpha_i',positive=True,real=True)\n",
    "alphaj = sp.Symbol('\\\\alpha_j',positive=True,real=True)\n",
    "betai = sp.Symbol('\\\\beta_i',positive=True,real=True)\n",
    "betaj = sp.Symbol('\\\\beta_j',positive=True,real=True)\n",
    "\n",
    "xi = sp.Symbol('x_i',positive=True,real=True)\n",
    "xj = sp.Symbol('x_j',positive=True,real=True)\n",
    "yi = sp.Symbol('y_i',positive=True,real=True)\n",
    "yj = sp.Symbol('y_j',positive=True,real=True)\n",
    "\n",
    "H = ((alphai+alphaj)*sp.Heaviside(wij-t) + (betai+betaj)*wij*sp.Heaviside(wij-t))\n",
    "#H = H.replace(betai,-sp.log(yi)).replace(betaj,-sp.log(yj)).replace(alphai,-sp.log(xi)).replace(alphaj,-sp.log(xj))\n",
    "#Z = sp.summation(sp.exp(-H),(wij,0,sp.oo))\n",
    "Z = sp.simplify(sp.integrate(sp.exp(-H.rewrite(sp.Piecewise)), (wij,0,sp.oo)))\n",
    "Z = sp.simplify(Z.replace(betai,-sp.log(yi)).replace(betaj,-sp.log(yj)).replace(alphai,-sp.log(xi)).replace(alphaj,-sp.log(xj)))\n",
    "Z"
   ]
  },
  {
   "cell_type": "code",
   "execution_count": 4,
   "metadata": {},
   "outputs": [
    {
     "data": {
      "image/png": "[encoded data removed]",
      "text/latex": [
       "$$- \\frac{\\left(x_{i} x_{j} \\left(y_{i} y_{j}\\right)^{w_{ij}}\\right)^{\\theta\\left(- t + w_{ij}\\right)} \\left(\\log{\\left (y_{i} \\right )} + \\log{\\left (y_{j} \\right )}\\right)}{- t \\left(\\log{\\left (y_{i} \\right )} + \\log{\\left (y_{j} \\right )}\\right) + x_{i} x_{j} \\left(y_{i} y_{j}\\right)^{t}}$$"
      ],
      "text/plain": [
       "                        Heaviside(-t + w_{ij})                      \n",
       " ⎛               w_{ij}⎞                                            \n",
       "-⎝xᵢ⋅x_j⋅(yᵢ⋅y_j)      ⎠                      ⋅(log(yᵢ) + log(y_j)) \n",
       "────────────────────────────────────────────────────────────────────\n",
       "                                                      t             \n",
       "             -t⋅(log(yᵢ) + log(y_j)) + xᵢ⋅x_j⋅(yᵢ⋅y_j)              "
      ]
     },
     "execution_count": 4,
     "metadata": {},
     "output_type": "execute_result"
    }
   ],
   "source": [
    "P = sp.simplify(sp.exp(-H.replace(betai,-sp.log(yi)).replace(betaj,-sp.log(yj)).replace(alphai,-sp.log(xi)).replace(alphaj,-sp.log(xj)))/Z)\n",
    "sp.expand_log(P)"
   ]
  },
  {
   "cell_type": "code",
   "execution_count": 5,
   "metadata": {},
   "outputs": [
    {
     "data": {
      "image/png": "[encoded data removed]",
      "text/latex": [
       "$$\\left(w_{ij} \\left(\\log{\\left (y_{i} \\right )} + \\log{\\left (y_{j} \\right )}\\right) + \\log{\\left (x_{i} \\right )} + \\log{\\left (x_{j} \\right )}\\right) \\theta\\left(- t + w_{ij}\\right) + \\log{\\left (- \\frac{\\log{\\left (y_{i} \\right )} + \\log{\\left (y_{j} \\right )}}{- t \\left(\\log{\\left (y_{i} \\right )} + \\log{\\left (y_{j} \\right )}\\right) + x_{i} x_{j} \\left(y_{i} y_{j}\\right)^{t}} \\right )}$$"
      ],
      "text/plain": [
       "                                                                              \n",
       "(w_{ij}⋅(log(yᵢ) + log(y_j)) + log(xᵢ) + log(x_j))⋅Heaviside(-t + w_{ij}) + lo\n",
       "                                                                              \n",
       "                                                                              \n",
       "\n",
       " ⎛          -(log(yᵢ) + log(y_j))           ⎞\n",
       "g⎜──────────────────────────────────────────⎟\n",
       " ⎜                                         t⎟\n",
       " ⎝-t⋅(log(yᵢ) + log(y_j)) + xᵢ⋅x_j⋅(yᵢ⋅y_j) ⎠"
      ]
     },
     "execution_count": 5,
     "metadata": {},
     "output_type": "execute_result"
    }
   ],
   "source": [
    "sp.expand_log(sp.log(P))"
   ]
  },
  {
   "cell_type": "code",
   "execution_count": null,
   "metadata": {},
   "outputs": [],
   "source": [
    "sp.latex(sp.expand_log(sp.log(P)))"
   ]
  },
  {
   "cell_type": "code",
   "execution_count": 7,
   "metadata": {},
   "outputs": [
    {
     "data": {
      "image/png": "[encoded data removed]",
      "text/latex": [
       "$$\\log{\\left (- \\log{\\left (\\left(y_{i} y_{j}\\right)^{\\frac{\\left(x_{i} x_{j} \\left(y_{i} y_{j}\\right)^{w_{ij}}\\right)^{\\theta\\left(- t + w_{ij}\\right)}}{x_{i} x_{j} \\left(y_{i} y_{j}\\right)^{t} - \\log{\\left (\\left(y_{i} y_{j}\\right)^{t} \\right )}}} \\right )} \\right )}$$"
      ],
      "text/plain": [
       "   ⎛    ⎛                               Heaviside(-t + w_{ij})⎞⎞\n",
       "   ⎜    ⎜        ⎛               w_{ij}⎞                      ⎟⎟\n",
       "   ⎜    ⎜        ⎝xᵢ⋅x_j⋅(yᵢ⋅y_j)      ⎠                      ⎟⎟\n",
       "   ⎜    ⎜        ─────────────────────────────────────────────⎟⎟\n",
       "   ⎜    ⎜                             t      ⎛        t⎞      ⎟⎟\n",
       "   ⎜    ⎜              xᵢ⋅x_j⋅(yᵢ⋅y_j)  - log⎝(yᵢ⋅y_j) ⎠      ⎟⎟\n",
       "log⎝-log⎝(yᵢ⋅y_j)                                             ⎠⎠"
      ]
     },
     "execution_count": 7,
     "metadata": {},
     "output_type": "execute_result"
    }
   ],
   "source": [
    "loglike = sp.simplify(sp.log(P))\n",
    "sp.simplify(loglike.replace(betai,-sp.log(yi)).replace(betaj,-sp.log(yj)).replace(alphai,-sp.log(xi)).replace(alphaj,-sp.log(xj)))"
   ]
  },
  {
   "cell_type": "code",
   "execution_count": null,
   "metadata": {},
   "outputs": [],
   "source": [
    "sp.simplify(sp.log(-(sp.log(yi*yj)/(-t*(sp.log(yi*yj))+xi*xj*((yi*yj)**t)))))"
   ]
  },
  {
   "cell_type": "code",
   "execution_count": 8,
   "metadata": {},
   "outputs": [
    {
     "data": {
      "image/png": "[encoded data removed]",
      "text/latex": [
       "$$\\frac{x_{i} x_{j} \\left(y_{i} y_{j}\\right)^{t}}{x_{i} x_{j} \\left(y_{i} y_{j}\\right)^{t} - \\log{\\left (\\left(y_{i} y_{j}\\right)^{t} \\right )}}$$"
      ],
      "text/plain": [
       "                        t        \n",
       "         xᵢ⋅x_j⋅(yᵢ⋅y_j)         \n",
       "─────────────────────────────────\n",
       "               t      ⎛        t⎞\n",
       "xᵢ⋅x_j⋅(yᵢ⋅y_j)  - log⎝(yᵢ⋅y_j) ⎠"
      ]
     },
     "execution_count": 8,
     "metadata": {},
     "output_type": "execute_result"
    }
   ],
   "source": [
    "F = -sp.log(sp.expand_log(Z))\n",
    "dalphai=-sp.log(xi)\n",
    "dbetai=-sp.log(yi)\n",
    "sp.simplify(sp.diff(F,xi)*sp.diff(sp.exp(-alphai),alphai)).replace(sp.exp(-alphai),xi)"
   ]
  },
  {
   "cell_type": "code",
   "execution_count": null,
   "metadata": {},
   "outputs": [],
   "source": [
    "sp.simplify((sp.simplify(sp.diff(F,yi)*sp.diff(sp.exp(-betai),betai)).replace(sp.exp(-betai),yi)) / (sp.simplify(sp.diff(F,xi)*sp.diff(sp.exp(-alphai),alphai)).replace(sp.exp(-alphai),xi)))"
   ]
  }
 ],
 "metadata": {
  "kernelspec": {
   "display_name": "Python 3",
   "language": "python",
   "name": "python3"
  },
  "language_info": {
   "codemirror_mode": {
    "name": "ipython",
    "version": 3
   },
   "file_extension": ".py",
   "mimetype": "text/x-python",
   "name": "python",
   "nbconvert_exporter": "python",
   "pygments_lexer": "ipython3",
   "version": "3.5.2"
  }
 },
 "nbformat": 4,
 "nbformat_minor": 2
}
