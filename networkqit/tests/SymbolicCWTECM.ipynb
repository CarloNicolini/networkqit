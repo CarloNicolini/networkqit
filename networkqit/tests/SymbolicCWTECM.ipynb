{
 "cells": [
  {
   "cell_type": "code",
   "execution_count": 1,
   "metadata": {},
   "outputs": [],
   "source": [
    "import sympy as sp\n",
    "#from sympy.abc import k,s,t,x,y,alpha,beta,w\n",
    "sp.init_printing()"
   ]
  },
  {
   "cell_type": "markdown",
   "metadata": {},
   "source": [
    "# Define the symbols of the problem\n",
    "\n",
    "- $w_{ij}$ is the weighted adjacency matrix\n",
    "- $a_{ij}$ is the binary adjacency matrix\n",
    "- $t$ is the threshold, such that $\\Theta(w_{ij}-t)=0$\n",
    "- $\\alpha_i$ and $\\beta_i$ are the Lagrange multipliers of the problem\n",
    "- $x_i,y_i$ are defined as $x_i=e^{-\\alpha_i}$ and $y_i=e^{-\\beta_i}$"
   ]
  },
  {
   "cell_type": "code",
   "execution_count": 2,
   "metadata": {},
   "outputs": [],
   "source": [
    "aij=sp.Symbol('a_{ij}', positive=True,real=True)\n",
    "wij=sp.Symbol('w_{ij}', positive=True,real=True)\n",
    "t = sp.Symbol('t', positive=True,real=True)\n",
    "alphai = sp.Symbol('\\\\alpha_i',positive=True,real=True)\n",
    "alphaj = sp.Symbol('\\\\alpha_j',positive=True,real=True)\n",
    "betai = sp.Symbol('\\\\beta_i',positive=True,real=True)\n",
    "betaj = sp.Symbol('\\\\beta_j',positive=True,real=True)\n",
    "alphaij = sp.Symbol('\\\\alpha_{ij}',positive=True,real=True)\n",
    "betaij = sp.Symbol('\\\\beta_{ij}',positive=True,real=True)\n",
    "xi = sp.Symbol('x_i',positive=True,real=True)\n",
    "xj = sp.Symbol('x_j',positive=True,real=True)\n",
    "yi = sp.Symbol('y_i',positive=True,real=True)\n",
    "yj = sp.Symbol('y_j',positive=True,real=True)"
   ]
  },
  {
   "cell_type": "markdown",
   "metadata": {},
   "source": [
    "We then define the graph Hamiltonian as $H=\\sum_{i<j} \\alpha_{ij} t \\Theta(w_{ij}-t) + \\beta_{ij} w_{ij} \\Theta(w_{ij}-t)$.\n",
    "Finally we get the partition function $Z = \\sum_{G} e^{-H(G)}$"
   ]
  },
  {
   "cell_type": "code",
   "execution_count": 3,
   "metadata": {},
   "outputs": [
    {
     "data": {
      "image/png": "[encoded data removed]",
      "text/latex": [
       "$$\\frac{e^{- \\alpha_i - \\alpha_j - t \\left(\\beta_i + \\beta_j\\right)}}{\\beta_i + \\beta_j}$$"
      ],
      "text/plain": [
       " -\\alphaᵢ - \\alpha_j - t⋅(\\betaᵢ + \\beta_j)\n",
       "ℯ                                          \n",
       "───────────────────────────────────────────\n",
       "              \\betaᵢ + \\beta_j             "
      ]
     },
     "execution_count": 3,
     "metadata": {},
     "output_type": "execute_result"
    }
   ],
   "source": [
    "H = (alphai+alphaj)*sp.Heaviside(wij-t) + (betai+betaj)*wij*sp.Heaviside(wij-t)\n",
    "#H = (betai+betaj)*wij*sp.Heaviside(wij-t)\n",
    "Z = sp.simplify(sp.integrate(sp.exp(-H.rewrite(sp.Piecewise)), (wij,t,sp.oo)))\n",
    "Z"
   ]
  },
  {
   "cell_type": "markdown",
   "metadata": {},
   "source": [
    "The graph probability is obtained as $P(G) = e^{-H(G)}/Z$"
   ]
  },
  {
   "cell_type": "code",
   "execution_count": 12,
   "metadata": {},
   "outputs": [
    {
     "data": {
      "image/png": "[encoded data removed]",
      "text/latex": [
       "$$\\frac{\\left(\\beta_i + \\beta_j\\right) e^{\\alpha_i + \\alpha_j + t \\left(\\beta_i + \\beta_j\\right) - w_{ij} \\left(\\beta_i + \\beta_j\\right) \\theta\\left(- t + w_{ij}\\right) - \\left(\\alpha_i + \\alpha_j\\right) \\theta\\left(- t + w_{ij}\\right)}}{t \\left(\\beta_i + \\beta_j\\right) e^{\\alpha_i + \\alpha_j + t \\left(\\beta_i + \\beta_j\\right)} + 1}$$"
      ],
      "text/plain": [
       "                    \\alphaᵢ + \\alpha_j + t⋅(\\betaᵢ + \\beta_j) - w_{ij}⋅(\\betaᵢ\n",
       "(\\betaᵢ + \\beta_j)⋅ℯ                                                          \n",
       "──────────────────────────────────────────────────────────────────────────────\n",
       "                                                                   \\alphaᵢ + \\\n",
       "                                             t⋅(\\betaᵢ + \\beta_j)⋅ℯ           \n",
       "\n",
       " + \\beta_j)⋅Heaviside(-t + w_{ij}) - (\\alphaᵢ + \\alpha_j)⋅Heaviside(-t + w_{ij\n",
       "                                                                              \n",
       "──────────────────────────────────────────────────────────────────────────────\n",
       "alpha_j + t⋅(\\betaᵢ + \\beta_j)                                                \n",
       "                               + 1                                            \n",
       "\n",
       "})\n",
       "  \n",
       "──\n",
       "  \n",
       "  "
      ]
     },
     "execution_count": 12,
     "metadata": {},
     "output_type": "execute_result"
    }
   ],
   "source": [
    "P=sp.simplify(sp.exp(-H)/Z)\n",
    "sp.simplify(sp.expand_log(P))"
   ]
  },
  {
   "cell_type": "markdown",
   "metadata": {},
   "source": [
    "Now we try to redo the same with the replacement of variables $x_i=e^{-\\alpha_i}$, $y_i=e^{-\\beta_i}$."
   ]
  },
  {
   "cell_type": "code",
   "execution_count": 13,
   "metadata": {},
   "outputs": [
    {
     "data": {
      "image/png": "[encoded data removed]",
      "text/latex": [
       "$$\\frac{\\left(x_{i} x_{j} \\left(y_{i} y_{j}\\right)^{w_{ij}}\\right)^{\\theta\\left(- t + w_{ij}\\right)} \\left(\\log{\\left (y_{i} \\right )} + \\log{\\left (y_{j} \\right )}\\right)}{t \\left(\\log{\\left (y_{i} \\right )} + \\log{\\left (y_{j} \\right )}\\right) - x_{i} x_{j} \\left(y_{i} y_{j}\\right)^{t}}$$"
      ],
      "text/plain": [
       "                       Heaviside(-t + w_{ij})                     \n",
       "⎛               w_{ij}⎞                                           \n",
       "⎝xᵢ⋅x_j⋅(yᵢ⋅y_j)      ⎠                      ⋅(log(yᵢ) + log(y_j))\n",
       "──────────────────────────────────────────────────────────────────\n",
       "                                                    t             \n",
       "            t⋅(log(yᵢ) + log(y_j)) - xᵢ⋅x_j⋅(yᵢ⋅y_j)              "
      ]
     },
     "execution_count": 13,
     "metadata": {},
     "output_type": "execute_result"
    }
   ],
   "source": [
    "H = H.replace(betai,-sp.log(yi)).replace(betaj,-sp.log(yj)).replace(alphai,-sp.log(xi)).replace(alphaj,-sp.log(xj))\n",
    "Z = Z.replace(betai,-sp.log(yi)).replace(betaj,-sp.log(yj)).replace(alphai,-sp.log(xi)).replace(alphaj,-sp.log(xj))\n",
    "P = sp.simplify(sp.exp(-H)/Z)\n",
    "sp.expand_log(P) # graph probability"
   ]
  },
  {
   "cell_type": "markdown",
   "metadata": {},
   "source": [
    "This tells us that the weights are sampled from a left truncated exponential distribution"
   ]
  },
  {
   "cell_type": "markdown",
   "metadata": {},
   "source": [
    "Taking the log we have an expression for the loglikelihood $\\mathcal{L}(G)$"
   ]
  },
  {
   "cell_type": "code",
   "execution_count": 22,
   "metadata": {},
   "outputs": [
    {
     "data": {
      "image/png": "[encoded data removed]",
      "text/latex": [
       "$$\\left(w_{ij} \\left(\\log{\\left (y_{i} \\right )} + \\log{\\left (y_{j} \\right )}\\right) + \\log{\\left (x_{i} \\right )} + \\log{\\left (x_{j} \\right )}\\right) \\theta\\left(- t + w_{ij}\\right) + \\log{\\left (\\frac{\\log{\\left (y_{i} \\right )} + \\log{\\left (y_{j} \\right )}}{t \\left(\\log{\\left (y_{i} \\right )} + \\log{\\left (y_{j} \\right )}\\right) - x_{i} x_{j} \\left(y_{i} y_{j}\\right)^{t}} \\right )}$$"
      ],
      "text/plain": [
       "                                                                              \n",
       "(w_{ij}⋅(log(yᵢ) + log(y_j)) + log(xᵢ) + log(x_j))⋅Heaviside(-t + w_{ij}) + lo\n",
       "                                                                              \n",
       "                                                                              \n",
       "\n",
       " ⎛            log(yᵢ) + log(y_j)           ⎞\n",
       "g⎜─────────────────────────────────────────⎟\n",
       " ⎜                                        t⎟\n",
       " ⎝t⋅(log(yᵢ) + log(y_j)) - xᵢ⋅x_j⋅(yᵢ⋅y_j) ⎠"
      ]
     },
     "execution_count": 22,
     "metadata": {},
     "output_type": "execute_result"
    }
   ],
   "source": [
    "sp.expand_log(sp.log(P)) # loglikelihood"
   ]
  },
  {
   "cell_type": "code",
   "execution_count": 23,
   "metadata": {},
   "outputs": [
    {
     "data": {
      "text/plain": [
       "'\\\\left(w_{ij} \\\\left(\\\\log{\\\\left (y_{i} \\\\right )} + \\\\log{\\\\left (y_{j} \\\\right )}\\\\right) + \\\\log{\\\\left (x_{i} \\\\right )} + \\\\log{\\\\left (x_{j} \\\\right )}\\\\right) \\\\theta\\\\left(- t + w_{ij}\\\\right) + \\\\log{\\\\left (\\\\frac{\\\\log{\\\\left (y_{i} \\\\right )} + \\\\log{\\\\left (y_{j} \\\\right )}}{t \\\\left(\\\\log{\\\\left (y_{i} \\\\right )} + \\\\log{\\\\left (y_{j} \\\\right )}\\\\right) - x_{i} x_{j} \\\\left(y_{i} y_{j}\\\\right)^{t}} \\\\right )}'"
      ]
     },
     "execution_count": 23,
     "metadata": {},
     "output_type": "execute_result"
    }
   ],
   "source": [
    "sp.latex(sp.expand_log(sp.log(P)))"
   ]
  },
  {
   "cell_type": "markdown",
   "metadata": {},
   "source": [
    "Now we get an expression for the expected link probability, by taking the derivative of the free energy $F=-\\log(Z)$ with respect to the original Lagrange multipliers $\\alpha_i$ and $\\beta_i$"
   ]
  },
  {
   "cell_type": "code",
   "execution_count": 15,
   "metadata": {},
   "outputs": [],
   "source": [
    "F = -sp.log(sp.expand_log(Z))\n",
    "dalphai = -sp.log(xi)\n",
    "dbetai = -sp.log(yi)"
   ]
  },
  {
   "cell_type": "markdown",
   "metadata": {},
   "source": [
    "This is the expected link probability $\\langle a_{ij} \\rangle = \\frac{\\partial F}{\\partial \\alpha_i}$"
   ]
  },
  {
   "cell_type": "code",
   "execution_count": 17,
   "metadata": {},
   "outputs": [
    {
     "data": {
      "text/plain": [
       "'\\\\frac{x_{i} x_{j} \\\\left(y_{i} y_{j}\\\\right)^{t}}{x_{i} x_{j} \\\\left(y_{i} y_{j}\\\\right)^{t} - \\\\log{\\\\left (\\\\left(y_{i} y_{j}\\\\right)^{t} \\\\right )}}'"
      ]
     },
     "execution_count": 17,
     "metadata": {},
     "output_type": "execute_result"
    }
   ],
   "source": [
    "expected_adjacency = sp.simplify(sp.diff(F,xi)*sp.diff(sp.exp(-alphai),alphai)).replace(sp.exp(-alphai),xi)\n",
    "sp.latex(expected_adjacency)"
   ]
  },
  {
   "cell_type": "markdown",
   "metadata": {},
   "source": [
    "While the following is the expected weight $\\langle w_{ij} \\rangle = \\frac{\\partial F}{\\partial \\beta_i}$"
   ]
  },
  {
   "cell_type": "code",
   "execution_count": 19,
   "metadata": {},
   "outputs": [
    {
     "data": {
      "text/plain": [
       "'\\\\frac{x_{i} x_{j} \\\\left(y_{i} y_{j}\\\\right)^{t} \\\\left(\\\\log{\\\\left (\\\\left(y_{i} y_{j}\\\\right)^{t} \\\\right )} - 1\\\\right)}{\\\\left(x_{i} x_{j} \\\\left(y_{i} y_{j}\\\\right)^{t} - \\\\log{\\\\left (\\\\left(y_{i} y_{j}\\\\right)^{t} \\\\right )}\\\\right) \\\\log{\\\\left (y_{i} y_{j} \\\\right )}}'"
      ]
     },
     "execution_count": 19,
     "metadata": {},
     "output_type": "execute_result"
    }
   ],
   "source": [
    "expected_weight = sp.simplify((sp.simplify(sp.diff(F,yi)*sp.diff(sp.exp(-betai),betai)).replace(sp.exp(-betai),yi)))\n",
    "sp.latex(expected_weight)"
   ]
  },
  {
   "cell_type": "markdown",
   "metadata": {},
   "source": [
    "pretty complicated expression, however if we divide it by the link probability we see it is directly proportional to it:\n"
   ]
  },
  {
   "cell_type": "code",
   "execution_count": 20,
   "metadata": {},
   "outputs": [
    {
     "data": {
      "image/png": "[encoded data removed]",
      "text/latex": [
       "$$\\frac{1}{t}$$"
      ],
      "text/plain": [
       "1\n",
       "─\n",
       "t"
      ]
     },
     "execution_count": 20,
     "metadata": {},
     "output_type": "execute_result"
    }
   ],
   "source": [
    "sp.simplify((expected_adjacency * ((t*sp.log(yi*yj)-1)/(t*sp.log(yi*yj))))/expected_weight)\n"
   ]
  },
  {
   "cell_type": "code",
   "execution_count": 21,
   "metadata": {},
   "outputs": [
    {
     "data": {
      "image/png": "[encoded data removed]",
      "text/latex": [
       "$$\\frac{\\log{\\left (\\left(y_{i} y_{j}\\right)^{t} \\right )} - 1}{\\log{\\left (y_{i} y_{j} \\right )}}$$"
      ],
      "text/plain": [
       "   ⎛        t⎞    \n",
       "log⎝(yᵢ⋅y_j) ⎠ - 1\n",
       "──────────────────\n",
       "   log(yᵢ⋅y_j)    "
      ]
     },
     "execution_count": 21,
     "metadata": {},
     "output_type": "execute_result"
    }
   ],
   "source": [
    "sp.simplify(expected_weight/expected_adjacency)"
   ]
  },
  {
   "cell_type": "code",
   "execution_count": null,
   "metadata": {},
   "outputs": [],
   "source": []
  }
 ],
 "metadata": {
  "kernelspec": {
   "display_name": "Python 3",
   "language": "python",
   "name": "python3"
  },
  "language_info": {
   "codemirror_mode": {
    "name": "ipython",
    "version": 3
   },
   "file_extension": ".py",
   "mimetype": "text/x-python",
   "name": "python",
   "nbconvert_exporter": "python",
   "pygments_lexer": "ipython3",
   "version": "3.5.2"
  }
 },
 "nbformat": 4,
 "nbformat_minor": 2
}
