{
 "cells": [
  {
   "cell_type": "code",
   "execution_count": null,
   "metadata": {},
   "outputs": [],
   "source": [
    "%reload_ext autoreload\n",
    "%autoreload 2"
   ]
  },
  {
   "cell_type": "code",
   "execution_count": null,
   "metadata": {},
   "outputs": [],
   "source": [
    "import sys\n",
    "sys.path.append('..')\n",
    "import os\n",
    "import numpy as np\n",
    "from numpy.random import random as rand\n",
    "from scipy.io import loadmat\n",
    "import networkqit as nq\n",
    "import networkx as nx\n",
    "\n",
    "from networkqit import graph_laplacian as GL\n",
    "\n",
    "import scipy.optimize\n",
    "import scipy.linalg\n",
    "\n",
    "import matplotlib.pyplot as plt\n",
    "import seaborn as sns\n",
    "plt.style.use('ggplot')\n",
    "\n",
    "import networkx as nx"
   ]
  },
  {
   "cell_type": "code",
   "execution_count": null,
   "metadata": {},
   "outputs": [],
   "source": [
    "directory = '../data/kellerdrosophila/'\n",
    "matrices = {}\n",
    "def read_file(filename):\n",
    "    return np.squeeze(np.asarray(scipy.sparse.csr_matrix.todense(loadmat(filename)['G']).astype(float)))\n",
    "\n",
    "for filename in os.listdir(directory):\n",
    "    if filename.endswith(\".mat\"): \n",
    "        index = int(re.search('([0-9]{1,2})',filename).group()) # to match the index of the file\n",
    "        matrices[index] = {}\n",
    "        matrices[index]['A'] = read_file(os.path.join(directory, filename))\n",
    "        # Now populate other fields, once\n",
    "        matrices[index]['L'] = nq.graph_laplacian(matrices[index]['A'])\n",
    "        continue\n",
    "print('There are %d matrices' % len(matrices))"
   ]
  },
  {
   "cell_type": "code",
   "execution_count": null,
   "metadata": {},
   "outputs": [],
   "source": [
    "# Compute the spectral entropies\n",
    "beta_range = np.logspace(-2,3,200)\n",
    "\n",
    "for i, A in matrices.items():\n",
    "    L = matrices[i]['L']\n",
    "    matrices[i]['beta_range'] = beta_range\n",
    "    matrices[i]['S'] = [nq.compute_vonneumann_entropy(L=L,beta=b) for b in beta_range]"
   ]
  },
  {
   "cell_type": "code",
   "execution_count": null,
   "metadata": {},
   "outputs": [],
   "source": [
    "plt.figure(figsize=(32,12))\n",
    "colors = sns.color_palette('viridis',len(matrices))\n",
    "for i,(index,data) in enumerate(matrices.items()):\n",
    "    plt.semilogx(data['beta_range'],data['S'],color=colors[i])"
   ]
  },
  {
   "cell_type": "code",
   "execution_count": null,
   "metadata": {},
   "outputs": [],
   "source": [
    "np.log(6)"
   ]
  },
  {
   "cell_type": "code",
   "execution_count": null,
   "metadata": {},
   "outputs": [],
   "source": []
  }
 ],
 "metadata": {
  "kernelspec": {
   "display_name": "Python 3",
   "language": "python",
   "name": "python3"
  },
  "language_info": {
   "codemirror_mode": {
    "name": "ipython",
    "version": 3
   },
   "file_extension": ".py",
   "mimetype": "text/x-python",
   "name": "python",
   "nbconvert_exporter": "python",
   "pygments_lexer": "ipython3",
   "version": "3.5.2"
  }
 },
 "nbformat": 4,
 "nbformat_minor": 2
}
