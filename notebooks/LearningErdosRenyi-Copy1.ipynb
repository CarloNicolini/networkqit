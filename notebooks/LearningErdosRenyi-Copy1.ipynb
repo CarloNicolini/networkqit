{
 "cells": [
  {
   "cell_type": "code",
   "execution_count": null,
   "metadata": {},
   "outputs": [],
   "source": [
    "%reload_ext autoreload\n",
    "%autoreload 2"
   ]
  },
  {
   "cell_type": "code",
   "execution_count": null,
   "metadata": {},
   "outputs": [],
   "source": [
    "import sys\n",
    "sys.path.append('..')\n",
    "import numpy as np\n",
    "import networkqit as nq\n",
    "import networkx as nx\n",
    "import seaborn as sns\n",
    "import numdifftools as nd\n",
    "from numpy.random import random as rand\n",
    "from networkqit import graph_laplacian as GL\n",
    "from scipy.linalg import eigvalsh\n",
    "from scipy.special import logsumexp\n",
    "import matplotlib.pyplot as plt\n",
    "import pandas as pd\n",
    "sns.set(font_scale=2)"
   ]
  },
  {
   "cell_type": "code",
   "execution_count": null,
   "metadata": {},
   "outputs": [],
   "source": [
    "def ER(n,p):\n",
    "    T=np.triu(rand([n,n]),1)\n",
    "    T=T+T.T\n",
    "    A=(T<p).astype(float)\n",
    "    np.fill_diagonal(A,0)\n",
    "    return A\n",
    "\n",
    "def LER(n,p):\n",
    "    return GL(ER(n,p))"
   ]
  },
  {
   "cell_type": "code",
   "execution_count": null,
   "metadata": {},
   "outputs": [],
   "source": [
    "def graph_laplacian(A):\n",
    "    return np.diag(A.sum(axis=0))-A"
   ]
  },
  {
   "cell_type": "code",
   "execution_count": null,
   "metadata": {},
   "outputs": [],
   "source": [
    "N=100\n",
    "pstar=0.2\n",
    "A=ER(N,pstar)\n",
    "L=graph_laplacian(A)\n",
    "beta_range=np.logspace(0,-1,10)\n",
    "M=nq.ErdosRenyi(N=len(A))\n",
    "nx.density(nx.from_numpy_array(A))"
   ]
  },
  {
   "cell_type": "code",
   "execution_count": null,
   "metadata": {},
   "outputs": [],
   "source": [
    "num_samples = 5\n",
    "clip_gradients = None\n",
    "max_iters = 1E3\n",
    "eta = 1E-2\n",
    "alpha = 1E-1\n",
    "gtol = 1E-3\n",
    "xtol = 1E-4"
   ]
  },
  {
   "cell_type": "code",
   "execution_count": null,
   "metadata": {},
   "outputs": [],
   "source": [
    "solver = nq.Adam(A=A, x0=np.array([0.5,]),beta_range=beta_range)\n",
    "solver.setup(expected_adj_fun=M, adj_sampling_fun=lambda x: ER(N,x), expected_laplacian_grad=M.expected_laplacian_grad)\n",
    "sol = solver.run(num_samples=num_samples,clip_gradients=None,max_iters=max_iters, eta=eta, gtol=gtol)"
   ]
  },
  {
   "cell_type": "code",
   "execution_count": null,
   "metadata": {},
   "outputs": [],
   "source": [
    "sns.set(font_scale=2)\n",
    "df = pd.DataFrame(sol)\n",
    "df['x'],df['beta']\n",
    "fig, ax = plt.subplots(ncols=2,nrows=1,figsize=(32,8))\n",
    "ax[0].semilogx(df['T'],[x[0] for x in df['x'].values])\n",
    "ax[0].set_xlabel('$1/\\\\beta$')\n",
    "ax[0].set_ylabel('$p$')\n",
    "ax[0].set_title('$p$')\n",
    "\n",
    "ax[1].semilogx(df['T'],df.DeltaL.values)\n",
    "ax[1].set_xlabel('$1/\\\\beta$')\n",
    "ax[1].set_ylabel('$\\Delta L$')\n",
    "ax[1].set_title('$\\Delta L$')"
   ]
  }
 ],
 "metadata": {
  "kernelspec": {
   "display_name": "Python 3",
   "language": "python",
   "name": "python3"
  },
  "language_info": {
   "codemirror_mode": {
    "name": "ipython",
    "version": 3
   },
   "file_extension": ".py",
   "mimetype": "text/x-python",
   "name": "python",
   "nbconvert_exporter": "python",
   "pygments_lexer": "ipython3",
   "version": "3.5.2"
  }
 },
 "nbformat": 4,
 "nbformat_minor": 2
}
