{
 "cells": [
  {
   "cell_type": "code",
   "execution_count": null,
   "metadata": {},
   "outputs": [],
   "source": [
    "%reload_ext autoreload\n",
    "%autoreload 2"
   ]
  },
  {
   "cell_type": "code",
   "execution_count": null,
   "metadata": {},
   "outputs": [],
   "source": [
    "import sys\n",
    "sys.path.append('..')\n",
    "import numpy as np\n",
    "import networkqit as nq\n",
    "import networkx as nx\n",
    "import seaborn as sns\n",
    "import numdifftools as nd\n",
    "from numpy.random import random as rand\n",
    "from networkqit import graph_laplacian as GL\n",
    "from scipy.linalg import eigvalsh\n",
    "from scipy.special import logsumexp\n",
    "import matplotlib.pyplot as plt\n",
    "#sns.set(font_scale=1.75)\n",
    "plt.style.use('default')\n",
    "# Set the Helvetica font as the default!\n",
    "import matplotlib as mpl\n",
    "mpl.rcParams.update({\n",
    "    'font.family':'sans-serif',\n",
    "    'font.sans-serif':['Helvetica'],\n",
    "    'svg.fonttype':'none'\n",
    "    })\n",
    "mpl.rc('text', usetex=False)"
   ]
  },
  {
   "cell_type": "code",
   "execution_count": null,
   "metadata": {},
   "outputs": [],
   "source": [
    "def ER(n,p):\n",
    "    T=np.triu(rand([n,n]),1)\n",
    "    T=T+T.T\n",
    "    A=(T<p).astype(float)\n",
    "    np.fill_diagonal(A,0)\n",
    "    return A\n",
    "\n",
    "def LER(n,p):\n",
    "    return GL(ER(n,p))"
   ]
  },
  {
   "cell_type": "code",
   "execution_count": null,
   "metadata": {},
   "outputs": [],
   "source": [
    "def quenched_average(n,p,beta,reps):\n",
    "    \n",
    "    elogz=0\n",
    "    for i in range(0,reps):\n",
    "        elogz += logsumexp(-beta*eigvalsh(LER(n,p)))\n",
    "    return elogz/reps\n",
    "\n",
    "def annealed_average(n,p,beta,reps):\n",
    "    ez=0\n",
    "    for i in range(0,reps):\n",
    "        ez += np.exp(-beta*eigvalsh(LER(n,p))).sum()\n",
    "    return np.log(ez / reps)\n",
    "\n",
    "def annealed_average_laplacian(n,p,beta):\n",
    "    return np.log(np.exp(-beta*eigvalsh(GL((1-np.eye(n))*p))).sum())\n",
    "\n",
    "\n",
    "beta=2\n",
    "N=64\n",
    "reps=128\n",
    "allp = np.linspace(0,1,200)\n",
    "np.random.seed(0)\n",
    "elogz = np.array([quenched_average(N,p,beta,reps) for p in allp])\n",
    "np.random.seed(0)\n",
    "logez = np.array([annealed_average(N,p,beta,reps) for p in allp])\n",
    "np.random.seed(0)\n",
    "logzl = np.array([annealed_average_laplacian(N,p,beta) for p in allp])"
   ]
  },
  {
   "cell_type": "code",
   "execution_count": null,
   "metadata": {},
   "outputs": [],
   "source": [
    "fig,ax = plt.subplots(ncols=3,nrows=1,figsize=(16,5))\n",
    "ax[0].plot(allp,elogz,'o-')\n",
    "ax[0].plot(allp,logez,'.-')\n",
    "ax[0].plot(allp,logzl,'*-')\n",
    "ax[0].set_xlabel('p')\n",
    "ax[0].set_ylabel('Free energy')\n",
    "ax[0].grid()\n",
    "ax[0].legend(['$\\\\mathbb{E}[\\\\log(Z)]$','$\\\\log (\\mathbb{E}[Z])$','$\\log Z(\\\\mathbb{E}[L])$'])\n",
    "ax[0].set_title('N='+str(N)+'  #samples='+str(reps)+' $\\\\beta=$'+str(beta))\n",
    "\n",
    "\n",
    "ax[1].plot(allp,logez-elogz,'o-')\n",
    "ax[1].set_xlabel('p')\n",
    "ax[1].set_ylabel('Free energy')\n",
    "ax[1].grid()\n",
    "ax[1].plot(allp[np.argmax(logez-elogz)],np.max(logez-elogz),'or')\n",
    "ax[1].plot( nq.ErdosRenyi(N=N).sample_adjacency(theta=[allp[np.argmax(logez-elogz)]],batch_size=32).mean(0).sum(0).mean()/(N-1),np.max(logez-elogz),'.g')\n",
    "\n",
    "L=LER(N,0.2)\n",
    "c = 0.5\n",
    "\n",
    "S = nq.entropy(L=L,beta_range=np.logspace(-3,3,100))\n",
    "ax[2].semilogx(np.logspace(-3,3,100),S)\n",
    "ax[2].semilogx(nq.find_beta_logc(L,np.exp(c)),nq.entropy(L=L,beta_range=[nq.find_beta_logc(L,np.exp(c))]),'ro')\n",
    "\n",
    "ax[2].set_xlabel('$\\\\beta$',fontsize=20)\n",
    "ax[2].grid()\n",
    "ax[2].set_ylabel('$S$')\n",
    "plt.savefig('quenched_vs_annealed_er.png',bbox_inches='tight',dpi=300)"
   ]
  },
  {
   "cell_type": "code",
   "execution_count": null,
   "metadata": {},
   "outputs": [],
   "source": [
    "nq.graph_laplacian(nq.ErdosRenyi(N=N).sample_adjacency(theta=[allp[np.argmax(logez-elogz)]],batch_size=32).mean(0))"
   ]
  },
  {
   "cell_type": "code",
   "execution_count": null,
   "metadata": {},
   "outputs": [],
   "source": [
    "allp[np.argmax(logez-elogz)]*N"
   ]
  },
  {
   "cell_type": "code",
   "execution_count": null,
   "metadata": {},
   "outputs": [],
   "source": [
    "np.diagonal(LER(N,allp[np.argmax(logez-elogz)])).mean()"
   ]
  },
  {
   "cell_type": "code",
   "execution_count": null,
   "metadata": {},
   "outputs": [],
   "source": [
    "L=LER(N,0.2)\n",
    "S=nq.entropy(L=L,beta_range=np.logspace(-3,3,100))\n",
    "plt.semilogx(np.logspace(-3,3,100),S)\n",
    "c=0.2\n",
    "plt.semilogx(nq.find_beta_logc(L,np.exp(c)),nq.entropy(L=L,beta_range=[nq.find_beta_logc(L,np.exp(c))]),'ro')\n",
    "nq.find_beta_logc(L,np.exp(c))"
   ]
  },
  {
   "cell_type": "code",
   "execution_count": null,
   "metadata": {},
   "outputs": [],
   "source": [
    "plt.figure(figsize=(18,8))\n",
    "\n",
    "beta=0.01\n",
    "N=200\n",
    "reps=1\n",
    "\n",
    "elogz = [quenched_average(N,p,beta,reps) for p in np.linspace(0,1,100)]\n",
    "logez = [annealed_average(N,p,beta,reps) for p in np.linspace(0,1,100)]\n",
    "logzl = [annealed_average_laplacian(N,p,beta) for p in np.linspace(0,1,100)]\n",
    "plt.plot(np.linspace(0,1,100),elogz)\n",
    "plt.plot(np.linspace(0,1,100),logez)\n",
    "plt.plot(np.linspace(0,1,100),logzl)\n",
    "plt.xlabel('p')\n",
    "plt.legend(['$\\\\mathbb{E}[\\\\log(Z)]$','$\\\\log (\\mathbb{E}[Z])$','$\\log Z(\\\\mathbb{E}[L])$'])\n",
    "plt.title('N='+str(N)+'  #samples='+str(reps)+' $\\\\beta=$'+str(beta))"
   ]
  },
  {
   "cell_type": "code",
   "execution_count": null,
   "metadata": {},
   "outputs": [],
   "source": [
    "np.max(elogz),np.max(logez),np.max(logzl)"
   ]
  },
  {
   "cell_type": "code",
   "execution_count": null,
   "metadata": {},
   "outputs": [],
   "source": [
    "beta=0.1\n",
    "N=4\n",
    "reps=100\n",
    "\n",
    "dquenched = nd.Derivative(lambda x : quenched_average(N,x,beta,reps))\n",
    "dannealed = nd.Derivative(lambda x : annealed_average(N,x,beta,reps))\n",
    "daveragelapl = nd.Derivative(lambda x : annealed_average_laplacian(N,x,beta))\n",
    "\n",
    "dp_quenched = [dquenched(p) for p in np.linspace(0,1,100)]\n",
    "dp_annealed = [dannealed(p) for p in np.linspace(0,1,100)]\n",
    "dp_averaged = [daveragelapl(p) for p in np.linspace(0,1,100)]\n",
    "plt.plot(np.linspace(0,1,100),dp_quenched)\n",
    "plt.plot(np.linspace(0,1,100),dp_annealed)\n",
    "plt.plot(np.linspace(0,1,100),dp_averaged)"
   ]
  },
  {
   "cell_type": "code",
   "execution_count": null,
   "metadata": {},
   "outputs": [],
   "source": []
  },
  {
   "cell_type": "code",
   "execution_count": null,
   "metadata": {},
   "outputs": [],
   "source": [
    "N=100\n",
    "A=ER(N,0.5)\n",
    "print(nx.density(nx.from_numpy_array(A)))\n",
    "solver = nq.StochasticGradientDescent(A=A,x0=np.array([0.7,]),beta_range=np.logspace(2,-3,50))\n",
    "model = nq.ErdosRenyi(N=N)\n",
    "solver.setup(expected_adj_fun=model, adj_sampling_fun=lambda x: ER(N,x), expected_laplacian_grad=model.expected_laplacian_grad,step_callback=lambda beta,p : print('\\r',beta,p,end=''))\n",
    "sol = solver.run(clip_gradients=None, eta=0.01, num_samples=1,tol=0.5*1E-5)"
   ]
  },
  {
   "cell_type": "code",
   "execution_count": null,
   "metadata": {},
   "outputs": [],
   "source": [
    "N=100\n",
    "A=ER(N,0.3)\n",
    "print(nx.density(nx.from_numpy_array(A)))\n",
    "solver = nq.Adam(A=A,x0=np.array([0.8,]),beta_range=np.logspace(1,-2,20))\n",
    "model = nq.ErdosRenyi(N=N)\n",
    "solver.setup(expected_adj_fun=model, adj_sampling_fun=lambda x: ER(N,x), expected_laplacian_grad=model.expected_laplacian_grad,step_callback=lambda beta,p : print('\\r',beta,p,end=''))\n",
    "sol = solver.run(clip_gradients=None,alpha=0.001,num_samples=15,tol=1E-4)"
   ]
  },
  {
   "cell_type": "code",
   "execution_count": null,
   "metadata": {},
   "outputs": [],
   "source": [
    "import pandas as pd\n",
    "pd.DataFrame(sol).plot(y=['c_er'],x='T',logx=True)\n",
    "plt.semilogx(1/np.logspace(-2,-3,20),[nx.density(nx.from_numpy_array(A))]*20)"
   ]
  },
  {
   "cell_type": "code",
   "execution_count": null,
   "metadata": {},
   "outputs": [],
   "source": []
  }
 ],
 "metadata": {
  "kernelspec": {
   "display_name": "Python 3",
   "language": "python",
   "name": "python3"
  },
  "language_info": {
   "codemirror_mode": {
    "name": "ipython",
    "version": 3
   },
   "file_extension": ".py",
   "mimetype": "text/x-python",
   "name": "python",
   "nbconvert_exporter": "python",
   "pygments_lexer": "ipython3",
   "version": "3.5.2"
  }
 },
 "nbformat": 4,
 "nbformat_minor": 2
}
