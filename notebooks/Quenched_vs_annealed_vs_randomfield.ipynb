{
 "cells": [
  {
   "cell_type": "code",
   "execution_count": null,
   "metadata": {},
   "outputs": [],
   "source": [
    "%reload_ext autoreload\n",
    "%autoreload 2"
   ]
  },
  {
   "cell_type": "code",
   "execution_count": null,
   "metadata": {},
   "outputs": [],
   "source": [
    "import sys\n",
    "sys.path.append('..')\n",
    "import numpy as np\n",
    "import networkqit as nq\n",
    "import networkx as nx\n",
    "import seaborn as sns\n",
    "import numdifftools as nd\n",
    "from numpy.random import random as rand\n",
    "from networkqit import graph_laplacian as GL\n",
    "from scipy.linalg import eigvalsh\n",
    "from scipy.special import logsumexp\n",
    "import matplotlib.pyplot as plt\n",
    "sns.set(font_scale=1.75)"
   ]
  },
  {
   "cell_type": "code",
   "execution_count": null,
   "metadata": {},
   "outputs": [],
   "source": [
    "def ER(n,p):\n",
    "    T=np.triu(rand([n,n]),1)\n",
    "    T=T+T.T\n",
    "    A=(T<p).astype(float)\n",
    "    np.fill_diagonal(A,0)\n",
    "    return A\n",
    "\n",
    "def LER(n,p):\n",
    "    return GL(ER(n,p))\n"
   ]
  },
  {
   "cell_type": "code",
   "execution_count": null,
   "metadata": {},
   "outputs": [],
   "source": [
    "def quenched_average(n,p,beta,reps):\n",
    "    elogz=0\n",
    "    for i in range(0,reps):\n",
    "        elogz += logsumexp(-beta*eigvalsh(LER(n,p)))\n",
    "    return elogz/reps\n",
    "\n",
    "def annealed_average(n,p,beta,reps):\n",
    "    ez=0\n",
    "    for i in range(0,reps):\n",
    "        ez += np.exp(-beta*eigvalsh(LER(n,p))).sum()\n",
    "    return np.log(ez / reps)\n",
    "\n",
    "def annealed_average_laplacian(n,p,beta):\n",
    "    return np.log(np.exp(-beta*eigvalsh(GL((1-np.eye(n))*p))).sum())\n",
    "\n",
    "\n",
    "plt.figure(figsize=(18,8))\n",
    "\n",
    "beta=10\n",
    "N=100\n",
    "reps=1\n",
    "\n",
    "elogz = [quenched_average(N,p,beta,reps) for p in np.linspace(0,1,100)]\n",
    "logez = [annealed_average(N,p,beta,reps) for p in np.linspace(0,1,100)]\n",
    "logzl = [annealed_average_laplacian(N,p,beta) for p in np.linspace(0,1,100)]\n",
    "plt.plot(np.linspace(0,1,100),elogz)\n",
    "plt.plot(np.linspace(0,1,100),logez)\n",
    "plt.plot(np.linspace(0,1,100),logzl)\n",
    "plt.xlabel('p')\n",
    "plt.legend(['$\\\\mathbb{E}[\\\\log(Z)]$','$\\\\log (\\mathbb{E}[Z])$','$\\log Z(\\\\mathbb{E}[L])$'])\n",
    "plt.title('N='+str(N)+'  #samples='+str(reps)+' $\\\\beta=$'+str(beta))"
   ]
  },
  {
   "cell_type": "code",
   "execution_count": null,
   "metadata": {},
   "outputs": [],
   "source": [
    "plt.figure(figsize=(18,8))\n",
    "\n",
    "beta=0.01\n",
    "N=200\n",
    "reps=1\n",
    "\n",
    "elogz = [quenched_average(N,p,beta,reps) for p in np.linspace(0,1,100)]\n",
    "logez = [annealed_average(N,p,beta,reps) for p in np.linspace(0,1,100)]\n",
    "logzl = [annealed_average_laplacian(N,p,beta) for p in np.linspace(0,1,100)]\n",
    "plt.plot(np.linspace(0,1,100),elogz)\n",
    "plt.plot(np.linspace(0,1,100),logez)\n",
    "plt.plot(np.linspace(0,1,100),logzl)\n",
    "plt.xlabel('p')\n",
    "plt.legend(['$\\\\mathbb{E}[\\\\log(Z)]$','$\\\\log (\\mathbb{E}[Z])$','$\\log Z(\\\\mathbb{E}[L])$'])\n",
    "plt.title('N='+str(N)+'  #samples='+str(reps)+' $\\\\beta=$'+str(beta))"
   ]
  },
  {
   "cell_type": "code",
   "execution_count": null,
   "metadata": {},
   "outputs": [],
   "source": [
    "np.max(elogz),np.max(logez),np.max(logzl)"
   ]
  },
  {
   "cell_type": "code",
   "execution_count": null,
   "metadata": {},
   "outputs": [],
   "source": [
    "beta=0.1\n",
    "N=4\n",
    "reps=100\n",
    "\n",
    "dquenched = nd.Derivative(lambda x : quenched_average(N,x,beta,reps))\n",
    "dannealed = nd.Derivative(lambda x : annealed_average(N,x,beta,reps))\n",
    "daveragelapl = nd.Derivative(lambda x : annealed_average_laplacian(N,x,beta))\n",
    "\n",
    "dp_quenched = [dquenched(p) for p in np.linspace(0,1,100)]\n",
    "dp_annealed = [dannealed(p) for p in np.linspace(0,1,100)]\n",
    "dp_averaged = [daveragelapl(p) for p in np.linspace(0,1,100)]\n",
    "plt.plot(np.linspace(0,1,100),dp_quenched)\n",
    "plt.plot(np.linspace(0,1,100),dp_annealed)\n",
    "plt.plot(np.linspace(0,1,100),dp_averaged)"
   ]
  },
  {
   "cell_type": "code",
   "execution_count": null,
   "metadata": {},
   "outputs": [],
   "source": []
  },
  {
   "cell_type": "code",
   "execution_count": null,
   "metadata": {},
   "outputs": [],
   "source": [
    "N=100\n",
    "A=ER(N,0.5)\n",
    "print(nx.density(nx.from_numpy_array(A)))\n",
    "solver = nq.StochasticGradientDescent(A=A,x0=np.array([0.7,]),beta_range=np.logspace(2,-3,50))\n",
    "model = nq.ErdosRenyi(N=N)\n",
    "solver.setup(expected_adj_fun=model, adj_sampling_fun=lambda x: ER(N,x), expected_laplacian_grad=model.expected_laplacian_grad,step_callback=lambda beta,p : print('\\r',beta,p,end=''))\n",
    "sol = solver.run(clip_gradients=None, eta=0.01, num_samples=1,tol=0.5*1E-5)"
   ]
  },
  {
   "cell_type": "code",
   "execution_count": null,
   "metadata": {},
   "outputs": [],
   "source": [
    "N=100\n",
    "A=ER(N,0.3)\n",
    "print(nx.density(nx.from_numpy_array(A)))\n",
    "solver = nq.Adam(A=A,x0=np.array([0.8,]),beta_range=np.logspace(1,-2,20))\n",
    "model = nq.ErdosRenyi(N=N)\n",
    "solver.setup(expected_adj_fun=model, adj_sampling_fun=lambda x: ER(N,x), expected_laplacian_grad=model.expected_laplacian_grad,step_callback=lambda beta,p : print('\\r',beta,p,end=''))\n",
    "sol = solver.run(clip_gradients=None,alpha=0.001,num_samples=15,tol=1E-4)"
   ]
  },
  {
   "cell_type": "code",
   "execution_count": null,
   "metadata": {},
   "outputs": [],
   "source": [
    "import pandas as pd\n",
    "pd.DataFrame(sol).plot(y=['c_er'],x='T',logx=True)\n",
    "plt.semilogx(1/np.logspace(-2,-3,20),[nx.density(nx.from_numpy_array(A))]*20)"
   ]
  },
  {
   "cell_type": "code",
   "execution_count": null,
   "metadata": {},
   "outputs": [],
   "source": []
  }
 ],
 "metadata": {
  "kernelspec": {
   "display_name": "Python 3",
   "language": "python",
   "name": "python3"
  },
  "language_info": {
   "codemirror_mode": {
    "name": "ipython",
    "version": 3
   },
   "file_extension": ".py",
   "mimetype": "text/x-python",
   "name": "python",
   "nbconvert_exporter": "python",
   "pygments_lexer": "ipython3",
   "version": "3.5.2"
  }
 },
 "nbformat": 4,
 "nbformat_minor": 2
}
