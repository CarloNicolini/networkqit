{
 "cells": [
  {
   "cell_type": "code",
   "execution_count": null,
   "metadata": {},
   "outputs": [],
   "source": [
    "%reload_ext autoreload\n",
    "%autoreload 2"
   ]
  },
  {
   "cell_type": "code",
   "execution_count": null,
   "metadata": {},
   "outputs": [],
   "source": [
    "import sys\n",
    "sys.path.append('..')\n",
    "import numpy as np\n",
    "import networkqit as nq\n",
    "import networkx as nx\n",
    "import seaborn as sns\n",
    "import numdifftools as nd\n",
    "from numpy.random import random as rand\n",
    "from networkqit import graph_laplacian as GL\n",
    "from scipy.linalg import eigvalsh\n",
    "from scipy.special import logsumexp\n",
    "import matplotlib.pyplot as plt\n",
    "sns.set(font_scale=1.75)"
   ]
  },
  {
   "cell_type": "code",
   "execution_count": null,
   "metadata": {},
   "outputs": [],
   "source": [
    "def ER(n,p):\n",
    "    T=np.triu(rand([n,n]),1)\n",
    "    T=T+T.T\n",
    "    A=(T<p).astype(float)\n",
    "    np.fill_diagonal(A,0)\n",
    "    return A\n",
    "\n",
    "def LER(n,p):\n",
    "    return GL(ER(n,p))"
   ]
  },
  {
   "cell_type": "code",
   "execution_count": null,
   "metadata": {},
   "outputs": [],
   "source": [
    "def quenched_average(n,p,beta,reps):\n",
    "    elogz=0\n",
    "    for i in range(0,reps):\n",
    "        elogz += logsumexp(-beta*eigvalsh(LER(n,p)))\n",
    "    return elogz/reps\n",
    "\n",
    "def annealed_average(n,p,beta,reps):\n",
    "    ez=0\n",
    "    for i in range(0,reps):\n",
    "        ez += np.exp(-beta*eigvalsh(LER(n,p))).sum()\n",
    "    return np.log(ez / reps)\n",
    "\n",
    "def annealed_average_laplacian(n,p,beta):\n",
    "    return np.log(np.exp(-beta*eigvalsh(GL((1-np.eye(n))*p))).sum())\n",
    "\n",
    "\n",
    "plt.figure(figsize=(18,8))\n",
    "\n",
    "beta=0.1\n",
    "N=500\n",
    "reps=1\n",
    "\n",
    "elogz = [quenched_average(N,p,beta,reps) for p in np.linspace(0,1,100)]\n",
    "logez = [annealed_average(N,p,beta,reps) for p in np.linspace(0,1,100)]\n",
    "logzl = [annealed_average_laplacian(N,p,beta) for p in np.linspace(0,1,100)]\n",
    "plt.plot(np.linspace(0,1,100),elogz)\n",
    "plt.plot(np.linspace(0,1,100),logez)\n",
    "plt.plot(np.linspace(0,1,100),logzl)\n",
    "plt.xlabel('p')\n",
    "plt.legend(['$\\\\mathbb{E}[\\\\log(Z)]$','$\\\\log (\\mathbb{E}[Z])$','$\\log Z(\\\\mathbb{E}[L])$'])\n",
    "plt.title('N='+str(N)+'  #samples='+str(reps)+' $\\\\beta=$'+str(beta))"
   ]
  },
  {
   "cell_type": "code",
   "execution_count": null,
   "metadata": {},
   "outputs": [],
   "source": [
    "plt.figure(figsize=(18,8))\n",
    "\n",
    "beta=0.01\n",
    "N=200\n",
    "reps=1\n",
    "\n",
    "elogz = [quenched_average(N,p,beta,reps) for p in np.linspace(0,1,100)]\n",
    "logez = [annealed_average(N,p,beta,reps) for p in np.linspace(0,1,100)]\n",
    "logzl = [annealed_average_laplacian(N,p,beta) for p in np.linspace(0,1,100)]\n",
    "plt.plot(np.linspace(0,1,100),elogz)\n",
    "plt.plot(np.linspace(0,1,100),logez)\n",
    "plt.plot(np.linspace(0,1,100),logzl)\n",
    "plt.xlabel('p')\n",
    "plt.legend(['$\\\\mathbb{E}[\\\\log(Z)]$','$\\\\log (\\mathbb{E}[Z])$','$\\log Z(\\\\mathbb{E}[L])$'])\n",
    "plt.title('N='+str(N)+'  #samples='+str(reps)+' $\\\\beta=$'+str(beta))"
   ]
  },
  {
   "cell_type": "code",
   "execution_count": null,
   "metadata": {},
   "outputs": [],
   "source": [
    "beta=0.1\n",
    "N=50\n",
    "reps=100\n",
    "\n",
    "dquenched = nd.Derivative(lambda x : quenched_average(N,x,beta,reps))\n",
    "dannealed = nd.Derivative(lambda x : annealed_average(N,x,beta,reps))\n",
    "daveragelapl = nd.Derivative(lambda x : annealed_average_laplacian(N,x,beta))\n",
    "\n",
    "dp_quenched = [dquenched(p) for p in np.linspace(0,1,100)]\n",
    "dp_annealed = [dannealed(p) for p in np.linspace(0,1,100)]\n",
    "dp_averaged = [daveragelapl(p) for p in np.linspace(0,1,100)]\n",
    "plt.plot(np.linspace(0,1,100),dp_quenched)\n",
    "plt.plot(np.linspace(0,1,100),dp_annealed)\n",
    "plt.plot(np.linspace(0,1,100),dp_averaged)"
   ]
  },
  {
   "cell_type": "code",
   "execution_count": null,
   "metadata": {},
   "outputs": [],
   "source": [
    "N=100\n",
    "A=ER(N,0.5)\n",
    "print(nx.density(nx.from_numpy_array(A)))\n",
    "solver = nq.StochasticGradientDescent(A=A,x0=np.array([0.7,]),beta_range=np.logspace(2,-3,50))\n",
    "model = nq.ErdosRenyi(N=N)\n",
    "solver.setup(expected_adj_fun=model, adj_sampling_fun=lambda x: ER(N,x), expected_laplacian_grad=model.expected_laplacian_grad,step_callback=lambda beta,p : print('\\r',beta,p,end=''))\n",
    "sol = solver.run(clip_gradients=None, eta=0.01, num_samples=1,tol=0.5*1E-5)"
   ]
  },
  {
   "cell_type": "code",
   "execution_count": null,
   "metadata": {},
   "outputs": [],
   "source": [
    "N=100\n",
    "A=ER(N,0.3)\n",
    "print(nx.density(nx.from_numpy_array(A)))\n",
    "solver = nq.Adam(A=A,x0=np.array([0.8,]),beta_range=np.logspace(1,-2,20))\n",
    "model = nq.ErdosRenyi(N=N)\n",
    "solver.setup(expected_adj_fun=model, adj_sampling_fun=lambda x: ER(N,x), expected_laplacian_grad=model.expected_laplacian_grad,step_callback=lambda beta,p : print('\\r',beta,p,end=''))\n",
    "sol = solver.run(clip_gradients=None,alpha=0.001,num_samples=15,tol=1E-4)"
   ]
  },
  {
   "cell_type": "code",
   "execution_count": null,
   "metadata": {},
   "outputs": [],
   "source": [
    "import pandas as pd\n",
    "pd.DataFrame(sol).plot(y=['c_er'],x='T',logx=True)\n",
    "plt.semilogx(1/np.logspace(-2,-3,20),[nx.density(nx.from_numpy_array(A))]*20)"
   ]
  },
  {
   "cell_type": "code",
   "execution_count": null,
   "metadata": {},
   "outputs": [],
   "source": [
    "def normalized(x):\n",
    "    return x/x.sum()"
   ]
  },
  {
   "cell_type": "markdown",
   "metadata": {},
   "source": [
    "# Get the spectral density $\\varrho(\\lambda)$ for the Laplacian of the Erdos-Renyi graph"
   ]
  },
  {
   "cell_type": "code",
   "execution_count": null,
   "metadata": {},
   "outputs": [],
   "source": [
    "def spectral_density_laplacian_er(n,p,x,reps,eps=1E-1):\n",
    "    def resolvent_trace(x,lambdai):\n",
    "        return np.sum([1.0/(xi+1j*eps-x) for xi in lambdai])\n",
    "    def average_resolvent_trace(x):\n",
    "        return np.mean([resolvent_trace(x, eigvalsh(LER(n,p)) ) for r in range(0,reps)])\n",
    "    return [-1/(np.pi*n)*np.imag(average_resolvent_trace(z)) for z in x]\n",
    "\n",
    "def spectral_density_quantum_vonneumann_er(n,p,x,reps,eps,beta):\n",
    "    def resolvent_trace(x,lambdai):\n",
    "        return np.sum([1.0/(xi+1j*eps-x) for xi in lambdai])\n",
    "    \n",
    "    def normalized(x):\n",
    "        return x/x.sum()\n",
    "    \n",
    "    def average_resolvent_trace(x):\n",
    "        return np.mean([resolvent_trace(x, eigvalsh(nq.compute_vonneuman_density(L=LER(n,p),beta=beta)) ) for r in range(0,reps)])\n",
    "    return [-1/(np.pi*n)*np.imag(average_resolvent_trace(z)) for z in x]\n",
    "\n",
    "def spectral_density_quantum_vonneumann_er2(n,p,x,reps,eps,beta): # unnormalized version\n",
    "    def resolvent_trace(x,lambdai):\n",
    "        return np.sum([1.0/(xi+1j*eps-x) for xi in lambdai])\n",
    "    \n",
    "    def normalized(x):\n",
    "        return x/x.sum()\n",
    "    \n",
    "    def average_resolvent_trace(x):\n",
    "        return np.mean([resolvent_trace(x, np.exp(-beta*eigvalsh(LER(n,p))) ) for r in range(0,reps)])\n",
    "    return [-1/(np.pi*n)*np.imag(average_resolvent_trace(z)) for z in x]"
   ]
  },
  {
   "cell_type": "markdown",
   "metadata": {},
   "source": [
    "## Compare the estimate spectra density $\\varrho(\\lambda)$ with the numerical estimate from the histogram of laplacian eigenvalues"
   ]
  },
  {
   "cell_type": "code",
   "execution_count": null,
   "metadata": {},
   "outputs": [],
   "source": [
    "n=50\n",
    "p=0.8"
   ]
  },
  {
   "cell_type": "code",
   "execution_count": null,
   "metadata": {},
   "outputs": [],
   "source": [
    "x=np.linspace(0,60,500)\n",
    "#rho = spectral_density_laplacian_er(n,p,x,100,0.2)\n",
    "def Lpp(b,l,pin,pout):\n",
    "    N=b*l\n",
    "    A = np.random.random([N,N]) <= pout\n",
    "    for b in range(0,b):\n",
    "        A[b*l:(b+1)*l,b*l:(b+1)*l] = (np.random.random([l,l]) <= pin).astype(float)\n",
    "    return np.diag(A.sum(axis=0))-A\n",
    "\n",
    "Lpp(2,5,0,1)"
   ]
  },
  {
   "cell_type": "code",
   "execution_count": null,
   "metadata": {},
   "outputs": [],
   "source": [
    "plt.figure(figsize=(18,6))\n",
    "#l=np.array([eigvalsh(LER(n,p)) for r in range(0,5000)]).flatten()\n",
    "l=np.array([eigvalsh(Lpp(4,100,1,0.2)) for r in range(0,200)]).flatten()\n",
    "r = np.exp(-0.001*l)\n",
    "plt.hist(r,200,density='freq')\n",
    "\n",
    "#l = np.array([np.exp(-0.01*eigvalsh(LER(n,p))) for r in range(0,5000)]).flatten()\n",
    "#l = l[l<0.8]\n",
    "#plt.hist(l,500,density='freq')\n",
    "plt.savefig('rho_eigvalsh_pp_B_4_l_100_pin_1_pout_02.svg')\n",
    "plt.show()"
   ]
  },
  {
   "cell_type": "markdown",
   "metadata": {},
   "source": [
    "## Compare the spectra of $e^{-\\beta L}$ "
   ]
  },
  {
   "cell_type": "code",
   "execution_count": null,
   "metadata": {},
   "outputs": [],
   "source": [
    "plt.figure(figsize=(32,8))\n",
    "x = np.linspace(0,0.6,200)\n",
    "beta = 0.05/2\n",
    "eps = 1E-5\n",
    "reps = 5\n",
    "rho = spectral_density_quantum_vonneumann_er(n,p,x,reps,eps,beta)\n",
    "plt.plot(x,rho)\n",
    "plt.hist(np.array([eigvalsh(nq.compute_vonneuman_density(L=LER(n,p),beta=beta)) for r in range(0,1000)]).flatten(),250, density='freq')\n",
    "#plt.yscale('log')\n",
    "plt.show()"
   ]
  },
  {
   "cell_type": "code",
   "execution_count": null,
   "metadata": {},
   "outputs": [],
   "source": [
    "plt.figure(figsize=(32,8))\n",
    "x = np.linspace(0,1,200)\n",
    "n=20\n",
    "p=0.8\n",
    "beta = 0.1\n",
    "eps = 1E-3\n",
    "reps = 100\n",
    "rho = spectral_density_quantum_vonneumann_er2(n,p,x,reps,eps,beta)\n",
    "plt.plot(x,rho)\n",
    "plt.hist(np.array([ np.exp(-beta*eigvalsh(LER(n,p))) for r in range(0,5000)]).flatten(),200, density='freq')\n",
    "#plt.yscale('log')\n",
    "plt.show()"
   ]
  },
  {
   "cell_type": "markdown",
   "metadata": {},
   "source": [
    "## The Laplacian trace $\\textrm{Tr}[L]$ can be computed with the integral $n \\int \\limits_{-\\infty}^{+\\infty} \\lambda \\varrho(\\lambda) d\\lambda$"
   ]
  },
  {
   "cell_type": "code",
   "execution_count": null,
   "metadata": {},
   "outputs": [],
   "source": [
    "from scipy.integrate import quad"
   ]
  },
  {
   "cell_type": "code",
   "execution_count": null,
   "metadata": {},
   "outputs": [],
   "source": [
    "f = lambda x : x*spectral_density_laplacian_er(n,p,np.array([x]),1,0.1)[0]\n",
    "trace_laplacian_integral, trace_laplacian_integral_error = quad(f,0,60) # because 60 is the maximum eigenvalue"
   ]
  },
  {
   "cell_type": "code",
   "execution_count": null,
   "metadata": {},
   "outputs": [],
   "source": [
    "trace_laplacian_integral,trace_laplacian_integral_error,np.mean([np.trace(LER(n,p)) for k in range(0,10000)])/n"
   ]
  },
  {
   "cell_type": "markdown",
   "metadata": {},
   "source": [
    "## Compute the derivative of $\\varrho$ with respect to the parameters $\\theta$"
   ]
  },
  {
   "cell_type": "code",
   "execution_count": null,
   "metadata": {},
   "outputs": [],
   "source": [
    "plt.figure(figsize=(32,8))\n",
    "n=100\n",
    "reps=10\n",
    "eps=0.2\n",
    "z=np.linspace(0,n,100)\n",
    "\n",
    "f = lambda theta : spectral_density_laplacian_er(n,theta,z,reps,eps)\n",
    "allp = np.linspace(0.1,0.9,9)\n",
    "cmap=sns.color_palette('viridis',len(allp))\n",
    "for i,p in enumerate(allp):\n",
    "    plt.plot(z,f(p),color=cmap[i])\n",
    "plt.legend(allp)\n",
    "plt.show()"
   ]
  },
  {
   "cell_type": "code",
   "execution_count": null,
   "metadata": {},
   "outputs": [],
   "source": [
    "plt.figure(figsize=(32,8))\n",
    "n=100\n",
    "reps=20\n",
    "eps=0.5\n",
    "z=np.linspace(0,n,200)\n",
    "\n",
    "f = lambda theta,z : spectral_density_laplacian_er(n,theta,np.array([z]),reps,eps)[0]\n",
    "\n",
    "\n",
    "allp = np.linspace(0.1,0.9,9)\n",
    "cmap = sns.color_palette('viridis',len(allp))\n",
    "\n",
    "nd.Gradient(f)(0.5,0.1)\n",
    "#nd.Gradient(f)(0.5,[0.1])\n",
    "#for i,p in enumerate(allp):\n",
    "#    drhodtheta = nd.Derivative(lambda theta : f(theta,z))\n",
    "#    plt.plot(z,f(p),color=cmap[i])\n",
    "#plt.legend(allp)\n",
    "#plt.show()"
   ]
  }
 ],
 "metadata": {
  "kernelspec": {
   "display_name": "Python 3",
   "language": "python",
   "name": "python3"
  },
  "language_info": {
   "codemirror_mode": {
    "name": "ipython",
    "version": 3
   },
   "file_extension": ".py",
   "mimetype": "text/x-python",
   "name": "python",
   "nbconvert_exporter": "python",
   "pygments_lexer": "ipython3",
   "version": "3.5.2"
  }
 },
 "nbformat": 4,
 "nbformat_minor": 2
}
