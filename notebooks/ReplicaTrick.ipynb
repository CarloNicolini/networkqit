{
 "cells": [
  {
   "cell_type": "code",
   "execution_count": null,
   "metadata": {},
   "outputs": [],
   "source": [
    "%reload_ext autoreload\n",
    "%autoreload 2\n",
    "import networkqit as nq\n",
    "import numpy as np\n",
    "import scipy as sp\n",
    "from numpy.random import random as rand\n",
    "from networkqit import graph_laplacian as GL\n",
    "from scipy.linalg import eigvalsh\n",
    "from scipy.special import logsumexp\n",
    "import numdifftools as nd\n",
    "import matplotlib.pyplot as plt\n",
    "import seaborn as sns\n",
    "import networkx as nx\n",
    "sns.set()\n",
    "sns.set_palette('Blues')"
   ]
  },
  {
   "cell_type": "code",
   "execution_count": null,
   "metadata": {},
   "outputs": [],
   "source": [
    "def ER(n,p):\n",
    "    T = np.triu(rand([n,n]),1)\n",
    "    T = (T + T.T)\n",
    "    A = (T <= p).astype(float)\n",
    "    np.fill_diagonal(A,0)\n",
    "    return A\n",
    "\n",
    "def LER(n,p):\n",
    "    return GL(ER(n,p))"
   ]
  },
  {
   "cell_type": "code",
   "execution_count": null,
   "metadata": {},
   "outputs": [],
   "source": [
    "f = lambda n,beta,p : logsumexp(-beta*eigvalsh(LER(n,p)))"
   ]
  },
  {
   "cell_type": "code",
   "execution_count": null,
   "metadata": {},
   "outputs": [],
   "source": [
    "plt.figure(figsize = (12,8))\n",
    "p = np.linspace(0,1,100)\n",
    "n = 100\n",
    "for beta in np.logspace(-2,2,10):\n",
    "    plt.plot([nd.Derivative(lambda x : f(n,beta,x))(pi) for pi in p])\n",
    "plt.show()"
   ]
  },
  {
   "cell_type": "code",
   "execution_count": null,
   "metadata": {},
   "outputs": [],
   "source": [
    "N=10\n",
    "A=ER(N,0.8)\n",
    "L=GL(A)\n",
    "\n",
    "M=nq.ErdosRenyi(N=N)\n",
    "x0=np.random.random(1,)\n",
    "print('Density=',A.sum()/(N*(N-1)))\n",
    "\n",
    "solver = nq.Adam(A=A,x0=x0,beta_range=np.logspace(0,-3,5))\n",
    "print('Starting from',solver.x0)\n",
    "solver.setup(expected_adj_fun = M, adj_sampling_fun = lambda x : ER(N,x), expected_laplacian_grad=M.expected_laplacian_grad, step_callback = lambda beta,p : print('\\rbeta=',beta,'p=',p[0],end=''))\n",
    "sol,all_x = solver.run(max_iters=2000,alpha=1E-1,num_samples=1000)"
   ]
  },
  {
   "cell_type": "code",
   "execution_count": null,
   "metadata": {},
   "outputs": [],
   "source": [
    "beta=1\n",
    "def replicatrick(n,p):\n",
    "    eps = 1E-9\n",
    "    l = eigvalsh(LER(n,p))\n",
    "    x = logsumexp(-beta*l)\n",
    "    y = (np.sum(np.exp(-beta*l))**eps-1)/eps\n",
    "    print(x-y)\n",
    "\n",
    "def quenched_free_energy(n,p,beta,reps): # the correct calculation\n",
    "    fannealed = 0\n",
    "    for r in range(0,reps):\n",
    "        l = eigvalsh(LER(n,p))\n",
    "        fannealed += logsumexp(-beta*l)/reps\n",
    "    return fannealed\n",
    "\n",
    "def annealed_free_energy(n,p,beta,reps):\n",
    "    fannealed = 0\n",
    "    for r in range(0,reps):\n",
    "        l = eigvalsh(LER(n,p))\n",
    "        fannealed += (np.exp(-beta*l)).sum()\n",
    "    return np.log(fannealed/reps)\n",
    "\n",
    "beta_range = np.logspace(-5,5,100)\n",
    "p=0.1\n",
    "n=50\n",
    "plt.figure(figsize=(16,8))\n",
    "plt.semilogx(1/beta_range,[quenched_free_energy(n,p,beta,200) for beta in beta_range],'b')\n",
    "plt.semilogx(1/beta_range,[annealed_free_energy(n,p,beta,200) for beta in beta_range],'r')\n",
    "plt.legend(['Quenched','Annealed'])\n",
    "plt.xlabel('$1/\\\\beta$')\n",
    "plt.show()"
   ]
  },
  {
   "cell_type": "code",
   "execution_count": null,
   "metadata": {},
   "outputs": [],
   "source": [
    "beta_range = np.logspace(-5,5,100)\n",
    "n=10\n",
    "reps=10000\n",
    "beta=0.01\n",
    "dquenched_free_energy = nd.Derivative(lambda p: quenched_free_energy(n,p,beta,reps))\n",
    "allp=np.linspace(0,1,20)\n",
    "plt.figure(figsize=(16,8))\n",
    "plt.semilogx(allp,[(quenched_free_energy(n,p+1E-4,beta,reps)-quenched_free_energy(n,p,beta,reps))/1E-4 for p in allp],'bo')\n",
    "plt.semilogx(allp,[dquenched_free_energy(p) for p in allp ],'b-')\n",
    "#plt.semilogx(1/beta_range,[quenched_free_energy(n,p+1E-1,beta,20) for beta in beta_range],'r.-')\n",
    "plt.legend(['limit','precise'])\n",
    "plt.xlabel('$p$')\n",
    "plt.show()"
   ]
  },
  {
   "cell_type": "code",
   "execution_count": null,
   "metadata": {},
   "outputs": [],
   "source": []
  }
 ],
 "metadata": {
  "kernelspec": {
   "display_name": "Python 3",
   "language": "python",
   "name": "python3"
  },
  "language_info": {
   "codemirror_mode": {
    "name": "ipython",
    "version": 3
   },
   "file_extension": ".py",
   "mimetype": "text/x-python",
   "name": "python",
   "nbconvert_exporter": "python",
   "pygments_lexer": "ipython3",
   "version": "3.5.2"
  }
 },
 "nbformat": 4,
 "nbformat_minor": 2
}
