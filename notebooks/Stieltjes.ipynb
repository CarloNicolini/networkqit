{
 "cells": [
  {
   "cell_type": "code",
   "execution_count": 1,
   "metadata": {},
   "outputs": [],
   "source": [
    "%reload_ext autoreload\n",
    "%autoreload 2"
   ]
  },
  {
   "cell_type": "code",
   "execution_count": 2,
   "metadata": {},
   "outputs": [],
   "source": [
    "import sys\n",
    "sys.path.append('..')\n",
    "import numpy as np\n",
    "from numpy.random import random as rand\n",
    "\n",
    "import networkqit as nq\n",
    "import networkx as nx\n",
    "\n",
    "from networkqit import graph_laplacian as GL\n",
    "\n",
    "import scipy.optimize\n",
    "import scipy.linalg\n",
    "\n",
    "import matplotlib.pyplot as plt\n",
    "import seaborn as sns\n",
    "plt.style.use('ggplot')\n",
    "\n",
    "#import sympy as sp\n",
    "#import sympyprinting as spp\n",
    "#from sympy import init_printing"
   ]
  },
  {
   "cell_type": "code",
   "execution_count": 4,
   "metadata": {},
   "outputs": [
    {
     "data": {
      "text/plain": [
       "mpc(real='0.0054741038497352953', imag='0.00040984640431357779')"
      ]
     },
     "execution_count": 4,
     "metadata": {},
     "output_type": "execute_result"
    }
   ],
   "source": [
    "# THIS IS THE MATHEMATICA VERSION USING MPMATH FOR HIGHER ACCURACY\n",
    "import mpmath as mp\n",
    "def Gamma(a,z0,z1): # This defined function has the same behaviour as Mathematica Gamma[a,z0,z1]\n",
    "    from mpmath import gammainc\n",
    "    return gammainc(a,a=z0,b=z1,regularized=False)\n",
    "\n",
    "def scipyGamma(a,z0,z1):\n",
    "    return (scipy.special.gammainc(a,z1)-scipy.special.gammainc(a,z0))*scipy.special.gamma(a)\n",
    "\n",
    "Gamma(3.5j,0,10)"
   ]
  },
  {
   "cell_type": "code",
   "execution_count": 5,
   "metadata": {},
   "outputs": [],
   "source": [
    "def mpmathfeq(n,pin,pout,t,z):\n",
    "    #print(n*(pin + pout)*t - z,0.0,-(n*pin)*0.5)\n",
    "    Eq = t + (2.0**(n*(pin + pout)*t - z)*(-(n*pin))**(-(n*(pin + pout)*t) + z)*Gamma(n*(pin + pout)*t - z,0,-(n*pin)/2.))/mp.exp((n*pin)/2.)\n",
    "    print('t=',t,'Eq=',(float(Eq.real),float(Eq.imag)))\n",
    "    return (float(Eq.real),float(Eq.imag))\n",
    "\n",
    "def scipyfeq(n,pin,pout,t,z):\n",
    "    print(n*(pin + pout)*t - z,0.0,-(n*pin)*0.5)\n",
    "    Eq = t + (2.0**(n*(pin + pout)*t - z)*(-(n*pin))**(-(n*(pin + pout)*t) + z)*scipyGamma(n*(pin + pout)*t - z,0.0,-(n*pin)*0.5))/np.exp((n*pin)/2.)\n",
    "    return (float(Eq.real),float(Eq.imag))"
   ]
  },
  {
   "cell_type": "code",
   "execution_count": null,
   "metadata": {},
   "outputs": [],
   "source": [
    "scipy.optimize.fsolve(lambda t : mpmathfeq(50,0.5,0.2,t[0]+1j*t[1],1),(0.05,0.05))"
   ]
  },
  {
   "cell_type": "code",
   "execution_count": null,
   "metadata": {},
   "outputs": [],
   "source": [
    "for z in np.linspace(0,20,100):\n",
    "    print(z,scipy.optimize.fsolve(lambda x : mpmathfeq(50,0.5,0.2,x[0]+1j*x[1],z),np.random.random([2,1])*0.01)[1])"
   ]
  },
  {
   "cell_type": "code",
   "execution_count": null,
   "metadata": {},
   "outputs": [],
   "source": []
  }
 ],
 "metadata": {
  "kernelspec": {
   "display_name": "Python 3",
   "language": "python",
   "name": "python3"
  },
  "language_info": {
   "codemirror_mode": {
    "name": "ipython",
    "version": 3
   },
   "file_extension": ".py",
   "mimetype": "text/x-python",
   "name": "python",
   "nbconvert_exporter": "python",
   "pygments_lexer": "ipython3",
   "version": "3.5.2"
  }
 },
 "nbformat": 4,
 "nbformat_minor": 2
}
