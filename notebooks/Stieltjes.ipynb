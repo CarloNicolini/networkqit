{
 "cells": [
  {
   "cell_type": "code",
   "execution_count": null,
   "metadata": {},
   "outputs": [],
   "source": [
    "%reload_ext autoreload\n",
    "%autoreload 2"
   ]
  },
  {
   "cell_type": "code",
   "execution_count": null,
   "metadata": {},
   "outputs": [],
   "source": [
    "import sys\n",
    "sys.path.append('..')\n",
    "import numpy as np\n",
    "from numpy.random import random as rand\n",
    "\n",
    "import networkqit as nq\n",
    "import networkx as nx\n",
    "\n",
    "from networkqit import graph_laplacian as GL\n",
    "\n",
    "import scipy.optimize\n",
    "import scipy.linalg\n",
    "\n",
    "import matplotlib.pyplot as plt\n",
    "import seaborn as sns\n",
    "plt.style.use('ggplot')\n",
    "\n",
    "import sympy as sp\n",
    "import sympyprinting as spp\n",
    "from sympy import init_printing"
   ]
  },
  {
   "cell_type": "code",
   "execution_count": null,
   "metadata": {},
   "outputs": [],
   "source": [
    "n=sp.Symbol('n',integer=True)\n",
    "pin=sp.Symbol('pin',real=True)\n",
    "pout=sp.Symbol('pout',real=True)\n",
    "a=sp.Symbol('a',real=True)\n",
    "z=sp.Symbol('z',complex=True)\n",
    "x,y=sp.Symbol('x',real=True),sp.Symbol('y',real=True)\n",
    "c=sp.Symbol('c',integer=True)\n",
    "t=sp.Symbol('t',complex=True)\n",
    "d=sp.Symbol('d',integer=True)\n",
    "eps=sp.Symbol('epsilon')"
   ]
  },
  {
   "cell_type": "code",
   "execution_count": null,
   "metadata": {},
   "outputs": [],
   "source": [
    "# THIS IS THE MATHEMATICA VERSION USING MPMATH FOR HIGHER ACCURACY\n",
    "import mpmath as mp\n",
    "def Gamma(a,z0,z1): # This defined function has the same behaviour as Mathematica Gamma[a,z0,z1]\n",
    "    from mpmath import gammainc\n",
    "    return gammainc(a,a=z0,b=z1,regularized=False)\n",
    "\n",
    "def scipyGamma(a,z0,z1):\n",
    "    return (scipy.special.gammainc(a,z1)-scipy.special.gammainc(a,z0))*scipy.special.gamma(a)"
   ]
  },
  {
   "cell_type": "code",
   "execution_count": null,
   "metadata": {},
   "outputs": [],
   "source": [
    "def fundamental_eq(n,pin,pout,t,z):\n",
    "    feq = sp.simplify(t - sp.summation( sp.KroneckerDelta(c,n*pin/2)/(z-c-n*(pin+pout)/2*t ),(c,0,sp.oo)))\n",
    "    return feq\n",
    "    #return sp.lambdify((n,pin,pout,t,z),feq)\n",
    "\n",
    "def mpmathfeq(n,pin,pout,t,z):\n",
    "    #print(n*(pin + pout)*t - z,0.0,-(n*pin)*0.5)\n",
    "    Eq = t + (2.0**(n*(pin + pout)*t - z)*(-(n*pin))**(-(n*(pin + pout)*t) + z)*Gamma(n*(pin + pout)*t - z,0,-(n*pin)/2.))/mp.exp((n*pin)/2.)\n",
    "    #print('t=',t,'Eq=',(float(Eq.real),float(Eq.imag)))\n",
    "    return (float(Eq.real),float(Eq.imag))\n",
    "\n",
    "def feqlapl(n,pin,pout,t,z):\n",
    "    #print(n*(pin + pout)*t - z,0.0,-(n*pin)*0.5)\n",
    "    Eq = t + (2.0**(n*(pin + pout)*t - z)*(-(n*pin))**(-(n*(pin + pout)*t) + z)*Gamma(n*(pin + pout)*t - z,0,-(n*pin)/2.))/mp.exp((n*pin)/2.)\n",
    "    #print('t=',t,'Eq=',(float(Eq.real),float(Eq.imag)))\n",
    "    return (float(Eq.real),float(Eq.imag))\n",
    "\n",
    "def scipyfeq(n,pin,pout,t,z):\n",
    "    print(n*(pin + pout)*t - z,0.0,-(n*pin)*0.5)\n",
    "    Eq = t + (2.0**(n*(pin + pout)*t - z)*(-(n*pin))**(-(n*(pin + pout)*t) + z)*scipyGamma(n*(pin + pout)*t - z,0.0,-(n*pin)*0.5))/np.exp((n*pin)/2.)\n",
    "    return (float(Eq.real),float(Eq.imag))"
   ]
  },
  {
   "cell_type": "code",
   "execution_count": null,
   "metadata": {},
   "outputs": [],
   "source": [
    "init_printing()\n",
    "fundamental_eq(n,pin,pout,t,z)\n",
    "sp.solve(t+2/(n*pin+n*t*(pin+pout)-2*z),t)"
   ]
  },
  {
   "cell_type": "code",
   "execution_count": null,
   "metadata": {},
   "outputs": [],
   "source": [
    "print(scipy.optimize.fsolve(lambda t : mpmathfeq(10,0.8,0.2,t[0]-1j*t[1],1),(0.01,0.01)))\n",
    "print(scipy.optimize.root(lambda t : mpmathfeq(10,0.8,0.2,t[0]-1j*t[1],1),(0.01,0.01)).x)"
   ]
  },
  {
   "cell_type": "code",
   "execution_count": null,
   "metadata": {},
   "outputs": [],
   "source": [
    "def mpmathfeq(n,pin,pout,t,z):\n",
    "    Eq = t + (2**((n*(pin + pout)*t)/2. - z)*(-(n*(pin + pout)))**(-(n*(pin + pout)*t)/2. + z)*Gamma((n*(pin + pout)*t)/2. - z,0,-(n*(pin + pout))/2.))/mp.exp((n*(pin + pout))/2.)\n",
    "    #print('t=',t,'Eq=',(float(Eq.real),float(Eq.imag)))\n",
    "    return (float(Eq.real),float(Eq.imag))\n",
    "\n",
    "#scipy.optimize.root(lambda t : mpmathfeq(10,0.8,0.2,t[0]+1j*t[1],1+1E-4j),(0.01,-1))"
   ]
  },
  {
   "cell_type": "code",
   "execution_count": null,
   "metadata": {},
   "outputs": [],
   "source": [
    "N,B,pin,pout=100,2,0.8,0.8\n",
    "allz=np.linspace(-20,20,5000)\n",
    "\n",
    "import networkx as nx\n",
    "eigs_l,eigs_a=[],[]\n",
    "for i in range(0,100):\n",
    "    A=nx.to_numpy_array(nx.planted_partition_graph(B,int(N/B),pin,pout))\n",
    "    L=np.diag(A.sum(axis=0))-A\n",
    "    eigs_l.append(scipy.linalg.eigvalsh(L))\n",
    "eigs_a = np.array(eigs_a).flatten()\n",
    "eigs_l = np.array(eigs_l).flatten()"
   ]
  },
  {
   "cell_type": "code",
   "execution_count": null,
   "metadata": {},
   "outputs": [],
   "source": [
    "plt.figure(figsize=(18,5))\n",
    "plt.hist(eigs_l,500,density=True,color='blue',alpha=0.4)\n",
    "#plt.plot(allz,2/(N*np.pi)*(np.sqrt(N*(pin+pout)-allz**2)/(pin+pout)))\n",
    "#plt.vlines(np.sqrt(2)*N*(pin+pout),ymin=0,ymax=0.05)\n",
    "#plt.vlines(-np.sqrt(2*N*(pin+pout)/2),ymin=0,ymax=0.05)\n",
    "plt.show()"
   ]
  },
  {
   "cell_type": "code",
   "execution_count": null,
   "metadata": {},
   "outputs": [],
   "source": [
    "def mpmathfeq(n,pin,pout,t,z):\n",
    "    Eq = t + (2**((n*(pin + pout)*t)/2. - z)*(-(n*(pin + pout)))**(-(n*(pin + pout)*t)/2. + z)*Gamma((n*(pin + pout)*t)/2. - z,0,-(n*(pin + pout))/2.))/mp.exp((n*(pin + pout))/2.)\n",
    "    #print('t=',t,'Eq=',(float(Eq.real),float(Eq.imag)))\n",
    "    return (float(Eq.real),float(Eq.imag))\n",
    "\n",
    "T=[]\n",
    "allz=np.linspace(0,N,N)\n",
    "for i,z in enumerate(allz):\n",
    "    t = scipy.optimize.fsolve(lambda t : mpmathfeq(N,pin,pout,t[0]+1j*t[1],z+0.001j),(0.1,-0.1))[1]\n",
    "    T.append(t)\n",
    "    print('\\r',i,(i+1)/len(allz)*100,'%',end='')\n",
    "T=np.array(T)\n",
    "rho = -1/(np.pi*N)*(N/2*T+N/2*T)\n",
    "plt.figure(figsize=(18,5))\n",
    "plt.hist(eigs_l,500,density=True,color='blue',alpha=0.4)\n",
    "plt.plot(allz,rho)\n",
    "plt.show()"
   ]
  },
  {
   "cell_type": "code",
   "execution_count": null,
   "metadata": {},
   "outputs": [],
   "source": []
  }
 ],
 "metadata": {
  "kernelspec": {
   "display_name": "Python 3",
   "language": "python",
   "name": "python3"
  },
  "language_info": {
   "codemirror_mode": {
    "name": "ipython",
    "version": 3
   },
   "file_extension": ".py",
   "mimetype": "text/x-python",
   "name": "python",
   "nbconvert_exporter": "python",
   "pygments_lexer": "ipython3",
   "version": "3.5.2"
  }
 },
 "nbformat": 4,
 "nbformat_minor": 2
}
