{
 "cells": [
  {
   "cell_type": "code",
   "execution_count": null,
   "metadata": {},
   "outputs": [],
   "source": [
    "%reload_ext autoreload\n",
    "%autoreload 2"
   ]
  },
  {
   "cell_type": "code",
   "execution_count": null,
   "metadata": {},
   "outputs": [],
   "source": [
    "import sys\n",
    "sys.path.append('..')\n",
    "import numpy as np\n",
    "from numpy.random import random as rand\n",
    "\n",
    "import networkqit as nq\n",
    "import networkx as nx\n",
    "\n",
    "from networkqit import graph_laplacian as GL\n",
    "\n",
    "import scipy.optimize\n",
    "import scipy.linalg\n",
    "\n",
    "import matplotlib.pyplot as plt\n",
    "import seaborn as sns\n",
    "plt.style.use('ggplot')\n",
    "\n",
    "import sympy as sp\n",
    "import sympyprinting as spp\n",
    "from sympy import init_printing\n",
    "\n",
    "import mpmath as mp"
   ]
  },
  {
   "cell_type": "markdown",
   "metadata": {},
   "source": [
    "#### 1. Define the Stieltjes transform $t_r(z)$ as in Peixoto 2013, Spectra of random modular graphs and the symbols"
   ]
  },
  {
   "cell_type": "code",
   "execution_count": null,
   "metadata": {},
   "outputs": [],
   "source": [
    "n_=sp.Symbol('n',integer=True)\n",
    "pin_=sp.Symbol('pin',real=True)\n",
    "pout_=sp.Symbol('pout',real=True)\n",
    "c_=sp.Symbol('c',integer=True)\n",
    "z_=sp.Symbol('z',complex=True)\n",
    "b_=sp.Symbol('b',integer=True)\n",
    "t_=sp.Symbol('t',complex=True)\n",
    "\n",
    "# this is the average degree in the planted partition model with B blocks and n nodes\n",
    "def avg_deg_planted(n,b,pin,pout):\n",
    "    return pin * n / b + (b-1) * pout * n / b\n",
    "\n",
    "def poisspdf(k,l):\n",
    "    return sp.exp(-l)*(l**k)/sp.gamma(k+1)\n",
    "\n",
    "def adj_fundamental_eq(n,b,pin,pout,t,z):\n",
    "    a = 2*pin*(n-1)/(b)#avg_deg_planted(n,b,pin,pout)\n",
    "    return  (t_ - sp.summation(sp.KroneckerDelta(c_,0)/(z_-c_-a*t_),(c_,0,sp.oo)))\n",
    "\n",
    "def lapl_fundamental_eq(n,b,pin,pout,t,z):\n",
    "    d = n / b*pin # average within module degree\n",
    "    a = pin*n/b + (b-1)*pout*n/(b)\n",
    "    return  (t_ - sp.summation(poisspdf(c_,d)/(z_-c_-a*t_),(c_,0,sp.oo)))\n",
    "\n",
    "adj_feq = sp.lambdify((n_,b_,pin_,pout_,t_,z_),adj_fundamental_eq(n_,b_,pin_,pout_,t_,z_).replace('exp_polar','exp'), modules='mpmath')\n",
    "lapl_feq = sp.lambdify((n_,b_,pin_,pout_,t_,z_),lapl_fundamental_eq(n_,b_,pin_,pout_,t_,z_).replace('exp_polar','exp'), modules='mpmath')"
   ]
  },
  {
   "cell_type": "markdown",
   "metadata": {},
   "source": [
    "#### 2. Look for the spectrum of the adjacency matrix (planted partition n=50, B=2, pin=0.5,pout=0.5)"
   ]
  },
  {
   "cell_type": "code",
   "execution_count": null,
   "metadata": {},
   "outputs": [],
   "source": [
    "n, b, pin, pout = 1000.0, 8, 1,1"
   ]
  },
  {
   "cell_type": "code",
   "execution_count": null,
   "metadata": {},
   "outputs": [],
   "source": [
    "# Now solve the equation for t and increasing z in iterative way\n",
    "t0 = (np.random.random() + np.random.random()*1j) * 1E-3\n",
    "eps = 1E-9\n",
    "z0 = -2*n + eps*1j\n",
    "dz = 0.1\n",
    "zmax = n\n",
    "z = z0\n",
    "t = t0\n",
    "\n",
    "allt, allz = [], []\n",
    "\n",
    "while np.real(z) < zmax:\n",
    "    print('\\r',eps,(np.real(z)/zmax)*100,'%',end='')\n",
    "    t = mp.findroot(lambda x: adj_feq(n,b,pin,pout,x,z), x0 = t,solver='muller') # important to use the \"muller\" solver\n",
    "    allz.append(z)\n",
    "    z += dz\n",
    "    allt.append(t)\n",
    "allz = np.array([np.real(zz) for zz in allz])\n",
    "allt = np.array([tt.imag for tt in allt])"
   ]
  },
  {
   "cell_type": "markdown",
   "metadata": {},
   "source": [
    "#### 3. Verify the results with the corresponding numerical simulation"
   ]
  },
  {
   "cell_type": "code",
   "execution_count": null,
   "metadata": {},
   "outputs": [],
   "source": [
    "import networkx as nx\n",
    "eigs_l,eigs_a = [], []\n",
    "for i in range(0,2):\n",
    "    A = nx.to_numpy_array(nx.planted_partition_graph(b,int(n/b),pin,pout))\n",
    "    L=np.diag(A.sum(axis=0))-A\n",
    "    eigs_a.append(scipy.linalg.eigvalsh(A))\n",
    "    eigs_l.append(scipy.linalg.eigvalsh(L))\n",
    "eigs_a = np.array(eigs_a).flatten()\n",
    "eigs_l = np.array(eigs_l).flatten()"
   ]
  },
  {
   "cell_type": "code",
   "execution_count": null,
   "metadata": {},
   "outputs": [],
   "source": [
    "plt.figure(figsize=(32,10))\n",
    "plt.hist(eigs_a,500,density=True,color='blue',alpha=0.4)\n",
    "plt.plot(allz,-1/(np.pi)*allt)\n",
    "plt.xlim([-100,100])\n",
    "plt.show()"
   ]
  },
  {
   "cell_type": "code",
   "execution_count": null,
   "metadata": {},
   "outputs": [],
   "source": []
  }
 ],
 "metadata": {
  "kernelspec": {
   "display_name": "Python 3",
   "language": "python",
   "name": "python3"
  },
  "language_info": {
   "codemirror_mode": {
    "name": "ipython",
    "version": 3
   },
   "file_extension": ".py",
   "mimetype": "text/x-python",
   "name": "python",
   "nbconvert_exporter": "python",
   "pygments_lexer": "ipython3",
   "version": "3.5.2"
  }
 },
 "nbformat": 4,
 "nbformat_minor": 2
}
