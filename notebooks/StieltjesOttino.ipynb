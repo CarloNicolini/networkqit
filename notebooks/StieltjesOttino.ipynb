{
 "cells": [
  {
   "cell_type": "code",
   "execution_count": 1,
   "metadata": {},
   "outputs": [],
   "source": [
    "%reload_ext autoreload\n",
    "%autoreload 2"
   ]
  },
  {
   "cell_type": "code",
   "execution_count": 2,
   "metadata": {},
   "outputs": [],
   "source": [
    "import sys\n",
    "sys.path.append('..')\n",
    "import numpy as np\n",
    "from numpy.random import random as rand\n",
    "\n",
    "import networkqit as nq\n",
    "import networkx as nx\n",
    "\n",
    "from networkqit import graph_laplacian as GL\n",
    "\n",
    "import scipy.optimize\n",
    "import scipy.linalg\n",
    "\n",
    "import matplotlib.pyplot as plt\n",
    "import seaborn as sns\n",
    "plt.style.use('ggplot')\n",
    "\n",
    "import sympy as sp\n",
    "import sympyprinting as spp\n",
    "from sympy import init_printing\n",
    "\n",
    "import mpmath as mp\n",
    "import networkx as nx\n",
    "init_printing()\n",
    "\n",
    "def planted_partition_graph(n,b,pin,pout):\n",
    "    nb = int(n/b)\n",
    "    A = (np.random.random((n,n)) < pout).astype(float)\n",
    "    for i in range(0,b):\n",
    "        T = np.triu((np.random.random((nb,nb))<pin).astype(float))\n",
    "        T = T+T.T\n",
    "        A[i*nb:(i+1)*nb,i*nb:(i+1)*nb] = T\n",
    "        \n",
    "    np.fill_diagonal(A,0)\n",
    "    A = np.triu(A)\n",
    "    A = A+A.T\n",
    "    return A"
   ]
  },
  {
   "cell_type": "markdown",
   "metadata": {},
   "source": [
    "#### 1. Define the Stieltjes transform $t_r(z)$ as in Peixoto 2013, Spectra of random modular graphs and the symbols"
   ]
  },
  {
   "cell_type": "code",
   "execution_count": 25,
   "metadata": {},
   "outputs": [],
   "source": [
    "def compute_tr(z, t0, sigma2, nr, pr_, **kwargs):\n",
    "    b = sigma2rs.shape[0]\n",
    "    if len(nr) != b:\n",
    "        raise 'sigma2rs and nr must have same dimensions'\n",
    "    \n",
    "    # Define the variables $t_r(z)$ which are the Stieltjes transforms to look for\n",
    "    tr_ = [ sp.symbols('t'+str(i),complex=True) for i in range(0,b)]\n",
    "    Eq2 = []\n",
    "    for r in range(0,b):\n",
    "        c_ = list(pr_[r].free_symbols)[0]\n",
    "        #print(np.array([sigma2[r,s]*nr[s]*tr_[s] for s in range(0,b)]).sum())\n",
    "        fund_eq = tr_[r] -  sp.summation( pr_[r]/(z - c_ - np.array([sigma2[r,s]*nr[s]*tr_[s] for s in range(0,b)]).sum()) , (c_,0,sp.oo))\n",
    "        # Simplify the fundamental Equation\n",
    "        fund_eq = sp.simplify(fund_eq)\n",
    "        # Generate its lambdified expression, for evaluation with mpmath\n",
    "        F = sp.lambdify(fund_eq.free_symbols,fund_eq.replace('exp_polar','exp'), modules='mpmath')\n",
    "        # Append in the list of equations to be solved simulateously\n",
    "        Eq2.append(F)\n",
    "    # Now look for the solutions with respect to [t0,t1,...,tb] at this given z\n",
    "    t = mp.findroot(Eq2, x0=t0, solver='muller', tol=kwargs.get('tol',1E-15), maxsteps=kwargs.get('maxsteps',200))\n",
    "    \n",
    "    return [t[i] for i in range(0,b)]\n",
    "\n",
    "def compute_detached_tr(M, z0, t0, nr,eps=1E-12):\n",
    "    IB = sp.eye(b)\n",
    "    NB = sp.diag(*nr)\n",
    "    def TzB(z):\n",
    "        val = sp.diag(*compute_tr(z+eps*1j, t0, sigma2rs, nr, [sp.KroneckerDelta(sp.Symbol('c',integer=True),0)] * b))\n",
    "        return val\n",
    "    def expr(z):\n",
    "        det = (IB - TzB(z)*M*NB).det()\n",
    "        return sp.re(det)\n",
    "    \n",
    "    z_detached =  mp.findroot(lambda z : expr(z), x0=z0, solver='muller', maxsteps=200)\n",
    "    rho = expr(z_detached)\n",
    "    #compute_tr(z_detached+eps*1j, t0, sigma2rs, nr, [sp.KroneckerDelta(sp.Symbol('c',integer=True),0)] * b)\n",
    "    return z_detached,rho\n",
    "\n",
    "def compute_rho(allz,eps,sigma2,nr,matrix, **args):\n",
    "    rho = np.zeros_like(allz) # initialize rho as zeros\n",
    "    t0 = [0 + 0j] * b # initial value for the stieltjes transform tr\n",
    "    pr = None\n",
    "    c = sp.Symbol('c',integer=True) # symbolic variable to sum over in the fundamental equation\n",
    "    N = np.sum(nr) # total number of nodes\n",
    "    d = 0 # average within module degree\n",
    "    # Define the pr variable depending on the matrix to investigate\n",
    "    if matrix is 'laplacian':\n",
    "        pr = [sp.exp(-d) * (d**c) / sp.gamma(c + 1)] * b\n",
    "    elif matrix is 'adjacency':\n",
    "        pr = [sp.KroneckerDelta(c,0)] * b\n",
    "    \n",
    "    for i,z in enumerate(allz):\n",
    "        t = compute_tr(z + eps*1j, t0, sigma2, nr, pr)\n",
    "        t0 = t\n",
    "        rho[i] = -(1.0 / (N*np.pi)) * np.sum([nr[r]*(t[r].imag) for r in range(0,b)])\n",
    "        print('\\r Percent done=%.1f %%\\tz=%.2f\\trho(z)=%g\\t%s' % (float(i)/len(allz)*100,z,rho[i],t), end='')\n",
    "\n",
    "    # Then look for the detached eigenvalues by looking for the z such that it solves Eq.4=0\n",
    "    # where rho is 0 look for separate eigenvalues\n",
    "    for i,z in enumerate(allz):\n",
    "        if rho[i]<1E-9:\n",
    "            print('\\n',z,rho[i])\n",
    "            z, ti = compute_detached_tr(sigma2,z,[1E-5*(1+1j)]*b, nr)\n",
    "            rho[i] += -1/(N*np.pi)*ti.imag\n",
    "            \n",
    "    return allz,rho"
   ]
  },
  {
   "cell_type": "code",
   "execution_count": 40,
   "metadata": {},
   "outputs": [
    {
     "name": "stdout",
     "output_type": "stream",
     "text": [
      "x:     (48.6853204691953175207 - 7.16467268556183427378j)\n",
      "error: 11.5612002510893023665\n"
     ]
    },
    {
     "ename": "TypeError",
     "evalue": "cannot create mpf from (0.0257892863590889998646 - 0.0910861835935671275167*I)**2 - 0.00611297986554033424866*(-8.43532046919531752074 - 8.16467268556183427378*I)*(-0.0730424460087010926045 + 0.0453491445199960124325*I)",
     "output_type": "error",
     "traceback": [
      "\u001b[0;31m---------------------------------------------------------------------------\u001b[0m",
      "\u001b[0;31mTypeError\u001b[0m                                 Traceback (most recent call last)",
      "\u001b[0;32m<ipython-input-40-227feb94a67f>\u001b[0m in \u001b[0;36m<module>\u001b[0;34m()\u001b[0m\n\u001b[1;32m     12\u001b[0m     \u001b[0;32mreturn\u001b[0m \u001b[0mz_detached\u001b[0m\u001b[0;34m,\u001b[0m\u001b[0mrho\u001b[0m\u001b[0;34m\u001b[0m\u001b[0m\n\u001b[1;32m     13\u001b[0m \u001b[0;34m\u001b[0m\u001b[0m\n\u001b[0;32m---> 14\u001b[0;31m \u001b[0mcompute_detached_tr\u001b[0m\u001b[0;34m(\u001b[0m\u001b[0msigma2rs\u001b[0m\u001b[0;34m,\u001b[0m\u001b[0;36m40.0\u001b[0m\u001b[0;34m,\u001b[0m\u001b[0;34m[\u001b[0m\u001b[0;36m1E-5j\u001b[0m\u001b[0;34m]\u001b[0m\u001b[0;34m*\u001b[0m\u001b[0mb\u001b[0m\u001b[0;34m,\u001b[0m \u001b[0mnr\u001b[0m\u001b[0;34m)\u001b[0m\u001b[0;34m\u001b[0m\u001b[0m\n\u001b[0m",
      "\u001b[0;32m<ipython-input-40-227feb94a67f>\u001b[0m in \u001b[0;36mcompute_detached_tr\u001b[0;34m(M, z0, t0, nr, eps)\u001b[0m\n\u001b[1;32m      8\u001b[0m         \u001b[0mdet\u001b[0m \u001b[0;34m=\u001b[0m \u001b[0;34m(\u001b[0m\u001b[0mIB\u001b[0m \u001b[0;34m-\u001b[0m \u001b[0mTzB\u001b[0m\u001b[0;34m(\u001b[0m\u001b[0mz\u001b[0m\u001b[0;34m)\u001b[0m\u001b[0;34m*\u001b[0m\u001b[0mM\u001b[0m\u001b[0;34m*\u001b[0m\u001b[0mNB\u001b[0m\u001b[0;34m)\u001b[0m\u001b[0;34m.\u001b[0m\u001b[0mdet\u001b[0m\u001b[0;34m(\u001b[0m\u001b[0;34m)\u001b[0m\u001b[0;34m\u001b[0m\u001b[0m\n\u001b[1;32m      9\u001b[0m         \u001b[0;32mreturn\u001b[0m \u001b[0msp\u001b[0m\u001b[0;34m.\u001b[0m\u001b[0mre\u001b[0m\u001b[0;34m(\u001b[0m\u001b[0mdet\u001b[0m\u001b[0;34m)\u001b[0m\u001b[0;34m\u001b[0m\u001b[0m\n\u001b[0;32m---> 10\u001b[0;31m     \u001b[0mz_detached\u001b[0m \u001b[0;34m=\u001b[0m  \u001b[0mmp\u001b[0m\u001b[0;34m.\u001b[0m\u001b[0mfindroot\u001b[0m\u001b[0;34m(\u001b[0m\u001b[0;32mlambda\u001b[0m \u001b[0mz\u001b[0m \u001b[0;34m:\u001b[0m \u001b[0mexpr\u001b[0m\u001b[0;34m(\u001b[0m\u001b[0mz\u001b[0m\u001b[0;34m)\u001b[0m\u001b[0;34m,\u001b[0m \u001b[0mx0\u001b[0m\u001b[0;34m=\u001b[0m \u001b[0mmp\u001b[0m\u001b[0;34m.\u001b[0m\u001b[0mmpc\u001b[0m\u001b[0;34m(\u001b[0m\u001b[0;36m40.0\u001b[0m\u001b[0;34m+\u001b[0m\u001b[0;36m1j\u001b[0m\u001b[0;34m)\u001b[0m\u001b[0;34m,\u001b[0m \u001b[0msolver\u001b[0m\u001b[0;34m=\u001b[0m\u001b[0;34m'muller'\u001b[0m\u001b[0;34m,\u001b[0m \u001b[0mverbose\u001b[0m\u001b[0;34m=\u001b[0m\u001b[0;32mTrue\u001b[0m\u001b[0;34m,\u001b[0m \u001b[0mmaxsteps\u001b[0m\u001b[0;34m=\u001b[0m\u001b[0;36m200\u001b[0m\u001b[0;34m)\u001b[0m\u001b[0;34m\u001b[0m\u001b[0m\n\u001b[0m\u001b[1;32m     11\u001b[0m     \u001b[0mrho\u001b[0m \u001b[0;34m=\u001b[0m \u001b[0mexpr\u001b[0m\u001b[0;34m(\u001b[0m\u001b[0mz_detached\u001b[0m\u001b[0;34m)\u001b[0m\u001b[0;34m\u001b[0m\u001b[0m\n\u001b[1;32m     12\u001b[0m     \u001b[0;32mreturn\u001b[0m \u001b[0mz_detached\u001b[0m\u001b[0;34m,\u001b[0m\u001b[0mrho\u001b[0m\u001b[0;34m\u001b[0m\u001b[0m\n",
      "\u001b[0;32m/usr/local/lib/python3.5/dist-packages/mpmath/calculus/optimization.py\u001b[0m in \u001b[0;36mfindroot\u001b[0;34m(ctx, f, x0, solver, tol, verbose, verify, **kwargs)\u001b[0m\n\u001b[1;32m    958\u001b[0m             \u001b[0mmaxsteps\u001b[0m \u001b[0;34m=\u001b[0m \u001b[0miterations\u001b[0m\u001b[0;34m.\u001b[0m\u001b[0mmaxsteps\u001b[0m\u001b[0;34m\u001b[0m\u001b[0m\n\u001b[1;32m    959\u001b[0m         \u001b[0mi\u001b[0m \u001b[0;34m=\u001b[0m \u001b[0;36m0\u001b[0m\u001b[0;34m\u001b[0m\u001b[0m\n\u001b[0;32m--> 960\u001b[0;31m         \u001b[0;32mfor\u001b[0m \u001b[0mx\u001b[0m\u001b[0;34m,\u001b[0m \u001b[0merror\u001b[0m \u001b[0;32min\u001b[0m \u001b[0miterations\u001b[0m\u001b[0;34m:\u001b[0m\u001b[0;34m\u001b[0m\u001b[0m\n\u001b[0m\u001b[1;32m    961\u001b[0m             \u001b[0;32mif\u001b[0m \u001b[0mverbose\u001b[0m\u001b[0;34m:\u001b[0m\u001b[0;34m\u001b[0m\u001b[0m\n\u001b[1;32m    962\u001b[0m                 \u001b[0mprint_\u001b[0m\u001b[0;34m(\u001b[0m\u001b[0;34m'x:    '\u001b[0m\u001b[0;34m,\u001b[0m \u001b[0mx\u001b[0m\u001b[0;34m)\u001b[0m\u001b[0;34m\u001b[0m\u001b[0m\n",
      "\u001b[0;32m/usr/local/lib/python3.5/dist-packages/mpmath/calculus/optimization.py\u001b[0m in \u001b[0;36m__iter__\u001b[0;34m(self)\u001b[0m\n\u001b[1;32m    277\u001b[0m             \u001b[0mfx1\u001b[0m \u001b[0;34m=\u001b[0m \u001b[0mfx2\u001b[0m\u001b[0;34m\u001b[0m\u001b[0m\n\u001b[1;32m    278\u001b[0m             \u001b[0;31m# denominator should be as large as possible => choose sign\u001b[0m\u001b[0;34m\u001b[0m\u001b[0;34m\u001b[0m\u001b[0m\n\u001b[0;32m--> 279\u001b[0;31m             \u001b[0mr\u001b[0m \u001b[0;34m=\u001b[0m \u001b[0mself\u001b[0m\u001b[0;34m.\u001b[0m\u001b[0mctx\u001b[0m\u001b[0;34m.\u001b[0m\u001b[0msqrt\u001b[0m\u001b[0;34m(\u001b[0m\u001b[0mw\u001b[0m\u001b[0;34m**\u001b[0m\u001b[0;36m2\u001b[0m \u001b[0;34m-\u001b[0m \u001b[0;36m4\u001b[0m\u001b[0;34m*\u001b[0m\u001b[0mfx2\u001b[0m\u001b[0;34m*\u001b[0m\u001b[0mfx2x1x0\u001b[0m\u001b[0;34m)\u001b[0m\u001b[0;34m\u001b[0m\u001b[0m\n\u001b[0m\u001b[1;32m    280\u001b[0m             \u001b[0;32mif\u001b[0m \u001b[0mabs\u001b[0m\u001b[0;34m(\u001b[0m\u001b[0mw\u001b[0m \u001b[0;34m-\u001b[0m \u001b[0mr\u001b[0m\u001b[0;34m)\u001b[0m \u001b[0;34m>\u001b[0m \u001b[0mabs\u001b[0m\u001b[0;34m(\u001b[0m\u001b[0mw\u001b[0m \u001b[0;34m+\u001b[0m \u001b[0mr\u001b[0m\u001b[0;34m)\u001b[0m\u001b[0;34m:\u001b[0m\u001b[0;34m\u001b[0m\u001b[0m\n\u001b[1;32m    281\u001b[0m                 \u001b[0mr\u001b[0m \u001b[0;34m=\u001b[0m \u001b[0;34m-\u001b[0m\u001b[0mr\u001b[0m\u001b[0;34m\u001b[0m\u001b[0m\n",
      "\u001b[0;32m/usr/local/lib/python3.5/dist-packages/mpmath/ctx_mp_python.py\u001b[0m in \u001b[0;36mf\u001b[0;34m(x, **kwargs)\u001b[0m\n\u001b[1;32m    982\u001b[0m         \u001b[0;32mdef\u001b[0m \u001b[0mf\u001b[0m\u001b[0;34m(\u001b[0m\u001b[0mx\u001b[0m\u001b[0;34m,\u001b[0m \u001b[0;34m**\u001b[0m\u001b[0mkwargs\u001b[0m\u001b[0;34m)\u001b[0m\u001b[0;34m:\u001b[0m\u001b[0;34m\u001b[0m\u001b[0m\n\u001b[1;32m    983\u001b[0m             \u001b[0;32mif\u001b[0m \u001b[0mtype\u001b[0m\u001b[0;34m(\u001b[0m\u001b[0mx\u001b[0m\u001b[0;34m)\u001b[0m \u001b[0;32mnot\u001b[0m \u001b[0;32min\u001b[0m \u001b[0mctx\u001b[0m\u001b[0;34m.\u001b[0m\u001b[0mtypes\u001b[0m\u001b[0;34m:\u001b[0m\u001b[0;34m\u001b[0m\u001b[0m\n\u001b[0;32m--> 984\u001b[0;31m                 \u001b[0mx\u001b[0m \u001b[0;34m=\u001b[0m \u001b[0mctx\u001b[0m\u001b[0;34m.\u001b[0m\u001b[0mconvert\u001b[0m\u001b[0;34m(\u001b[0m\u001b[0mx\u001b[0m\u001b[0;34m)\u001b[0m\u001b[0;34m\u001b[0m\u001b[0m\n\u001b[0m\u001b[1;32m    985\u001b[0m             \u001b[0mprec\u001b[0m\u001b[0;34m,\u001b[0m \u001b[0mrounding\u001b[0m \u001b[0;34m=\u001b[0m \u001b[0mctx\u001b[0m\u001b[0;34m.\u001b[0m\u001b[0m_prec_rounding\u001b[0m\u001b[0;34m\u001b[0m\u001b[0m\n\u001b[1;32m    986\u001b[0m             \u001b[0;32mif\u001b[0m \u001b[0mkwargs\u001b[0m\u001b[0;34m:\u001b[0m\u001b[0;34m\u001b[0m\u001b[0m\n",
      "\u001b[0;32m/usr/local/lib/python3.5/dist-packages/mpmath/ctx_mp_python.py\u001b[0m in \u001b[0;36mconvert\u001b[0;34m(ctx, x, strings)\u001b[0m\n\u001b[1;32m    660\u001b[0m         \u001b[0;32mif\u001b[0m \u001b[0mhasattr\u001b[0m\u001b[0;34m(\u001b[0m\u001b[0mx\u001b[0m\u001b[0;34m,\u001b[0m \u001b[0;34m'_mpmath_'\u001b[0m\u001b[0;34m)\u001b[0m\u001b[0;34m:\u001b[0m\u001b[0;34m\u001b[0m\u001b[0m\n\u001b[1;32m    661\u001b[0m             \u001b[0;32mreturn\u001b[0m \u001b[0mctx\u001b[0m\u001b[0;34m.\u001b[0m\u001b[0mconvert\u001b[0m\u001b[0;34m(\u001b[0m\u001b[0mx\u001b[0m\u001b[0;34m.\u001b[0m\u001b[0m_mpmath_\u001b[0m\u001b[0;34m(\u001b[0m\u001b[0mprec\u001b[0m\u001b[0;34m,\u001b[0m \u001b[0mrounding\u001b[0m\u001b[0;34m)\u001b[0m\u001b[0;34m)\u001b[0m\u001b[0;34m\u001b[0m\u001b[0m\n\u001b[0;32m--> 662\u001b[0;31m         \u001b[0;32mreturn\u001b[0m \u001b[0mctx\u001b[0m\u001b[0;34m.\u001b[0m\u001b[0m_convert_fallback\u001b[0m\u001b[0;34m(\u001b[0m\u001b[0mx\u001b[0m\u001b[0;34m,\u001b[0m \u001b[0mstrings\u001b[0m\u001b[0;34m)\u001b[0m\u001b[0;34m\u001b[0m\u001b[0m\n\u001b[0m\u001b[1;32m    663\u001b[0m \u001b[0;34m\u001b[0m\u001b[0m\n\u001b[1;32m    664\u001b[0m     \u001b[0;32mdef\u001b[0m \u001b[0misnan\u001b[0m\u001b[0;34m(\u001b[0m\u001b[0mctx\u001b[0m\u001b[0;34m,\u001b[0m \u001b[0mx\u001b[0m\u001b[0;34m)\u001b[0m\u001b[0;34m:\u001b[0m\u001b[0;34m\u001b[0m\u001b[0m\n",
      "\u001b[0;32m/usr/local/lib/python3.5/dist-packages/mpmath/ctx_mp.py\u001b[0m in \u001b[0;36m_convert_fallback\u001b[0;34m(ctx, x, strings)\u001b[0m\n\u001b[1;32m    632\u001b[0m             \u001b[0;32melse\u001b[0m\u001b[0;34m:\u001b[0m\u001b[0;34m\u001b[0m\u001b[0m\n\u001b[1;32m    633\u001b[0m                 \u001b[0;32mraise\u001b[0m \u001b[0mValueError\u001b[0m\u001b[0;34m(\u001b[0m\u001b[0;34m\"can only create mpf from zero-width interval\"\u001b[0m\u001b[0;34m)\u001b[0m\u001b[0;34m\u001b[0m\u001b[0m\n\u001b[0;32m--> 634\u001b[0;31m         \u001b[0;32mraise\u001b[0m \u001b[0mTypeError\u001b[0m\u001b[0;34m(\u001b[0m\u001b[0;34m\"cannot create mpf from \"\u001b[0m \u001b[0;34m+\u001b[0m \u001b[0mrepr\u001b[0m\u001b[0;34m(\u001b[0m\u001b[0mx\u001b[0m\u001b[0;34m)\u001b[0m\u001b[0;34m)\u001b[0m\u001b[0;34m\u001b[0m\u001b[0m\n\u001b[0m\u001b[1;32m    635\u001b[0m \u001b[0;34m\u001b[0m\u001b[0m\n\u001b[1;32m    636\u001b[0m     \u001b[0;32mdef\u001b[0m \u001b[0mmpmathify\u001b[0m\u001b[0;34m(\u001b[0m\u001b[0mctx\u001b[0m\u001b[0;34m,\u001b[0m \u001b[0;34m*\u001b[0m\u001b[0margs\u001b[0m\u001b[0;34m,\u001b[0m \u001b[0;34m**\u001b[0m\u001b[0mkwargs\u001b[0m\u001b[0;34m)\u001b[0m\u001b[0;34m:\u001b[0m\u001b[0;34m\u001b[0m\u001b[0m\n",
      "\u001b[0;31mTypeError\u001b[0m: cannot create mpf from (0.0257892863590889998646 - 0.0910861835935671275167*I)**2 - 0.00611297986554033424866*(-8.43532046919531752074 - 8.16467268556183427378*I)*(-0.0730424460087010926045 + 0.0453491445199960124325*I)"
     ]
    }
   ],
   "source": [
    "def compute_detached_tr(M, z0, t0, nr,eps=1E-12):\n",
    "    IB = sp.eye(b)\n",
    "    NB = sp.diag(*nr)\n",
    "    def TzB(z):\n",
    "        val = sp.diag(*compute_tr(z+eps*1j, t0, sigma2rs, nr, [sp.KroneckerDelta(sp.Symbol('c',integer=True),0)] * b))\n",
    "        return val\n",
    "    def expr(z):\n",
    "        det = (IB - TzB(z)*M*NB).det()\n",
    "        return sp.re(det)\n",
    "    z_detached =  mp.findroot(lambda z : expr(z), x0= mp.mpc(40.0+1j), solver='muller', verbose=True, maxsteps=200)\n",
    "    rho = expr(z_detached)\n",
    "    return z_detached,rho\n",
    "\n",
    "compute_detached_tr(sigma2rs,40.0,[1E-5j]*b, nr)"
   ]
  },
  {
   "cell_type": "code",
   "execution_count": 26,
   "metadata": {},
   "outputs": [
    {
     "name": "stdout",
     "output_type": "stream",
     "text": [
      " Percent done=95.0 %\tz=120.00\trho(z)=2.25763e-17\t[mpc(real='0.0083920216900383957', imag='-7.0925528371099458e-17'), mpc(real='0.0083920216900383957', imag='-7.0925528371099458e-17')]\n",
      " -40.0 2.4621355382035285e-16\n"
     ]
    },
    {
     "ename": "AttributeError",
     "evalue": "can't set attribute",
     "output_type": "error",
     "traceback": [
      "\u001b[0;31m---------------------------------------------------------------------------\u001b[0m",
      "\u001b[0;31mAttributeError\u001b[0m                            Traceback (most recent call last)",
      "\u001b[0;32m<ipython-input-26-879627a7ce4e>\u001b[0m in \u001b[0;36m<module>\u001b[0;34m()\u001b[0m\n\u001b[1;32m      5\u001b[0m \u001b[0;31m#nrns = np.array([nr[r] for r in range(0,b)])\u001b[0m\u001b[0;34m\u001b[0m\u001b[0;34m\u001b[0m\u001b[0m\n\u001b[1;32m      6\u001b[0m \u001b[0msigma2rs\u001b[0m \u001b[0;34m=\u001b[0m \u001b[0;34m(\u001b[0m\u001b[0mpout\u001b[0m\u001b[0;34m*\u001b[0m\u001b[0;34m(\u001b[0m\u001b[0mnp\u001b[0m\u001b[0;34m.\u001b[0m\u001b[0mones\u001b[0m\u001b[0;34m(\u001b[0m\u001b[0mb\u001b[0m\u001b[0;34m)\u001b[0m\u001b[0;34m-\u001b[0m\u001b[0mnp\u001b[0m\u001b[0;34m.\u001b[0m\u001b[0meye\u001b[0m\u001b[0;34m(\u001b[0m\u001b[0mb\u001b[0m\u001b[0;34m)\u001b[0m\u001b[0;34m)\u001b[0m\u001b[0;34m)\u001b[0m \u001b[0;34m+\u001b[0m \u001b[0;34m(\u001b[0m\u001b[0mpin\u001b[0m\u001b[0;34m*\u001b[0m\u001b[0mnp\u001b[0m\u001b[0;34m.\u001b[0m\u001b[0meye\u001b[0m\u001b[0;34m(\u001b[0m\u001b[0mb\u001b[0m\u001b[0;34m)\u001b[0m\u001b[0;34m)\u001b[0m\u001b[0;34m\u001b[0m\u001b[0m\n\u001b[0;32m----> 7\u001b[0;31m \u001b[0mallz\u001b[0m\u001b[0;34m,\u001b[0m \u001b[0mrho\u001b[0m \u001b[0;34m=\u001b[0m \u001b[0mcompute_rho\u001b[0m\u001b[0;34m(\u001b[0m\u001b[0mnp\u001b[0m\u001b[0;34m.\u001b[0m\u001b[0mlinspace\u001b[0m\u001b[0;34m(\u001b[0m\u001b[0;34m-\u001b[0m\u001b[0;36m40\u001b[0m\u001b[0;34m,\u001b[0m\u001b[0;36m120\u001b[0m\u001b[0;34m,\u001b[0m\u001b[0;36m20\u001b[0m\u001b[0;34m)\u001b[0m\u001b[0;34m,\u001b[0m \u001b[0;36m1E-12\u001b[0m\u001b[0;34m,\u001b[0m \u001b[0msigma2rs\u001b[0m\u001b[0;34m,\u001b[0m \u001b[0mnr\u001b[0m\u001b[0;34m,\u001b[0m \u001b[0;34m'adjacency'\u001b[0m\u001b[0;34m,\u001b[0m \u001b[0mmaxsteps\u001b[0m\u001b[0;34m=\u001b[0m\u001b[0;36m150\u001b[0m\u001b[0;34m)\u001b[0m\u001b[0;34m\u001b[0m\u001b[0m\n\u001b[0m",
      "\u001b[0;32m<ipython-input-25-3702e63b5695>\u001b[0m in \u001b[0;36mcompute_rho\u001b[0;34m(allz, eps, sigma2, nr, matrix, **args)\u001b[0m\n\u001b[1;32m     63\u001b[0m         \u001b[0;32mif\u001b[0m \u001b[0mrho\u001b[0m\u001b[0;34m[\u001b[0m\u001b[0mi\u001b[0m\u001b[0;34m]\u001b[0m\u001b[0;34m<\u001b[0m\u001b[0;36m1E-9\u001b[0m\u001b[0;34m:\u001b[0m\u001b[0;34m\u001b[0m\u001b[0m\n\u001b[1;32m     64\u001b[0m             \u001b[0mprint\u001b[0m\u001b[0;34m(\u001b[0m\u001b[0;34m'\\n'\u001b[0m\u001b[0;34m,\u001b[0m\u001b[0mz\u001b[0m\u001b[0;34m,\u001b[0m\u001b[0mrho\u001b[0m\u001b[0;34m[\u001b[0m\u001b[0mi\u001b[0m\u001b[0;34m]\u001b[0m\u001b[0;34m)\u001b[0m\u001b[0;34m\u001b[0m\u001b[0m\n\u001b[0;32m---> 65\u001b[0;31m             \u001b[0mz\u001b[0m\u001b[0;34m,\u001b[0m \u001b[0mti\u001b[0m \u001b[0;34m=\u001b[0m \u001b[0mcompute_detached_tr\u001b[0m\u001b[0;34m(\u001b[0m\u001b[0msigma2\u001b[0m\u001b[0;34m,\u001b[0m\u001b[0mz\u001b[0m\u001b[0;34m,\u001b[0m\u001b[0;34m[\u001b[0m\u001b[0;36m1E-5\u001b[0m\u001b[0;34m*\u001b[0m\u001b[0;34m(\u001b[0m\u001b[0;36m1\u001b[0m\u001b[0;34m+\u001b[0m\u001b[0;36m1j\u001b[0m\u001b[0;34m)\u001b[0m\u001b[0;34m]\u001b[0m\u001b[0;34m*\u001b[0m\u001b[0mb\u001b[0m\u001b[0;34m,\u001b[0m \u001b[0mnr\u001b[0m\u001b[0;34m)\u001b[0m\u001b[0;34m\u001b[0m\u001b[0m\n\u001b[0m\u001b[1;32m     66\u001b[0m             \u001b[0mrho\u001b[0m\u001b[0;34m[\u001b[0m\u001b[0mi\u001b[0m\u001b[0;34m]\u001b[0m \u001b[0;34m+=\u001b[0m \u001b[0;34m-\u001b[0m\u001b[0;36m1\u001b[0m\u001b[0;34m/\u001b[0m\u001b[0;34m(\u001b[0m\u001b[0mN\u001b[0m\u001b[0;34m*\u001b[0m\u001b[0mnp\u001b[0m\u001b[0;34m.\u001b[0m\u001b[0mpi\u001b[0m\u001b[0;34m)\u001b[0m\u001b[0;34m*\u001b[0m\u001b[0mti\u001b[0m\u001b[0;34m.\u001b[0m\u001b[0mimag\u001b[0m\u001b[0;34m\u001b[0m\u001b[0m\n\u001b[1;32m     67\u001b[0m \u001b[0;34m\u001b[0m\u001b[0m\n",
      "\u001b[0;32m<ipython-input-25-3702e63b5695>\u001b[0m in \u001b[0;36mcompute_detached_tr\u001b[0;34m(M, z0, t0, nr, eps)\u001b[0m\n\u001b[1;32m     32\u001b[0m         \u001b[0;32mreturn\u001b[0m \u001b[0msp\u001b[0m\u001b[0;34m.\u001b[0m\u001b[0mre\u001b[0m\u001b[0;34m(\u001b[0m\u001b[0mdet\u001b[0m\u001b[0;34m)\u001b[0m\u001b[0;34m\u001b[0m\u001b[0m\n\u001b[1;32m     33\u001b[0m \u001b[0;34m\u001b[0m\u001b[0m\n\u001b[0;32m---> 34\u001b[0;31m     \u001b[0mz_detached\u001b[0m \u001b[0;34m=\u001b[0m  \u001b[0mmp\u001b[0m\u001b[0;34m.\u001b[0m\u001b[0mfindroot\u001b[0m\u001b[0;34m(\u001b[0m\u001b[0;32mlambda\u001b[0m \u001b[0mz\u001b[0m \u001b[0;34m:\u001b[0m \u001b[0mexpr\u001b[0m\u001b[0;34m(\u001b[0m\u001b[0mz\u001b[0m\u001b[0;34m)\u001b[0m\u001b[0;34m,\u001b[0m \u001b[0mx0\u001b[0m\u001b[0;34m=\u001b[0m\u001b[0mz0\u001b[0m\u001b[0;34m,\u001b[0m \u001b[0msolver\u001b[0m\u001b[0;34m=\u001b[0m\u001b[0;34m'muller'\u001b[0m\u001b[0;34m,\u001b[0m \u001b[0mmaxsteps\u001b[0m\u001b[0;34m=\u001b[0m\u001b[0;36m200\u001b[0m\u001b[0;34m)\u001b[0m\u001b[0;34m\u001b[0m\u001b[0m\n\u001b[0m\u001b[1;32m     35\u001b[0m     \u001b[0mrho\u001b[0m \u001b[0;34m=\u001b[0m \u001b[0mexpr\u001b[0m\u001b[0;34m(\u001b[0m\u001b[0mz_detached\u001b[0m\u001b[0;34m)\u001b[0m\u001b[0;34m\u001b[0m\u001b[0m\n\u001b[1;32m     36\u001b[0m     \u001b[0;31m#compute_tr(z_detached+eps*1j, t0, sigma2rs, nr, [sp.KroneckerDelta(sp.Symbol('c',integer=True),0)] * b)\u001b[0m\u001b[0;34m\u001b[0m\u001b[0;34m\u001b[0m\u001b[0m\n",
      "\u001b[0;32m/usr/local/lib/python3.5/dist-packages/mpmath/calculus/optimization.py\u001b[0m in \u001b[0;36mfindroot\u001b[0;34m(ctx, f, x0, solver, tol, verbose, verify, **kwargs)\u001b[0m\n\u001b[1;32m    958\u001b[0m             \u001b[0mmaxsteps\u001b[0m \u001b[0;34m=\u001b[0m \u001b[0miterations\u001b[0m\u001b[0;34m.\u001b[0m\u001b[0mmaxsteps\u001b[0m\u001b[0;34m\u001b[0m\u001b[0m\n\u001b[1;32m    959\u001b[0m         \u001b[0mi\u001b[0m \u001b[0;34m=\u001b[0m \u001b[0;36m0\u001b[0m\u001b[0;34m\u001b[0m\u001b[0m\n\u001b[0;32m--> 960\u001b[0;31m         \u001b[0;32mfor\u001b[0m \u001b[0mx\u001b[0m\u001b[0;34m,\u001b[0m \u001b[0merror\u001b[0m \u001b[0;32min\u001b[0m \u001b[0miterations\u001b[0m\u001b[0;34m:\u001b[0m\u001b[0;34m\u001b[0m\u001b[0m\n\u001b[0m\u001b[1;32m    961\u001b[0m             \u001b[0;32mif\u001b[0m \u001b[0mverbose\u001b[0m\u001b[0;34m:\u001b[0m\u001b[0;34m\u001b[0m\u001b[0m\n\u001b[1;32m    962\u001b[0m                 \u001b[0mprint_\u001b[0m\u001b[0;34m(\u001b[0m\u001b[0;34m'x:    '\u001b[0m\u001b[0;34m,\u001b[0m \u001b[0mx\u001b[0m\u001b[0;34m)\u001b[0m\u001b[0;34m\u001b[0m\u001b[0m\n",
      "\u001b[0;32m/usr/local/lib/python3.5/dist-packages/mpmath/calculus/optimization.py\u001b[0m in \u001b[0;36m__iter__\u001b[0;34m(self)\u001b[0m\n\u001b[1;32m    280\u001b[0m             \u001b[0;32mif\u001b[0m \u001b[0mabs\u001b[0m\u001b[0;34m(\u001b[0m\u001b[0mw\u001b[0m \u001b[0;34m-\u001b[0m \u001b[0mr\u001b[0m\u001b[0;34m)\u001b[0m \u001b[0;34m>\u001b[0m \u001b[0mabs\u001b[0m\u001b[0;34m(\u001b[0m\u001b[0mw\u001b[0m \u001b[0;34m+\u001b[0m \u001b[0mr\u001b[0m\u001b[0;34m)\u001b[0m\u001b[0;34m:\u001b[0m\u001b[0;34m\u001b[0m\u001b[0m\n\u001b[1;32m    281\u001b[0m                 \u001b[0mr\u001b[0m \u001b[0;34m=\u001b[0m \u001b[0;34m-\u001b[0m\u001b[0mr\u001b[0m\u001b[0;34m\u001b[0m\u001b[0m\n\u001b[0;32m--> 282\u001b[0;31m             \u001b[0mx2\u001b[0m \u001b[0;34m-=\u001b[0m \u001b[0;36m2\u001b[0m\u001b[0;34m*\u001b[0m\u001b[0mfx2\u001b[0m \u001b[0;34m/\u001b[0m \u001b[0;34m(\u001b[0m\u001b[0mw\u001b[0m \u001b[0;34m+\u001b[0m \u001b[0mr\u001b[0m\u001b[0;34m)\u001b[0m\u001b[0;34m\u001b[0m\u001b[0m\n\u001b[0m\u001b[1;32m    283\u001b[0m             \u001b[0mfx2\u001b[0m \u001b[0;34m=\u001b[0m \u001b[0mf\u001b[0m\u001b[0;34m(\u001b[0m\u001b[0mx2\u001b[0m\u001b[0;34m)\u001b[0m\u001b[0;34m\u001b[0m\u001b[0m\n\u001b[1;32m    284\u001b[0m             \u001b[0merror\u001b[0m \u001b[0;34m=\u001b[0m \u001b[0mabs\u001b[0m\u001b[0;34m(\u001b[0m\u001b[0mx2\u001b[0m \u001b[0;34m-\u001b[0m \u001b[0mx1\u001b[0m\u001b[0;34m)\u001b[0m\u001b[0;34m\u001b[0m\u001b[0m\n",
      "\u001b[0;32m/usr/local/lib/python3.5/dist-packages/mpmath/ctx_mp_python.py\u001b[0m in \u001b[0;36m__sub__\u001b[0;34m(self, other)\u001b[0m\n",
      "\u001b[0;31mAttributeError\u001b[0m: can't set attribute"
     ]
    }
   ],
   "source": [
    "b = 2\n",
    "nr = [100] * b\n",
    "pin, pout = 0.8, 0.2\n",
    "#ers = np.array([[1000,500],[500,1000]])\n",
    "#nrns = np.array([nr[r] for r in range(0,b)])\n",
    "sigma2rs = (pout*(np.ones(b)-np.eye(b))) + (pin*np.eye(b))\n",
    "allz, rho = compute_rho(np.linspace(-40,120,20), 1E-12, sigma2rs, nr, 'adjacency', maxsteps=150)"
   ]
  },
  {
   "cell_type": "code",
   "execution_count": 14,
   "metadata": {},
   "outputs": [
    {
     "data": {
      "image/png": "[encoded data removed]",
      "text/plain": [
       "<matplotlib.figure.Figure at 0x7fb9df52ccf8>"
      ]
     },
     "metadata": {},
     "output_type": "display_data"
    }
   ],
   "source": [
    "a, reps = [], 20\n",
    "a = np.array([scipy.linalg.eigvalsh(planted_partition_graph(np.sum(nr), b, pin, pout)) for i in range(0,reps) ]).flatten()\n",
    "plt.hist(a, density=True, bins=200)\n",
    "plt.show()\n",
    "plt.plot(allz,rho)\n",
    "#plt.xlim([-100,100])"
   ]
  },
  {
   "cell_type": "code",
   "execution_count": null,
   "metadata": {},
   "outputs": [],
   "source": [
    "plt.hist(a[a<60], density=True, bins=200)\n",
    "plt.plot(allz/np.sqrt(b),np.sqrt(b)*rho)\n",
    "plt.xlim([-50,50])"
   ]
  },
  {
   "cell_type": "code",
   "execution_count": null,
   "metadata": {},
   "outputs": [],
   "source": [
    "n_=sp.Symbol('n',integer=True)\n",
    "pin_=sp.Symbol('pin',real=True)\n",
    "pout_=sp.Symbol('pout',real=True)\n",
    "a_=sp.Symbol('a',real=True)\n",
    "d_=sp.Symbol('d',real=True)\n",
    "c_=sp.Symbol('c',integer=True)\n",
    "z_=sp.Symbol('z',complex=True)\n",
    "b_=sp.Symbol('b',integer=True)\n",
    "t_=sp.Symbol('t',complex=True)\n",
    "\n",
    "# this is the average degree in the planted partition model with B blocks and n nodes\n",
    "def avg_deg_planted(n,b,pin,pout):\n",
    "    return pin * n / b + (b-1) * pout * n / b\n",
    "\n",
    "def poisspdf(k,l):\n",
    "    return sp.exp(-l)*(l**k)/sp.gamma(k+1)\n",
    "\n",
    "def adj_fundamental_eq(n,b,pin,pout,t,z):\n",
    "    sum_sigma2rs_ns_ts = (n/b)*(pin*t_ + pout*t_)\n",
    "    return  (t_ - sp.summation(sp.KroneckerDelta(c_,0)/(z_-c_-sum_sigma2rs_ns_ts),(c_,0,sp.oo)))\n",
    "\n",
    "def adj_fundamental_eq_full(ns,b,sigma2rs,pin,pout,t,z):\n",
    "    \n",
    "    sum_sigma2rs_ns_ts = (n/b)*(pin*t_ + pout*t_)\n",
    "    return  (t_ - sp.summation(sp.KroneckerDelta(c_,0)/(z_-c_-sum_sigma2rs_ns_ts),(c_,0,sp.oo)))\n",
    "\n",
    "def adj_fundamental_eq2(a,d,t,z):\n",
    "    return  (t_ - sp.summation(sp.KroneckerDelta(c_,d_)/(z_-c_-a*t_),(c_,0,sp.oo)))\n",
    "\n",
    "def lapl_fundamental_eq(n,b,pin,pout,t,z):\n",
    "    d = (n-1) / b * (pin+pout) # average within module degree\n",
    "    sum_sigma2rs_ns_ts = (n/b)*(pin*t_ + pout*t_)\n",
    "    return  (t_ - sp.summation(poisspdf(c_,d)/(z_-c_-sum_sigma2rs_ns_ts),(c_,0,sp.oo)))\n",
    "\n",
    "def lapl_fundamental_eq2(a,d,t,z):   \n",
    "    return  (t_ - sp.summation(poisspdf(c_,d)/(z_-c_-a*t_),(c_,0,sp.oo)))\n",
    "\n",
    "adj_feq = sp.lambdify((n_,b_,pin_,pout_,t_,z_),adj_fundamental_eq(n_,b_,pin_,pout_,t_,z_).replace('exp_polar','exp'), modules='mpmath')\n",
    "adj_feq2 = sp.lambdify((a_,d_,t_,z_),adj_fundamental_eq2(a_,d_,t_,z_).replace('exp_polar','exp'), modules='mpmath')\n",
    "lapl_feq = sp.lambdify((n_,b_,pin_,pout_,t_,z_),lapl_fundamental_eq(n_,b_,pin_,pout_,t_,z_).replace('exp_polar','exp'), modules='mpmath')\n",
    "#lapl_feq2 = sp.lambdify((a_,d_,t_,z_),lapl_fundamental_eq2(a_,d_,t_,z_).replace('exp_polar','exp'), modules='mpmath')\n",
    "\n",
    "def Gamma(a, z0, z1):\n",
    "    return mp.gammainc(a, z0) - mp.gammainc(a, z1)\n",
    "\n",
    "def lapl_feq2(a,d,t,z): # Solution computed from Mathematica using a and d\n",
    "    return t + ((-d)**(-(a*t) + z)*Gamma(a*t - z,0,-d))/mp.exp(d)"
   ]
  },
  {
   "cell_type": "markdown",
   "metadata": {},
   "source": [
    "#### 2. Look for the spectrum of the adjacency matrix (planted partition n=50, B=2, pin=0.5,pout=0.5)"
   ]
  },
  {
   "cell_type": "code",
   "execution_count": null,
   "metadata": {},
   "outputs": [],
   "source": [
    "def spectral_density(n,b,pin,pout,zmin,zmax,dz, matrix,**kwargs):\n",
    "    # Solve Eq.2 given z, look for tr\n",
    "    all_rho = []\n",
    "    count = 0\n",
    "    eps = kwargs.get('eps',1E-9)\n",
    "    tr = [0]*b\n",
    "    for r in range(0,b):\n",
    "        # Now solve the equation for t and increasing z in iterative way\n",
    "        z0 = zmin + eps*1j\n",
    "        t0 = (np.random.random() + np.random.random()*1j) * 1E-3\n",
    "        tr[r] = t0\n",
    "        z = z0        \n",
    "        nz = int((zmax-zmin)/dz)\n",
    "        while np.real(z) < zmax:\n",
    "            print('\\r', count/(b*nz)*100.0,'%', '-- ',matrix, end='')\n",
    "            if matrix is 'laplacian':\n",
    "                tr[r] = mp.findroot(lambda t: lapl_feq(n,b,pin,pout,t,z), x0 = tr[r], solver='muller') # important to use the \"muller\" solver\n",
    "            elif matrix is 'adjacency':\n",
    "                tr[r] = mp.findroot(lambda t: adj_feq(n,b,pin,pout,t,z),  x0 = tr[r], solver='muller') # important to use the \"muller\" solver\n",
    "            else:\n",
    "                raise 'not supported matrix'\n",
    "            z += dz\n",
    "            rhoz = -1/(n*mp.pi)*(n/b*tr[r].imag)\n",
    "            all_rho.append(rhoz)\n",
    "            count += 1\n",
    "    \n",
    "    for z in np.linspace(zmin,zmax,nz):\n",
    "        det = sp.ones(b)\n",
    "        for r in range(0,b):\n",
    "            det -= \n",
    "    # Solve Eq.4 \n",
    "    ts1 = sp.Symbol('ts1',complex=True)\n",
    "    ts2 = sp.Symbol('ts2',complex=True)\n",
    "    det = sp.eye(b) - (sp.eye(b)*sp.diag([ts1,ts2])*sp.Matrix([[pin,pout],[pout,pin]])*sp.Matrix() )\n",
    "    \n",
    "    all_rho = np.array(all_rho).flatten()    \n",
    "    return np.linspace(zmin,zmax,nz), np.reshape(all_rho,[b,nz]).sum(axis=0)\n",
    "\n",
    "# This version takes a,d parameters\n",
    "def spectral_density2(a,d,b,zmin,zmax,dz, matrix,**kwargs):\n",
    "    # Solve Eq.2 given z, look for tr\n",
    "    all_rho = []\n",
    "    count = 0\n",
    "    eps = kwargs.get('eps',1E-9)\n",
    "    tr = [0]*b\n",
    "    for r in range(0,b):\n",
    "        # Now solve the equation for t and increasing z in iterative way\n",
    "        z0 = zmin + eps*1j\n",
    "        t0 = (np.random.random() + np.random.random()*1j) * 1E-3\n",
    "        tr[r] = t0\n",
    "        z = z0        \n",
    "        nz = int((zmax-zmin)/dz)\n",
    "        while np.real(z) < zmax:\n",
    "            print('\\r', count/(b*nz)*100.0,'%', '-- ',matrix, end='')\n",
    "            if matrix is 'laplacian':\n",
    "                tr[r] = mp.findroot(lambda t: lapl_feq2(a,d,t,z), x0 = tr[r], solver='muller') # important to use the \"muller\" solver\n",
    "            elif matrix is 'adjacency':\n",
    "                tr[r] = mp.findroot(lambda t: adj_feq2(a,d,t,z),  x0 = tr[r], solver='muller') # important to use the \"muller\" solver\n",
    "            else:\n",
    "                raise 'not supported matrix'\n",
    "            z += dz\n",
    "            rhoz = -1/(n*mp.pi)*np.array([n/b*tr[r].imag for r in range(0,b)]).sum()\n",
    "            all_rho.append(rhoz)\n",
    "            count += 1\n",
    "    \n",
    "    # Solve Eq.4 for t\n",
    "    while np.real(z) < zmax:\n",
    "        #det = lambda t: (sp.eye(b) - t*n/b*sp.Matrix([[pin,pout],[pout,pin]])).det()\n",
    "        sp.eye(b) - \n",
    "        (mp.eye(b) - t*n/b*((mp.ones(b)-mp.eye(b))*pout + mp.eye(b)*pin)).det()\n",
    "        mp.eigh(mp.matrix([[pin,pout],[pout,pin]]))\n",
    "        zi = d + a*t + b/n*sp.eig\n",
    "        \n",
    "    all_rho = np.array(all_rho).flatten()\n",
    "    \n",
    "    return np.linspace(zmin,zmax,nz), np.reshape(all_rho,[b,nz]).sum(axis=0)"
   ]
  },
  {
   "cell_type": "markdown",
   "metadata": {},
   "source": [
    "#### 3. Verify the results with the corresponding numerical simulation"
   ]
  },
  {
   "cell_type": "code",
   "execution_count": null,
   "metadata": {},
   "outputs": [],
   "source": [
    "def planted_partition_graph(n,b,pin,pout):\n",
    "    nb = int(n/b)\n",
    "    A = (np.random.random((n,n)) < pout).astype(float)\n",
    "    for i in range(0,b):\n",
    "        T = np.triu((np.random.random((nb,nb))<pin).astype(float))\n",
    "        T = T+T.T\n",
    "        A[i*nb:(i+1)*nb,i*nb:(i+1)*nb] = T\n",
    "        \n",
    "    np.fill_diagonal(A,0)\n",
    "    A = np.triu(A)\n",
    "    A = A+A.T\n",
    "    return A"
   ]
  },
  {
   "cell_type": "code",
   "execution_count": null,
   "metadata": {},
   "outputs": [],
   "source": [
    "n, b, pin, pout = 2000, 2, 0.8, 0.8\n",
    "\n",
    "eigs_l,eigs_a = [], []\n",
    "for i in range(0,50):\n",
    "    print('\\r',i,end='')\n",
    "    #A = nx.to_numpy_array(nx.planted_partition_graph(b,int(n/b),pin,pout),dtype=np.float128)\n",
    "    A = planted_partition_graph(n,b,pin,pout)\n",
    "    L=np.diag(A.sum(axis=0))-A\n",
    "    eigs_a.append(scipy.linalg.eigvalsh(A))\n",
    "    eigs_l.append(scipy.linalg.eigvalsh(L))\n",
    "eigs_a = np.array(eigs_a).flatten()\n",
    "eigs_l = np.array(eigs_l).flatten()"
   ]
  },
  {
   "cell_type": "code",
   "execution_count": null,
   "metadata": {},
   "outputs": [],
   "source": [
    "dz=0.1\n",
    "#all_z_adj,rho_adj  = spectral_density(n,b,pin,pout, -40,40, dz,'adjacency',eps=1E-9)\n",
    "a = (eigs_a.min()/2)**2\n",
    "print(a)\n",
    "all_z_adj,rho_adj  = spectral_density2(a, 0, b, -60, 60, dz,'adjacency', eps=1E-9)\n",
    "#all_z_lapl,rho_lapl  = spectral_density2(a,n*pin,b,3000, 3500,  50,'laplacian',eps=1E-9)"
   ]
  },
  {
   "cell_type": "code",
   "execution_count": null,
   "metadata": {},
   "outputs": [],
   "source": [
    "fig,ax = plt.subplots(ncols=2,nrows=1,figsize=(16,6))\n",
    "ax[0].hist(eigs_a,2000,density=True,color='blue',alpha=0.4)\n",
    "ax[0].plot(all_z_adj,rho_adj)\n",
    "#ax[0].set_title('Adjacency n=%d B=%d $p_{in}$=%.2f $p_{out}$=%.2f' % (n,b,pin,pout),color='w')\n",
    "ax[0].set_xlim([-70,70])\n",
    "####\n",
    "ax[1].hist(eigs_l,1000,density=True,color='blue',alpha=0.4)\n",
    "#ax[1].plot(all_z_lapl, rho_lapl)\n",
    "ax[1].set_xlim([1250,1750])\n",
    "#ax[1].set_title('Laplacian n=%d B=%d $p_{in}$=%.2f $p_{out}$=%.2f' % (n,b,pin,pout),color='w')\n",
    "#plt.subplots_adjust()\n",
    "plt.show()"
   ]
  },
  {
   "cell_type": "code",
   "execution_count": null,
   "metadata": {},
   "outputs": [],
   "source": [
    "plt.hist(eigs_l[np.logical_and(eigs_l<1600, eigs_l>100)] ,2000,density=True,color='blue',alpha=0.4)\n",
    "plt.show()"
   ]
  },
  {
   "cell_type": "code",
   "execution_count": null,
   "metadata": {},
   "outputs": [],
   "source": [
    "n, b, pin, pout = 100.0, 8, 1, 1\n",
    "# Now solve the equation for t and increasing z in iterative way\n",
    "t0 = (np.random.random() + np.random.random()*1j) * 1E-3\n",
    "eps = 1E-9\n",
    "z0 = -20 + eps*1j\n",
    "zmax = 20\n",
    "dz = 0.1\n",
    "\n",
    "z = z0\n",
    "t = t0\n",
    "\n",
    "allt, allz = [], []\n",
    "a = 10\n",
    "d = 0\n",
    "print(2*np.sqrt(a)-d)\n",
    "while np.real(z) < zmax:\n",
    "    print('\\r',eps,(np.real(z)/zmax)*100,'%',end='')\n",
    "    t = mp.findroot(lambda x: adj_feq2(a,d,x,z), x0 = t,solver='muller') # important to use the \"muller\" solver\n",
    "    allz.append(z)\n",
    "    z += dz\n",
    "    allt.append(t)\n",
    "allz = np.array([np.real(zz) for zz in allz])\n",
    "allt = np.array([tt.imag for tt in allt])\n",
    "plt.plot(allz,-1/(np.pi)*allt)\n",
    "tmax = np.max(-1/(np.pi)*allt)\n",
    "plt.vlines(-2*np.sqrt(a)+d,ymin=0,ymax=tmax)\n",
    "plt.vlines(2*np.sqrt(a)+d, ymin=0,ymax=tmax)"
   ]
  },
  {
   "cell_type": "code",
   "execution_count": null,
   "metadata": {},
   "outputs": [],
   "source": [
    "n, b, pin, pout = 500.0, 2, 0.8, 0.2\n",
    "import networkx as nx\n",
    "eigs_l,eigs_a = [], []\n",
    "for i in range(0,100):\n",
    "    A = nx.to_numpy_array(nx.planted_partition_graph(b,int(n/b),pin,pout))\n",
    "    L=np.diag(A.sum(axis=0))-A\n",
    "    #eigs_a.append(scipy.linalg.eigvalsh(A))\n",
    "    eigs_l.append(scipy.linalg.eigvalsh(L))\n",
    "eigs_a = np.array(eigs_a).flatten()\n",
    "eigs_l = np.array(eigs_l).flatten()"
   ]
  },
  {
   "cell_type": "code",
   "execution_count": null,
   "metadata": {},
   "outputs": [],
   "source": [
    "n, b, pin, pout = 500.0, 2, 0.8, 0.2\n",
    "for count,a in enumerate(np.linspace(250,300,5)):\n",
    "    # Now solve the equation for t and increasing z in iterative way\n",
    "    t0 = (np.random.random() + np.random.random()*1j) * 1E-3\n",
    "    eps = 1E-9\n",
    "    z0 = 1000.0 + eps*1j\n",
    "    zmax = 1800\n",
    "    dz = 5\n",
    "\n",
    "    z = z0\n",
    "    t = t0\n",
    "\n",
    "    allt, allz = [], []\n",
    "    #a = 1\n",
    "    d = n/b*(pin+pout)\n",
    "    while np.real(z) < zmax:\n",
    "        print('\\r',count,eps,(np.real(z)/zmax)*100,'%',end='')\n",
    "        t = mp.findroot(lambda x: lapl_feq2(a,d,x,z), x0 = t,solver='muller') # important to use the \"muller\" solver\n",
    "        allz.append(z)\n",
    "        z += dz\n",
    "        allt.append(t)\n",
    "    allz = np.array([np.real(zz) for zz in allz])\n",
    "    allt = np.array([tt.imag for tt in allt])\n",
    "    plt.figure()\n",
    "    plt.plot(allz,np.abs(-1/(np.pi)*allt))\n",
    "    plt.hist(eigs_l,400,density=True,color='blue',alpha=0.4)\n",
    "    plt.title('a=%1.1f'%a)\n",
    "plt.show()"
   ]
  },
  {
   "cell_type": "code",
   "execution_count": null,
   "metadata": {},
   "outputs": [],
   "source": []
  }
 ],
 "metadata": {
  "kernelspec": {
   "display_name": "Python 3",
   "language": "python",
   "name": "python3"
  },
  "language_info": {
   "codemirror_mode": {
    "name": "ipython",
    "version": 3
   },
   "file_extension": ".py",
   "mimetype": "text/x-python",
   "name": "python",
   "nbconvert_exporter": "python",
   "pygments_lexer": "ipython3",
   "version": "3.5.2"
  }
 },
 "nbformat": 4,
 "nbformat_minor": 2
}
