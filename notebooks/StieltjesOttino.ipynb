{
 "cells": [
  {
   "cell_type": "code",
   "execution_count": 1,
   "metadata": {},
   "outputs": [],
   "source": [
    "%reload_ext autoreload\n",
    "%autoreload 2"
   ]
  },
  {
   "cell_type": "markdown",
   "metadata": {},
   "source": [
    "### Define the Stieltjes transform $t_r(z)$ as in Peixoto 2013, Spectra of random modular graphs and the symbols"
   ]
  },
  {
   "cell_type": "code",
   "execution_count": 2,
   "metadata": {},
   "outputs": [],
   "source": [
    "import sys\n",
    "sys.path.append('..')\n",
    "import numpy as np\n",
    "from numpy.random import random as rand\n",
    "\n",
    "import networkqit as nq\n",
    "import networkx as nx\n",
    "\n",
    "from networkqit import graph_laplacian as GL\n",
    "from networkqit import normalized_graph_laplacian as NGL\n",
    "\n",
    "import scipy.optimize\n",
    "import scipy.linalg\n",
    "\n",
    "import matplotlib.pyplot as plt\n",
    "import seaborn as sns\n",
    "plt.style.use('ggplot')\n",
    "\n",
    "import sympy as sp\n",
    "import sympyprinting as spp\n",
    "from sympy import init_printing\n",
    "\n",
    "import mpmath as mp\n",
    "import networkx as nx\n",
    "init_printing()"
   ]
  },
  {
   "cell_type": "code",
   "execution_count": 20,
   "metadata": {},
   "outputs": [
    {
     "data": {
      "image/png": "[encoded data removed]",
      "text/latex": [
       "$$t + e^{- d} \\sum_{c=0}^{\\infty} \\frac{d^{c}}{\\left(a t + c - z\\right) \\Gamma{\\left(c + 1 \\right)}}$$"
      ],
      "text/plain": [
       "          ∞                         \n",
       "         ____                       \n",
       "         ╲                          \n",
       "          ╲              c          \n",
       "     -d    ╲            d           \n",
       "t + ℯ  ⋅   ╱  ──────────────────────\n",
       "          ╱   (a⋅t + c - z)⋅Γ(c + 1)\n",
       "         ╱                          \n",
       "         ‾‾‾‾                       \n",
       "        c = 0                       "
      ]
     },
     "execution_count": 20,
     "metadata": {},
     "output_type": "execute_result"
    }
   ],
   "source": [
    "a = sp.Symbol('a',real=True)\n",
    "b = sp.Symbol('b',real=True)\n",
    "d = sp.Symbol('d',real=True)\n",
    "c = sp.Symbol('c',integer=True)\n",
    "z = sp.Symbol('z',complex=True)\n",
    "t = sp.Symbol('t',complex=True)\n",
    "sp.simplify(t-sp.summation((sp.exp(-d)*(d**c)/sp.gamma(c+1))/(z-c-a*t),(c,0,sp.oo)))\n",
    "#sp.simplify(sp.summation(sp.exp(-d)*(d**c)/sp.factorial(c),(c,0,z)))"
   ]
  },
  {
   "cell_type": "markdown",
   "metadata": {},
   "source": [
    "## Define utility functions to generate networks"
   ]
  },
  {
   "cell_type": "code",
   "execution_count": null,
   "metadata": {},
   "outputs": [],
   "source": [
    "def planted_partition_graph(n,b,pin,pout):\n",
    "    nb = int(n/b)\n",
    "    A = (np.random.random((n,n)) < pout).astype(float)\n",
    "    for i in range(0,b):\n",
    "        T = np.triu((np.random.random((nb,nb))<pin).astype(float))\n",
    "        T = T+T.T\n",
    "        A[i*nb:(i+1)*nb,i*nb:(i+1)*nb] = T\n",
    "        \n",
    "    np.fill_diagonal(A,0)\n",
    "    A = np.triu(A)\n",
    "    A = A+A.T\n",
    "    return A\n",
    "\n",
    "def hierarchical_random_graph(sigma2rs,nr):\n",
    "    N = np.sum(nr)\n",
    "    A = np.zeros([N,N])\n",
    "    b = len(sigma2rs)\n",
    "    idx = np.cumsum([0]+nr)\n",
    "    for i in range(0,b):\n",
    "        ri  = np.array(range(idx[i],idx[i+1]+1))\n",
    "        for j in range(0,b):\n",
    "            rj  = np.array(range(idx[j],idx[j+1]+1))\n",
    "            A[ri.min():ri.max(),rj.min():rj.max()] = np.random.random([len(ri)-1,len(rj)-1]) < sigma2rs[i,j]\n",
    "    A = np.triu(A,1)\n",
    "    A += A.T\n",
    "    return A"
   ]
  },
  {
   "cell_type": "markdown",
   "metadata": {},
   "source": [
    "### Generate an example network"
   ]
  },
  {
   "cell_type": "code",
   "execution_count": 10,
   "metadata": {},
   "outputs": [
    {
     "data": {
      "image/png": "[encoded data removed]",
      "text/latex": [
       "$$\\frac{d^{2} e^{- d}}{2 \\left(a t - z + 2\\right)} + \\frac{d e^{- d}}{a t - z + 1} + t + \\frac{e^{- d}}{a t - z}$$"
      ],
      "text/plain": [
       "      2  -d             -d             -d  \n",
       "     d ⋅ℯ            d⋅ℯ              ℯ    \n",
       "─────────────── + ─────────── + t + ───────\n",
       "2⋅(a⋅t - z + 2)   a⋅t - z + 1       a⋅t - z"
      ]
     },
     "execution_count": 10,
     "metadata": {},
     "output_type": "execute_result"
    }
   ],
   "source": [
    "from sympy.abc import c,d,z,a,t\n",
    "sp.simplify(t-sp.summation((sp.exp(-d)*(d**c)/sp.factorial(c))/(z-c-a*t),(c,0,2)))"
   ]
  },
  {
   "cell_type": "code",
   "execution_count": null,
   "metadata": {},
   "outputs": [],
   "source": [
    "sigma2 = np.array([[0.8,0.2],[0.2,0.2]])\n",
    "M = np.kron(sigma2,sigma2)#,np.array([[0.8,0.1],[0.5,1]])\n",
    "#M = np.array([[0.5]])\n",
    "#M = ( M+M.T) / 2\n",
    "print(M.shape)\n",
    "#nr = [20,30,40,50]\n",
    "nr = [1000,500]*2\n",
    "\n",
    "reps = 5\n",
    "a = np.array([scipy.linalg.eigvalsh(hierarchical_random_graph(M, nr)) for i in range(0,reps)]).flatten()\n",
    "l = np.array([scipy.linalg.eigvalsh(GL(hierarchical_random_graph(M, nr))) for i in range(0,reps)]).flatten()\n",
    "nl = np.array([scipy.linalg.eigvalsh(NGL(hierarchical_random_graph(M, nr))) for i in range(0,reps)]).flatten()"
   ]
  },
  {
   "cell_type": "markdown",
   "metadata": {},
   "source": [
    "## Plot them separately, together with their spectra"
   ]
  },
  {
   "cell_type": "code",
   "execution_count": null,
   "metadata": {},
   "outputs": [],
   "source": [
    "plt.figure(figsize=(24,8))\n",
    "plt.subplot(2,3,1)\n",
    "plt.imshow(hierarchical_random_graph(M, nr))\n",
    "plt.grid(False)\n",
    "\n",
    "plt.subplot(2,3,2)\n",
    "plt.imshow(M)\n",
    "plt.grid(False)\n",
    "\n",
    "plt.subplot(2,3,3)\n",
    "plt.hist(a,200)\n",
    "\n",
    "plt.subplot(2,3,4)\n",
    "plt.hist(l,200)\n",
    "\n",
    "plt.subplot(2,3,6)\n",
    "plt.hist(nl,200)\n",
    "plt.show()"
   ]
  },
  {
   "cell_type": "markdown",
   "metadata": {},
   "source": [
    "## Define the functions to compute the spectral density"
   ]
  },
  {
   "cell_type": "code",
   "execution_count": null,
   "metadata": {},
   "outputs": [],
   "source": [
    "def compute_tr(z, t0, sigma2, nr, pr_, tol=1E-16, maxsteps=100):\n",
    "    b = sigma2.shape[0]\n",
    "    if len(nr) != b:\n",
    "        raise 'sigma2rs and nr must have same dimensions'\n",
    "    \n",
    "    # Define the variables $t_r(z)$ which are the Stieltjes transforms to look for\n",
    "    tr_ = [sp.symbols('t'+str(i),complex=True) for i in range(0,b)]\n",
    "    Eq2 = []\n",
    "    for r in range(0,b):\n",
    "        c_ = list(pr_[r].free_symbols)[0]\n",
    "        sum_sigma2rs_ns_ts = np.array([sigma2[r,s]*nr[s]*tr_[s] for s in range(0,b)]).sum()\n",
    "        #print(sum_sigma2rs_ns_ts)\n",
    "        fund_eq = tr_[r] -  sp.summation( pr_[r]/(z - c_ - sum_sigma2rs_ns_ts ) , (c_,0,sp.oo))\n",
    "        # Simplify the fundamental Equation\n",
    "        fund_eq = sp.simplify(fund_eq)\n",
    "        # Generate its lambdified expression, for evaluation with mpmath\n",
    "        F = sp.lambdify(tr_,fund_eq.replace('exp_polar','exp'), modules='mpmath')\n",
    "        # Append in the list of equations to be solved simulateously\n",
    "        Eq2.append(F)\n",
    "    # Now look for the solutions with respect to [t0,t1,...,tb] at this given z\n",
    "    t = mp.findroot(Eq2, x0=t0, solver='muller', tol=tol, maxsteps=maxsteps)    \n",
    "    return [t[i] for i in range(0,b)]\n",
    "\n",
    "def compute_detached_tr(M, z0, t0, nr, pr_, eps=1E-12,maxsteps=100):\n",
    "    b = M.shape[0]\n",
    "    if len(nr) != b:\n",
    "        raise 'Incompatible size of matrix M and total number of blocks'\n",
    "    IB = sp.eye(b)\n",
    "    NB = sp.diag(*nr)\n",
    "    def TzB(z):\n",
    "        val = sp.diag(*compute_tr(z+eps*1j, t0, M, nr, pr_))\n",
    "        return val\n",
    "    \n",
    "    def eq4(z): # Equation 4 of Peixoto paper\n",
    "        det = sp.simplify((IB - TzB(z)*M*NB).det())\n",
    "        return mp.mpc(det)\n",
    "    \n",
    "    def trsum(z):\n",
    "        tr = compute_tr(z+eps*1j, t0, M, nr, [sp.KroneckerDelta(sp.Symbol('c',integer=True),0)] * b)\n",
    "        return np.sum([t.imag for t in tr])\n",
    "    z_detached =  mp.findroot(lambda z : eq4(z), x0= mp.mpc(z0), solver='muller', verbose=False, maxsteps=maxsteps)\n",
    "    return z_detached\n",
    "\n",
    "def compute_rho(allz, M, nr, matrix, eps=1E-12, maxsteps=150, include_isolated=False, t0=None):\n",
    "    import time\n",
    "    from etaprogress.progress import ProgressBar\n",
    "\n",
    "    bar = ProgressBar(len(allz), max_width=40)\n",
    "    \n",
    "    allzlist = allz.tolist()\n",
    "    rho = np.zeros_like(allz) # initialize rho as zeros\n",
    "    rholist = rho.tolist()\n",
    "    b = M.shape[0]\n",
    "    if t0 is None:\n",
    "        t0 = [0 + 0.001j] * b # use a default initial value for the stieltjes transform tr\n",
    "    pr = None\n",
    "    c = sp.Symbol('c',integer=True) # symbolic variable to sum over in the fundamental equation\n",
    "    N = np.sum(nr) # total number of nodes\n",
    "    nrns = np.array([ [(nr[r]*(nr[s]-1)) if r==s else nr[r]*nr[s] for s in range(0,b)] for r in range(0,b)])\n",
    "    ers = np.multiply(M,nrns) # elementwise multiplication\n",
    "    dr = np.diagonal(np.diag(nr)*M)\n",
    "    # Define the pr variable depending on the matrix to investigate\n",
    "    if matrix is 'laplacian':\n",
    "        pr = [sp.exp(-dr[r]) * (dr[r]**c) / sp.gamma(c + 1) for r in range(0,b)]\n",
    "    elif matrix is 'adjacency':\n",
    "        pr = [sp.KroneckerDelta(c,0) for i in range(0,b)]\n",
    "    elif matrix is 'norm_laplacian':\n",
    "        pr = [sp.KroneckerDelta(c,1) for i in range(0,b)]\n",
    "\n",
    "    print('Continuos band')\n",
    "    for i,z in enumerate(allz):\n",
    "        bar.numerator = i+1\n",
    "        #print('\\r',bar,end='')\n",
    "        t = compute_tr(z + eps*1j, t0, M, nr, pr)\n",
    "        t0 = t\n",
    "        rho[i] = -(1.0 / (N*np.pi)) * np.sum([nr[r]*(t[r].imag) for r in range(0,b)])\n",
    "        print('\\r%s Percent done=%.1f %%\\tz=%.2f\\trho(z)=%g\\t%s' % (bar,float(i+1)/len(allz)*100,z,rho[i],t), end='')\n",
    "\n",
    "    # Then look for the detached eigenvalues by looking for the z such that it solves Eq.4=0\n",
    "    # where rho is 0 look for separate eigenvalues\n",
    "    if include_isolated:\n",
    "        zi,ti = None,None\n",
    "        print('\\nDiscrete band')\n",
    "        zi = mp.mpc(np.min(allz))\n",
    "        for z in allz:\n",
    "            if mp.re(zi) <= z:\n",
    "                lastzi = zi\n",
    "                zi = compute_detached_tr(M, z, [1E-5j] * b, nr, pr, maxsteps=maxsteps)\n",
    "                if np.abs(mp.re(lastzi)-mp.re(zi)) > eps:\n",
    "                    allzlist.append(mp.re(zi))\n",
    "                    rholist.append(0.05) # to avoid considering same solution twice\n",
    "                    print('found isolated eigenvalue zi=%g' % (zi.real))\n",
    "\n",
    "        return allzlist, rholist\n",
    "    else:\n",
    "        return allz, rho"
   ]
  },
  {
   "cell_type": "markdown",
   "metadata": {},
   "source": [
    "## Compute adjacency spectrum"
   ]
  },
  {
   "cell_type": "code",
   "execution_count": null,
   "metadata": {},
   "outputs": [],
   "source": [
    "allz, rho = compute_rho(np.linspace(-70,70,10), M, nr, 'adjacency', eps=1E-6, maxsteps=300, include_isolated=False)"
   ]
  },
  {
   "cell_type": "markdown",
   "metadata": {},
   "source": [
    "# Plot adjacency spectrum"
   ]
  },
  {
   "cell_type": "code",
   "execution_count": null,
   "metadata": {},
   "outputs": [],
   "source": [
    "plt.figure(figsize=(12,8))\n",
    "x = plt.hist(a,bins=500, density=True)\n",
    "norm_factor = 1\n",
    "plt.plot(allz/norm_factor,rho*norm_factor)\n",
    "plt.show()"
   ]
  },
  {
   "cell_type": "markdown",
   "metadata": {},
   "source": [
    "## Compute Laplacian spectrum"
   ]
  },
  {
   "cell_type": "code",
   "execution_count": null,
   "metadata": {},
   "outputs": [],
   "source": [
    "allz, rho = compute_rho(np.linspace(0,300,50), M, nr, 'laplacian', eps=1E-9, maxsteps=200, include_isolated=False,t0=[(0+1j)*1E-6]*len(nr))"
   ]
  },
  {
   "cell_type": "code",
   "execution_count": null,
   "metadata": {},
   "outputs": [],
   "source": [
    "plt.figure(figsize=(12,8))\n",
    "#x = plt.hist(l,bins=500, density=True)\n",
    "norm_factor = 1\n",
    "plt.plot(allz/norm_factor,rho*norm_factor)\n",
    "plt.show()"
   ]
  },
  {
   "cell_type": "code",
   "execution_count": null,
   "metadata": {},
   "outputs": [],
   "source": [
    "plt.plot(allz,rho)"
   ]
  },
  {
   "cell_type": "code",
   "execution_count": null,
   "metadata": {},
   "outputs": [],
   "source": []
  }
 ],
 "metadata": {
  "kernelspec": {
   "display_name": "Python 3",
   "language": "python",
   "name": "python3"
  },
  "language_info": {
   "codemirror_mode": {
    "name": "ipython",
    "version": 3
   },
   "file_extension": ".py",
   "mimetype": "text/x-python",
   "name": "python",
   "nbconvert_exporter": "python",
   "pygments_lexer": "ipython3",
   "version": "3.5.2"
  }
 },
 "nbformat": 4,
 "nbformat_minor": 2
}
