{
 "cells": [
  {
   "cell_type": "code",
   "execution_count": 65,
   "metadata": {},
   "outputs": [],
   "source": [
    "%reload_ext autoreload\n",
    "%autoreload 2"
   ]
  },
  {
   "cell_type": "code",
   "execution_count": 66,
   "metadata": {},
   "outputs": [],
   "source": [
    "import sys\n",
    "sys.path.append('..')\n",
    "import numpy as np\n",
    "from numpy.random import random as rand\n",
    "\n",
    "import networkqit as nq\n",
    "import networkx as nx\n",
    "\n",
    "from networkqit import graph_laplacian as GL\n",
    "\n",
    "import scipy.optimize\n",
    "import scipy.linalg\n",
    "\n",
    "import matplotlib.pyplot as plt\n",
    "import seaborn as sns\n",
    "plt.style.use('ggplot')\n",
    "\n",
    "import sympy as sp\n",
    "import sympyprinting as spp\n",
    "from sympy import init_printing\n",
    "\n",
    "import mpmath as mp\n",
    "import networkx as nx"
   ]
  },
  {
   "cell_type": "markdown",
   "metadata": {},
   "source": [
    "#### 1. Define the Stieltjes transform $t_r(z)$ as in Peixoto 2013, Spectra of random modular graphs and the symbols"
   ]
  },
  {
   "cell_type": "code",
   "execution_count": 67,
   "metadata": {},
   "outputs": [],
   "source": [
    "n_=sp.Symbol('n',integer=True)\n",
    "pin_=sp.Symbol('pin',real=True)\n",
    "pout_=sp.Symbol('pout',real=True)\n",
    "a_=sp.Symbol('a',real=True)\n",
    "d_=sp.Symbol('d',real=True)\n",
    "c_=sp.Symbol('c',integer=True)\n",
    "z_=sp.Symbol('z',complex=True)\n",
    "b_=sp.Symbol('b',integer=True)\n",
    "t_=sp.Symbol('t',complex=True)\n",
    "\n",
    "# this is the average degree in the planted partition model with B blocks and n nodes\n",
    "def avg_deg_planted(n,b,pin,pout):\n",
    "    return pin * n / b + (b-1) * pout * n / b\n",
    "\n",
    "def poisspdf(k,l):\n",
    "    return sp.exp(-l)*(l**k)/sp.gamma(k+1)\n",
    "\n",
    "def adj_fundamental_eq(n,b,pin,pout,t,z):\n",
    "    sum_sigma2rs_ns_ts = (n/b)*(pin*t_ + pout*t_)\n",
    "    return  (t_ - sp.summation(sp.KroneckerDelta(c_,0)/(z_-c_-sum_sigma2rs_ns_ts),(c_,0,sp.oo)))\n",
    "\n",
    "def adj_fundamental_eq2(a,d,t,z):\n",
    "    return  (t_ - sp.summation(sp.KroneckerDelta(c_,d_)/(z_-c_-a*t_),(c_,0,sp.oo)))\n",
    "\n",
    "def lapl_fundamental_eq(n,b,pin,pout,t,z):\n",
    "    d = (n-1) / b * (pin+pout) # average within module degree\n",
    "    sum_sigma2rs_ns_ts = (n/b)*(pin*t_ + pout*t_)\n",
    "    return  (t_ - sp.summation(poisspdf(c_,d)/(z_-c_-sum_sigma2rs_ns_ts),(c_,0,sp.oo)))\n",
    "\n",
    "def lapl_fundamental_eq2(a,d,t,z):   \n",
    "    return  (t_ - sp.summation(poisspdf(c_,d)/(z_-c_-a*t_),(c_,0,sp.oo)))\n",
    "\n",
    "adj_feq = sp.lambdify((n_,b_,pin_,pout_,t_,z_),adj_fundamental_eq(n_,b_,pin_,pout_,t_,z_).replace('exp_polar','exp'), modules='mpmath')\n",
    "adj_feq2 = sp.lambdify((a_,d_,t_,z_),adj_fundamental_eq2(a_,d_,t_,z_).replace('exp_polar','exp'), modules='mpmath')\n",
    "lapl_feq = sp.lambdify((n_,b_,pin_,pout_,t_,z_),lapl_fundamental_eq(n_,b_,pin_,pout_,t_,z_).replace('exp_polar','exp'), modules='mpmath')\n",
    "lapl_feq2 = sp.lambdify((a_,d_,t_,z_),lapl_fundamental_eq2(a_,d_,t_,z_).replace('exp_polar','exp'), modules='mpmath')"
   ]
  },
  {
   "cell_type": "markdown",
   "metadata": {},
   "source": [
    "#### 2. Look for the spectrum of the adjacency matrix (planted partition n=50, B=2, pin=0.5,pout=0.5)"
   ]
  },
  {
   "cell_type": "code",
   "execution_count": 121,
   "metadata": {},
   "outputs": [
    {
     "data": {
      "image/png": "[encoded data removed]",
      "text/latex": [
       "$$\\left [ \\left ( 0.02, \\quad t_{1}\\right ), \\quad \\left ( t_{0}, \\quad 0.02\\right )\\right ]$$"
      ],
      "text/plain": [
       "[(0.02, t₁), (t₀, 0.02)]"
      ]
     },
     "execution_count": 121,
     "metadata": {},
     "output_type": "execute_result"
    }
   ],
   "source": [
    "init_printing()\n",
    "b=2\n",
    "t = sp.symbols('t0:'+str(b),complex=True)\n",
    "pin=1\n",
    "pout=0\n",
    "n=100\n",
    "sp.solve( (sp.eye(b) - (sp.eye(b)*sp.diag(*t))*((sp.ones(b)-sp.eye(b))*pout + pin*sp.eye(b))*(n/b*sp.eye(b))).det(), t)\n",
    "#sp.Identity(b_)\n",
    "#sp.solve((sp.eye(2)-sp.Matrix([[t_,0],[0,t_]])*sp.Matrix([[pin_,pout_],[pout_,pin_]])*(n_/b_)*sp.eye(2)).det(),t_)"
   ]
  },
  {
   "cell_type": "code",
   "execution_count": 4,
   "metadata": {},
   "outputs": [],
   "source": [
    "def spectral_density(n,b,pin,pout,zmin,zmax,dz, matrix,**kwargs):\n",
    "    # Solve Eq.2 given z, look for tr\n",
    "    all_rho = []\n",
    "    count = 0\n",
    "    eps = kwargs.get('eps',1E-9)\n",
    "    tr = [0]*b\n",
    "    for r in range(0,b):\n",
    "        # Now solve the equation for t and increasing z in iterative way\n",
    "        z0 = zmin + eps*1j\n",
    "        t0 = (np.random.random() + np.random.random()*1j) * 1E-3\n",
    "        tr[r] = t0\n",
    "        z = z0        \n",
    "        nz = int((zmax-zmin)/dz)\n",
    "        while np.real(z) < zmax:\n",
    "            print('\\r', count/(b*nz)*100.0,'%', '-- ',matrix, end='')\n",
    "            if matrix is 'laplacian':\n",
    "                tr[r] = mp.findroot(lambda t: lapl_feq(n,b,pin,pout,t,z), x0 = tr[r], solver='muller') # important to use the \"muller\" solver\n",
    "            elif matrix is 'adjacency':\n",
    "                tr[r] = mp.findroot(lambda t: adj_feq(n,b,pin,pout,t,z),  x0 = tr[r], solver='muller') # important to use the \"muller\" solver\n",
    "            else:\n",
    "                raise 'not supported matrix'\n",
    "            z += dz\n",
    "            rhoz = -1/(n*mp.pi)*(n/b*tr[r].imag)\n",
    "            all_rho.append(rhoz)\n",
    "            count += 1\n",
    "    \n",
    "    for z in np.linspace(zmin,zmax,nz):\n",
    "        det = sp.ones(b)\n",
    "        for r in range(0,b):\n",
    "            det -= \n",
    "    # Solve Eq.4 \n",
    "    ts1 = sp.Symbol('ts1',complex=True)\n",
    "    ts2 = sp.Symbol('ts2',complex=True)\n",
    "    det = sp.eye(b) - (sp.eye(b)*sp.diag([ts1,ts2])*sp.Matrix([[pin,pout],[pout,pin]])*sp.Matrix() )\n",
    "    \n",
    "    all_rho = np.array(all_rho).flatten()    \n",
    "    return np.linspace(zmin,zmax,nz), np.reshape(all_rho,[b,nz]).sum(axis=0)\n",
    "\n",
    "# This version takes a,d parameters\n",
    "def spectral_density2(a,d,b,zmin,zmax,dz, matrix,**kwargs):\n",
    "    # Solve Eq.2 given z, look for tr\n",
    "    all_rho = []\n",
    "    count = 0\n",
    "    eps = kwargs.get('eps',1E-9)\n",
    "    tr = [0]*b\n",
    "    for r in range(0,b):\n",
    "        # Now solve the equation for t and increasing z in iterative way\n",
    "        z0 = zmin + eps*1j\n",
    "        t0 = (np.random.random() + np.random.random()*1j) * 1E-3\n",
    "        tr[r] = t0\n",
    "        z = z0        \n",
    "        nz = int((zmax-zmin)/dz)\n",
    "        while np.real(z) < zmax:\n",
    "            print('\\r', count/(b*nz)*100.0,'%', '-- ',matrix, end='')\n",
    "            if matrix is 'laplacian':\n",
    "                tr[r] = mp.findroot(lambda t: lapl_feq2(a,d,t,z), x0 = tr[r], solver='muller') # important to use the \"muller\" solver\n",
    "            elif matrix is 'adjacency':\n",
    "                tr[r] = mp.findroot(lambda t: adj_feq2(a,d,t,z),  x0 = tr[r], solver='muller') # important to use the \"muller\" solver\n",
    "            else:\n",
    "                raise 'not supported matrix'\n",
    "            z += dz\n",
    "            rhoz = -1/(n*mp.pi)*np.array([n/b*tr[r].imag for r in range(0,b)]).sum()\n",
    "            all_rho.append(rhoz)\n",
    "            count += 1\n",
    "\n",
    "    all_rho = np.array(all_rho).flatten()\n",
    "    \n",
    "    return np.linspace(zmin,zmax,nz), np.reshape(all_rho,[b,nz]).sum(axis=0)"
   ]
  },
  {
   "cell_type": "markdown",
   "metadata": {},
   "source": [
    "#### 3. Verify the results with the corresponding numerical simulation"
   ]
  },
  {
   "cell_type": "code",
   "execution_count": 5,
   "metadata": {},
   "outputs": [],
   "source": [
    "def planted_partition_graph(n,b,pin,pout):\n",
    "    nb = int(n/b)\n",
    "    A = (np.random.random((n,n)) < pout).astype(float)\n",
    "    for i in range(0,b):\n",
    "        T = np.triu((np.random.random((nb,nb))<pin).astype(float))\n",
    "        T = T+T.T\n",
    "        A[i*nb:(i+1)*nb,i*nb:(i+1)*nb] = T\n",
    "        \n",
    "    np.fill_diagonal(A,0)\n",
    "    A = np.triu(A)\n",
    "    A = A+A.T\n",
    "    return A"
   ]
  },
  {
   "cell_type": "code",
   "execution_count": 45,
   "metadata": {},
   "outputs": [
    {
     "name": "stdout",
     "output_type": "stream",
     "text": [
      " 49"
     ]
    }
   ],
   "source": [
    "n, b, pin, pout = 2000, 2, 0.8, 0.8\n",
    "\n",
    "eigs_l,eigs_a = [], []\n",
    "for i in range(0,50):\n",
    "    print('\\r',i,end='')\n",
    "    #A = nx.to_numpy_array(nx.planted_partition_graph(b,int(n/b),pin,pout),dtype=np.float128)\n",
    "    A = planted_partition_graph(n,b,pin,pout)\n",
    "    L=np.diag(A.sum(axis=0))-A\n",
    "    eigs_a.append(scipy.linalg.eigvalsh(A))\n",
    "    eigs_l.append(scipy.linalg.eigvalsh(L))\n",
    "eigs_a = np.array(eigs_a).flatten()\n",
    "eigs_l = np.array(eigs_l).flatten()"
   ]
  },
  {
   "cell_type": "code",
   "execution_count": 50,
   "metadata": {},
   "outputs": [
    {
     "name": "stdout",
     "output_type": "stream",
     "text": [
      "338.56523629534166\n",
      " 99.95833333333334 % --  adjacency"
     ]
    }
   ],
   "source": [
    "dz=0.1\n",
    "#all_z_adj,rho_adj  = spectral_density(n,b,pin,pout, -40,40, dz,'adjacency',eps=1E-9)\n",
    "a = (eigs_a.min()/2)**2\n",
    "print(a)\n",
    "all_z_adj,rho_adj  = spectral_density2(a, 0, b, -60, 60, dz,'adjacency', eps=1E-9)\n",
    "#all_z_lapl,rho_lapl  = spectral_density2(a,n*pin,b,3000, 3500,  50,'laplacian',eps=1E-9)"
   ]
  },
  {
   "cell_type": "code",
   "execution_count": 52,
   "metadata": {},
   "outputs": [
    {
     "data": {
      "image/png": "[encoded data removed]",
      "text/plain": [
       "<Figure size 1152x432 with 2 Axes>"
      ]
     },
     "metadata": {},
     "output_type": "display_data"
    }
   ],
   "source": [
    "fig,ax = plt.subplots(ncols=2,nrows=1,figsize=(16,6))\n",
    "ax[0].hist(eigs_a,2000,density=True,color='blue',alpha=0.4)\n",
    "ax[0].plot(all_z_adj,rho_adj)\n",
    "#ax[0].set_title('Adjacency n=%d B=%d $p_{in}$=%.2f $p_{out}$=%.2f' % (n,b,pin,pout),color='w')\n",
    "ax[0].set_xlim([-70,70])\n",
    "####\n",
    "ax[1].hist(eigs_l,1000,density=True,color='blue',alpha=0.4)\n",
    "#ax[1].plot(all_z_lapl, rho_lapl)\n",
    "ax[1].set_xlim([1250,1750])\n",
    "#ax[1].set_title('Laplacian n=%d B=%d $p_{in}$=%.2f $p_{out}$=%.2f' % (n,b,pin,pout),color='w')\n",
    "#plt.subplots_adjust()\n",
    "plt.show()"
   ]
  },
  {
   "cell_type": "code",
   "execution_count": 64,
   "metadata": {},
   "outputs": [
    {
     "data": {
      "image/png": "[encoded data removed]",
      "text/plain": [
       "<Figure size 432x288 with 1 Axes>"
      ]
     },
     "metadata": {},
     "output_type": "display_data"
    }
   ],
   "source": [
    "plt.hist(eigs_l[np.logical_and(eigs_l<1600, eigs_l>100)] ,2000,density=True,color='blue',alpha=0.4)\n",
    "plt.show()"
   ]
  },
  {
   "cell_type": "code",
   "execution_count": null,
   "metadata": {},
   "outputs": [],
   "source": [
    "n, b, pin, pout = 100.0, 8, 1, 1\n",
    "# Now solve the equation for t and increasing z in iterative way\n",
    "t0 = (np.random.random() + np.random.random()*1j) * 1E-3\n",
    "eps = 1E-9\n",
    "z0 = -20 + eps*1j\n",
    "zmax = 20\n",
    "dz = 0.1\n",
    "\n",
    "z = z0\n",
    "t = t0\n",
    "\n",
    "allt, allz = [], []\n",
    "a = 10\n",
    "d = 0\n",
    "print(2*np.sqrt(a)-d)\n",
    "while np.real(z) < zmax:\n",
    "    print('\\r',eps,(np.real(z)/zmax)*100,'%',end='')\n",
    "    t = mp.findroot(lambda x: adj_feq2(a,d,x,z), x0 = t,solver='muller') # important to use the \"muller\" solver\n",
    "    allz.append(z)\n",
    "    z += dz\n",
    "    allt.append(t)\n",
    "allz = np.array([np.real(zz) for zz in allz])\n",
    "allt = np.array([tt.imag for tt in allt])\n",
    "plt.plot(allz,-1/(np.pi)*allt)\n",
    "tmax = np.max(-1/(np.pi)*allt)\n",
    "plt.vlines(-2*np.sqrt(a)+d,ymin=0,ymax=tmax)\n",
    "plt.vlines(2*np.sqrt(a)+d, ymin=0,ymax=tmax)"
   ]
  },
  {
   "cell_type": "code",
   "execution_count": null,
   "metadata": {},
   "outputs": [],
   "source": [
    "n, b, pin, pout = 500.0, 2, 0.8, 0.2\n",
    "import networkx as nx\n",
    "eigs_l,eigs_a = [], []\n",
    "for i in range(0,100):\n",
    "    A = nx.to_numpy_array(nx.planted_partition_graph(b,int(n/b),pin,pout))\n",
    "    L=np.diag(A.sum(axis=0))-A\n",
    "    #eigs_a.append(scipy.linalg.eigvalsh(A))\n",
    "    eigs_l.append(scipy.linalg.eigvalsh(L))\n",
    "eigs_a = np.array(eigs_a).flatten()\n",
    "eigs_l = np.array(eigs_l).flatten()"
   ]
  },
  {
   "cell_type": "code",
   "execution_count": null,
   "metadata": {},
   "outputs": [],
   "source": [
    "n, b, pin, pout = 500.0, 2, 0.8, 0.2\n",
    "for count,a in enumerate(np.linspace(250,300,5)):\n",
    "    # Now solve the equation for t and increasing z in iterative way\n",
    "    t0 = (np.random.random() + np.random.random()*1j) * 1E-3\n",
    "    eps = 1E-9\n",
    "    z0 = 1000.0 + eps*1j\n",
    "    zmax = 1800\n",
    "    dz = 5\n",
    "\n",
    "    z = z0\n",
    "    t = t0\n",
    "\n",
    "    allt, allz = [], []\n",
    "    #a = 1\n",
    "    d = n/b*(pin+pout)\n",
    "    while np.real(z) < zmax:\n",
    "        print('\\r',count,eps,(np.real(z)/zmax)*100,'%',end='')\n",
    "        t = mp.findroot(lambda x: lapl_feq2(a,d,x,z), x0 = t,solver='muller') # important to use the \"muller\" solver\n",
    "        allz.append(z)\n",
    "        z += dz\n",
    "        allt.append(t)\n",
    "    allz = np.array([np.real(zz) for zz in allz])\n",
    "    allt = np.array([tt.imag for tt in allt])\n",
    "    plt.figure()\n",
    "    plt.plot(allz,np.abs(-1/(np.pi)*allt))\n",
    "    plt.hist(eigs_l,400,density=True,color='blue',alpha=0.4)\n",
    "    plt.title('a=%1.1f'%a)\n",
    "plt.show()"
   ]
  },
  {
   "cell_type": "code",
   "execution_count": null,
   "metadata": {},
   "outputs": [],
   "source": []
  }
 ],
 "metadata": {
  "kernelspec": {
   "display_name": "Python 3",
   "language": "python",
   "name": "python3"
  },
  "language_info": {
   "codemirror_mode": {
    "name": "ipython",
    "version": 3
   },
   "file_extension": ".py",
   "mimetype": "text/x-python",
   "name": "python",
   "nbconvert_exporter": "python",
   "pygments_lexer": "ipython3",
   "version": "3.5.2"
  }
 },
 "nbformat": 4,
 "nbformat_minor": 2
}
