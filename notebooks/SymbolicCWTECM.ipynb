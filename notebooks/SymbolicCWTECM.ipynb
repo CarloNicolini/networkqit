{
 "cells": [
  {
   "cell_type": "code",
   "execution_count": 1,
   "metadata": {},
   "outputs": [],
   "source": [
    "import sympy as sp\n",
    "#from sympy.abc import k,s,t,x,y,alpha,beta,w\n",
    "sp.init_printing()"
   ]
  },
  {
   "cell_type": "markdown",
   "metadata": {},
   "source": [
    "# Define the symbols of the problem\n",
    "\n",
    "- $w_{ij}$ is the weighted adjacency matrix\n",
    "- $a_{ij}$ is the binary adjacency matrix\n",
    "- $t$ is the threshold, such that $\\Theta(w_{ij}-t)=0$\n",
    "- $\\alpha_i$ and $\\beta_i$ are the Lagrange multipliers of the problem\n",
    "- $x_i,y_i$ are defined as $x_i=e^{-\\alpha_i}$ and $y_i=e^{-\\beta_i}$"
   ]
  },
  {
   "cell_type": "code",
<<<<<<< HEAD
   "execution_count": 24,
=======
<<<<<<< HEAD
   "execution_count": 8,
=======
   "execution_count": 9,
>>>>>>> 595635ee0afb71a5444b0193b6bcb54a9fda540f
>>>>>>> 07b2a4279052ab7deae60a89bbf5add4e79cffcf
   "metadata": {},
   "outputs": [],
   "source": [
    "aij=sp.Symbol('a_{ij}', positive=True,real=True)\n",
    "wij=sp.Symbol('w_{ij}', positive=True,real=True)\n",
    "t = sp.Symbol('t', positive=True,integer=True)\n",
    "alphai = sp.Symbol('\\\\alpha_i',positive=True,real=True)\n",
    "alphaj = sp.Symbol('\\\\alpha_j',positive=True,real=True)\n",
    "betai = sp.Symbol('\\\\beta_i',positive=True,real=True)\n",
    "betaj = sp.Symbol('\\\\beta_j',positive=True,real=True)\n",
    "alphaij = sp.Symbol('\\\\alpha_{ij}',positive=True,real=True)\n",
    "betaij = sp.Symbol('\\\\beta_{ij}',positive=True,real=True)\n",
    "xi = sp.Symbol('x_i',positive=True,real=True)\n",
    "xj = sp.Symbol('x_j',positive=True,real=True)\n",
    "yi = sp.Symbol('y_i',positive=True,real=True)\n",
    "yj = sp.Symbol('y_j',positive=True,real=True)"
   ]
  },
  {
   "cell_type": "markdown",
   "metadata": {},
   "source": [
    "We then define the graph Hamiltonian as $H=\\sum_{i<j} \\alpha_{ij} \\Theta(w_{ij}-t) + \\beta_{ij} w_{ij} \\Theta(w_{ij}-t)$.\n",
    "Finally we get the partition function $Z = \\sum_{G} e^{-H(G)}$"
   ]
  },
  {
   "cell_type": "code",
<<<<<<< HEAD
   "execution_count": 34,
=======
   "execution_count": null,
   "metadata": {},
   "outputs": [],
   "source": [
    "import numpy as np\n",
    "import matplotlib.pyplot as plt\n",
    "plt.style.use('default')\n",
    "\n",
    "import matplotlib as mpl\n",
    "mpl.rcParams.update({\n",
    "    'font.family':'sans-serif',\n",
    "    'font.sans-serif':['Helvetica'],\n",
    "    'svg.fonttype':'none'\n",
    "    })\n",
    "mpl.rc('text', usetex=False)\n",
    "\n",
    "plt.figure(figsize=(10,5))\n",
    "t = 1.5\n",
    "z = np.arange(0,10)\n",
    "plt.plot(z, (z>0) + z,'o--')\n",
    "z = np.arange(0,10,0.01)\n",
    "plt.plot(z, (z>=t) + z*(z>=t),'-.r')\n",
    "plt.yticks(np.arange(0,10))\n",
    "plt.xticks(np.arange(0,10))\n",
    "plt.ylabel('$H$')\n",
    "plt.xlabel('$w_{ij}$')\n",
    "plt.legend(['UECM3 $H=\\\\sum_{i<j} \\\\alpha_{ij}\\\\Theta(w_{ij}) + \\\\beta_{ij}w_{ij}$','CWTECM $H=\\\\sum_{i<j} \\\\alpha_{ij}\\\\Theta(w_{ij}-t) + \\\\beta_{ij} w_{ij} \\\\Theta(w_{ij}-t)$'])\n",
    "plt.title('Discrete vs continuos enhanced configuration model\\n threshold=1.5')\n",
    "plt.grid()\n",
    "plt.savefig('discrete_vs_enhanced_cm.pdf',bbox_inches='tight')\n",
    "plt.show()"
   ]
  },
  {
   "cell_type": "code",
<<<<<<< HEAD
   "execution_count": 25,
=======
   "execution_count": 14,
>>>>>>> 595635ee0afb71a5444b0193b6bcb54a9fda540f
>>>>>>> 07b2a4279052ab7deae60a89bbf5add4e79cffcf
   "metadata": {},
   "outputs": [
    {
     "data": {
<<<<<<< HEAD
      "image/png": "iVBORw0KGgoAAAANSUhEUgAAAFkAAAA2BAMAAABehygTAAAAMFBMVEX///8AAAAAAAAAAAAAAAAAAAAAAAAAAAAAAAAAAAAAAAAAAAAAAAAAAAAAAAAAAAAv3aB7AAAAD3RSTlMAEIl2mSJE3e9UMqtmzbsXyEShAAAACXBIWXMAAA7EAAAOxAGVKw4bAAACuUlEQVRIDe2WMWgUQRSG/93N7eXuct5CAils1qQSm9WchQbkUESFFCuiRlBIIQhqJJV1LCwUAwchsbFYC0FQ5AhooU20TnGgEBAXVmyDxMJa/zezO9m9bArLgA9m3nvf++/dzOzd3AGDFg6CNK+XcZvQaa/nS1MzktXm8kzir8BbukN4kKvY3rAn6dkck9DaRt1nlzBT94SuQKsPSpKz2gIaEWCjFmiaiPOxrLJmcUeVc1+iKgvX5k+pMpDQV1Y/i+Nu1pUzU7OLq0xWYHfRF5pwcF2H1XZqal2CtbVC3GMUwOnAE5RwOEBbYriJcgx+0r7jJXCHJMCQT9eI46X4m6hPK1ldvZ0K1TRthW94MgGGo+VASMIxCjzGhs+WshJrsh3SiZ2xMU7awQRWOwISjpuw/crzBWDEZ3YrrIgTe3USVQ/OpWNddZJafXyKm2QHDM2x9SOMRVSm5nRlocC4K3PCoZbEQ0KTSePJ1Ec6Y4lWN44KSTiUuukBz5i0epxydhdXdrKQD2eO6eUbXESHQcvnlDM+jN32iZ8oh+1R9dM3260pIU4fY2XtSqSC2hvre1T+4312An/+wbb32d5KllvZKPuYl1PghPW+pEc5xUik7sCBF5RT4Drw1Eiz+7tITVl9kz+Y1KgDYIeasqjdhybNqXPUlOG+mNn0TJqpi9SU4VgT50O55ZVlak3RjDQ2M38mebPU0yPP1JqiZmRpwIvV3daxHcebS3HcY5ajhRfc5m2+aEjWu0hNGT7v5p47nYJMrShGL+zodNQHZkO75eksUyuKzvygegv1+7iYPc1MragVHhlQu68nJ9j3R4pTdUqxNaCW/xm8/n9Fyme/85oCvzU1s+a1vq+JpdefquuLRqcDHizNWgt1ms6awkkKFODBllhKDwQltb3Qu1m9rr3qRb4mf560/QVI76u6lzEAugAAAABJRU5ErkJggg==\n",
      "text/latex": [
       "$$\\frac{e^{- t \\left(\\beta_i + \\beta_j\\right)}}{\\beta_i + \\beta_j}$$"
=======
<<<<<<< HEAD
      "image/png": "iVBORw0KGgoAAAANSUhEUgAAALsAAAA2BAMAAABtkPVfAAAAMFBMVEX///8AAAAAAAAAAAAAAAAAAAAAAAAAAAAAAAAAAAAAAAAAAAAAAAAAAAAAAAAAAAAv3aB7AAAAD3RSTlMAEN0iVJnNiUSru3YyZu9l18v4AAAACXBIWXMAAA7EAAAOxAGVKw4bAAADsUlEQVRYCbWYS2gTQRjH/+tumqTpI1iL+AAjgt4koPWiQlAQHwcFQUUU4oOlIsgWrSBegqLgAw0IguihHn3hikbBUogK6kkiHnpRsfg4KVS8eNNvZvbL7iRpSze7H2Rm/v/vm9/M7obsboB2w5wKUJ0qMSvfoerR/cEpmUpNyM1BL9S4o4p0Hkhme7KB+UOYECpBmfZiSRZviPABHj4tcN15hTfK7cGBDcAtYjjYpkidokvCcqU8pMzp2tPDCB63LgeW70MOMDcfHVEMiV99/rlSY6qbpp1TSrsOOrhCSVxjfRhmDrDyOKFqJH4jkgV5SbZw2ZT9XnQPlmBwXkn/eP4gNSLOBiqqRuIdZHZIeZGnNffWXYrb+IbUd5FskNgq0tnUF6To+mWA3aLoun3Mtl24SDhC4rVsp2v+oOs3rFEukRKf1Gzilvu6RoBFwE9VI3ZvuOipdo/T6AJP03vjdCXvOYOYP5m1znFeSvNFztMJ1zFofI62q2oEPrWDjmXdXBqJJVrEmbzJ+xsYc3cXcJ+LlCSAitTNKpYCj0dPQNUIfGbts4JYEtijqhpa8xv6q0HPyJWCUnwx/HgCOtl0SmSNxMscLYiiHDU26V+j73XvZlbTHUFJRIGHrPHxB+jrUNNmsegt86h1v2pN0LdqXaW6Fr+eb+ljrioC/XVbG/Q6mmwS4zs1a6OmlOgezgOPWiTI6iG82zoVhZspop8Wjy0qY7XY2FGDjWVREzWeNelJ75agJdsXiWKs+DlOnPgLD++4ih/PydnubZ5vxywj6ncxJ57dr5D4k7a90raP8FKR9cZfRvHu/0UXk0hN8o2f8bxcJH2yaFUVKBZ8okw3ehmx4M0H/PMYC97bOnUz4td/8Iv9UWvXz/OojwdT9JnCwmpzqrXbXDej81E+UDaWtXYbq2bWZg1Wjsu8J3h6Jgi6nA3TZ4B0mSfW8ZrL2TA9ga7keWIQ77ucDdNfHnhKz5Ne1PGay9kwvTt/+Kd4T5BRxysXg2GI2hwHeAq8asArFwWtNIxwgatqXtK2D/6w7bJQvhuG6c9JVYHPdcknR3fr6dkP6P0MN3BJbpkermnXIpRrVApStdHQy6f5FUO/FYLxyk1YxTbIcmpnDS9L5ryc4jBeuuhLegcVfpHL48+GgE7vpDBeuaBV2gxHzl+yWGEYr1z05tuk098SIjaJa0lheDwP/0654Vt6GRax4LiG8Fx4/1FouVkJ8QVvDnbvNaeic9JnJ6KDNZPSp7wr0Zz6Dz6OEf7VxwSOAAAAAElFTkSuQmCC\n",
      "text/latex": [
       "$$t + \\frac{e^{- \\alpha_i - \\alpha_j - t \\left(\\beta_i + \\beta_j\\right)}}{\\beta_i + \\beta_j}$$"
=======
      "image/png": "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\n",
      "text/latex": [
       "$\\displaystyle t + \\frac{e^{- \\alpha_i - \\alpha_j - t \\left(\\beta_i + \\beta_j\\right)}}{\\beta_i + \\beta_j}$"
>>>>>>> 595635ee0afb71a5444b0193b6bcb54a9fda540f
>>>>>>> 07b2a4279052ab7deae60a89bbf5add4e79cffcf
      ],
      "text/plain": [
       " -t⋅(\\betaᵢ + \\beta_j)\n",
       "ℯ                     \n",
       "──────────────────────\n",
       "   \\betaᵢ + \\beta_j   "
      ]
     },
<<<<<<< HEAD
     "execution_count": 25,
=======
<<<<<<< HEAD
     "execution_count": 34,
=======
     "execution_count": 14,
>>>>>>> 595635ee0afb71a5444b0193b6bcb54a9fda540f
>>>>>>> 07b2a4279052ab7deae60a89bbf5add4e79cffcf
     "metadata": {},
     "output_type": "execute_result"
    }
   ],
   "source": [
<<<<<<< HEAD
    "#t=3\n",
    "#H = (alphai+alphaj)*sp.Heaviside(wij-t) + (betai+betaj)*wij*sp.Heaviside(wij-t)\n",
    "H = (betai+betaj)*wij*sp.Heaviside(wij-t)\n",
    "#Z = sp.simplify(sp.integrate(sp.exp(-H.rewrite(sp.Piecewise)), (wij,0,sp.oo)))\n",
    "Z = sp.simplify(sp.integrate(sp.exp(-H.rewrite(sp.Piecewise)), (wij,t,sp.oo)))\n",
=======
    "#t=0\n",
    "H = (alphai+alphaj)*sp.Heaviside(wij-t) + (betai+betaj)*wij*sp.Heaviside(wij-t)\n",
    "#H = (betai+betaj)*wij*sp.Heaviside(wij-t)\n",
<<<<<<< HEAD
=======
    "#Z = sp.simplify(sp.integrate(sp.exp(-H.rewrite(sp.Piecewise)), (wij,0,sp.oo)))\n",
>>>>>>> 595635ee0afb71a5444b0193b6bcb54a9fda540f
    "Z = sp.simplify(sp.integrate(sp.exp(-H.rewrite(sp.Piecewise)), (wij,0,sp.oo)))\n",
>>>>>>> 07b2a4279052ab7deae60a89bbf5add4e79cffcf
    "Z"
   ]
  },
  {
   "cell_type": "code",
   "execution_count": 30,
   "metadata": {},
   "outputs": [
    {
     "data": {
      "image/png": "iVBORw0KGgoAAAANSUhEUgAAAKsAAAA9BAMAAAAg+YR0AAAAMFBMVEX///8AAAAAAAAAAAAAAAAAAAAAAAAAAAAAAAAAAAAAAAAAAAAAAAAAAAAAAAAAAAAv3aB7AAAAD3RSTlMAEIl2mSJE3e9UMqtmzbsXyEShAAAACXBIWXMAAA7EAAAOxAGVKw4bAAADaklEQVRYCe1WS2gTURQ9k8kknWSSDrXa7DrSQBE3YxsXhVpCa12In9FaUEEIUqkLtQFRNy78VSgIDYhuFB1B3DZQlG7EWhU3BdNNBYtUd+JCGlHrl3EymXnzacxMPgUXfZt3zr3n3Ly5eclcwHWt2wUMbHKVVSigHp0a5fpDYoU2NzkNfEgAx9x0FeY5IJIH2AptbnK1bPQc8MBNV2GelbGjZY5KVmhzlc9sl6n2Bd5VtyZY60DFHYgollW/vwVW+akdhVp/Ykq5UOpUdGK6VNgl9mSZCF7+INACNuKihXmFQSVLpLsJMgEnVVU2pPwmNfwygQT4wLq3vC0O52//lSKRGiUKHDrZY6SPZplczGkvJIOpsCggoqKHhhZRJU1wCXADvgxyQFiCkKffRVI6sUr3gJtPgVJD5odS41+sEicWQCcLagrMhnRYpKUiKcrYT+p6jzEErjh9GFEyK2Jq4E7BwkOEX9DTfqEh5Ssl/YpQHmwnMGtIVZVPKXODKBEN8nUR3Eyhha08DZ1Yy8+jaYlnh8DcS1vCi38sxAEDSfTiZhKHW9Q3nnwXLwwCqi0h6eID3WJvBh8BVW2umCKYRENNnf16hB7oyCAqA0NAqO92HyEYlhhBF2kblU4Vvl1zsco3kxRQ4Az26xH1bQ+0BAAynuiEGUOzrIuK2ySPCG+N7P1uoziYoXbqea1seAswZxh0Er7W+dQIGfvgEQNpe9DRhaln3cbn6K95ZjBnOjTSmDUDBpoxWlcMMMtGlSL/ZejIzsUlgqGRRsEM/APRo/bEZzstyRoEqHe67BqR7elLgNZTe9TO6ByaLU9gT2os5Pyf3QbK3qUSJiS6p0uFzVjM+TB036yZrRotVO0sZ4zmymWrzrXzxJohqGbAmbeLq2NZy+06XvMZSQHGvF3NZV8TxOEJxARdxtzSJxFPNjfR4lttvR5Xh6a0m9hz3m8ZwRTRs21N+P90oKNjNc7CCWx2FeoGU8ivQtlWWZ3TalyBzThC2eevCQnna6wKXyPfg3l93H1c+A1PT/A4XWvZfcOYxFbbuKue9nKtZdVZ8CoEWxW1t455zJb2Rs5SeYj6uKs1QazLTXjDLnGSbdylk3W4t/e7nnfBPu7G47y3J3VTrRh33Qwe8yvGXY8+V5lj3HXVexQ4xl0vrr+/g9GY6JbJHQAAAABJRU5ErkJggg==\n",
      "text/latex": [
       "$$e^{- \\alpha_{ij}} \\sum_{w_{ij}=0}^{\\infty} e^{- \\beta_{ij} w_{ij}}$$"
      ],
      "text/plain": [
       "                ∞                      \n",
       "               ___                     \n",
       "               ╲                       \n",
       " -\\alpha_{ij}   ╲    -\\beta_{ij}⋅w_{ij}\n",
       "ℯ            ⋅  ╱   ℯ                  \n",
       "               ╱                       \n",
       "               ‾‾‾                     \n",
       "              False                    "
      ]
     },
     "execution_count": 30,
     "metadata": {},
     "output_type": "execute_result"
    }
   ],
   "source": [
    "Ha = (alphaij)*sp.Heaviside(wij)\n",
    "Hb = (betaij)*wij#*sp.Heaviside(wij)\n",
    "H = Ha + Hb\n",
    "\n",
    "Z = sp.summation(sp.exp(-H.rewrite(sp.Piecewise)), (wij,0, sp.oo))\n",
    "#Z += sp.summation(sp.exp(-Ha.rewrite(sp.Piecewise)), (wij,0,t))\n",
    "sp.simplify(Z)"
   ]
  },
  {
   "cell_type": "markdown",
   "metadata": {},
   "source": [
    "The graph probability is obtained as $P(G) = e^{-H(G)}/Z$"
   ]
  },
  {
   "cell_type": "code",
<<<<<<< HEAD
   "execution_count": 22,
=======
<<<<<<< HEAD
   "execution_count": 36,
=======
   "execution_count": 15,
>>>>>>> 595635ee0afb71a5444b0193b6bcb54a9fda540f
>>>>>>> 07b2a4279052ab7deae60a89bbf5add4e79cffcf
   "metadata": {},
   "outputs": [
    {
     "data": {
<<<<<<< HEAD
      "image/png": "iVBORw0KGgoAAAANSUhEUgAAAR0AAAAbBAMAAACzakbhAAAAMFBMVEX///8AAAAAAAAAAAAAAAAAAAAAAAAAAAAAAAAAAAAAAAAAAAAAAAAAAAAAAAAAAAAv3aB7AAAAD3RSTlMAImYQu82Z3XZU70SJqzJu81j5AAAACXBIWXMAAA7EAAAOxAGVKw4bAAAEQUlEQVRIDb1Wz2scVRz/zM5ustvZzY6WotbLElEvHgassRdxmnrwGJVRsRjWXuqPHhZ60l6mWEMCVhIvFnqJigcpSA5tc5MBUVKIsDkIBauuCj2IYkr/AT/f931vMpPuBnPYfHm/vp/P533nu2/ee7PAPs0boZ8SfBSpc/ZmGcDEGBF/FJwB9YVOkV08LV5jjU0mo2E2s0E0G8bkGAOYGDnwvwatEPgOXxa0zehQJO5bgJDzBWpneLIWGVaR4RoGYNmn/c2VCF0+fZm8As3nOYCkvz0s4ERaXRZWzWhazst7BmDZp/0KNNFIdVYsXYbLxquFINnoGWdX83w02RFWzWiqzst7BmDZp/Fxj1y/aCfF7L0rr0vHXdVBD96ZVwfGQ3AJR/xzOsZHaA/IqqlG8ilpJAALPFZ408MysyhfkDOPQVfQXMacIDEryZvAFgd9IWvLQtCa7egiTqHG4RaSzd8iYdWMRvIpaRhACo6JaMnPV1PnmNahfJq1IAZS1LuIBKCDOrAgYwSxkO3QOMDhddzCBfjGvYonyVtGNZJPSSMC0bxEojLANafe6XP0mRwL+ANSTGQEWknyVfKy5HOWHi+POSH/Aq69QIuIXs1P+F3MgmwgzEnR/JS8kSSdkoYBpFS6jPUg8JnENKbbk8McbabK8KEx/BSHBpcNEhM+DnyD6Yzr0yeJS75boPP+PaSNRQi57a3KVGtGUxWnqDEJ9zEp81PgF+GN5fmkDvVXleFx7iHoYhNXuoLErDfQzLw/e1zjjCTebgohNt/YroSNGxDylepAplozGpNPUcMAUh4SUYrgc6e2x7eEnsrJc6g//PEyWgNBYtYLize5Nl1gYg08Tv98QszYnaUnliCHnOSd9wi5w6Yak09RIwFYZDMGv59+LdIobN36FNAfhPQ3FkIsyYYBng2kjVlTVjlwcpL4/F3m99YMKXCZNfkYtdMwAMsssbq/+W4op8aYy0dR1AbA40Ksh16GqubT+lCQmDVlBb8G+BQk77NbkSEFL7MFz2oYgOV9KvnO69zcoUZz+SiKBlHZ7P7XmBkg6DyqKmk5wVtj/8AR0l2ucwf3m5DGyqxXVNoAfhc8lOYOCbaV/z5JPkiSN8Xhi3Hov3RbXyw+xm5FqF32FL+D9YjgKFL1w1hlbACJIfl8y9Oxqgxbtz4FVPJp93PFOAfyvjL++j4/JmouH4Pi+DtE11nb9A/AZD/PAUdDfkz0cS4fg6J7najs58nMbl5VjauVozyLqfM47G5ol49B/fBHCs6ycsfPhOPKYicuX0Xwx8Ym1+ZFC9p8LGouhHmhFqY7VjHOjt8LveL9ewN9js1HUeAuz3JvnBmUY1e6Np/GXKbM09rZfKZWeT+lCh1Ie0JvXPi3y7vDfBe4bWJg5//GAWR0TK6fIWbRagqcGEKPDfI6e4X++WiESnnh9pKPnbu9NfZHlB7wH36E9k0f1Na2AAAAAElFTkSuQmCC\n",
      "text/latex": [
       "$$\\left(\\beta_i + \\beta_j\\right) e^{\\left(\\beta_i + \\beta_j\\right) \\left(t - w_{ij} \\theta\\left(- t + w_{ij}\\right)\\right)}$$"
      ],
      "text/plain": [
       "                    (\\betaᵢ + \\beta_j)⋅(t - w_{ij}⋅Heaviside(-t + w_{ij}))\n",
       "(\\betaᵢ + \\beta_j)⋅ℯ                                                      "
      ]
     },
     "execution_count": 22,
=======
<<<<<<< HEAD
      "image/png": "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\n",
      "text/latex": [
       "$$\\frac{\\left(x_{i} x_{j}\\right)^{\\theta\\left(- t + w_{ij}\\right)} \\left(\\beta_i + \\beta_j\\right) e^{\\left(\\beta_i + \\beta_j\\right) \\left(t - w_{ij} \\theta\\left(- t + w_{ij}\\right)\\right)}}{t \\left(\\beta_i + \\beta_j\\right) e^{t \\left(\\beta_i + \\beta_j\\right)} + x_{i} x_{j}}$$"
=======
      "image/png": "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\n",
      "text/latex": [
       "$\\displaystyle \\frac{\\left(\\beta_i + \\beta_j\\right) e^{\\alpha_i + \\alpha_j + t \\left(\\beta_i + \\beta_j\\right) - w_{ij} \\left(\\beta_i + \\beta_j\\right) \\theta\\left(- t + w_{ij}\\right) - \\left(\\alpha_i + \\alpha_j\\right) \\theta\\left(- t + w_{ij}\\right)}}{t \\left(\\beta_i + \\beta_j\\right) e^{\\alpha_i + \\alpha_j + t \\left(\\beta_i + \\beta_j\\right)} + 1}$"
>>>>>>> 595635ee0afb71a5444b0193b6bcb54a9fda540f
      ],
      "text/plain": [
       "        Heaviside(-t + w_{ij})                     (\\betaᵢ + \\beta_j)⋅(t - w_{\n",
       "(xᵢ⋅x_j)                      ⋅(\\betaᵢ + \\beta_j)⋅ℯ                           \n",
       "──────────────────────────────────────────────────────────────────────────────\n",
       "                                                 t⋅(\\betaᵢ + \\beta_j)         \n",
       "                           t⋅(\\betaᵢ + \\beta_j)⋅ℯ                     + xᵢ⋅x_j\n",
       "\n",
       "ij}⋅Heaviside(-t + w_{ij}))\n",
       "                           \n",
       "───────────────────────────\n",
       "                           \n",
       "                           "
      ]
     },
<<<<<<< HEAD
     "execution_count": 36,
=======
     "execution_count": 15,
>>>>>>> 595635ee0afb71a5444b0193b6bcb54a9fda540f
>>>>>>> 07b2a4279052ab7deae60a89bbf5add4e79cffcf
     "metadata": {},
     "output_type": "execute_result"
    }
   ],
   "source": [
<<<<<<< HEAD
    "P=sp.simplify(sp.exp(-H)/Z).replace(alphai,-sp.log(xi)).replace(alphaj,-sp.log(xj))\n",
    "sp.simplify(sp.expand_log(P))"
=======
    "P=sp.simplify(sp.exp(-H)/Z)\n",
    "P\n",
    "#sp.simplify(sp.expand_log(P))"
>>>>>>> 595635ee0afb71a5444b0193b6bcb54a9fda540f
   ]
  },
  {
   "cell_type": "markdown",
   "metadata": {},
   "source": [
    "Now we try to redo the same with the replacement of variables $x_i=e^{-\\alpha_i}$, $y_i=e^{-\\beta_i}$."
   ]
  },
  {
   "cell_type": "code",
<<<<<<< HEAD
   "execution_count": 5,
=======
<<<<<<< HEAD
   "execution_count": 18,
=======
   "execution_count": 16,
>>>>>>> 595635ee0afb71a5444b0193b6bcb54a9fda540f
>>>>>>> 07b2a4279052ab7deae60a89bbf5add4e79cffcf
   "metadata": {},
   "outputs": [
    {
     "data": {
<<<<<<< HEAD
      "image/png": "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\n",
      "text/latex": [
       "$$- \\left(y_{i} y_{j}\\right)^{- t + w_{ij} \\theta\\left(- t + w_{ij}\\right)} \\left(\\log{\\left (y_{i} \\right )} + \\log{\\left (y_{j} \\right )}\\right)$$"
      ],
      "text/plain": [
       "         -t + w_{ij}⋅Heaviside(-t + w_{ij})                     \n",
       "-(yᵢ⋅y_j)                                  ⋅(log(yᵢ) + log(y_j))"
      ]
     },
     "execution_count": 5,
=======
<<<<<<< HEAD
      "image/png": "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\n",
      "text/latex": [
       "$$\\frac{e^{w_{ij} \\left(\\log{\\left (y_{i} \\right )} + \\log{\\left (y_{j} \\right )}\\right) \\theta\\left(- t + w_{ij}\\right) + \\left(\\log{\\left (x_{i} \\right )} + \\log{\\left (x_{j} \\right )}\\right) \\theta\\left(- t + w_{ij}\\right)}}{\\sum_{w_{ij}=0}^{t} \\begin{cases} 1 & \\text{for}\\: - t + w_{ij} < 0 \\\\e^{\\left(\\log{\\left (x_{i} \\right )} + \\log{\\left (x_{j} \\right )}\\right) \\theta\\left(0\\right)} & \\text{for}\\: - t + w_{ij} = 0 \\\\x_{i} x_{j} & \\text{for}\\: - t + w_{ij} > 0 \\end{cases} - \\frac{e^{t \\left(\\log{\\left (y_{i} \\right )} + \\log{\\left (y_{j} \\right )}\\right)}}{\\log{\\left (y_{i} \\right )} + \\log{\\left (y_{j} \\right )}}}$$"
=======
      "image/png": "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\n",
      "text/latex": [
       "$\\displaystyle \\frac{\\left(x_{i} x_{j} \\left(y_{i} y_{j}\\right)^{w_{ij}}\\right)^{\\theta\\left(- t + w_{ij}\\right)} \\left(\\log{\\left(y_{i} \\right)} + \\log{\\left(y_{j} \\right)}\\right)}{t \\left(\\log{\\left(y_{i} \\right)} + \\log{\\left(y_{j} \\right)}\\right) - x_{i} x_{j} \\left(y_{i} y_{j}\\right)^{t}}$"
>>>>>>> 595635ee0afb71a5444b0193b6bcb54a9fda540f
      ],
      "text/plain": [
       " w_{ij}⋅(log(yᵢ) + log(y_j))⋅Heaviside(-t + w_{ij}) + (log(xᵢ) + log(x_j))⋅Hea\n",
       "ℯ                                                                             \n",
       "──────────────────────────────────────────────────────────────────────────────\n",
       "      t                                                                       \n",
       "    ______                                                                    \n",
       "    ╲                                                                         \n",
       "     ╲     ⎧                1                   for -t + w_{ij} < 0           \n",
       "      ╲    ⎪                                                                  \n",
       "       ╲   ⎪ (log(xᵢ) + log(x_j))⋅Heaviside(0)                         t⋅(log(\n",
       "        ╲  ⎨ℯ                                   for -t + w_{ij} = 0   ℯ       \n",
       "        ╱  ⎪                                                        - ────────\n",
       "       ╱   ⎪              xᵢ⋅x_j                for -t + w_{ij} > 0      log(y\n",
       "      ╱    ⎩                                                                  \n",
       "     ╱                                                                        \n",
       "    ╱                                                                         \n",
       "    ‾‾‾‾‾‾                                                                    \n",
       "    False                                                                     \n",
       "\n",
       "viside(-t + w_{ij})\n",
       "                   \n",
       "───────────────────\n",
       "                   \n",
       "                   \n",
       "                   \n",
       "                   \n",
       "                   \n",
       "yᵢ) + log(y_j))    \n",
       "                   \n",
       "───────────────    \n",
       "ᵢ) + log(y_j)      \n",
       "                   \n",
       "                   \n",
       "                   \n",
       "                   \n",
       "                   "
      ]
     },
<<<<<<< HEAD
     "execution_count": 18,
=======
     "execution_count": 16,
>>>>>>> 595635ee0afb71a5444b0193b6bcb54a9fda540f
>>>>>>> 07b2a4279052ab7deae60a89bbf5add4e79cffcf
     "metadata": {},
     "output_type": "execute_result"
    }
   ],
   "source": [
    "H = H.replace(betai,-sp.log(yi)).replace(betaj,-sp.log(yj)).replace(alphai,-sp.log(xi)).replace(alphaj,-sp.log(xj))\n",
    "Z = Z.replace(betai,-sp.log(yi)).replace(betaj,-sp.log(yj)).replace(alphai,-sp.log(xi)).replace(alphaj,-sp.log(xj))\n",
    "P = sp.simplify(sp.exp(-H)/Z)\n",
    "sp.expand_log(P) # graph probability"
   ]
  },
  {
   "cell_type": "markdown",
   "metadata": {},
   "source": [
    "This tells us that the weights are sampled from a left truncated exponential distribution"
   ]
  },
  {
   "cell_type": "markdown",
   "metadata": {},
   "source": [
    "Taking the log we have an expression for the loglikelihood $\\mathcal{L}(G)$"
   ]
  },
  {
   "cell_type": "code",
<<<<<<< HEAD
   "execution_count": 6,
   "metadata": {},
   "outputs": [
    {
     "data": {
      "image/png": "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\n",
      "text/latex": [
       "$$\\left(- t + w_{ij} \\theta\\left(- t + w_{ij}\\right)\\right) \\left(\\log{\\left (y_{i} \\right )} + \\log{\\left (y_{j} \\right )}\\right) + \\log{\\left (- \\log{\\left (y_{i} \\right )} - \\log{\\left (y_{j} \\right )} \\right )}$$"
      ],
      "text/plain": [
       "(-t + w_{ij}⋅Heaviside(-t + w_{ij}))⋅(log(yᵢ) + log(y_j)) + log(-log(yᵢ) - log\n",
       "(y_j))"
      ]
     },
     "execution_count": 6,
     "metadata": {},
     "output_type": "execute_result"
    }
   ],
=======
<<<<<<< HEAD
   "execution_count": 38,
   "metadata": {},
   "outputs": [
    {
     "data": {
      "image/png": "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\n",
      "text/latex": [
       "$$t \\left(\\beta_i + \\beta_j\\right) - w_{ij} \\left(\\beta_i + \\beta_j\\right) \\theta\\left(- t + w_{ij}\\right) + \\log{\\left (\\frac{\\left(x_{i} x_{j}\\right)^{\\theta\\left(- t + w_{ij}\\right)} \\left(\\beta_i + \\beta_j\\right)}{t \\left(\\beta_i + \\beta_j\\right) e^{t \\left(\\beta_i + \\beta_j\\right)} + x_{i} x_{j}} \\right )}$$"
      ],
      "text/plain": [
       "                                                                             ⎛\n",
       "                                                                             ⎜\n",
       "t⋅(\\betaᵢ + \\beta_j) - w_{ij}⋅(\\betaᵢ + \\beta_j)⋅Heaviside(-t + w_{ij}) + log⎜\n",
       "                                                                             ⎜\n",
       "                                                                             ⎝\n",
       "\n",
       "         Heaviside(-t + w_{ij})                    ⎞\n",
       " (xᵢ⋅x_j)                      ⋅(\\betaᵢ + \\beta_j) ⎟\n",
       "───────────────────────────────────────────────────⎟\n",
       "                      t⋅(\\betaᵢ + \\beta_j)         ⎟\n",
       "t⋅(\\betaᵢ + \\beta_j)⋅ℯ                     + xᵢ⋅x_j⎠"
      ]
     },
     "execution_count": 38,
     "metadata": {},
     "output_type": "execute_result"
    }
   ],
=======
   "execution_count": null,
   "metadata": {},
   "outputs": [],
>>>>>>> 595635ee0afb71a5444b0193b6bcb54a9fda540f
>>>>>>> 07b2a4279052ab7deae60a89bbf5add4e79cffcf
   "source": [
    "sp.simplify(sp.expand_log(sp.log(P))) # loglikelihood"
   ]
  },
  {
   "cell_type": "code",
   "execution_count": null,
   "metadata": {},
   "outputs": [],
   "source": [
    "sp.latex(sp.expand_log(sp.log(P)))"
   ]
  },
  {
   "cell_type": "markdown",
   "metadata": {},
   "source": [
    "Now we get an expression for the expected link probability, by taking the derivative of the free energy $F=-\\log(Z)$ with respect to the original Lagrange multipliers $\\alpha_i$ and $\\beta_i$"
   ]
  },
  {
   "cell_type": "code",
   "execution_count": 7,
   "metadata": {},
   "outputs": [],
   "source": [
    "F = -sp.log(sp.expand_log(Z))\n",
    "dalphai = -sp.log(xi)\n",
    "dbetai = -sp.log(yi)"
   ]
  },
  {
   "cell_type": "markdown",
   "metadata": {},
   "source": [
    "This is the expected link probability $\\langle a_{ij} \\rangle = \\frac{\\partial F}{\\partial \\alpha_i}$"
   ]
  },
  {
   "cell_type": "code",
   "execution_count": 8,
   "metadata": {},
   "outputs": [
    {
     "data": {
      "image/png": "iVBORw0KGgoAAAANSUhEUgAAAAoAAAAOBAMAAADkjZCYAAAAMFBMVEX///8AAAAAAAAAAAAAAAAAAAAAAAAAAAAAAAAAAAAAAAAAAAAAAAAAAAAAAAAAAAAv3aB7AAAAD3RSTlMAiXZmMs1UEN0i77urRJlR0qN3AAAACXBIWXMAAA7EAAAOxAGVKw4bAAAAUUlEQVQIHWNgYFQWYWBgCGOomMDAvICBMYCB+wAD23cG/gMMvN8Y6h8w8H5imC/AwAIkHzCwfISKAGXZvjFwb2Bg/g7VxdDGUOXAwFCodIQBAG3HFgUteuAKAAAAAElFTkSuQmCC\n",
      "text/latex": [
       "$$0$$"
      ],
      "text/plain": [
       "0"
      ]
     },
     "execution_count": 8,
     "metadata": {},
     "output_type": "execute_result"
    }
   ],
   "source": [
    "expected_adjacency = sp.simplify(sp.diff(F,xi)*sp.diff(sp.exp(-alphai),alphai)).replace(sp.exp(-alphai),xi)\n",
    "expected_adjacency"
   ]
  },
  {
   "cell_type": "markdown",
   "metadata": {},
   "source": [
    "While the following is the expected weight $\\langle w_{ij} \\rangle = \\frac{\\partial F}{\\partial \\beta_i}$"
   ]
  },
  {
   "cell_type": "code",
   "execution_count": 9,
   "metadata": {},
   "outputs": [
    {
     "data": {
      "image/png": "iVBORw0KGgoAAAANSUhEUgAAAHsAAAA2BAMAAAAVL/v+AAAAMFBMVEX///8AAAAAAAAAAAAAAAAAAAAAAAAAAAAAAAAAAAAAAAAAAAAAAAAAAAAAAAAAAAAv3aB7AAAAD3RSTlMAMqvNiRDvuyJ2RN1UmWaBK2/dAAAACXBIWXMAAA7EAAAOxAGVKw4bAAAEL0lEQVRIDdVWT4gbVRz+Jsk0k3+buIcieNiBLtLagylWkKI4LD24QiBuS7tFYaPQg6IQ9qJCkblYEVs2lkXJIRgtiMXDrqigIGXAg2ARs24VWqUGPYi3rbpaixq/33vz0uwks7tFKPiDmd/f7/2b9+Z7wJBYbR1KlkxqH9Aw9pZ6PKyYM5X2GvCWcbbU94YVF0xlfhlIdY23UY/v3+ijEI7z9PsrOuN8+0AJ+DBSFrr2E5H4QjUM3G8SyYBWy3hG548ra974oa4Y/5oxij6tBeOFemZqXVlR+NNh3qqFBnaKkQuMG+qxkXBHR4GMOxsWnrF9oFCPhR9uPsxPU/n5dVaM1YBjl+AcLzQ82K0GTlYvpRjPML5B+r1bHyHdyK7jfIb5Qhnw3kZmzdpTQipbwxsYf5Vx5jdKH57zYF1NLGOv5NN1OMGqKMopNvasGGCF1v13Hz4RAL8VahqedGHjSRQbUlfd0cCfGuBcF33oHhFuYs7SLN2XbeAP56qt1jzXUQOdKKkvvVSVXmX32wouuFD6cOn9b2dx0ZdEknAO+TXgdnqrasnytHTvUhFKH76jA+t6vq3DaZfzdxHuhnmxlVj9XaT9G4O3HkfSyx64zZdEos7e3ew/uugrLHW1NbTyGTX38d5unD54GXiw9zvHrQZr72ldwzmX3kzzex/HvqMl+2FQCnf+emXATwf2qY/p6144e0+v7CrQOcv40K4bwNL8jM9PEnoK2IW5tvPYMmdS5oLb/hTDyYYkY+XREnBCsheB83ie68f6XFfeeIHPXFWSsWIfbFbYAuR8nWvRmnuEM2muSEgW/QcxtiGJQBd9KgdFiTq67xlvC22XdcHMQ6YwU+fCe8bbSn8RLZD5vxQNxvpm/5mCu05Wga+Nd9N6cvdNQ24VoPdfZO1WjfL/1o/THR5x3h+OqYi1y4tkjkZ85cbuoSNupPy+iK/cQ6OCEjP/VJMf6xhrUKd4fkZKFJ7zR5XZtVFRxqLwV0bXHRgdFrg9vdhGdvJKs84aXkc0QdNWlK1xlXj4HT5/kkvVXFcmyB+kJuhMR1M2sI/hH+PhHwATpb0gWVM+MQRt+YayA4b79zWpGZC0a/0FFL1vQjh/+Iagb1A22x+ADJppN08SLtYXSkcCiRPOiehrAbmHlK0kHq5677w8rf+xHLwi6OyZkLLtVsDQu6qR4RdX/hmOrf15mBJuEYJOFavyVeZRyJYZ2mTpdpawH2fflIsBIF9ICPpFLpai7NmUyxBJbJRYd//iOxcrbSR7PY5Cj1IRNAlPUTbSXYbl420mJzB7ocECvWlXYa/LosmFreizoeXNsEC+TkriAx4ZRdD5sqcoW7EnYo9M2KpNMkwH4jynCdqe9DVlQ26dsQdWECKHpxdXlHHUEHRI2cL6bHO7EvlZJd7hDX7M3y46WpeYGob+C6w8PtQeh1PdAAAAAElFTkSuQmCC\n",
      "text/latex": [
       "$$\\frac{\\log{\\left (y_{i}^{t} y_{j}^{t} \\right )} - 1}{\\log{\\left (y_{i} y_{j} \\right )}}$$"
      ],
      "text/plain": [
       "   ⎛  t    t⎞    \n",
       "log⎝yᵢ ⋅y_j ⎠ - 1\n",
       "─────────────────\n",
       "   log(yᵢ⋅y_j)   "
      ]
     },
     "execution_count": 9,
     "metadata": {},
     "output_type": "execute_result"
    }
   ],
   "source": [
    "expected_weight = sp.simplify((sp.simplify(sp.diff(F,yi)*sp.diff(sp.exp(-betai),betai)).replace(sp.exp(-betai),yi)))\n",
    "#sp.latex(expected_weight)\n",
    "expected_weight"
   ]
  },
  {
   "cell_type": "markdown",
   "metadata": {},
   "source": [
    "pretty complicated expression, however if we divide it by the link probability we see it is directly proportional to it:\n"
   ]
  },
  {
   "cell_type": "code",
   "execution_count": null,
   "metadata": {},
   "outputs": [],
   "source": [
    "expected_weight/expected_adjacency"
   ]
  },
  {
   "cell_type": "code",
   "execution_count": null,
   "metadata": {},
   "outputs": [],
   "source": [
    "sp.simplify((expected_adjacency * ((t*sp.log(yi*yj)-1)/(t*sp.log(yi*yj))))/expected_weight)"
   ]
  },
  {
   "cell_type": "code",
   "execution_count": null,
   "metadata": {},
   "outputs": [],
   "source": [
    "sp.simplify(expected_weight/expected_adjacency)"
   ]
  },
  {
   "cell_type": "code",
   "execution_count": 20,
   "metadata": {},
   "outputs": [
    {
     "data": {
      "image/png": "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\n",
      "text/latex": [
       "$\\displaystyle \\left(w_{ij} \\left(\\log{\\left(y_{i} \\right)} + \\log{\\left(y_{j} \\right)}\\right) + \\log{\\left(x_{i} \\right)} + \\log{\\left(x_{j} \\right)}\\right) \\theta\\left(- t + w_{ij}\\right) + \\log{\\left(\\frac{\\log{\\left(y_{i} \\right)} + \\log{\\left(y_{j} \\right)}}{t \\left(\\log{\\left(y_{i} \\right)} + \\log{\\left(y_{j} \\right)}\\right) - x_{i} x_{j} \\left(y_{i} y_{j}\\right)^{t}} \\right)}$"
      ],
      "text/plain": [
       "                                                                              \n",
       "(w_{ij}⋅(log(yᵢ) + log(y_j)) + log(xᵢ) + log(x_j))⋅Heaviside(-t + w_{ij}) + lo\n",
       "                                                                              \n",
       "                                                                              \n",
       "\n",
       " ⎛            log(yᵢ) + log(y_j)           ⎞\n",
       "g⎜─────────────────────────────────────────⎟\n",
       " ⎜                                        t⎟\n",
       " ⎝t⋅(log(yᵢ) + log(y_j)) - xᵢ⋅x_j⋅(yᵢ⋅y_j) ⎠"
      ]
     },
     "execution_count": 20,
     "metadata": {},
     "output_type": "execute_result"
    }
   ],
   "source": [
    "sp.expand_log(sp.log(P))"
   ]
  },
  {
   "cell_type": "code",
   "execution_count": null,
   "metadata": {},
   "outputs": [],
   "source": []
  }
 ],
 "metadata": {
  "kernelspec": {
   "display_name": "Python 3",
   "language": "python",
   "name": "python3"
  },
  "language_info": {
   "codemirror_mode": {
    "name": "ipython",
    "version": 3
   },
   "file_extension": ".py",
   "mimetype": "text/x-python",
   "name": "python",
   "nbconvert_exporter": "python",
   "pygments_lexer": "ipython3",
   "version": "3.6.7"
  }
 },
 "nbformat": 4,
 "nbformat_minor": 2
}
