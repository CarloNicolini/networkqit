{
 "cells": [
  {
   "cell_type": "code",
   "execution_count": null,
   "metadata": {},
   "outputs": [],
   "source": [
    "%reload_ext autoreload\n",
    "%autoreload 2"
   ]
  },
  {
   "cell_type": "code",
   "execution_count": null,
   "metadata": {},
   "outputs": [],
   "source": [
    "import sys\n",
    "sys.path.append('..')\n",
    "import numpy as np\n",
    "from numpy.random import random as rand\n",
    "\n",
    "import networkqit as nq\n",
    "import networkx as nx\n",
    "\n",
    "from networkqit import graph_laplacian as GL\n",
    "\n",
    "import scipy.optimize\n",
    "import scipy.linalg\n",
    "\n",
    "import matplotlib.pyplot as plt\n",
    "plt.style.use('ggplot')\n",
    "\n",
    "import sympy as sp\n",
    "from sympy import init_printing\n",
    "init_printing()\n",
    "import mpmath as mp"
   ]
  },
  {
   "cell_type": "code",
   "execution_count": null,
   "metadata": {},
   "outputs": [],
   "source": [
    "n=sp.Symbol('n',integer=True)\n",
    "pin=sp.Symbol('pin',real=True)\n",
    "pout=sp.Symbol('pout',real=True)\n",
    "a=sp.Symbol('a',real=True)\n",
    "a0=sp.Symbol('a0',real=True)\n",
    "a1=sp.Symbol('a1',real=True)\n",
    "a2=sp.Symbol('a2',real=True)\n",
    "a3=sp.Symbol('a3',real=True)\n",
    "z=sp.Symbol('z',complex=True)\n",
    "x,y=sp.Symbol('x',real=True),sp.Symbol('y',real=True)\n",
    "c=sp.Symbol('c',integer=True)\n",
    "t=sp.Symbol('t',complex=True)\n",
    "t0=sp.Symbol('t0',complex=True)\n",
    "t1=sp.Symbol('t1',complex=True)\n",
    "t2=sp.Symbol('t2',complex=True)\n",
    "t3=sp.Symbol('t3',complex=True)\n",
    "T=sp.Symbol('T',complex=True)\n",
    "T=a0*t0+a1*t1+a2*t2+a3*t3\n",
    "d=sp.Symbol('d',integer=True)\n",
    "eps=sp.Symbol('epsilon')\n",
    "#poiss = sp.simplify(sp.exp(-n*pin/2)*sp.factorial(c)*((n*pin/2)**c))"
   ]
  },
  {
   "cell_type": "code",
   "execution_count": null,
   "metadata": {},
   "outputs": [],
   "source": [
    "#f = sp.lambdify((t0,t1),sp.simplify(sp.hyper((80.0*t0 + 20.0*t1 - 100.0,), (80.0*t0 + 20.0*t1 - 99.0,), 80.0)/(0.8*t0 + 0.2*t1 - 1.0)),modules='mpmath')\n",
    "expr = sp.simplify(t0-sp.summation((sp.exp(-d)*(d**c)/sp.factorial(c))/(z-c-T) ,(c,0,sp.oo)))\n",
    "f = sp.lambdify((t0,t1,t2),expr.replace('gammainc','Gamma'),modules='mpmath')\n",
    "F = sp.lambdify((t0,t1,t2), expr.replace('exp_polar', 'exp'), modules='mpmath')"
   ]
  },
  {
   "cell_type": "code",
   "execution_count": null,
   "metadata": {},
   "outputs": [],
   "source": [
    "def Gamma(a_, z0_, z1):\n",
    "    return mp.gammainc(a, z0) - mp.gammainc(a, z1)\n",
    "\n",
    "a,z0,z1=10,0,-4\n",
    "#print(mp.gammainc(12.5+17.5j, 0.0, -12.5))\n",
    "print(Gamma(12.5+17.5j, 0.0, -12.5))"
   ]
  },
  {
   "cell_type": "code",
   "execution_count": null,
   "metadata": {},
   "outputs": [],
   "source": [
    "sp.lambdify??"
   ]
  },
  {
   "cell_type": "markdown",
   "metadata": {},
   "source": [
    "# Solutions for the adjacency matrix, average degree d"
   ]
  },
  {
   "cell_type": "code",
   "execution_count": null,
   "metadata": {},
   "outputs": [],
   "source": [
    "# t is the stjelties transform of the underlying density of the ensemble random matrices\n",
    "tlhs = t\n",
    "trhs = sp.summation(sp.KroneckerDelta(c,d)/((z-c-a*t )),(c,0,sp.oo))\n",
    "fundamental_eq = tlhs - trhs\n",
    "stieltjes_transform = sp.solve(fundamental_eq,t)\n",
    "sp.simplify(stieltjes_transform)"
   ]
  },
  {
   "cell_type": "markdown",
   "metadata": {},
   "source": [
    "# Solutions for the Laplacian, $p_c^r$ has Poisson distribution"
   ]
  },
  {
   "cell_type": "code",
   "execution_count": null,
   "metadata": {},
   "outputs": [],
   "source": [
    "tlhs = t\n",
    "trhs = (sp.exp(-n*pin/2)*((n*pin/2)**c)/sp.factorial(c)) / (z - c - (n/2*pin+pout)*t )\n",
    "trhs = (sp.exp(-n*pin/2)*((n*pin/2)**c)/sp.factorial(c)) / (z - c - (n/2*pin+pout)*t )\n",
    "eq = tlhs - sp.summation(trhs,(c,1,n*pin/2))"
   ]
  },
  {
   "cell_type": "code",
   "execution_count": null,
   "metadata": {},
   "outputs": [],
   "source": [
    "# check with the kronecker\n",
    "eq = t - sp.summation( sp.KroneckerDelta(c,n*pin/2) / (z - c - (n/2*pin+pout)*t ),(c,0,sp.oo))\n",
    "eq"
   ]
  },
  {
   "cell_type": "code",
   "execution_count": null,
   "metadata": {},
   "outputs": [],
   "source": [
    "# THIS IS THE MATHEMATICA VERSION USING MPMATH FOR HIGHER ACCURACY\n",
    "import mpmath as mp\n",
    "def Gamma(a,z0,z1): # This defined function has the same behaviour as Mathematica Gamma[a,z0,z1]\n",
    "    from mpmath import gammainc\n",
    "    return gammainc(a,a=z0,b=z1)\n",
    "\n",
    "def feq(n,pin,pout,t,z):\n",
    "    return t + (2**(n*(pin + pout)*t - z)*(-(n*pin))**(-(n*(pin + pout)*t) + z)*Gamma(n*(pin + pout)*t - z,0,-(n*pin)/2.))/mp.exp((n*pin)/2.)\n",
    "\n",
    "feq(50, 0.4, 0.3, 1, 0.1)"
   ]
  },
  {
   "cell_type": "code",
   "execution_count": null,
   "metadata": {},
   "outputs": [],
   "source": [
    "sp.Sym"
   ]
  }
 ],
 "metadata": {
  "kernelspec": {
   "display_name": "Python 3",
   "language": "python",
   "name": "python3"
  },
  "language_info": {
   "codemirror_mode": {
    "name": "ipython",
    "version": 3
   },
   "file_extension": ".py",
   "mimetype": "text/x-python",
   "name": "python",
   "nbconvert_exporter": "python",
   "pygments_lexer": "ipython3",
   "version": "3.5.2"
  }
 },
 "nbformat": 4,
 "nbformat_minor": 2
}
