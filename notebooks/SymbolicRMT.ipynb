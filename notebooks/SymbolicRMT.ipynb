{
 "cells": [
  {
   "cell_type": "code",
   "execution_count": null,
   "metadata": {},
   "outputs": [],
   "source": [
    "%reload_ext autoreload\n",
    "%autoreload 2"
   ]
  },
  {
   "cell_type": "code",
   "execution_count": null,
   "metadata": {},
   "outputs": [],
   "source": [
    "import sys\n",
    "sys.path.append('..')\n",
    "import numpy as np\n",
    "from numpy.random import random as rand\n",
    "\n",
    "import networkqit as nq\n",
    "import networkx as nx\n",
    "\n",
    "from networkqit import graph_laplacian as GL\n",
    "\n",
    "import scipy.optimize\n",
    "import scipy.linalg\n",
    "\n",
    "import matplotlib.pyplot as plt\n",
    "import seaborn as sns\n",
    "plt.style.use('ggplot')\n",
    "\n",
    "import sympy as sp\n",
    "import sympyprinting as spp\n",
    "from sympy import init_printing\n",
    "init_printing()"
   ]
  },
  {
   "cell_type": "code",
   "execution_count": null,
   "metadata": {},
   "outputs": [],
   "source": [
    "n=sp.Symbol('n',integer=True)\n",
    "pin=sp.Symbol('pin',real=True)\n",
    "pout=sp.Symbol('pout',real=True)\n",
    "a=sp.Symbol('a',real=True)\n",
    "z=sp.Symbol('z',complex=True)\n",
    "x,y=sp.Symbol('x',real=True),sp.Symbol('y',real=True)\n",
    "c=sp.Symbol('c',integer=True)\n",
    "t=sp.Symbol('t',complex=True)\n",
    "d=sp.Symbol('d',integer=True)\n",
    "eps=sp.Symbol('epsilon')\n",
    "#poiss = sp.simplify(sp.exp(-n*pin/2)*sp.factorial(c)*((n*pin/2)**c))"
   ]
  },
  {
   "cell_type": "markdown",
   "metadata": {},
   "source": [
    "# Solutions for the adjacency matrix, average degree d=4"
   ]
  },
  {
   "cell_type": "code",
   "execution_count": null,
   "metadata": {},
   "outputs": [],
   "source": [
    "# t is the stjelties transform of the underlying density of the ensemble random matrices\n",
    "tlhs = t\n",
    "trhs = sp.summation(sp.KroneckerDelta(c,d)/((z-c-a*t )),(c,0,sp.oo))\n",
    "eq = tlhs - trhs\n",
    "solutions = sp.solve(eq,t)\n",
    "sp.simplify(solutions)"
   ]
  },
  {
   "cell_type": "markdown",
   "metadata": {},
   "source": [
    "# Solutions for the Laplacian, $p_c^r$ has Poisson distribution"
   ]
  },
  {
   "cell_type": "code",
   "execution_count": null,
   "metadata": {},
   "outputs": [],
   "source": [
    "tlhs = t\n",
    "trhs = (sp.exp(-n*pin/2)*((n*pin/2)**c)/sp.factorial(c)) / (z - c - (n*pin+pout)*t )\n",
    "eq = tlhs - sp.summation(trhs,(c,1,n*pin/2))"
   ]
  },
  {
   "cell_type": "code",
   "execution_count": null,
   "metadata": {},
   "outputs": [],
   "source": [
    "# THIS IS THE MATHEMATICA VERSION USING MPMATH FOR HIGHER ACCURACY\n",
    "import mpmath as mp\n",
    "def Gamma(a,z0,z1): # This defined function has the same behaviour as Mathematica Gamma[a,z0,z1]\n",
    "    from mpmath import gammainc\n",
    "    return gammainc(a,a=z0,b=z1)\n",
    "\n",
    "def feq(n,pin,pout,t,z):\n",
    "    return t + (2**(n*(pin + pout)*t - z)*(-(n*pin))**(-(n*(pin + pout)*t) + z)*Gamma(n*(pin + pout)*t - z,0,-(n*pin)/2.))/mp.exp((n*pin)/2.)\n",
    "\n",
    "feq(50, 0.4, 0.3, 1, 0.1)"
   ]
  },
  {
   "cell_type": "code",
   "execution_count": null,
   "metadata": {},
   "outputs": [],
   "source": [
    "import mpmath as mp\n",
    "mp.findroot(lambda t : feq(6.0,0.4,0.3,z,t),x0=0.1j,verbose=True)"
   ]
  },
  {
   "cell_type": "code",
   "execution_count": null,
   "metadata": {},
   "outputs": [],
   "source": [
    "[mp.findroot(lambda t : feq(6.0,0.4,0.3,t,z+1j*1E-5),5j) for z in np.linspace(0,10,10)]"
   ]
  },
  {
   "cell_type": "code",
   "execution_count": null,
   "metadata": {},
   "outputs": [],
   "source": []
  }
 ],
 "metadata": {
  "kernelspec": {
   "display_name": "Python 3",
   "language": "python",
   "name": "python3"
  },
  "language_info": {
   "codemirror_mode": {
    "name": "ipython",
    "version": 3
   },
   "file_extension": ".py",
   "mimetype": "text/x-python",
   "name": "python",
   "nbconvert_exporter": "python",
   "pygments_lexer": "ipython3",
   "version": "3.5.2"
  }
 },
 "nbformat": 4,
 "nbformat_minor": 2
}
