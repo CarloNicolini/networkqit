{
 "cells": [
  {
   "cell_type": "code",
   "execution_count": null,
   "metadata": {},
   "outputs": [],
   "source": [
    "import sys\n",
    "sys.path.append('/home/carlo2/workspace/networkqit/')\n",
    "import numpy as np\n",
    "from numpy.random import random as rand\n",
    "\n",
    "import networkqit as nq\n",
    "import networkx as nx\n",
    "\n",
    "from networkqit import graph_laplacian as GL\n",
    "\n",
    "import scipy.optimize\n",
    "import scipy.linalg\n",
    "\n",
    "import matplotlib.pyplot as plt\n",
    "plt.style.use('ggplot')\n",
    "\n",
    "import sympy as sp\n",
    "from sympy import init_printing\n",
    "init_printing()\n",
    "import mpmath as mp"
   ]
  },
  {
   "cell_type": "code",
   "execution_count": null,
   "metadata": {},
   "outputs": [],
   "source": [
    "n=sp.Symbol('n',integer=True,positive=True,natural=True)\n",
    "p=sp.Symbol('p',real=True,positive=True)\n",
    "c=sp.Symbol('c',real=True,positive=True)\n",
    "z=sp.Symbol('z',real=True,positive=True)\n",
    "t=sp.Symbol('t',complex=True)\n",
    "\n",
    "def poisspdf(k,l):\n",
    "    return sp.exp(-l)*(l**k)/sp.gamma(k+1)\n",
    "\n",
    "def binomialpdf(n,k,p):\n",
    "    return sp.binomial(n,k)*(p**k)*(1-p)**(n-k)\n",
    "\n",
    "def gauss_approx_to_poiss(x,c):\n",
    "    return sp.exp(-((x-c)**2)/c)/(sp.sqrt(2*sp.pi*c))\n",
    "\n",
    "def lapl_fundamental_eq(n,p,t,z):\n",
    "    d = n*p # average within module degree\n",
    "    return  (t - sp.summation(poisspdf(c,d)/(z-c-d*t),(c,0,sp.oo)))\n",
    "\n",
    "def lapl_fundamental_eq_gauss(n,p,t,z):\n",
    "    d = n*p\n",
    "    return   (t - sp.integrate(gauss_approx_to_poiss(c,d)/(z-c-d*t),(c,-sp.oo,sp.oo),conds='none'))\n",
    "\n",
    "def lapl_fundamental_eq_binom(n,p,t,z):\n",
    "    return   (t - sp.summation(binomialpdf(c,n*p,p)/(z-c-n*p*t),(c,0,sp.oo)))\n",
    "\n",
    "#lapl_feq = sp.lambdify((n_,b_,pin_,pout_,t_,z_),lapl_fundamental_eq(n_,b_,pin_,pout_,t_,z_).replace('exp_polar','exp'), modules='mpmath')\n",
    "Fpoiss=sp.simplify(lapl_fundamental_eq(n,p,t,z))\n",
    "Fgauss=sp.simplify(lapl_fundamental_eq_gauss(n,p,t,z))\n",
    "Fbin=sp.simplify(lapl_fundamental_eq_binom(n,p,t,z))"
   ]
  },
  {
   "cell_type": "code",
   "execution_count": null,
   "metadata": {},
   "outputs": [],
   "source": [
    "Fpoiss,Fgauss,Fbin"
   ]
  },
  {
   "cell_type": "code",
   "execution_count": null,
   "metadata": {},
   "outputs": [],
   "source": [
    "sp.latex(Fpoiss)"
   ]
  },
  {
   "cell_type": "code",
   "execution_count": null,
   "metadata": {},
   "outputs": [],
   "source": [
    "sp.exp_s"
   ]
  }
 ],
 "metadata": {
  "kernelspec": {
   "display_name": "Python 3",
   "language": "python",
   "name": "python3"
  },
  "language_info": {
   "codemirror_mode": {
    "name": "ipython",
    "version": 3
   },
   "file_extension": ".py",
   "mimetype": "text/x-python",
   "name": "python",
   "nbconvert_exporter": "python",
   "pygments_lexer": "ipython3",
   "version": "3.5.2"
  }
 },
 "nbformat": 4,
 "nbformat_minor": 2
}
