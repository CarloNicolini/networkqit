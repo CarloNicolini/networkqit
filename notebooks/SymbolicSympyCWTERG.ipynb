{
 "cells": [
  {
   "cell_type": "code",
   "execution_count": null,
   "metadata": {},
   "outputs": [],
   "source": [
    "%reload_ext autoreload\n",
    "%autoreload 2\n",
    "import sympy as sp\n",
    "sp.init_printing()"
   ]
  },
  {
   "cell_type": "markdown",
   "metadata": {},
   "source": [
    "## Continuous Weighted Threshold Enhanced Configuration model\n",
    "This models constraints both the degree and strenght sequences by the Lagrange multipliers $\\alpha_{ij}$ and $\\beta_{ij}$\n",
    "The Hamiltonian of the problem is hence $H=\\sum_{i<j} \\alpha_{ij} \\Theta(w_{ij}-t) + \\beta_{ij} w_{ij}\\Theta(w_{ij}-t)$.\n",
    "We declare all the symbols necessary to continue."
   ]
  },
  {
   "cell_type": "code",
   "execution_count": null,
   "metadata": {},
   "outputs": [],
   "source": [
    "alphaij = sp.Symbol('\\\\alpha_{ij}',real=True,positive=True)\n",
    "alphai = sp.Symbol('\\\\alpha_{i}',real=True,positive=True)\n",
    "alphaj = sp.Symbol('\\\\alpha_{j}',real=True,positive=True)\n",
    "xi = sp.Symbol('x_{i}',real=True,positive=True)\n",
    "xj = sp.Symbol('x_{j}',real=True,positive=True)\n",
    "\n",
    "betaij = sp.Symbol('\\\\beta_{ij}',real=True,positive=True)\n",
    "betai = sp.Symbol('\\\\beta_{i}',real=True,positive=True)\n",
    "betaj = sp.Symbol('\\\\beta_{j}',real=True,positive=True)\n",
    "\n",
    "yi = sp.Symbol('y_{i}',real=True,positive=True)\n",
    "yj = sp.Symbol('y_{j}',real=True,positive=True)\n",
    "\n",
    "wij = sp.Symbol('w_{ij}',real=True,positive=True)\n",
    "t = sp.Symbol('t',real=True,positive=True)\n",
    "\n",
    "H = alphaij * sp.Heaviside(wij-t) + betaij * wij * sp.Heaviside(wij-t)"
   ]
  },
  {
   "cell_type": "markdown",
   "metadata": {},
   "source": [
    "Now we perform the calculation of the partition function $Z=\\int_{0}^{\\infty} e^{-H} dw$ with the result $$Z=t + \\frac{e^{-\\alpha_{ij}-t\\beta_{ij}}}{\\beta_{ij}}$$"
   ]
  },
  {
   "cell_type": "code",
   "execution_count": null,
   "metadata": {},
   "outputs": [],
   "source": [
    "Z = sp.integrate(sp.exp(-H).rewrite(sp.Piecewise),(wij,0,sp.oo))\n",
    "Z"
   ]
  },
  {
   "cell_type": "markdown",
   "metadata": {},
   "source": [
    "Calculation of ensemble quantities\n",
    "----------------------------------\n",
    "Compute the free energy $F=-\\log(Z)$. \n",
    "By taking the derivatives $\\frac{\\partial F}{\\partial \\alpha_{ij}}$, $\\frac{\\partial F}{\\partial \\alpha_{ij}}$ we get the expected link probability $\\langle a_{ij} \\rangle$ and the expected link weight $\\langle w_{ij} \\rangle$ respectively:"
   ]
  },
  {
   "cell_type": "code",
   "execution_count": null,
   "metadata": {},
   "outputs": [],
   "source": [
    "F = -sp.log(Z)\n",
    "dFdalphaij = sp.diff(F,alphaij)\n",
    "dFdbetaij = sp.diff(F,betaij)"
   ]
  },
  {
   "cell_type": "markdown",
   "metadata": {},
   "source": [
    "However we need to use the variables $x_i,x_j$ and $y_i,y_j$ for the Lagrange multipliers, for notational convention. They are obtained as $x_i = e^{-\\alpha_i}$ and $y_i=e^{-\\beta_i}$, so we create some replacements dictionaries `repl,repl2,repl3`"
   ]
  },
  {
   "cell_type": "code",
   "execution_count": null,
   "metadata": {},
   "outputs": [],
   "source": [
    "repl = {alphaij: -sp.log(xi)-sp.log(xj), betaij: -sp.log(yi)-sp.log(yj) }\n",
    "repl3 = {alphai: -sp.log(xi), alphaj: -sp.log(xj), betai: -sp.log(yi), betaj: -sp.log(yj)}\n",
    "repl2 = {alphaij: alphai+alphaj, betaij: betai+betaj }"
   ]
  },
  {
   "cell_type": "markdown",
   "metadata": {},
   "source": [
    "Now we obtain an expression for $\\langle a_{ij} \\rangle$"
   ]
  },
  {
   "cell_type": "code",
   "execution_count": null,
   "metadata": {},
   "outputs": [],
   "source": [
    "expected_aij = sp.simplify(dFdalphaij.subs(repl))\n",
    "expected_aij"
   ]
  },
  {
   "cell_type": "markdown",
   "metadata": {},
   "source": [
    "and proceed similarly for the expected link weights $\\langle w_{ij} \\rangle$"
   ]
  },
  {
   "cell_type": "code",
   "execution_count": null,
   "metadata": {},
   "outputs": [],
   "source": [
    "expected_wij = sp.simplify(dFdbetaij.subs(repl))\n",
    "expected_wij"
   ]
  },
  {
   "cell_type": "markdown",
   "metadata": {},
   "source": [
    "From this last formula we find that the expected link weight is obtained from the link probability multiplied by a factor $\\frac{\\log{\\left (\\left(y_{i} y_{j}\\right)^{t} \\right )} - 1}{\\log{\\left (y_{i} y_{j} \\right )}}$"
   ]
  },
  {
   "cell_type": "code",
   "execution_count": null,
   "metadata": {},
   "outputs": [],
   "source": [
    "sp.simplify(expected_wij/expected_aij)"
   ]
  },
  {
   "cell_type": "markdown",
   "metadata": {},
   "source": [
    "Here we also try to export the formulas as lambda expressions to include in Python directly"
   ]
  },
  {
   "cell_type": "code",
   "execution_count": null,
   "metadata": {},
   "outputs": [],
   "source": [
    "from sympy.utilities.lambdify import lambdastr\n",
    "lambdastr((xi,xj,yi,yj), sp.simplify((sp.diff(pij.subs(repl2),betai)).subs(repl3)))"
   ]
  },
  {
   "cell_type": "code",
   "execution_count": null,
   "metadata": {},
   "outputs": [],
   "source": [
    "expected_aij = sp.simplify(sp.expand_log(pij.subs(repl)))\n",
    "expected_wij = sp.simplify(sp.expand_log(wij.subs(repl)))"
   ]
  },
  {
   "cell_type": "markdown",
   "metadata": {},
   "source": [
    "Graph probability\n",
    "-----------------\n",
    "The graph probability $P(G)=e^{-H}/Z$ can be obtained as:"
   ]
  },
  {
   "cell_type": "code",
   "execution_count": null,
   "metadata": {},
   "outputs": [],
   "source": [
    "P = sp.expand_log(sp.simplify(sp.simplify(sp.exp(-H)/Z).subs(repl)))\n",
    "P"
   ]
  },
  {
   "cell_type": "markdown",
   "metadata": {},
   "source": [
    "Loglikelihood\n",
    "-------------\n",
    "We then take the logarithm of the probability to get the loglikelihood"
   ]
  },
  {
   "cell_type": "code",
   "execution_count": null,
   "metadata": {},
   "outputs": [],
   "source": [
    "loglike = sp.expand_log(sp.log(P),force=False)\n",
    "loglike"
   ]
  },
  {
   "cell_type": "markdown",
   "metadata": {},
   "source": [
    "Constraining only strength sequence\n",
    "-----------------------------------\n",
    "\n",
    "Now let us study a model where only the strength sequence is constrained $s_i = \\sum_j w_{ij}\\Theta(w_{ij}-t)$. To do this we must repeat all the previous calculations in the settings $\\alpha_{ij}=0$, or equivalently with an Hamiltonian $$H=\\sum_{i<j} \\beta_{ij}w_{ij}\\Theta(w_{ij}-t)$$"
   ]
  },
  {
   "cell_type": "code",
   "execution_count": null,
   "metadata": {},
   "outputs": [],
   "source": [
    "H = betaij * wij * sp.Heaviside(wij-t)"
   ]
  },
  {
   "cell_type": "markdown",
   "metadata": {},
   "source": [
    "and compute the partition function $Z$"
   ]
  },
  {
   "cell_type": "code",
   "execution_count": null,
   "metadata": {},
   "outputs": [],
   "source": [
    "Z = sp.integrate(sp.exp(-H).rewrite(sp.Piecewise),(wij,0,sp.oo))\n",
    "Z"
   ]
  },
  {
   "cell_type": "markdown",
   "metadata": {},
   "source": [
    "the free energy $F=-\\log(Z)$ reads like"
   ]
  },
  {
   "cell_type": "code",
   "execution_count": null,
   "metadata": {},
   "outputs": [],
   "source": [
    "F = sp.simplify(-sp.log(Z))\n",
    "F"
   ]
  },
  {
   "cell_type": "markdown",
   "metadata": {},
   "source": [
    "The expected link probabability is $\\langle w_{ij} \\rangle$"
   ]
  },
  {
   "cell_type": "code",
   "execution_count": null,
   "metadata": {},
   "outputs": [],
   "source": []
  },
  {
   "cell_type": "markdown",
   "metadata": {},
   "source": [
    "The graph probability $P(W)=e^{-H}/Z$ and the likelihood reads like"
   ]
  },
  {
   "cell_type": "code",
   "execution_count": null,
   "metadata": {},
   "outputs": [],
   "source": [
    "P=sp.simplify((sp.exp(-H)/Z))\n",
    "logL = sp.simplify(sp.expand_log(sp.log(P)))\n",
    "logL"
   ]
  }
 ],
 "metadata": {
  "kernelspec": {
   "display_name": "Python 3",
   "language": "python",
   "name": "python3"
  },
  "language_info": {
   "codemirror_mode": {
    "name": "ipython",
    "version": 3
   },
   "file_extension": ".py",
   "mimetype": "text/x-python",
   "name": "python",
   "nbconvert_exporter": "python",
   "pygments_lexer": "ipython3",
   "version": "3.5.2"
  }
 },
 "nbformat": 4,
 "nbformat_minor": 2
}
