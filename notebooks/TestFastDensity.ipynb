{
 "cells": [
  {
   "cell_type": "code",
   "execution_count": null,
   "metadata": {},
   "outputs": [],
   "source": [
    "%reload_ext autoreload\n",
    "%autoreload 2\n",
    "\n",
    "import sys\n",
    "sys.path.append('/home/carlo2/workspace/networkqit/')\n",
    "import networkqit as nq\n",
    "from autograd.scipy.linalg import expm\n",
    "import autograd.numpy as np\n",
    "import matplotlib.pyplot as plt"
   ]
  },
  {
   "cell_type": "code",
   "execution_count": null,
   "metadata": {},
   "outputs": [],
   "source": [
    "A1 = nq.planted_partition_graph(n=128,b=2,pin=0.1,pout=0.0)\n",
    "L1 = nq.graph_laplacian(A1)"
   ]
  },
  {
   "cell_type": "code",
   "execution_count": null,
   "metadata": {},
   "outputs": [],
   "source": [
    "M = nq.UBCM(N=len(A1))\n",
    "sol = M.fit(G=A1, method='MLE',ftol=1E-18)\n",
    "sol = M.fit(G=A1, method='saddle_point',x0=sol['x'])\n",
    "As = M.sample_adjacency(theta=sol['x'],batch_size=50)\n",
    "Ls = nq.graph_laplacian(As)\n",
    "beta_range = np.logspace(-3,3,100)"
   ]
  },
  {
   "cell_type": "code",
   "execution_count": null,
   "metadata": {},
   "outputs": [],
   "source": [
    "_ = plt.semilogx(beta_range,nq.density2.entropy(L=Ls, beta_range=beta_range), color='k', alpha=0.1,label='randomized')\n",
    "_ = plt.semilogx(beta_range,nq.density2.entropy(L=nq.graph_laplacian(A1),beta_range=beta_range), color='r', label='data')\n",
    "plt.ylim([0,np.log(len(A1))])"
   ]
  },
  {
   "cell_type": "code",
   "execution_count": null,
   "metadata": {},
   "outputs": [],
   "source": [
    "plt.semilogx(beta_range, nq.density2.relative_entropy(Lobs=L1, Lmodel=Ls, beta_range=beta_range),label='dkl', color='r')\n",
    "plt.grid(which='both')"
   ]
  },
  {
   "cell_type": "code",
   "execution_count": null,
   "metadata": {},
   "outputs": [],
   "source": [
    "np.argmax(nq.density2.relative_entropy(Lobs=L1, Lmodel=Ls, beta_range=beta_range)[0]/beta_range)"
   ]
  },
  {
   "cell_type": "code",
   "execution_count": null,
   "metadata": {},
   "outputs": [],
   "source": [
    "plt.semilogx(beta_range, nq.density2.relative_entropy(Lobs=L1, Lmodel=Ls, beta_range=beta_range)[0],label='dkl', color='r')\n",
    "plt.grid(which='both')"
   ]
  },
  {
   "cell_type": "code",
   "execution_count": null,
   "metadata": {},
   "outputs": [],
   "source": [
    "plt.semilogx(beta_range, nq.density2.relative_entropy(Lobs=L1, Lmodel=Ls, beta_range=beta_range)[2],label='<E>', color='r')"
   ]
  },
  {
   "cell_type": "code",
   "execution_count": null,
   "metadata": {},
   "outputs": [],
   "source": [
    "plt.semilogx(beta_range, nq.density2.relative_entropy(Lobs=L1, Lmodel=Ls, beta_range=beta_range)[3],label='beta_Fm', color='r')"
   ]
  },
  {
   "cell_type": "code",
   "execution_count": null,
   "metadata": {},
   "outputs": [],
   "source": [
    "import bct\n",
    "idx = bct.get_components(A1)[0]"
   ]
  },
  {
   "cell_type": "code",
   "execution_count": null,
   "metadata": {},
   "outputs": [],
   "source": [
    "bct.get_components(A1)"
   ]
  },
  {
   "cell_type": "code",
   "execution_count": null,
   "metadata": {},
   "outputs": [],
   "source": [
    "A1[np.ix_(idx,idx)].shape"
   ]
  },
  {
   "cell_type": "code",
   "execution_count": null,
   "metadata": {},
   "outputs": [],
   "source": [
    "c=1\n",
    "Ls[np.ix_(range(Ls.shape[0]),idx==c,idx==c)].shape"
   ]
  },
  {
   "cell_type": "code",
   "execution_count": null,
   "metadata": {},
   "outputs": [],
   "source": [
    "bct.grid_communities?"
   ]
  },
  {
   "cell_type": "code",
   "execution_count": null,
   "metadata": {},
   "outputs": [],
   "source": []
  }
 ],
 "metadata": {
  "kernelspec": {
   "display_name": "Python 3",
   "language": "python",
   "name": "python3"
  },
  "language_info": {
   "codemirror_mode": {
    "name": "ipython",
    "version": 3
   },
   "file_extension": ".py",
   "mimetype": "text/x-python",
   "name": "python",
   "nbconvert_exporter": "python",
   "pygments_lexer": "ipython3",
   "version": "3.6.7"
  }
 },
 "nbformat": 4,
 "nbformat_minor": 2
}
