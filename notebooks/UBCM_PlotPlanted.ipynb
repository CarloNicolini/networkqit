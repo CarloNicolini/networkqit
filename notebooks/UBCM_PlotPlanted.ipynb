{
 "cells": [
  {
   "cell_type": "code",
   "execution_count": null,
   "metadata": {},
   "outputs": [],
   "source": [
    "%reload_ext autoreload\n",
    "%autoreload 2"
   ]
  },
  {
   "cell_type": "code",
   "execution_count": null,
   "metadata": {},
   "outputs": [],
   "source": [
    "import sys\n",
    "sys.path.append('/home/carlo/workspace/networkqit/')\n",
    "import numpy as np\n",
    "import networkqit as nq\n",
    "import networkx as nx\n",
    "from numpy.random import random as rand\n",
    "from networkqit import graph_laplacian as GL\n",
    "from scipy.linalg import eigvalsh\n",
    "from scipy.special import logsumexp\n",
    "import matplotlib.pyplot as plt\n",
    "import seaborn as sns\n",
    "plt.style.use('ggplot')\n",
    "\n",
    "Astar = np.loadtxt('/home/carlo/workspace/networkqit/notebooks/ring_3_4_5_6_7_8.adj',delimiter=',')\n",
    "G = nx.from_numpy_array(Astar)\n",
    "k = Astar.sum(axis=0).astype(int)\n",
    "Lstar = nq.graph_laplacian(Astar)\n",
    "pstar = nx.density(G)\n",
    "N = len(G.nodes())\n",
    "M=nq.UBCM(N=N)\n",
    "\n",
    "optimizer = nq.MLEOptimizer(A=Astar,x0=np.random.random(N))\n",
    "sol = optimizer.runfsolve(model='UBCM')"
   ]
  },
  {
   "cell_type": "code",
   "execution_count": null,
   "metadata": {},
   "outputs": [],
   "source": [
    "beta_range = np.logspace(1,-3,100)"
   ]
  },
  {
   "cell_type": "code",
   "execution_count": null,
   "metadata": {},
   "outputs": [],
   "source": [
    "# initialize from the solution\n",
    "optimizer = nq.ExpectedModelOptimizer(A=Astar,beta_range=beta_range,x0=np.random.random(N))\n",
    "optimizer.setup(expected_adj_fun=M,expected_lapl_grad_fun=M.expected_laplacian_grad,step_callback=lambda b,x:print('\\r beta=%f'% b,end=''))\n",
    "solspectral_bfgs_sol_reinit = optimizer.run(method='SLSQP', gtol=1E-3)"
   ]
  },
  {
   "cell_type": "code",
   "execution_count": null,
   "metadata": {},
   "outputs": [],
   "source": [
    "pos = nx.spring_layout(G,iterations=25000,k=50)\n",
    "nx.draw_networkx(G,pos=pos)"
   ]
  },
  {
   "cell_type": "code",
   "execution_count": null,
   "metadata": {},
   "outputs": [],
   "source": [
    "allsol=np.loadtxt('allsol_ring_clique_ubcm_500.txt')\n",
    "beta_range = np.logspace(2,-4,500)"
   ]
  },
  {
   "cell_type": "code",
   "execution_count": null,
   "metadata": {},
   "outputs": [],
   "source": [
    "fig,ax = plt.subplots(ncols=5,nrows=70,squeeze=True,figsize=(25,25*14))\n",
    "ax=ax.flatten()\n",
    "\n",
    "for i,beta in enumerate(beta_range[0:350]):\n",
    "    j=i\n",
    "    Z=np.random.random([len(Astar),len(Astar)])\n",
    "    P = M(allsol[:,i])\n",
    "    Gsample = nx.from_numpy_array(P>Z)\n",
    "    ax[j].cla()\n",
    "    nx.draw_networkx_nodes(Gsample,pos=pos, node_size=50,ax=ax[j])\n",
    "    nx.draw_networkx_edges(Gsample,pos=pos, ax=ax[j],edge_color='k',alpha=0.2)\n",
    "    nx.draw_networkx_edges(G,      pos=pos, ax=ax[j],edge_color='r',alpha=0.9) # draw original edges\n",
    "    ax[j].set_title('beta=%.3f deltaL=%.1f iter=%i' % (beta,(Astar.sum()-P.sum()),i))\n",
    "    ax[j].axis('off')\n",
    "plt.subplots_adjust()\n",
    "fig.savefig('sampled_rc_3_4_5_6_7_8.png',dpi=100,bbox_inches='tight')"
   ]
  },
  {
   "cell_type": "code",
   "execution_count": null,
   "metadata": {},
   "outputs": [],
   "source": [
    "np.arange(0,351,70)"
   ]
  },
  {
   "cell_type": "code",
   "execution_count": null,
   "metadata": {},
   "outputs": [],
   "source": [
    "fig,ax = plt.subplots(ncols=3,nrows=2,squeeze=True,figsize=(18,12))\n",
    "ax=ax.flatten()\n",
    "\n",
    "for j,i in enumerate(np.arange(0,351,70)):\n",
    "    beta=beta_range[i]\n",
    "    Z=np.random.random([len(Astar),len(Astar)])\n",
    "    P = M(allsol[:,i])\n",
    "    Gsample = nx.from_numpy_array(P>Z)\n",
    "    ax[j].cla()\n",
    "    nx.draw_networkx_nodes(Gsample,pos=pos, node_size=50,ax=ax[j])\n",
    "    nx.draw_networkx_edges(Gsample,pos=pos, ax=ax[j],edge_color='k',alpha=0.2)\n",
    "    #nx.draw_networkx_edges(G,      pos=pos, ax=ax[j],edge_color='r',alpha=0.9) # draw original edges\n",
    "    ax[j].set_title('$\\\\beta$=%.3f  $\\\\Delta m$=%d' % (beta,(Astar.sum()-len(Gsample.edges()))))\n",
    "    np.savetxt('sample_beta_%.2f' % (beta) + '.txt', nx.to_numpy_array(Gsample),delimiter=' ',fmt='%d')\n",
    "    ax[j].axis('off')\n",
    "plt.subplots_adjust()\n",
    "fig.savefig('sampled_rc_3_4_5_6_7_8.png',dpi=100,bbox_inches='tight')"
   ]
  },
  {
   "cell_type": "code",
   "execution_count": null,
   "metadata": {},
   "outputs": [],
   "source": [
    "fig,ax = plt.subplots(ncols=5,nrows=100,squeeze=True,figsize=(30,30*20))\n",
    "ax=ax.flatten()\n",
    "\n",
    "for i,beta in enumerate(beta_range):\n",
    "    j=i\n",
    "    Z=np.random.random([len(Astar),len(Astar)])\n",
    "    P = M(allsol[:,i])\n",
    "    Y = (P>Z).astype(float)\n",
    "    ax[j].imshow(P)\n",
    "    ax[j].grid(False)\n",
    "    ax[j].set_title('beta=%.2f deltaL=%.1f iter=%i' % (beta,(Astar.sum()-P.sum()),i))\n",
    "    ax[j].axis('off')\n",
    "    \n",
    "plt.subplots_adjust()"
   ]
  },
  {
   "cell_type": "code",
   "execution_count": null,
   "metadata": {},
   "outputs": [],
   "source": [
    "Gsample = nx.from_numpy_array((M(allsol[:,5])>Z).astype(float))\n",
    "pos = nx.spring_layout(Gsample,iterations=10000)\n",
    "nx.draw_networkx(Gsample,pos)"
   ]
  },
  {
   "cell_type": "code",
   "execution_count": null,
   "metadata": {},
   "outputs": [],
   "source": []
  }
 ],
 "metadata": {
  "kernelspec": {
   "display_name": "Python 3",
   "language": "python",
   "name": "python3"
  },
  "language_info": {
   "codemirror_mode": {
    "name": "ipython",
    "version": 3
   },
   "file_extension": ".py",
   "mimetype": "text/x-python",
   "name": "python",
   "nbconvert_exporter": "python",
   "pygments_lexer": "ipython3",
   "version": "3.5.2"
  }
 },
 "nbformat": 4,
 "nbformat_minor": 2
}
