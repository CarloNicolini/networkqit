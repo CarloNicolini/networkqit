{
 "cells": [
  {
   "cell_type": "code",
   "execution_count": null,
   "metadata": {},
   "outputs": [],
   "source": [
    "%reload_ext autoreload\n",
    "%autoreload 2"
   ]
  },
  {
   "cell_type": "code",
   "execution_count": null,
   "metadata": {},
   "outputs": [],
   "source": [
    "import sys\n",
    "sys.path.append('/home/carlo/workspace/networkqit/')\n",
    "import numpy as np\n",
    "import networkqit as nq\n",
    "import networkx as nx\n",
    "from numpy.random import random as rand\n",
    "from networkqit import graph_laplacian as GL\n",
    "from scipy.linalg import eigvalsh\n",
    "from scipy.special import logsumexp\n",
    "import matplotlib.pyplot as plt\n",
    "import seaborn as sns\n",
    "plt.style.use('ggplot')\n",
    "\n",
    "Astar = np.loadtxt('/home/carlo/workspace/networkqit/notebooks/ring_3_4_5_6_7_8.adj',delimiter=',')\n",
    "G = nx.from_numpy_array(Astar)\n",
    "k = Astar.sum(axis=0).astype(int)\n",
    "Lstar = nq.graph_laplacian(Astar)\n",
    "pstar = nx.density(G)\n",
    "N = len(G.nodes())\n",
    "M=nq.UBCM(N=N)\n",
    "\n",
    "optimizer = nq.MLEOptimizer(A=Astar,x0=np.random.random(N))\n",
    "sol = optimizer.runfsolve(model='UBCM')"
   ]
  },
  {
   "cell_type": "code",
   "execution_count": null,
   "metadata": {},
   "outputs": [],
   "source": [
    "beta_range = np.logspace(2,-4,500)"
   ]
  },
  {
   "cell_type": "code",
   "execution_count": null,
   "metadata": {},
   "outputs": [],
   "source": [
    "# initialize from the solution\n",
    "#optimizer = nq.ExpectedModelOptimizer(A=Astar,beta_range=beta_range,x0=np.random.random(N))\n",
    "#optimizer.setup(expected_adj_fun=M,expected_lapl_grad_fun=M.expected_laplacian_grad,step_callback=lambda b,x:print('\\r beta=%f'% b,end=''))\n",
    "#solspectral_bfgs_sol = optimizer.run(method='L-BFGS-B',reinitialize=False)"
   ]
  },
  {
   "cell_type": "code",
   "execution_count": null,
   "metadata": {},
   "outputs": [],
   "source": [
    "#plt.subplot(1,2,1)\n",
    "#plt.plot(range(0,len(beta_range)), [solspectral_bfgs_sol[i].rel_entropy for i in range(0,len(beta_range))])\n",
    "#plt.subplot(1,2,2)\n",
    "#plt.plot(range(0,len(beta_range)), [solspectral_bfgs_sol[i].DeltaL for i in range(0,len(beta_range))])"
   ]
  },
  {
   "cell_type": "code",
   "execution_count": null,
   "metadata": {},
   "outputs": [],
   "source": [
    "# initialize from the solution\n",
    "optimizer = nq.ExpectedModelOptimizer(A=Astar,beta_range=beta_range,x0=np.random.random(N))\n",
    "optimizer.setup(expected_adj_fun=M,expected_lapl_grad_fun=M.expected_laplacian_grad,step_callback=lambda b,x:print('\\r beta=%f'% b,end=''))\n",
    "solspectral_bfgs_sol_reinit = optimizer.run(method='L-BFGS-B',reinitialize=True)"
   ]
  },
  {
   "cell_type": "code",
   "execution_count": null,
   "metadata": {},
   "outputs": [],
   "source": [
    "plt.figure(figsize=(30,8))\n",
    "plt.subplot(1,2,1)\n",
    "plt.plot(range(0,len(beta_range)), [solspectral_bfgs_sol_reinit[i].rel_entropy for i in range(0,len(beta_range))],'.')\n",
    "plt.subplot(1,2,2)\n",
    "plt.plot(range(0,len(beta_range)), [solspectral_bfgs_sol_reinit[i].DeltaL for i in range(0,len(beta_range))],'.')\n",
    "np.min([solspectral_bfgs_sol_reinit[i].DeltaL for i in range(0,len(beta_range))][100:]),np.argmin([solspectral_bfgs_sol_reinit[i].DeltaL for i in range(0,len(beta_range))][100:-1])"
   ]
  },
  {
   "cell_type": "code",
   "execution_count": null,
   "metadata": {},
   "outputs": [],
   "source": [
    "def factor(numberToFactor, arr=list()):\n",
    "    i = 2\n",
    "    maximum = numberToFactor / 2 + 1\n",
    "    while i < maximum:\n",
    "        if numberToFactor % i == 0:\n",
    "            return factor(numberToFactor/i,arr + [i])\n",
    "        i += 1\n",
    "    return list(set(arr + [numberToFactor]))\n",
    "\n",
    "print(factor(195))"
   ]
  },
  {
   "cell_type": "code",
   "execution_count": null,
   "metadata": {},
   "outputs": [],
   "source": [
    "pos = nx.spring_layout(G,iterations=25000,k=5)"
   ]
  },
  {
   "cell_type": "code",
   "execution_count": null,
   "metadata": {},
   "outputs": [],
   "source": [
    "5*13*3"
   ]
  },
  {
   "cell_type": "code",
   "execution_count": null,
   "metadata": {},
   "outputs": [],
   "source": [
    "fig,ax = plt.subplots(ncols=15,nrows=13,squeeze=True,figsize=(30,int(30*13/15)))\n",
    "ax=ax.flatten()\n",
    "Z=np.random.random([len(Astar),len(Astar)])\n",
    "for i in np.arange(0,195):\n",
    "    j=i\n",
    "    P = (M(solspectral_bfgs_sol_reinit[i].x)>Z).astype(float)\n",
    "    GP = nx.from_numpy_array(P)\n",
    "    nx.draw_networkx_nodes(GP,pos=pos, node_size=50,ax=ax[j])\n",
    "    nx.draw_networkx_edges(GP,pos=pos, ax=ax[j],edge_color='k',alpha=0.2)\n",
    "    nx.draw_networkx_edges(G,pos=pos, ax=ax[j],edge_color='r') # draw original edges\n",
    "    ax[j].set_title('beta=%f deltaL=%f' % (solspectral_bfgs_sol_reinit[i].beta,solspectral_bfgs_sol_reinit[i].DeltaL))\n",
    "    ax[j].axis('off')\n",
    "plt.subplots_adjust()"
   ]
  },
  {
   "cell_type": "code",
   "execution_count": null,
   "metadata": {},
   "outputs": [],
   "source": [
    "fig,ax = plt.subplots(ncols=5,nrows=100,squeeze=True,figsize=(30,600))\n",
    "ax=ax.flatten()\n",
    "Z=np.random.random([len(Astar),len(Astar)])\n",
    "for i in range(0,len(beta_range)):\n",
    "    j=i\n",
    "    P = (M(solspectral_bfgs_sol_reinit[i].x)>Z).astype(float)\n",
    "    GP = nx.from_numpy_array(P)\n",
    "    nx.draw_networkx_nodes(GP,pos=pos, node_size=50,ax=ax[j])\n",
    "    nx.draw_networkx_edges(GP,pos=pos, ax=ax[j],edge_color='k',alpha=0.2)\n",
    "    nx.draw_networkx_edges(G,pos=pos, ax=ax[j],edge_color='r') # draw original edges\n",
    "    ax[j].set_title('beta=%f deltaL=%f iter=%i' % (solspectral_bfgs_sol_reinit[i].beta,solspectral_bfgs_sol_reinit[i].DeltaL,i))\n",
    "    ax[j].axis('off')\n",
    "plt.tight_layout()"
   ]
  },
  {
   "cell_type": "code",
   "execution_count": null,
   "metadata": {},
   "outputs": [],
   "source": []
  }
 ],
 "metadata": {
  "kernelspec": {
   "display_name": "Python 3",
   "language": "python",
   "name": "python3"
  },
  "language_info": {
   "codemirror_mode": {
    "name": "ipython",
    "version": 3
   },
   "file_extension": ".py",
   "mimetype": "text/x-python",
   "name": "python",
   "nbconvert_exporter": "python",
   "pygments_lexer": "ipython3",
   "version": "3.5.2"
  }
 },
 "nbformat": 4,
 "nbformat_minor": 2
}
