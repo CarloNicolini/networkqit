{
 "cells": [
  {
   "cell_type": "code",
   "execution_count": null,
   "metadata": {},
   "outputs": [],
   "source": [
    "%reload_ext autoreload\n",
    "%autoreload 2"
   ]
  },
  {
   "cell_type": "code",
   "execution_count": null,
   "metadata": {},
   "outputs": [],
   "source": [
    "import sys\n",
    "sys.path.append('..')\n",
    "import numpy as np\n",
    "import networkqit as nq\n",
    "import networkx as nx\n",
    "from numpy.random import random as rand\n",
    "from networkqit import graph_laplacian as GL\n",
    "from scipy.linalg import eigvalsh\n",
    "from scipy.special import logsumexp\n",
    "import matplotlib.pyplot as plt\n",
    "import seaborn as sns\n",
    "plt.style.use('ggplot')"
   ]
  },
  {
   "cell_type": "code",
   "execution_count": null,
   "metadata": {},
   "outputs": [],
   "source": [
    "l = []\n",
    "for i in range(0,100):\n",
    "    G = nx.planted_partition_graph(4,50,1,0.01)\n",
    "    A = nx.to_numpy_array(G)\n",
    "    L = nq.graph_laplacian(A)\n",
    "    l.append(eigvalsh(L))\n",
    "l = np.array(l).flatten()\n",
    "plt.hist(l,100)\n",
    "plt.show()"
   ]
  },
  {
   "cell_type": "code",
   "execution_count": null,
   "metadata": {},
   "outputs": [],
   "source": [
    "K=6\n",
    "cmap = sns.color_palette('viridis',K)\n",
    "l=l[0:100]\n",
    "fig, ax = plt.subplots(ncols=2,nrows=3,figsize=(36,12))\n",
    "for i,beta in enumerate(np.logspace(-3,0,K)):\n",
    "    k,p = np.unravel_index(i,ax.shape)\n",
    "    y = np.exp(-beta*l)/np.sum(np.exp(-beta*l))\n",
    "    #ax[k,p].hist(y,200,color=cmap[i])\n",
    "    ax[k,p].stem(sorted(y,reverse=True))\n",
    "    ax[k,p].xaxis.set_major_locator(plt.MaxNLocator(integer=True))\n",
    "    \n",
    "    #ax[k,p].axis('off')\n",
    "    ax[k,p].set_title('$\\\\beta=$%.2g' % (beta))\n",
    "    #ax[k,l].set_xscale('log')\n",
    "    #ax[k,l].set_yscale('log')\n",
    "plt.savefig('plot_eig_rho_beta_stem2.svg')"
   ]
  },
  {
   "cell_type": "code",
   "execution_count": null,
   "metadata": {},
   "outputs": [],
   "source": [
    "pos = nx.spring_layout(G,iterations=2000)"
   ]
  },
  {
   "cell_type": "code",
   "execution_count": null,
   "metadata": {},
   "outputs": [],
   "source": [
    "plt.figure(figsize=(16,16))\n",
    "nx.draw_networkx_nodes(G,pos=pos,node_size=100)\n",
    "nx.draw_networkx_edges(G,pos=pos,edge_color='gray')\n",
    "plt.axis('off')\n",
    "plt.savefig('graph.svg')"
   ]
  },
  {
   "cell_type": "code",
   "execution_count": null,
   "metadata": {},
   "outputs": [],
   "source": []
  }
 ],
 "metadata": {
  "kernelspec": {
   "display_name": "Python 3",
   "language": "python",
   "name": "python3"
  },
  "language_info": {
   "codemirror_mode": {
    "name": "ipython",
    "version": 3
   },
   "file_extension": ".py",
   "mimetype": "text/x-python",
   "name": "python",
   "nbconvert_exporter": "python",
   "pygments_lexer": "ipython3",
   "version": "3.5.2"
  }
 },
 "nbformat": 4,
 "nbformat_minor": 2
}
