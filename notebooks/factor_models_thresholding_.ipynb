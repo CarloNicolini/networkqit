{
 "cells": [
  {
   "cell_type": "code",
   "execution_count": null,
   "metadata": {},
   "outputs": [],
   "source": [
    "%reload_ext autoreload\n",
    "%autoreload 2"
   ]
  },
  {
   "cell_type": "code",
   "execution_count": null,
   "metadata": {},
   "outputs": [],
   "source": [
    "import sys\n",
    "sys.path.append('/home/carlo/workspace/networkqit/')\n",
    "import numpy as np\n",
    "import pandas as pd\n",
    "import scipy\n",
    "import networkqit as nq\n",
    "import operator\n",
    "import matplotlib.pyplot as plt\n",
    "from itertools import product\n",
    "from networkqit.utils.visualization import step_callback, plot_spectral_entropy\n",
    "from networkqit import graph_laplacian\n",
    "import seaborn as sns\n",
    "import multiprocessing\n",
    "import warnings\n",
    "from drawnow import drawnow, figure\n",
    "# Set seaborn as matplotlib backend style\n",
    "sns.set()\n",
    "from os.path import expanduser\n",
    "from bct import threshold_proportional, threshold_absolute\n",
    "from scipy.linalg import eigvalsh\n",
    "from scipy.stats import entropy\n",
    "home = expanduser(\"~\")\n",
    "import bct\n",
    "import sys"
   ]
  },
  {
   "cell_type": "markdown",
   "metadata": {},
   "source": [
    "# Define the methods to create weighted correlation networks from factor model "
   ]
  },
  {
   "cell_type": "code",
   "execution_count": null,
   "metadata": {},
   "outputs": [],
   "source": [
    "def factor_model(ci,T,eta,mu):\n",
    "    N = len(ci) # number of nodes, length of membership vector\n",
    "    # Initialize the observations vector a TxN matrix of NaNs\n",
    "    Y = np.ones([T,N])*np.nan\n",
    "    \n",
    "    # Fill the identical observations in the maximally correlated subsets\n",
    "    for c in np.unique(ci):\n",
    "        i = np.where(ci==c)[0]\n",
    "        Y[:,i] = np.kron(np.ones((1,(ci==c).sum())),np.random.randn(T,1))\n",
    "\n",
    "    # Add local noise beta on each time-series\n",
    "    Y += eta*np.random.randn(T,N)\n",
    "        \n",
    "    # Add global signal mu that correlates globally each time series\n",
    "    Y += mu*np.kron(np.ones((1,N)),np.random.randn(T,1))\n",
    "\n",
    "    from scipy.stats import zscore\n",
    "    Y = zscore(Y)\n",
    "    C = np.corrcoef(Y.T)\n",
    "    return C"
   ]
  },
  {
   "cell_type": "code",
   "execution_count": null,
   "metadata": {},
   "outputs": [],
   "source": [
    "def brain_network(ci, T=150, local_noise=2, global_noise=4, gamma=10, density=0.1):\n",
    "    C = np.triu(factor_model(ci,T,local_noise,global_noise),1)\n",
    "    C += C.T\n",
    "    C = C**gamma # soft thresholding\n",
    "    C/=C.max()\n",
    "    C = np.arctanh(C)\n",
    "    C[np.isinf(C)]=0\n",
    "    C = threshold_proportional(C,density) # keep a specific percentage of links\n",
    "    return C"
   ]
  },
  {
   "cell_type": "code",
   "execution_count": null,
   "metadata": {},
   "outputs": [],
   "source": [
    "def reindex_membership(membership):\n",
    "    \"\"\"\n",
    "    This function has the membership as input and output the membership\n",
    "    where the communities number are ordered by the number of nodes in that community\n",
    "    \"\"\"\n",
    "    ds = {}\n",
    "    for u, v in enumerate(membership):\n",
    "        if v not in ds.keys():\n",
    "            ds[v] = []\n",
    "        ds[v].append(u)\n",
    "\n",
    "    S = dict(\n",
    "        zip(range(0, len(ds)), sorted(ds.values(), key=len, reverse=True)))\n",
    "\n",
    "    M = {}\n",
    "\n",
    "    for u, vl in S.items():\n",
    "        for v in vl:\n",
    "            M[v] = u\n",
    "    return list(M.values())"
   ]
  },
  {
   "cell_type": "code",
   "execution_count": null,
   "metadata": {},
   "outputs": [],
   "source": [
    "from scipy.io import loadmat\n",
    "W=loadmat('/home/carlo/workspace/communityalg/data/GroupAverage_rsfMRI_matrix_unthr.mat')['RS_unthr']\n",
    "ci = bct.community_louvain(bct.threshold_absolute(W,0.6))\n",
    "ci = reindex_membership(ci[0])\n",
    "[bounds,ixes] = bct.grid_communities(np.array(ci))"
   ]
  },
  {
   "cell_type": "code",
   "execution_count": null,
   "metadata": {},
   "outputs": [],
   "source": [
    "sns.set(font_scale=1.5)"
   ]
  },
  {
   "cell_type": "code",
   "execution_count": null,
   "metadata": {},
   "outputs": [],
   "source": [
    "T,local_noise,global_noise,factor=153, 2.5, 1.6, 0.75\n",
    "A = brain_network(ci=ci, T=T, local_noise=local_noise, global_noise=global_noise, gamma=1, density=1)*factor\n",
    "\n",
    "fig, ax = plt.subplots(ncols=2,nrows=2,figsize=(36,6))\n",
    "#plt.suptitle('Networks from factor model local noise $\\eta=2.2$ global noise $\\mu=4$')\n",
    "plt.suptitle('T=%d $\\\\eta=%.1f$ $\\\\mu=%.1f$ $\\\\gamma=%.1f$ $\\\\rho=%.1f$ $q=%.1f$' % (T,local_noise,global_noise,1,1,factor))\n",
    "##### plot 0\n",
    "h0 = ax[0,0].imshow(W[np.ix_(ixes,ixes)],cmap='viridis')\n",
    "ax[0,0].grid(False)\n",
    "ax[0,0].set_title('Crossley z matrix')\n",
    "#### plot 1\n",
    "h1 = ax[1,0].imshow(A[np.ix_(ixes,ixes)],cmap='viridis')\n",
    "ax[1,0].grid(False)\n",
    "ax[1,0].set_title('Synthetic z matrix')\n",
    "##### plot 2\n",
    "ax[0,1].hist(W.ravel(),200,alpha=0.5,color='b')\n",
    "ax[0,1].grid(True)\n",
    "ax[0,1].set_title('Z scores histogram')\n",
    "ax[0,1].hist(A.flatten(),200,alpha=0.5,color='r')\n",
    "ax[0,1].legend(['Crossley','Synthetic'])\n",
    "plt.colorbar(h0,ax=ax[0,0])\n",
    "plt.colorbar(h1,ax=ax[1,0])\n",
    "\n",
    "### plot 3 degree distribution\n",
    "ax[1,1].hist(A.sum(axis=0),50,alpha=0.5,color='b')\n",
    "ax[1,1].hist(W.sum(axis=0),50,alpha=0.5,color='r')\n",
    "ax[1,1].set_title('Strengths distribution')\n",
    "ax[1,1].legend(['Crossley','Synthetic'])\n",
    "plt.tight_layout()\n",
    "plt.savefig('crossley_vs_synthetic.pdf',dpi=300,bbox_inches='tight')\n",
    "plt.show()"
   ]
  },
  {
   "cell_type": "markdown",
   "metadata": {},
   "source": [
    "# Study the spectrum of eigenvalues of the graph Laplacian"
   ]
  },
  {
   "cell_type": "code",
   "execution_count": null,
   "metadata": {},
   "outputs": [],
   "source": [
    "from scipy.linalg import eigvalsh\n",
    "T,local_noise,global_noise,factor=153, 2.5, 1.6, 0.75\n",
    "l = []\n",
    "for i in range(0,50):\n",
    "    l.append(eigvalsh(nq.graph_laplacian(np.tanh(brain_network(ci=ci, T=T, local_noise=local_noise, global_noise=global_noise, gamma=1, density=1))*factor)))\n",
    "plt.hist(np.array(l).flatten(),500)\n",
    "plt.show()"
   ]
  },
  {
   "cell_type": "markdown",
   "metadata": {},
   "source": [
    "## Study the spectral entropy as a function of the interlinks density"
   ]
  },
  {
   "cell_type": "code",
   "execution_count": null,
   "metadata": {},
   "outputs": [],
   "source": [
    "sns.set(font_scale=1.5)\n",
    "#T,local_noise,global_noise,factor=200,2.5,1.5,0.8\n",
    "beta_range=np.logspace(-2,1,100)\n",
    "all_global_noise = np.linspace(0,2,11)\n",
    "cmap = sns.color_palette('viridis',len(all_global_noise))\n",
    "plt.figure(figsize=(36,8))\n",
    "for i,g in enumerate(all_global_noise):\n",
    "    A = np.array([ brain_network(ci=ci, T=200, local_noise=local_noise, global_noise=g, gamma=1, density=1)*factor for x in range(0,10)]).mean(axis=0)\n",
    "    L = nq.graph_laplacian(A)\n",
    "    plt.semilogx(beta_range,[nq.compute_vonneumann_entropy(L=L,beta=b) for b in beta_range],color=cmap[i])\n",
    "\n",
    "plt.title('Spectral entropy vs global noise')\n",
    "plt.semilogx(beta_range,[nq.compute_vonneumann_entropy(L=nq.graph_laplacian(W),beta=b) for b in beta_range],color='r')\n",
    "plt.xlabel('$\\\\beta$')\n",
    "plt.ylabel('$S(\\\\rho)$')\n",
    "plt.legend(['$\\\\eta=%.1f$' % (g) for g in all_global_noise]+['Crossley'])\n",
    "plt.savefig('spectral_entropy_synthetic_global_noise.pdf',dpi=300,bbox_inches='tight')\n",
    "plt.show()"
   ]
  },
  {
   "cell_type": "code",
   "execution_count": null,
   "metadata": {},
   "outputs": [],
   "source": [
    "sns.set(font_scale=1.5)\n",
    "#T,local_noise,global_noise,factor=200,2.5,1.5,0.8\n",
    "beta_range=np.logspace(-2,1,50)\n",
    "all_global_noise = np.linspace(0,2,9)\n",
    "cmap = sns.color_palette('viridis',len(all_global_noise))\n",
    "plt.figure(figsize=(36,8))\n",
    "for i,g in enumerate(all_global_noise):\n",
    "    for r in range(0,5):\n",
    "        A = np.array([ brain_network(ci=ci, T=200, local_noise=local_noise, global_noise=g, gamma=1, density=1)*factor for x in range(0,10)]).mean(axis=0)\n",
    "        L = nq.graph_laplacian(A)\n",
    "        plt.semilogx(beta_range,[nq.compute_vonneumann_entropy(L=L,beta=b) for b in beta_range],color=cmap[i])\n",
    "\n",
    "plt.title('Spectral entropy vs global noise')\n",
    "plt.semilogx(beta_range,[nq.compute_vonneumann_entropy(L=nq.graph_laplacian(W),beta=b) for b in beta_range],color='r')\n",
    "plt.xlabel('$\\\\beta$')\n",
    "plt.ylabel('$S(\\\\rho)$')\n",
    "plt.legend(['$\\\\eta=%.1f$' % (g) for g in all_global_noise]+['Crossley'])\n",
    "plt.savefig('spectral_entropy_synthetic_global_noise.pdf',dpi=300,bbox_inches='tight')\n",
    "plt.show()"
   ]
  },
  {
   "cell_type": "markdown",
   "metadata": {},
   "source": [
    "## Normalize Laplacian by number of total links"
   ]
  },
  {
   "cell_type": "code",
   "execution_count": null,
   "metadata": {},
   "outputs": [],
   "source": [
    "sns.set(font_scale=1.5)\n",
    "#T,local_noise,global_noise,factor=200,2.5,1.5,0.8\n",
    "beta_range=np.logspace(2,5.5,100)\n",
    "all_global_noise = np.linspace(0,2,9)\n",
    "cmap = sns.color_palette('viridis',len(all_global_noise))\n",
    "plt.figure(figsize=(36,8))\n",
    "for i,g in enumerate(all_global_noise):\n",
    "    for r in range(0,1):\n",
    "        A = np.array([ brain_network(ci=ci, T=200, local_noise=local_noise, global_noise=g, gamma=1, density=1)*factor for x in range(0,10)]).mean(axis=0)\n",
    "        L = nq.graph_laplacian(A)/A.sum()\n",
    "        plt.semilogx(beta_range,[nq.compute_vonneumann_entropy(L=L,beta=b) for b in beta_range],color=cmap[i])\n",
    "\n",
    "plt.title('Spectral entropy vs global noise')\n",
    "plt.xlabel('$\\\\beta$')\n",
    "plt.ylabel('$S(\\\\rho)$')\n",
    "plt.legend(['$\\\\eta=%.1f$' % (g) for g in all_global_noise])\n",
    "plt.show()"
   ]
  },
  {
   "cell_type": "markdown",
   "metadata": {},
   "source": [
    "# Effect of weight increase (soft thresholding)"
   ]
  },
  {
   "cell_type": "code",
   "execution_count": null,
   "metadata": {},
   "outputs": [],
   "source": [
    "#T,local_noise,global_noise,factor=200,2.5,1.5,0.8\n",
    "beta_range=np.logspace(-3,5,100)\n",
    "plt.figure(figsize=(36,8))\n",
    "allgamma = np.linspace(0,20,20)\n",
    "cmap = sns.color_palette('viridis',len(allgamma))\n",
    "plt.title('Soft thresholding vs spectral entropy')\n",
    "for i,s in enumerate(allgamma):\n",
    "    plt.semilogx(beta_range,[nq.compute_vonneumann_entropy(L=nq.graph_laplacian(threshold_absolute(W,0)**s),beta=b) for b in beta_range],color=cmap[i])\n",
    "plt.xlabel('$\\\\beta$')\n",
    "plt.ylabel('$S(\\\\rho)$')\n",
    "plt.legend(['$\\\\gamma=%.1f$' % (g) for g in allgamma])\n",
    "#plt.savefig('spectral_entropy_synthetic_global_noise.pdf',dpi=300,bbox_inches='tight')\n",
    "plt.show()"
   ]
  },
  {
   "cell_type": "code",
   "execution_count": null,
   "metadata": {},
   "outputs": [],
   "source": [
    "sns.set(font_scale=1.5)\n",
    "T,local_noise,global_noise,factor=200,2.5,1.5,0.8\n",
    "beta_range=np.logspace(-3,0,200)\n",
    "all_global_noise = np.linspace(0,5,11)\n",
    "cmap = sns.color_palette('viridis',len(all_global_noise))\n",
    "sns.set_palette('viridis')\n",
    "for i,g in enumerate(all_global_noise):\n",
    "    A = np.array([ brain_network(ci=ci, T=200, local_noise=local_noise, global_noise=g, gamma=1, density=1)*factor for x in range(0,10)]).mean(axis=0)\n",
    "    \n",
    "    plt.imshow(A[np.ix_(ixes,ixes)],cmap='viridis')\n",
    "    plt.colorbar()\n",
    "    plt.axis('off')\n",
    "    plt.title('$\\\\eta=%.1f$' % g)\n",
    "    plt.grid(False)\n",
    "    plt.show()\n",
    "\n",
    "#plt.savefig('spectral_entropy_synthetic_global_noise.pdf',dpi=300,bbox_inches='tight')\n",
    "#plt.show()"
   ]
  },
  {
   "cell_type": "code",
   "execution_count": null,
   "metadata": {},
   "outputs": [],
   "source": [
    "def klhistdiv(ci,T, local_noise, global_noise, gamma, density, factor, empirical_hist):\n",
    "    A = brain_network(ci, T, local_noise, global_noise, gamma, density)*factor\n",
    "    w = A.flatten()[np.flatnonzero(W.flatten())]\n",
    "    weights_hist, weights_bins = np.histogram(w,500,density=False)\n",
    "    plt.plot(empirical_hist)\n",
    "    plt.plot(weights_hist)\n",
    "    dkl = entropy(empirical_hist/empirical_hist.sum(), weights_hist/weights_hist.sum())\n",
    "    print('\\r',T, local_noise, global_noise, gamma, density, factor,'-->',dkl,end='')\n",
    "    return dkl"
   ]
  },
  {
   "cell_type": "code",
   "execution_count": null,
   "metadata": {},
   "outputs": [],
   "source": [
    "weights = W.flatten()[np.flatnonzero(W.flatten())]\n",
    "weights_hist, weights_bins = np.histogram(weights, 500, density=False)\n",
    "\n",
    "klhistdiv(ci,T,local_noise=local_noise,global_noise=global_noise,gamma=1,factor=factor,density=1,empirical_hist=weights_hist)\n",
    " #brain_network(ci=ci, T=100, local_noise=1.9, global_noise=1, gamma=1, density=1)*0.8\n",
    "#ranges = (slice(1,4,0.5), slice(1,6,0.5))\n",
    "#T = 150\n",
    "#res = scipy.optimize.brute(lambda x : klhistdiv(ci, T, x[0], x[1], 1, 1, 1, weights_hist), ranges=ranges, full_output=False, finish=None)\n"
   ]
  },
  {
   "cell_type": "code",
   "execution_count": null,
   "metadata": {},
   "outputs": [],
   "source": [
    "def percolation_analysis(W,thresholds):\n",
    "    giant = []\n",
    "    for t in thresholds:\n",
    "        Wt = threshold_absolute(W,t)\n",
    "        memb, sizes = bct.get_components(Wt)\n",
    "        giant.append(sizes.max())\n",
    "    return giant"
   ]
  },
  {
   "cell_type": "code",
   "execution_count": null,
   "metadata": {},
   "outputs": [],
   "source": [
    "nt=100\n",
    "giantW = percolation_analysis(W,np.linspace(0.0,W.max(),nt))\n",
    "giantA = percolation_analysis(A,np.linspace(0.0,A.max(),nt))\n",
    "plt.figure(figsize=(24,8))\n",
    "plt.plot(np.linspace(0.0,W.max(),nt),giantW)\n",
    "plt.plot(np.linspace(0.0,W.max(),nt),giantA)\n",
    "plt.xlabel('Threshold')\n",
    "plt.ylabel('Giant component')\n",
    "plt.title('Percolation analysis')"
   ]
  },
  {
   "cell_type": "markdown",
   "metadata": {},
   "source": [
    "# Effect of edge removal from a clique in the spectral entropies peaks"
   ]
  },
  {
   "cell_type": "code",
   "execution_count": null,
   "metadata": {},
   "outputs": [],
   "source": [
    "import networkx as nx\n",
    "import numdifftools as nd\n",
    "sns.set(font_scale=1.25)\n",
    "beta_range=np.logspace(-2.5,1,100)\n",
    "cmap=sns.color_palette('viridis',10)\n",
    "plt.figure(figsize=(10,5))\n",
    "for i,dens in enumerate(np.linspace(0,1,10)):\n",
    "    for reps in range(0,1):\n",
    "        L=nq.graph_laplacian(nx.to_numpy_array(nx.erdos_renyi_graph(50,dens)))\n",
    "        dsdb = nd.Derivative(lambda b : nq.compute_vonneumann_entropy(L=L,beta=b))\n",
    "        plt.semilogx(beta_range,[-dsdb(beta) for beta in beta_range],color=cmap[i])\n",
    "plt.legend(['p=%.1f'%p for p in np.linspace(0,1,10)])\n",
    "plt.xlabel('$\\\\beta$')\n",
    "plt.ylabel('$dS/d\\\\beta$')\n",
    "plt.title('Entropy derivatives')\n",
    "plt.savefig('entropy_derivative_er.pdf',dpi=150,bbox_inches='tight', transparent=True, pad_inches=0)\n",
    "plt.show()"
   ]
  },
  {
   "cell_type": "markdown",
   "metadata": {},
   "source": [
    "# Effect of increasing the overall weight by constant factor"
   ]
  },
  {
   "cell_type": "code",
   "execution_count": null,
   "metadata": {},
   "outputs": [],
   "source": [
    "np.logspace(-2,2,5)"
   ]
  },
  {
   "cell_type": "code",
   "execution_count": null,
   "metadata": {},
   "outputs": [],
   "source": [
    "import networkx as nx\n",
    "import matplotlib as mpl\n",
    "beta_range=np.logspace(-4,4,100)\n",
    "plt.figure(figsize=(10,5))\n",
    "allgamma=np.logspace(-2,2,5)\n",
    "cmap=sns.color_palette('viridis',len(allgamma))\n",
    "for i,gamma in enumerate(allgamma):\n",
    "    A=nx.to_numpy_array(nx.karate_club_graph())\n",
    "    L=nq.graph_laplacian(A*gamma)\n",
    "    plt.semilogx(beta_range,[nq.compute_vonneumann_entropy(L=L,beta=beta) for beta in beta_range],color=cmap[i])\n",
    "plt.legend(allgamma)\n",
    "plt.xlabel('$\\\\beta$')\n",
    "plt.ylabel('$S/\\log(N)$')\n",
    "plt.savefig('multiplier_effect.pdf',dpi=150,bbox_inches='tight', transparent=True, pad_inches=0)"
   ]
  },
  {
   "cell_type": "code",
   "execution_count": null,
   "metadata": {},
   "outputs": [],
   "source": [
    "import networkx as nx\n",
    "import matplotlib as mpl\n",
    "beta_range=np.logspace(-4,1,100)\n",
    "plt.figure(figsize=(30,8))\n",
    "allgamma=np.logspace(-2,2,5)\n",
    "cmap=sns.color_palette('viridis',len(allgamma))\n",
    "for i,gamma in enumerate(allgamma):\n",
    "    A=nx.to_numpy_array(nx.complete_graph(100))\n",
    "    A[0:50,0:50]=A[0:50,0:50]*gamma\n",
    "    L=nq.graph_laplacian(A)\n",
    "    plt.semilogx(beta_range,[nq.compute_vonneumann_entropy(L=L,beta=beta) for beta in beta_range],color=cmap[i])\n",
    "plt.legend(allgamma)\n",
    "plt.xlabel('$\\\\beta$')\n",
    "plt.ylabel('$S/\\log(N)$')"
   ]
  },
  {
   "cell_type": "code",
   "execution_count": null,
   "metadata": {},
   "outputs": [],
   "source": [
    "import networkx as nx\n",
    "import matplotlib as mpl\n",
    "beta_range=np.logspace(2,5,100)\n",
    "plt.figure(figsize=(30,8))\n",
    "allgamma=np.logspace(0,2,7)\n",
    "cmap=sns.color_palette('viridis',len(allgamma))\n",
    "N=100\n",
    "for i,gamma in enumerate(allgamma):\n",
    "    A=nx.to_numpy_array(nx.complete_graph(100))\n",
    "    A[0:80,0:80]=A[0:80,0:80]*gamma\n",
    "    A = A/A.sum()\n",
    "    #A = A/(N*(N-1)/2)\n",
    "    L=nq.graph_laplacian(A)\n",
    "    plt.semilogx(beta_range,[nq.compute_vonneumann_entropy(L=L,beta=beta) for beta in beta_range],color=cmap[i])\n",
    "    A=nx.to_numpy_array(nx.complete_graph(100))\n",
    "    A[0:40,0:40]=A[0:40,0:40]*gamma\n",
    "    A = A/A.sum()\n",
    "    #A = A/(N*(N-1)/2)\n",
    "    L=nq.graph_laplacian(A)\n",
    "    plt.semilogx(beta_range,[nq.compute_vonneumann_entropy(L=L,beta=beta) for beta in beta_range],color=cmap[i],linestyle='dotted')\n",
    "    \n",
    "    A=nx.to_numpy_array(nx.complete_graph(100))\n",
    "    A[0:20,0:20]=A[0:20,0:20]*gamma\n",
    "    A = A/A.sum()\n",
    "    #A = A/(N*(N-1)/2)\n",
    "    L=nq.graph_laplacian(A)\n",
    "    plt.semilogx(beta_range,[nq.compute_vonneumann_entropy(L=L,beta=beta) for beta in beta_range],color=cmap[i],linestyle='dashdot')\n",
    "#plt.legend(np.reshape(np.array([allgamma,allgamma])),1,2*len(allgamma))\n",
    "plt.xlabel('$\\\\beta$')\n",
    "plt.ylabel('$S/\\log(N)$')"
   ]
  },
  {
   "cell_type": "markdown",
   "metadata": {},
   "source": [
    "# Study the spectral entropy as function of internal symmetry"
   ]
  },
  {
   "cell_type": "code",
   "execution_count": null,
   "metadata": {},
   "outputs": [],
   "source": [
    "import networkx as nx\n",
    "def asymmetric_clique(N1,N2):\n",
    "    G1 = nx.complete_graph(N1)\n",
    "    G2 = nx.complete_graph(N2)\n",
    "    G = nx.disjoint_union(G1,G2)\n",
    "    if not nx.is_empty(G1):\n",
    "        n1last = (list(G1.nodes())[-1])\n",
    "        n2last = (list(G2.nodes())[-1])\n",
    "        G.add_edge(n1last,n1last+1)\n",
    "    return nx.to_numpy_array(G)"
   ]
  },
  {
   "cell_type": "code",
   "execution_count": null,
   "metadata": {},
   "outputs": [],
   "source": [
    "import networkx as nx\n",
    "def asymmetric_path_clique(N1,N2):\n",
    "    n0 = 10\n",
    "    G0 = nx.path_graph(n0)\n",
    "    G1 = nx.complete_graph(N1)\n",
    "    G2 = nx.complete_graph(N2)\n",
    "    G = nx.disjoint_union_all([G0,G1,G2])\n",
    "    G.add_edge(n0-1,n0)\n",
    "    G.add_edge(0,n0+N1+N2-1)\n",
    "    return nx.to_numpy_array(G)"
   ]
  },
  {
   "cell_type": "code",
   "execution_count": null,
   "metadata": {},
   "outputs": [],
   "source": [
    "N=30\n",
    "beta_range = np.logspace(-3,3,50)\n",
    "vals = range(0,N+2,10)\n",
    "cmap = sns.color_palette('viridis',len(vals))"
   ]
  },
  {
   "cell_type": "code",
   "execution_count": null,
   "metadata": {},
   "outputs": [],
   "source": [
    "#plt.semilogx(1/beta_range, [nq.compute_vonneumann_entropy(L=nq.graph_laplacian(asymmetric_clique(50,50)),beta=beta) for beta in beta_range])\n",
    "plt.figure(figsize=(20,8))\n",
    "vals = range(0,N+2,2)\n",
    "for i,j in enumerate(vals):\n",
    "    plt.semilogx(beta_range, [nq.compute_vonneumann_entropy(L=nq.graph_laplacian(asymmetric_path_clique(N-j,N+j)),beta=beta) for beta in beta_range],color=cmap[i])\n",
    "plt.legend(vals)"
   ]
  },
  {
   "cell_type": "code",
   "execution_count": null,
   "metadata": {},
   "outputs": [],
   "source": [
    "#plt.semilogx(1/beta_range, [nq.compute_vonneumann_entropy(L=nq.graph_laplacian(asymmetric_clique(50,50)),beta=beta) for beta in beta_range])\n",
    "plt.figure(figsize=(20,8))\n",
    "for i,j in enumerate(vals):\n",
    "    plt.semilogx(beta_range, [nq.compute_vonneumann_entropy(L=nq.graph_laplacian(asymmetric_clique(N-j,N+j)),beta=beta) for beta in beta_range],color=cmap[i])\n",
    "plt.legend(vals)"
   ]
  },
  {
   "cell_type": "markdown",
   "metadata": {},
   "source": [
    "# Study the derivatives of spectral entropy"
   ]
  },
  {
   "cell_type": "code",
   "execution_count": null,
   "metadata": {},
   "outputs": [],
   "source": [
    "import numdifftools as nd\n",
    "plt.figure(figsize=(30,8))\n",
    "N=50\n",
    "beta_range = np.logspace(-3,3,100)\n",
    "vals = range(0,N+2,10)\n",
    "cmap = sns.color_palette('viridis',len(vals))\n",
    "\n",
    "fig,ax = plt.subplots(ncols=2,nrows=1,figsize=(36,8))\n",
    "for i,j in enumerate(vals):\n",
    "    ax[0].semilogx(beta_range, [nq.compute_vonneumann_entropy(L=nq.graph_laplacian(asymmetric_path_clique(N-j,N+j)),beta=beta) for beta in beta_range],color=cmap[i])\n",
    "    ax[0].set_xlabel('$\\\\beta$')\n",
    "    ax[0].set_ylabel('$S(\\\\beta)$')\n",
    "plt.legend(vals)\n",
    "\n",
    "for i,j in enumerate(vals):\n",
    "    Lx = nq.graph_laplacian(asymmetric_path_clique(N-j,N+j))\n",
    "    dsdb = nd.Derivative(lambda x : nq.compute_vonneumann_entropy(L=Lx,beta=x))\n",
    "    ax[1].semilogx(beta_range, [-dsdb(beta) for beta in beta_range],color=cmap[i])\n",
    "    ax[1].set_xlabel('$\\\\beta$')\n",
    "    ax[1].set_ylabel('$\\\\frac{dS}{d\\\\beta}$')\n",
    "plt.legend(vals)"
   ]
  },
  {
   "cell_type": "markdown",
   "metadata": {},
   "source": [
    "## Study the spectral entropy as function of intercluster links density"
   ]
  },
  {
   "cell_type": "code",
   "execution_count": null,
   "metadata": {},
   "outputs": [],
   "source": [
    "plt.figure(figsize=(36,8))\n",
    "for i,p_out in enumerate(np.linspace(0,1,5)):\n",
    "    Lx = nq.graph_laplacian(nx.to_numpy_array(nx.planted_partition_graph(l=2,k=20,p_in=1,p_out=p_out)))\n",
    "    plt.semilogx(beta_range,[nq.compute_vonneumann_entropy(L=Lx,beta=beta) for beta in beta_range],color=cmap[i])\n",
    "plt.legend(np.linspace(0,1,5))\n",
    "plt.show()"
   ]
  },
  {
   "cell_type": "markdown",
   "metadata": {},
   "source": [
    "### Study the spectral entropy as function of the threshold $\\tau$"
   ]
  },
  {
   "cell_type": "code",
   "execution_count": null,
   "metadata": {},
   "outputs": [],
   "source": [
    "beta_range=np.logspace(-3, 1.5, 100)\n",
    "cmap = sns.color_palette('viridis', 5)\n",
    "all_thresh = np.linspace(0,0.25,5)\n",
    "plt.figure(figsize=(20,8))\n",
    "for i,t in enumerate(all_thresh):\n",
    "    plt.semilogx(1/beta_range,np.clip([nq.SpectralDivergence(Lobs=graph_laplacian(threshold_absolute(A,t)),Lmodel=graph_laplacian(threshold_absolute(W,t)),beta=b).rel_entropy \n",
    "                                   for b in beta_range ],0,20),color=cmap[i])\n",
    "plt.xlabel('$1/\\\\beta$')\n",
    "plt.legend(all_thresh)\n",
    "plt.show()"
   ]
  },
  {
   "cell_type": "markdown",
   "metadata": {},
   "source": [
    "### Plot until one connected component"
   ]
  },
  {
   "cell_type": "code",
   "execution_count": null,
   "metadata": {},
   "outputs": [],
   "source": [
    "def percolation_threshold(A):\n",
    "    w = np.unique((A*(A>0).astype(float)).flatten())\n",
    "    iw = range(0,len(w))\n",
    "    i_perc = np.where(np.array([len(get_components(threshold_absolute(A,t))[1]) for t in w]) > 1)\n",
    "    return i_perc[0][0], w[i_perc][0]"
   ]
  },
  {
   "cell_type": "code",
   "execution_count": null,
   "metadata": {},
   "outputs": [],
   "source": [
    "i_perc,w_perc = percolation_threshold(A)\n",
    "print(i_perc,w_perc)"
   ]
  },
  {
   "cell_type": "code",
   "execution_count": null,
   "metadata": {},
   "outputs": [],
   "source": [
    "import networkx as nx\n",
    "nq.compute_vonneumann_entropy(L=nq.graph_laplacian(nx.to_numpy_array(nx.disjoint_union_all([ nx.complete_graph(10), nx.complete_graph(2)] ))), beta=100)"
   ]
  },
  {
   "cell_type": "code",
   "execution_count": null,
   "metadata": {},
   "outputs": [],
   "source": [
    "nx.number_of_edges(nx.erdos_renyi_graph(100,0.5)),100*99/2*0.5"
   ]
  },
  {
   "cell_type": "code",
   "execution_count": null,
   "metadata": {},
   "outputs": [],
   "source": [
    "beta_range=np.logspace(-2, 2, 50)\n",
    "color = sns.color_palette('viridis',5)\n",
    "plt.figure(figsize=(20,8))\n",
    "N=40\n",
    "for i, p in enumerate(np.linspace(0.2,1,5)):\n",
    "    plt.semilogx(beta_range,[nq.compute_vonneumann_entropy(L=nq.graph_laplacian(nx.to_numpy_array(nx.erdos_renyi_graph(N,p))),beta=b)/np.log(N) for b in beta_range],color=color[i])\n",
    "plt.show()"
   ]
  },
  {
   "cell_type": "markdown",
   "metadata": {},
   "source": [
    "# Study the effect on the size of communities"
   ]
  },
  {
   "cell_type": "code",
   "execution_count": null,
   "metadata": {},
   "outputs": [],
   "source": [
    "beta_range=np.logspace(-3, 3, 100)\n",
    "cmap = sns.color_palette('viridis', 10)\n",
    "all_thresh = np.linspace(0,0.25,5)\n",
    "plt.figure(figsize=(20,8))\n",
    "\n",
    "for i,b in enumerate(range(2,8)):\n",
    "    G = nx.planted_partition_graph(b,100,1,0.001)\n",
    "    A = nx.to_numpy_array(G)\n",
    "    L=nq.graph_laplacian(A)\n",
    "    plt.semilogx(beta_range,[nq.compute_vonneumann_entropy(L=L,beta=beta) for beta in beta_range],color=cmap[i])\n",
    "    \n",
    "for i,b in enumerate(range(2,8)):\n",
    "    G = nx.planted_partition_graph(b,100,1,0.01)\n",
    "    A = nx.to_numpy_array(G)\n",
    "    L=nq.graph_laplacian(A)\n",
    "    plt.semilogx(beta_range,[nq.compute_vonneumann_entropy(L=L,beta=beta) for beta in beta_range],color=cmap[i],linestyle='dotted')\n",
    "\n",
    "plt.xlabel('$\\\\beta$')\n",
    "#plt.savefig('curve.svg')\n",
    "plt.show()"
   ]
  },
  {
   "cell_type": "code",
   "execution_count": null,
   "metadata": {},
   "outputs": [],
   "source": [
    "B = 2\n",
    "N =B * 100\n",
    "pin, pout=1, 0.2\n",
    "cin,cout = (N)*pin,(N)*pout\n",
    "l = 1/np.sqrt(2*(cin+cout))\n",
    "\n",
    "beta_range=np.logspace(-2, 0.5, 100)\n",
    "plt.figure(figsize=(20,8))\n",
    "\n",
    "for i in range(0,1):\n",
    "    G = nx.planted_partition_graph(B,np.int(N/B),pin,pout)\n",
    "    A = nx.to_numpy_array(G)\n",
    "    L=nq.graph_laplacian(A)\n",
    "    plt.semilogx(beta_range,[nq.compute_vonneumann_entropy(L=L,beta=beta) for beta in beta_range],color='r')\n",
    "    #ds = nd.Derivative(lambda x : nq.compute_vonneumann_entropy(L=L,beta=x),n=1)\n",
    "    #plt.semilogx(beta_range,[ds(beta)/20 for beta in beta_range],color='b')\n",
    "    #ds2 = nd.Derivative(lambda x : nq.compute_vonneumann_entropy(L=L,beta=x),n=2)\n",
    "    #plt.semilogx(beta_range,[ds2(beta)/100 for beta in beta_range],color='g')\n",
    "plt.vlines(x=l,ymin=-6,ymax=6)\n",
    "plt.xlabel('$\\\\beta$')\n",
    "#plt.savefig('curve.svg')\n",
    "plt.show()"
   ]
  },
  {
   "cell_type": "code",
   "execution_count": null,
   "metadata": {},
   "outputs": [],
   "source": [
    "G = nx.planted_partition_graph(6,100,1,0.5)\n",
    "A = nx.to_numpy_array(G)\n",
    "L=nq.graph_laplacian(A)\n",
    "np.mean(A[101:200,0:100].sum(axis=0)),np.mean(A[0:100,0:100].sum(axis=0))"
   ]
  },
  {
   "cell_type": "code",
   "execution_count": null,
   "metadata": {},
   "outputs": [],
   "source": [
    "beta_range=np.logspace(-2, 2, 10)\n",
    "cmap = sns.color_palette('viridis', 10)\n",
    "\n",
    "plt.figure(figsize=(20,8))\n",
    "\n",
    "for i,pout in enumerate(np.linspace(0.0,0.9,10)):\n",
    "    G = nx.planted_partition_graph(4,100,pout,0.1)\n",
    "    A = nx.to_numpy_array(G)\n",
    "    L=nq.graph_laplacian(A)\n",
    "    plt.semilogx(beta_range,[nq.compute_vonneumann_entropy(L=L,beta=beta) for beta in beta_range],color=cmap[i])\n",
    "\n",
    "\n",
    "plt.xlabel('$1/\\\\beta$')\n",
    "plt.legend(np.linspace(0.1,0.9,10))\n",
    "plt.show()"
   ]
  },
  {
   "cell_type": "code",
   "execution_count": null,
   "metadata": {},
   "outputs": [],
   "source": [
    "import bct\n",
    "N=120\n",
    "r=2\n",
    "\n",
    "A=nx.to_numpy_array(nq.ring_of_cliques(r,N))\n",
    "m=[1]*N + [2]*N\n",
    "print(bct.modularity.community_louvain(A))\n",
    "\n",
    "N=40\n",
    "r=3\n",
    "\n",
    "A=nx.to_numpy_array(nq.ring_of_cliques(r,N))\n",
    "m=[1]*N + [2]*N + [3]*N\n",
    "print(bct.modularity.community_louvain(A))\n",
    "\n",
    "N=30\n",
    "r=4\n",
    "\n",
    "A=nx.to_numpy_array(nq.ring_of_cliques(r,N))\n",
    "m=[1]*N + [2]*N + [3]*N + [4]*N\n",
    "print(bct.modularity.community_louvain(A))"
   ]
  },
  {
   "cell_type": "code",
   "execution_count": null,
   "metadata": {},
   "outputs": [],
   "source": [
    "from numpy import kron\n",
    "import networkx as nx\n",
    "def clique(n):\n",
    "    return 1-np.eye(n)\n",
    "def star(n):\n",
    "    return nx.to_numpy_array(nx.star_graph(n))\n",
    "def cycle(n):\n",
    "    return nx.to_numpy_array(nx.cycle_graph(n))\n",
    "def path(n):\n",
    "    return nx.to_numpy_array(nx.path_graph(n))\n",
    "\n",
    "#nx.draw(nx.from_numpy_array(np.kron(clique(10),cycle(10))),node_size=50,edge_color='g')\n",
    "#plt.figure(figsize=(6,6))\n",
    "#nx.draw(nx.from_numpy_array(np.kron(cycle(20),clique(8))),node_size=50, edge_color='gray')\n",
    "#plt.figure(figsize=(6,6))\n",
    "#nx.draw(nx.from_numpy_array(np.kron(path(20),clique(8))),node_size=50, edge_color='gray')\n",
    "\n",
    "plt.figure(figsize=(6,6))\n",
    "\n",
    "A = kron(cycle(5),cycle(20))\n",
    "\n",
    "L=np.diag(A.sum(axis=0)) - A\n",
    "G = nx.from_numpy_array(A)\n",
    "\n",
    "plt.figure(figsize=(20,8))\n",
    "plt.subplot(1,2,1)\n",
    "nx.draw(G,node_size=50, edge_color='gray')\n",
    "plt.subplot(1,2,2)\n",
    "beta_range = np.logspace(-3,3,50)\n",
    "plt.semilogx(beta_range,[nq.compute_vonneumann_entropy(L=L,beta=beta) for beta in beta_range])\n",
    "plt.show()"
   ]
  },
  {
   "cell_type": "code",
   "execution_count": null,
   "metadata": {},
   "outputs": [],
   "source": [
    "import networkqit as nq\n",
    "beta_range = np.logspace(-3,1.5,50)\n",
    "G = nx.planted_partition_graph(4,200,1,0.001)\n",
    "A = nx.to_numpy_array(G)\n",
    "L=np.diag(A.sum(axis=0)) - A\n",
    "plt.figure(figsize=(20,8))\n",
    "plt.semilogx(beta_range,[nq.compute_vonneumann_entropy(L=L,beta=beta) for beta in beta_range])\n",
    "\n",
    "G = nx.planted_partition_graph(4,200,1,0.01)\n",
    "A = nx.to_numpy_array(G)\n",
    "L=np.diag(A.sum(axis=0)) - A\n",
    "plt.semilogx(beta_range,[nq.compute_vonneumann_entropy(L=L,beta=beta) for beta in beta_range],'r')\n",
    "\n",
    "G = nx.disjoint_union(nx.planted_partition_graph(4,200,1,0.005),nx.complete_graph(200))\n",
    "A = nx.to_numpy_array(G)\n",
    "L=np.diag(A.sum(axis=0)) - A\n",
    "plt.semilogx(beta_range,[nq.compute_vonneumann_entropy(L=L,beta=beta) for beta in beta_range],'g')"
   ]
  },
  {
   "cell_type": "code",
   "execution_count": null,
   "metadata": {},
   "outputs": [],
   "source": [
    "import networkx as nx\n",
    "import numdifftools as nd\n",
    "N1,N2,N3 = 600,20,20\n",
    "#G = nx.disjoint_union_all([nx.complete_graph(N1), nx.complete_graph(N2), nx.complete_graph(N2), nx.complete_graph(N3), nx.complete_graph(N3)])\n",
    "G = nx.disjoint_union_all([nx.complete_graph(N1), nx.complete_graph(N2), nx.complete_graph(N2), nx.complete_graph(N2), nx.complete_graph(N2)])\n",
    "ncomps = nx.number_connected_components(G)\n",
    "G.add_edge(0,N1)\n",
    "G.add_edge(N1-1,N1+N2)\n",
    "G.add_edge(N1+N2-1,N1+2*N2)\n",
    "G.add_edge(N1+2*N2-1,N1+3*N2)\n",
    "#G.add_edge(N1,N1+2*N2)\n",
    "#G.add_edge(N1+N2,N1+2*N2+N3)\n",
    "\n",
    "fig,ax = plt.subplots(ncols=2,nrows=1,figsize=(20,10))\n",
    "#nx.draw(G,node_size=5,ax=ax[0])\n",
    "plt.figure(figsize=(36,8))\n",
    "\n",
    "\n",
    "A = nx.to_numpy_array(G)\n",
    "L = nq.graph_laplacian(A)\n",
    "beta_range = np.logspace(-3,3,150)\n",
    "ax[0].semilogx(beta_range, [nq.compute_vonneumann_entropy(L=L,beta=b) for b in beta_range])\n",
    "ax[0].vlines(x=1E0, ymin=0, ymax=np.log(ncomps),colors='r')\n",
    "#dsdb2 = nd.Derivative(lambda x : nq.compute_vonneumann_entropy(L=L,beta=x),n=2)\n",
    "#ax[1].semilogx(beta_range, [dsdb2(b) for b in beta_range])\n",
    "fig.savefig('double_sigmoid.svg')"
   ]
  },
  {
   "cell_type": "code",
   "execution_count": null,
   "metadata": {},
   "outputs": [],
   "source": [
    "import networkx as nx\n",
    "l= 4\n",
    "s = 2**np.array(range(1,l))\n",
    "G = nx.disjoint_union_all([nx.complete_graph(i) for i in 4**np.array(range(1,l))])\n",
    "for i,j in zip(np.cumsum(s)-1, np.cumsum(s)):\n",
    "    G.add_edge(i,j)\n",
    "G.add_edge(0,list(G.nodes())[-1])\n",
    "fig,ax = plt.subplots(ncols=2,nrows=1,figsize=(20,10))\n",
    "nx.draw(G,node_size=5,ax=ax[0])\n",
    "plt.figure(figsize=(10,10))\n",
    "A = nx.to_numpy_array(G)\n",
    "L = nq.graph_laplacian(A)\n",
    "beta_range = np.logspace(-3,3,50)\n",
    "ax[1].semilogx(beta_range, [nq.compute_vonneumann_entropy(L=L,beta=b) for b in beta_range])"
   ]
  },
  {
   "cell_type": "code",
   "execution_count": null,
   "metadata": {},
   "outputs": [],
   "source": [
    "def heaviside(x):\n",
    "    return (x > 0).astype(float)\n",
    "\n",
    "bm = 1\n",
    "bw = 2\n",
    "np.exp(-heaviside)"
   ]
  },
  {
   "cell_type": "code",
   "execution_count": null,
   "metadata": {},
   "outputs": [],
   "source": [
    "import sympy as sp\n",
    "from sympy import init_printing\n",
    "init_printing()\n",
    "bw=sp.Symbol('b_w',real=True)\n",
    "n=sp.Symbol('n',integer=True)\n",
    "W=sp.Symbol('W',real=True)\n",
    "x=sp.Symbol('x', real=True)\n",
    "pw = sp.Symbol('pw',real=True)\n",
    "pw = sp.exp(-bw)\n",
    "n2 = sp.binomial(n,2)\n",
    "#n2 = sp.Symbol('N2',real=True)"
   ]
  },
  {
   "cell_type": "code",
   "execution_count": null,
   "metadata": {},
   "outputs": [],
   "source": [
    "Z = (1/bw)**n2\n",
    "F = -sp.log(Z)\n",
    "dfdbw = sp.diff(F,bw)\n",
    "dfdpw = dfdbw*sp.diff(pw,bw)"
   ]
  },
  {
   "cell_type": "code",
   "execution_count": null,
   "metadata": {},
   "outputs": [],
   "source": [
    "dfdbw"
   ]
  },
  {
   "cell_type": "code",
   "execution_count": null,
   "metadata": {},
   "outputs": [],
   "source": [
    "sp.solve(dfdpw - W, bw)"
   ]
  },
  {
   "cell_type": "code",
   "execution_count": null,
   "metadata": {},
   "outputs": [],
   "source": [
    "aij = sp.Symbol('a_{ij}',real=True)\n",
    "sp.simplify(sp.exp(-bw*aij)/sp.exp(-bw))"
   ]
  },
  {
   "cell_type": "code",
   "execution_count": null,
   "metadata": {},
   "outputs": [],
   "source": [
    "from scipy.integrate import quad\n",
    "import numpy as np\n",
    "import matplotlib.pyplot as plt\n",
    "h1 = lambda x: (x>=0).astype(float)\n",
    "h2 = lambda x: float(x>=0)\n",
    "f1 = lambda x: np.exp(-0.1*h1(x) - 2*x)\n",
    "f2 = lambda x: np.exp(-0.1*h2(x) - 2*x)\n",
    "print(quad(func=f2,a=0, b=np.inf))\n",
    "x=np.linspace(0,5,10000)\n",
    "plt.plot(f1(x),x)\n",
    "plt.show()"
   ]
  },
  {
   "cell_type": "code",
   "execution_count": null,
   "metadata": {},
   "outputs": [],
   "source": []
  }
 ],
 "metadata": {
  "kernelspec": {
   "display_name": "Python 3",
   "language": "python",
   "name": "python3"
  },
  "language_info": {
   "codemirror_mode": {
    "name": "ipython",
    "version": 3
   },
   "file_extension": ".py",
   "mimetype": "text/x-python",
   "name": "python",
   "nbconvert_exporter": "python",
   "pygments_lexer": "ipython3",
   "version": "3.5.2"
  }
 },
 "nbformat": 4,
 "nbformat_minor": 2
}
