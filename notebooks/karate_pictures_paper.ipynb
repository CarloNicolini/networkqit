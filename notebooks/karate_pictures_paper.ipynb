{
 "cells": [
  {
   "cell_type": "code",
   "execution_count": null,
   "metadata": {},
   "outputs": [],
   "source": [
    "#!/usr/bin/env python3\n",
    "\n",
    "from pathlib import Path\n",
    "home = str(Path.home())\n",
    "import sys\n",
    "import numpy as np\n",
    "import matplotlib.pyplot as plt\n",
    "import bct\n",
    "import sys\n",
    "sys.path.append(home + '/workspace/networkqit')\n",
    "import networkqit as nq\n",
    "from networkqit.utils.visualization import plot_mle\n",
    "import matplotlib2tikz"
   ]
  },
  {
   "cell_type": "code",
   "execution_count": null,
   "metadata": {},
   "outputs": [],
   "source": [
    "G = np.loadtxt('/home/carlo2/workspace/communityalg/data/karate.adj')\n",
    "M = nq.ErdosRenyi(N=len(G))\n",
    "Gs = []\n",
    "while len(Gs) < 100:\n",
    "    g = M.sample_adjacency(theta=bct.density_und(G)[0],batch_size=1, with_grads=False)[0,:,:]\n",
    "    if len(bct.get_components( g.astype(int))[1])==1:\n",
    "        Gs.append(g)\n",
    "Gs = np.array(Gs)\n",
    "beta_range = np.logspace(-2,2,50)\n",
    "Ls = nq.graph_laplacian(Gs)\n",
    "S = []\n",
    "for l in range(Ls.shape[0]):\n",
    "    S.append(nq.batch_compute_vonneumann_entropy(L=Ls[l,:,:],beta_range=beta_range))\n",
    "S=np.array(S)\n",
    "\n",
    "plt.semilogx(beta_range,nq.batch_compute_vonneumann_entropy(L=nq.graph_laplacian(G),beta_range=beta_range),color='b',label='data')\n",
    "for g in range(Gs.shape[0]):\n",
    "    plt.semilogx(beta_range,nq.batch_compute_vonneumann_entropy(L=nq.graph_laplacian(Gs[g,:,:]),beta_range=beta_range),alpha=0.5,color='r',label='samples')\n",
    "#plt.fill_between(beta_range, np.mean(S,0)-np.std(S,0), np.mean(S,0)+np.std(S,0),alpha=0.2,color='r',label='1 stdev')\n",
    "plt.semilogx(beta_range,nq.batch_compute_vonneumann_entropy(L=nq.graph_laplacian(G),beta_range=beta_range),color='b',label='data')\n",
    "plt.xlabel('$\\\\beta$')\n",
    "plt.ylabel('$S(\\\\beta)$')\n",
    "plt.legend(['data','model'])\n",
    "plt.title('Spectral entropy Erdos-Renyi')\n",
    "matplotlib2tikz.save('/home/carlo2/workspace/qit/doc/images/spectral_entropy_karate_er.tex')\n",
    "plt.show()"
   ]
  },
  {
   "cell_type": "code",
   "execution_count": null,
   "metadata": {},
   "outputs": [],
   "source": [
    "G = np.loadtxt('/home/carlo2/workspace/communityalg/data/karate.adj')\n",
    "M = nq.UBCM(N=len(G))\n",
    "sol = M.fit(G=G,method='MLE',ftol=1E-20)\n",
    "Gs = []\n",
    "while len(Gs) < 100:\n",
    "    g = M.sample_adjacency(theta=sol['x'],batch_size=1, with_grads=False)[0,:,:]\n",
    "    if len(bct.get_components( g.astype(int))[1])==1:\n",
    "        Gs.append(g)\n",
    "\n",
    "Gs = np.array(Gs)\n",
    "beta_range = np.logspace(-2,2,50)\n",
    "Ls = nq.graph_laplacian(Gs)\n",
    "S = []\n",
    "for l in range(Ls.shape[0]):\n",
    "    S.append(nq.batch_compute_vonneumann_entropy(L=Ls[l,:,:],beta_range=beta_range))\n",
    "S=np.array(S)\n",
    "\n",
    "plt.semilogx(beta_range,nq.batch_compute_vonneumann_entropy(L=nq.graph_laplacian(G),beta_range=beta_range),color='b',label='data')\n",
    "for g in range(Gs.shape[0]):\n",
    "    plt.semilogx(beta_range,nq.batch_compute_vonneumann_entropy(L=nq.graph_laplacian(Gs[g,:,:]),beta_range=beta_range),alpha=0.5,color='r',label='samples')\n",
    "#plt.fill_between(beta_range, np.mean(S,0)-np.std(S,0), np.mean(S,0)+np.std(S,0),alpha=0.2,color='r',label='1 stdev')\n",
    "plt.semilogx(beta_range,nq.batch_compute_vonneumann_entropy(L=nq.graph_laplacian(G),beta_range=beta_range),color='b',label='data')\n",
    "plt.xlabel('$\\\\beta$')\n",
    "plt.ylabel('$S(\\\\beta)$')\n",
    "plt.legend(['data','model'])\n",
    "plt.title('Spectral entropy Erdos-Renyi')\n",
    "matplotlib2tikz.save('/home/carlo2/workspace/qit/doc/images/spectral_entropy_karate_ubcm.tex')\n",
    "plt.show()"
   ]
  },
  {
   "cell_type": "code",
   "execution_count": null,
   "metadata": {},
   "outputs": [],
   "source": [
    "bct.density_und(G)"
   ]
  },
  {
   "cell_type": "code",
   "execution_count": null,
   "metadata": {},
   "outputs": [],
   "source": []
  }
 ],
 "metadata": {
  "kernelspec": {
   "display_name": "Python 3",
   "language": "python",
   "name": "python3"
  },
  "language_info": {
   "codemirror_mode": {
    "name": "ipython",
    "version": 3
   },
   "file_extension": ".py",
   "mimetype": "text/x-python",
   "name": "python",
   "nbconvert_exporter": "python",
   "pygments_lexer": "ipython3",
   "version": "3.6.7"
  }
 },
 "nbformat": 4,
 "nbformat_minor": 2
}
