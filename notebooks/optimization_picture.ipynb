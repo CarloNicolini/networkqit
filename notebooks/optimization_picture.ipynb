{
 "cells": [
  {
   "cell_type": "code",
   "execution_count": null,
   "metadata": {},
   "outputs": [],
   "source": [
    "%reload_ext autoreload\n",
    "%autoreload 2"
   ]
  },
  {
   "cell_type": "code",
   "execution_count": null,
   "metadata": {},
   "outputs": [],
   "source": [
    "import sys\n",
    "sys.path.append('..')\n",
    "import numpy as np\n",
    "import networkqit as nq\n",
    "import networkx as nx\n",
    "\n",
    "import numdifftools as nd\n",
    "from numpy.random import random as rand\n",
    "from networkqit import graph_laplacian as GL\n",
    "from scipy.linalg import eigvalsh\n",
    "from scipy.special import logsumexp\n",
    "import matplotlib.pyplot as plt\n",
    "plt.style.use('ggplot')"
   ]
  },
  {
   "cell_type": "code",
   "execution_count": null,
   "metadata": {},
   "outputs": [],
   "source": [
    "def ER(n,p):\n",
    "    return (1.0-np.eye(n))*p\n",
    "\n",
    "def LER(n,p):\n",
    "    return GL(ER(n,p))"
   ]
  },
  {
   "cell_type": "code",
   "execution_count": null,
   "metadata": {},
   "outputs": [],
   "source": [
    "N,pstar = 40, 0.5\n",
    "Lobs = LER(N,pstar)\n",
    "Lobs = GL(nx.to_numpy_array(nx.karate_club_graph()))\n",
    "N=34\n",
    "pstar=nx.density(nx.karate_club_graph())"
   ]
  },
  {
   "cell_type": "code",
   "execution_count": null,
   "metadata": {},
   "outputs": [],
   "source": [
    "allp=np.linspace(0.0,0.2,100)\n",
    "beta_range = np.logspace(-3,1.5,8)\n",
    "cmap = sns.color_palette('viridis',len(beta_range))\n",
    "plt.figure(figsize=(12,6))\n",
    "allS = []\n",
    "\n",
    "for i,beta in enumerate(beta_range):\n",
    "    S = []\n",
    "    for p in allp:\n",
    "        dkl = nq.SpectralDivergence(Lobs=Lobs, Lmodel=LER(N,p), beta=beta).rel_entropy\n",
    "        S.append(dkl)\n",
    "        allS.append(dkl)\n",
    "    plt.semilogy(allp, S, color=cmap[i])\n",
    "    \n",
    "for i,beta in enumerate(beta_range):\n",
    "    S = []\n",
    "    for p in allp:\n",
    "        dkl = nq.SpectralDivergence(Lobs=Lobs, Lmodel=LER(N,p), beta=beta).rel_entropy\n",
    "        S.append(dkl)\n",
    "        allS.append(dkl)\n",
    "    iminbeta = np.argmin(S)\n",
    "    plt.plot(allp[iminbeta],np.min(S),color=cmap[i],marker='o')\n",
    "    \n",
    "plt.vlines(nx.density(nx.karate_club_graph()),ymin=np.min(allS),ymax=np.max(allS),color='r')\n",
    "plt.ylabel('$S(\\\\rho \\\\| \\\\sigma)$')\n",
    "plt.xlabel('$p$')\n",
    "from matplotlib2tikz import save as tikz_save\n",
    "tikz_save('minimum_entropy.tex')"
   ]
  },
  {
   "cell_type": "code",
   "execution_count": null,
   "metadata": {},
   "outputs": [],
   "source": []
  }
 ],
 "metadata": {
  "kernelspec": {
   "display_name": "Python 3",
   "language": "python",
   "name": "python3"
  },
  "language_info": {
   "codemirror_mode": {
    "name": "ipython",
    "version": 3
   },
   "file_extension": ".py",
   "mimetype": "text/x-python",
   "name": "python",
   "nbconvert_exporter": "python",
   "pygments_lexer": "ipython3",
   "version": "3.5.2"
  }
 },
 "nbformat": 4,
 "nbformat_minor": 2
}
