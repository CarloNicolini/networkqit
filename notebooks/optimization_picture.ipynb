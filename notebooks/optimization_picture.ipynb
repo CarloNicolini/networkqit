{
 "cells": [
  {
   "cell_type": "code",
   "execution_count": null,
   "metadata": {},
   "outputs": [],
   "source": [
    "%reload_ext autoreload\n",
    "%autoreload 2"
   ]
  },
  {
   "cell_type": "code",
   "execution_count": null,
   "metadata": {},
   "outputs": [],
   "source": [
    "import sys\n",
    "sys.path.append('..')\n",
    "import numpy as np\n",
    "import networkqit as nq\n",
    "import networkx as nx\n",
    "import seaborn as sns\n",
    "import numdifftools as nd\n",
    "from numpy.random import random as rand\n",
    "from networkqit import graph_laplacian as GL\n",
    "from scipy.linalg import eigvalsh\n",
    "from scipy.special import logsumexp\n",
    "import matplotlib.pyplot as plt\n",
    "plt.style.use('ggplot')"
   ]
  },
  {
   "cell_type": "code",
   "execution_count": null,
   "metadata": {},
   "outputs": [],
   "source": [
    "def ER(n,p):\n",
    "    return (1.0-np.eye(n))*p\n",
    "\n",
    "def LER(n,p):\n",
    "    return GL(ER(n,p))\n",
    "\n",
    "def ptilde(Lobs,beta):\n",
    "    n = Lobs.shape[0]\n",
    "    R = np.sum(nq.compute_vonneuman_density(Lobs,beta))\n",
    "    return 1/(n*beta)*np.log((R*(n-1))/(n-R))"
   ]
  },
  {
   "cell_type": "code",
   "execution_count": null,
   "metadata": {},
   "outputs": [],
   "source": [
    "N,pstar = 40, 0.9\n",
    "Lobs = LER(N,pstar)\n",
    "#Lobs = GL(nx.to_numpy_array(nx.karate_club_graph()))\n",
    "N=len(Lobs)\n",
    "#pstar=nx.density(nx.karate_club_graph())"
   ]
  },
  {
   "cell_type": "code",
   "execution_count": null,
   "metadata": {},
   "outputs": [],
   "source": [
    "allp=np.linspace(0.0,1.0,25)\n",
    "beta_range = np.logspace(-1,0.5,10)\n",
    "cmap = sns.color_palette('viridis',len(beta_range))\n",
    "plt.figure(figsize=(12,6))\n",
    "allS = []\n",
    "\n",
    "for i,beta in enumerate(beta_range):\n",
    "    S = []\n",
    "    for p in allp:\n",
    "        dkl = nq.SpectralDivergence(Lobs=Lobs, Lmodel=LER(N,p), beta=beta).rel_entropy\n",
    "        S.append(dkl)\n",
    "        allS.append(dkl)\n",
    "    plt.semilogy(allp, S, color=cmap[i])\n",
    "    \n",
    "for i,beta in enumerate(beta_range):\n",
    "    S = []\n",
    "    for p in allp:\n",
    "        dkl = nq.SpectralDivergence(Lobs=Lobs, Lmodel=LER(N,p), beta=beta).rel_entropy\n",
    "        S.append(dkl)\n",
    "        allS.append(dkl)\n",
    "    iminbeta = np.argmin(S)\n",
    "    plt.plot(allp[iminbeta],np.min(S),color=cmap[i],marker='o')\n",
    "    \n",
    "plt.vlines(nx.density(nx.karate_club_graph()),ymin=np.min(allS),ymax=np.max(allS),color='r')\n",
    "plt.ylabel('$S(\\\\rho \\\\| \\\\sigma)$')\n",
    "plt.xlabel('$p$')\n",
    "\n",
    "for beta in beta_range:\n",
    "    popt = ptilde(Lobs,beta)\n",
    "    dkl = nq.SpectralDivergence(Lobs=Lobs, Lmodel=LER(N,popt), beta=beta).rel_entropy\n",
    "    plt.plot(ptilde(Lobs,beta),dkl,'r.')\n",
    "#from matplotlib2tikz import save as tikz_save\n",
    "#tikz_save('minimum_entropy.tex')"
   ]
  },
  {
   "cell_type": "code",
   "execution_count": null,
   "metadata": {},
   "outputs": [],
   "source": [
    "XY=np.loadtxt('/home/carlo2/workspace/qit/doc/images/random_degrees_ensemble_n_40.txt')\n",
    "plt.loglog(XY[0:100,0],np.abs(XY[0:100,1]))"
   ]
  },
  {
   "cell_type": "code",
   "execution_count": null,
   "metadata": {},
   "outputs": [],
   "source": [
    "XY=np.loadtxt('/home/carlo2/workspace/qit/doc/images/random_degrees_ensemble_n_40.txt')\n",
    "plt.loglog(XY[0:100,0],np.abs(XY[0:100,1]))"
   ]
  }
 ],
 "metadata": {
  "kernelspec": {
   "display_name": "Python 3",
   "language": "python",
   "name": "python3"
  },
  "language_info": {
   "codemirror_mode": {
    "name": "ipython",
    "version": 3
   },
   "file_extension": ".py",
   "mimetype": "text/x-python",
   "name": "python",
   "nbconvert_exporter": "python",
   "pygments_lexer": "ipython3",
   "version": "3.5.2"
  }
 },
 "nbformat": 4,
 "nbformat_minor": 2
}
